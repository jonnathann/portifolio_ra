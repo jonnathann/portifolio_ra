{
 "cells": [
  {
   "cell_type": "markdown",
   "id": "39bdbd16-0204-4764-b717-64261d869cbd",
   "metadata": {},
   "source": [
    "# 📊 Predição de séries temporais com SARIMA"
   ]
  },
  {
   "cell_type": "markdown",
   "id": "d580891b-1f9a-40b6-a6be-bbd23f7a3300",
   "metadata": {},
   "source": [
    "## 📊 Contexto do Projeto\n",
    "\n",
    "📁 **Dataset utilizado:**  \n",
    "O conjunto de dados analisado é o clássico **Air Passengers Dataset**, que contém o número mensal de passageiros de uma companhia aérea internacional ao longo do tempo.\n",
    "\n",
    "🗓️ **Período de observação:**  \n",
    "De **janeiro de 1949** até **dezembro de 1960**, totalizando **144 registros mensais**.\n",
    "\n",
    "---\n",
    "\n",
    "### 🔍 Por que esse dataset é interessante?\n",
    "\n",
    "Este dataset é frequentemente utilizado para estudos e modelagens de **séries temporais**, devido às suas características bem definidas:\n",
    "\n",
    "- 📈 **Tendência:**  \n",
    "  O número de passageiros cresce ao longo dos anos, indicando uma **tendência de alta**.\n",
    "\n",
    "- 📆 **Sazonalidade:**  \n",
    "  A série exibe um **padrão sazonal anual**, ou seja, o comportamento se repete aproximadamente a cada **12 meses**.\n",
    "\n",
    "- 🌪️ **Flutuações aleatórias:**  \n",
    "  Existem pequenas **variações** além da tendência e sazonalidade, que podem estar relacionadas a **ruídos** ou **eventos específicos**.\n",
    "\n",
    "---\n",
    "\n",
    "### 🧠 Estratégia de Modelagem\n",
    "\n",
    "📌 Para este estudo, foi escolhido o modelo **SARIMA** (*Seasonal AutoRegressive Integrated Moving Average*), pois:\n",
    "\n",
    "> ⚠️ A série possui uma **sazonalidade explícita** — o que torna o SARIMA uma opção ideal para capturar tanto a tendência quanto os ciclos sazonais.\n"
   ]
  },
  {
   "cell_type": "markdown",
   "id": "b950130b-e5d6-4e37-ac91-a769625cc817",
   "metadata": {},
   "source": [
    "## Imports"
   ]
  },
  {
   "cell_type": "code",
   "execution_count": null,
   "id": "7c76debd-3082-42f2-bd91-40580b137a29",
   "metadata": {},
   "outputs": [],
   "source": [
    "import statsmodels.api as sm\n",
    "import pandas as pd\n",
    "import matplotlib.pyplot as plt\n",
    "from statsmodels.tsa.seasonal import seasonal_decompose\n",
    "from statsmodels.tsa.stattools import adfuller\n",
    "from statsmodels.graphics.tsaplots import plot_acf, plot_pacf\n",
    "from statsmodels.tsa.statespace.sarimax import SARIMAX"
   ]
  },
  {
   "cell_type": "markdown",
   "id": "af738efe-66cb-479d-b12e-ce16edec8476",
   "metadata": {},
   "source": [
    "## Pipeline "
   ]
  },
  {
   "cell_type": "markdown",
   "id": "161eef64-617b-4057-8874-72199dc5c010",
   "metadata": {},
   "source": [
    "### Carregamento dos dados "
   ]
  },
  {
   "cell_type": "code",
   "execution_count": null,
   "id": "129eb694-74ba-4981-947c-e6e1ef35fbb3",
   "metadata": {},
   "outputs": [],
   "source": [
    "# Carregar o dataset AirPassengers\n",
    "data = sm.datasets.get_rdataset('AirPassengers', package='datasets')\n",
    "df = data.data\n",
    "\n",
    "#Renomeando colunas\n",
    "df = df.rename(columns={'time':'Month', 'value':'Passengers'})\n",
    "\n",
    "#Convertendo valores decimais em data\n",
    "def decimal_to_date(decimal):\n",
    "    year = int(decimal)\n",
    "    # Extrai fração e converte em mês\n",
    "    month_fraction = decimal - year\n",
    "    month = int(round(month_fraction * 12)) + 1\n",
    "    if month > 12:\n",
    "        month = 1\n",
    "        year += 1\n",
    "    return pd.Timestamp(year=year, month=month, day=1)\n",
    "\n",
    "df['Month'] = df.Month.apply(decimal_to_date)\n",
    "\n",
    "#Setando a coluna mês para index\n",
    "df.reset_index()\n",
    "df.set_index('Month', inplace=True)"
   ]
  },
  {
   "cell_type": "markdown",
   "id": "33324c92-2ab5-42cb-84f3-e7c17fcb4dd1",
   "metadata": {},
   "source": [
    "### Exploração dos dados (EDA)"
   ]
  },
  {
   "cell_type": "markdown",
   "id": "bbb0f699-b79d-4b40-a8a9-fde4b6362ed5",
   "metadata": {},
   "source": [
    "#### Visualização inicial dos dados"
   ]
  },
  {
   "cell_type": "code",
   "execution_count": null,
   "id": "1ce98f7e-0e46-4d0e-90c1-b650d2b9a322",
   "metadata": {},
   "outputs": [],
   "source": [
    "df.head()"
   ]
  },
  {
   "cell_type": "markdown",
   "id": "a1bb1218-2d05-4293-ae1f-c65b0e5814e6",
   "metadata": {},
   "source": [
    "#### Resumo estatístico das variáveis numéricas"
   ]
  },
  {
   "cell_type": "code",
   "execution_count": null,
   "id": "37f1a96e-7d62-4980-aa82-18562164cc5f",
   "metadata": {},
   "outputs": [],
   "source": [
    "df.describe()"
   ]
  },
  {
   "cell_type": "markdown",
   "id": "ee8ba66b-4d4b-42bf-afbf-c32a456f8c3b",
   "metadata": {},
   "source": [
    "#### Verificar a existência de valores nulos\n",
    "\n",
    "Não existem valores nulos"
   ]
  },
  {
   "cell_type": "code",
   "execution_count": null,
   "id": "b75dd123-b14a-454e-ab19-5fb355677f7d",
   "metadata": {},
   "outputs": [],
   "source": [
    "df.isnull().sum()"
   ]
  },
  {
   "cell_type": "markdown",
   "id": "b2b83dbe-c97a-442d-8b54-1bc0b7269c1f",
   "metadata": {},
   "source": [
    "#### Visualizando a série temporal: Verificando a exitência de sazonalidade\n",
    "\n",
    "Analisando visualmente o gráfico, vemos que existem padrões que se repetem o que nos remete a existência de sazonalidade"
   ]
  },
  {
   "cell_type": "code",
   "execution_count": null,
   "id": "7f8ac252-c553-46f7-9578-9dd8cd5d8b84",
   "metadata": {},
   "outputs": [],
   "source": [
    "df.Passengers.plot()\n",
    "plt.ylabel('Passengers')\n",
    "plt.show()"
   ]
  },
  {
   "cell_type": "markdown",
   "id": "6145b848-dfca-48c6-a11f-33c0942360e0",
   "metadata": {},
   "source": [
    "#### Vericar de quanto em quanto tempo se repetem os ciclos de sazonalidade\n",
    "\n",
    "Analisando o gráfico ACF vemos que a sazonalidade acontece de 12 em 12 meses, ou seja, a cada ano"
   ]
  },
  {
   "cell_type": "code",
   "execution_count": null,
   "id": "4ab3dac1-86fc-4d4d-b280-33689439331e",
   "metadata": {},
   "outputs": [],
   "source": [
    "plot_acf(df, lags=48)  # lags ajustados conforme o necessário\n",
    "plt.show()"
   ]
  },
  {
   "cell_type": "markdown",
   "id": "5b2976d6-168d-44e7-8e8b-08eb0e252354",
   "metadata": {},
   "source": [
    "#### Decompondo a série temporal em componentes (Tendência, Sazonalidade e Resíduos)"
   ]
  },
  {
   "cell_type": "code",
   "execution_count": null,
   "id": "9d02e082-54e3-403e-9d3f-f5a8edc68988",
   "metadata": {},
   "outputs": [],
   "source": [
    "# Decomposição com o período de 12 meses\n",
    "result = seasonal_decompose(df, model='additive', period=12)\n",
    "result.plot()\n",
    "plt.show()"
   ]
  },
  {
   "cell_type": "markdown",
   "id": "fa2585ce-f4d4-4bea-b888-bd5535be8357",
   "metadata": {},
   "source": [
    "#### Aplicando a diferenciação sazonal\n",
    "\n",
    "Como a série é sazona em 12, aplicamos a diferenciação sazonal para remover a sazonalidade da séria e deixá-la estacionária para facilitar modelagem e escolha de parẽmetros do modelo"
   ]
  },
  {
   "cell_type": "code",
   "execution_count": null,
   "id": "c042fbd9-f8fb-404c-a74e-c45281d9d5e8",
   "metadata": {},
   "outputs": [],
   "source": [
    "# Diferenciação sazonal de ordem 1 (D=1)\n",
    "df_seasonal_diff = df.diff(12).dropna()\n",
    "\n",
    "# Plot da série diferenciada sazonalmente\n",
    "plt.plot(df_seasonal_diff, label=\"Seasonally Differenced Data (D=1)\")\n",
    "plt.title(\"Diferenciação sazonal (Sazonalidade de 12 meses)\")\n",
    "plt.xlabel(\"Ano\")\n",
    "plt.ylabel(\"Contagem de Passageiros Diferenciada Sazonalmente\")\n",
    "plt.legend()\n",
    "plt.show()"
   ]
  },
  {
   "cell_type": "markdown",
   "id": "cae036df-3c95-4ee1-b55f-732df6432543",
   "metadata": {},
   "source": [
    "#### Realizando o teste de estacionaridade ADF\n",
    "\n",
    "Realizando o teste de estacionaridade, vemos que com a diferenciação sazonal, a séria passou no teste de estacionaridade"
   ]
  },
  {
   "cell_type": "code",
   "execution_count": null,
   "id": "770375da-f072-4bc0-8c59-3735d060620c",
   "metadata": {},
   "outputs": [],
   "source": [
    "def testar_adf(serie_temporal):\n",
    "    \"\"\"\n",
    "    Realiza o teste ADF (Augmented Dickey-Fuller) para verificar se a série temporal é estacionária.\n",
    "    \n",
    "    Parâmetros:\n",
    "    serie_temporal (pandas.Series): A série temporal a ser testada.\n",
    "    \n",
    "    Retorna:\n",
    "    str: Mensagem com o resultado do teste.\n",
    "    \"\"\"\n",
    "    \n",
    "    # Realiza o Teste ADF\n",
    "    resultado = adfuller(serie_temporal)\n",
    "    \n",
    "    # Estatísticas do Teste\n",
    "    estatistica_adf = resultado[0]\n",
    "    valor_p = resultado[1]\n",
    "    lags_usados = resultado[2]\n",
    "    num_observacoes = resultado[3]\n",
    "    valores_criticos = resultado[4]\n",
    "    \n",
    "    # Exibe os resultados\n",
    "    print('Estatística ADF:', estatistica_adf)\n",
    "    print('Valor-p:', valor_p)\n",
    "    print('Número de lags usados:', lags_usados)\n",
    "    print('Número de observações:', num_observacoes)\n",
    "    print('Valores críticos:')\n",
    "    for chave, valor in valores_criticos.items():\n",
    "        print(f'\\t{chave}: {valor}')\n",
    "    \n",
    "    # Interpretação do resultado\n",
    "    if valor_p < 0.05:\n",
    "        return \"Rejeita a hipótese nula: A série é estacionária.\"\n",
    "    else:\n",
    "        return \"Não rejeita a hipótese nula: A série não é estacionária.\"\n",
    "\n",
    "testar_adf(df_seasonal_diff)"
   ]
  },
  {
   "cell_type": "markdown",
   "id": "4b6b062d-63c2-497d-8285-3d929491b33e",
   "metadata": {},
   "source": [
    "### Teste de Modelos: SARIMA"
   ]
  },
  {
   "cell_type": "markdown",
   "id": "27f68a95-3ae0-4078-99c0-9d2368cf1ed5",
   "metadata": {},
   "source": [
    "#### Definição dos parâmetros do modelo: p, q, m e d\n",
    "\n",
    "- Visualizando os gráficos ACF e PACF vamos definir os parâmetros do modelo SARIMA:\n",
    "\n",
    "- O valor de d é igual a 1 pq foi aplicada a diferenciação sazonal de primeira ordem.\n",
    "\n",
    "- O valor de m que seria a frequência sazonal serie de 12 mêses definido na análise explorarória acima.\n",
    "\n",
    "- Analizando o AFC vemos que o lado posterior acaba sendo menor que o anterior e que o valor de q pode ser muito menor (q = 0, q = 1)\n",
    "\n",
    "- Analisando o PACF vemos que a partir do segundo lag, vemos uma queda brusca isso remete que o valor de p é muito pequeno (p = 1 ou p = 2)."
   ]
  },
  {
   "cell_type": "code",
   "execution_count": null,
   "id": "fa9162da-5d29-4e98-ab21-885cae361b30",
   "metadata": {},
   "outputs": [],
   "source": [
    "# Gerar gráfico de ACF\n",
    "plt.figure(figsize=(12, 6))\n",
    "plot_acf(df, lags=40)  # Ajuste o número de lags conforme necessário\n",
    "plt.title(\"ACF - Autocorrelação\")\n",
    "plt.show()\n",
    "\n",
    "# Gerar gráfico de PACF\n",
    "plt.figure(figsize=(12, 6))\n",
    "plot_pacf(df, lags=40)  # Ajuste o número de lags conforme necessário\n",
    "plt.title(\"PACF - Autocorrelação Parcial\")\n",
    "plt.show()"
   ]
  },
  {
   "cell_type": "markdown",
   "id": "0ff9825b-faf1-4e07-b912-11fca1325a94",
   "metadata": {},
   "source": [
    "#### Definição dos parâmetros do modelo: P Q e D"
   ]
  },
  {
   "cell_type": "markdown",
   "id": "4da18a7c-02ba-4407-a10c-acd09a569356",
   "metadata": {},
   "source": [
    "- No grafico PACF vemos o primeiro e segundo lag com picos significativos ou seja ou valor o valor de P pode assumir (P = 1 ou P 2).\n",
    "- O valor de D é a ordem de diferenciação, como a diferenciação sazonal é de ordem 1 então (D = 1).\n",
    "- No gráfico ACF os lags sazonais começam em um pico alto, vão diminuindo ao longo do tempo e chegando a zero o que indica que o valor de Q pode assumir (Q = 1)."
   ]
  },
  {
   "cell_type": "code",
   "execution_count": null,
   "id": "078b17a0-8831-45af-aba6-d6d98329f015",
   "metadata": {},
   "outputs": [],
   "source": [
    "# Gerar gráfico de ACF\n",
    "plt.figure(figsize=(12, 6))\n",
    "plot_acf(df_seasonal_diff, lags=40)  # Ajuste o número de lags conforme necessário\n",
    "plt.title(\"ACF - Autocorrelação\")\n",
    "plt.show()\n",
    "\n",
    "# Gerar gráfico de PACF\n",
    "plt.figure(figsize=(12, 6))\n",
    "plot_pacf(df_seasonal_diff, lags=40)  # Ajuste o número de lags conforme necessário\n",
    "plt.title(\"PACF - Autocorrelação Parcial\")\n",
    "plt.show()"
   ]
  },
  {
   "cell_type": "markdown",
   "id": "edfcc99b-5b2f-4fa8-b4f0-6c98e7004d9e",
   "metadata": {},
   "source": [
    "#### Treinamento do modelo SARIMA"
   ]
  },
  {
   "cell_type": "code",
   "execution_count": null,
   "id": "9e8a8814-1c02-4fdb-b23e-5b401a21117a",
   "metadata": {},
   "outputs": [],
   "source": [
    "# Treinamento do SARIMA\n",
    "\n",
    "df.index.freq = 'MS'\n",
    "model = SARIMAX(df['Passengers'], order=(1,1,1), seasonal_order=(1,1,1,12))"
   ]
  },
  {
   "cell_type": "code",
   "execution_count": null,
   "id": "f15ef4d9-bdb6-4ca4-a543-c58c575fcd0c",
   "metadata": {},
   "outputs": [],
   "source": [
    "result = model.fit()\n",
    "\n",
    "# Previsão de 12 meses a frente\n",
    "forecast = result.forecast(steps=12)\n",
    "\n",
    "# Plot actual vs forecasted values\n",
    "plt.figure(figsize=(12, 6))\n",
    "plt.plot(df, label=\"Atual\")\n",
    "plt.plot(forecast, label=\"Previsto\", linestyle=\"dashed\", color='red')\n",
    "plt.title(\"SARIMA Forecast\")\n",
    "plt.xlabel(\"Ano\")\n",
    "plt.ylabel(\"Passengers\")\n",
    "plt.legend()\n",
    "plt.show()"
   ]
  },
  {
   "cell_type": "markdown",
   "id": "343d6ce3-46b5-47bb-a563-e586824baa1b",
   "metadata": {},
   "source": [
    "## Resumo dos Resultados do Forecast SARIMA\n",
    "Foi ajustado um modelo SARIMA(1,1,1)(1,1,1,12) para a série temporal de passageiros aéreos mensais, contemplando tanto a diferenciação regular quanto a sazonal, com sazonalidade anual (12 meses).\n",
    "\n",
    "Durante o processo de otimização via L-BFGS-B, o modelo apresentou boa convergência:\n",
    "\n",
    "O valor da função objetivo (Log-Likelihood) foi minimizado de 3.5284 para 3.5149.\n",
    "O algoritmo convergiu após 23 iterações e 27 avaliações de função, com um gradiente projetado final de 3.24e-05, indicando um ajuste estável e eficiente.\n",
    "A mensagem de convergência final: \"REL_REDUCTION_OF_F <= FACTR * EPSMCH\", confirma que o critério de parada baseado na redução relativa da função foi atendido com sucesso.\n",
    "Com isso, o modelo foi considerado bem ajustado e foi utilizado para realizar um forecast de 12 meses à frente da série original, proporcionando previsões com base nos padrões de tendência e sazonalidade detectados."
   ]
  }
 ],
 "metadata": {
  "kernelspec": {
   "display_name": "Python 3 (ipykernel)",
   "language": "python",
   "name": "python3"
  },
  "language_info": {
   "codemirror_mode": {
    "name": "ipython",
    "version": 3
   },
   "file_extension": ".py",
   "mimetype": "text/x-python",
   "name": "python",
   "nbconvert_exporter": "python",
   "pygments_lexer": "ipython3",
   "version": "3.9.12"
  }
 },
 "nbformat": 4,
 "nbformat_minor": 5
}
