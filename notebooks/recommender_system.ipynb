{
 "cells": [
  {
   "cell_type": "markdown",
   "id": "dd6434c1-3004-43c0-b360-a8c864dce565",
   "metadata": {},
   "source": [
    "### Sistema de Recomendação com Filtros Colaborativos"
   ]
  },
  {
   "cell_type": "markdown",
   "id": "8d2deb00-f948-4bb5-8a9d-50444d0d9f57",
   "metadata": {},
   "source": [
    "Contexto do Problema: Sistema de Recomendação de Filmes\n",
    "O objetivo do problema foi criar um sistema de recomendação de filmes utilizando um método de filtragem colaborativa. O sistema foi projetado para recomendar filmes para os usuários com base em suas avaliações anteriores, comparando as preferências de um usuário com as preferências de outros usuários.\n",
    "\n",
    "##### Base de Dados\n",
    "A base de dados utilizada foi o MovieLens dataset, que contém informações sobre filmes e avaliações feitas por usuários. Este dataset é amplamente utilizado em sistemas de recomendação e contém dados de milhares de filmes e as avaliações feitas por diversos usuários.\n",
    "\n",
    "A base de dados contém pelo menos duas tabelas principais:\n",
    "\n",
    "Filmes: Contém informações sobre cada filme, como título e identificação.\n",
    "\n",
    "Avaliações: Contém as avaliações dos filmes feitas pelos usuários, onde cada linha representa a avaliação de um filme por um usuário específico.\n",
    "\n",
    "##### Técnica Utilizada\n",
    "\n",
    "Para esse sistema de recomendação, utilizamos a técnica de filtragem colaborativa. Em particular, foi implementado um modelo baseado em similaridade de filmes (filtragem colaborativa baseada em item), onde a recomendação de filmes é feita com base em filmes semelhantes àqueles que o usuário já avaliou positivamente.\n",
    "\n",
    "Aqui estão as etapas principais:\n",
    "\n",
    "##### Matriz de Avaliações: \n",
    "\n",
    "Criamos uma matriz de avaliações, onde as linhas representam os usuários e as colunas representam os filmes. A célula contém a avaliação dada por um usuário a um filme específico. Os valores ausentes indicam que o usuário não avaliou aquele filme.\n",
    "\n",
    "##### Matriz de Similaridade: \n",
    "\n",
    "Calculamos a similaridade entre os filmes com base nas avaliações dos usuários. Utilizamos a técnica de similaridade de cosseno, que mede o quão semelhantes são os filmes com base nas avaliações que receberam dos usuários. A matriz de similaridade contém valores de similaridade entre todos os pares de filmes.\n",
    "\n",
    "##### Recomendações: \n",
    "\n",
    "Para recomendar filmes para um usuário, pegamos um filme que ele avaliou e, com base na similaridade, encontramos os filmes mais similares a ele. As pontuações de recomendação foram calculadas utilizando o produto escalar entre a similaridade de um filme e as avaliações dos usuários.\n",
    "\n",
    "##### Normalização: \n",
    "\n",
    "Para melhorar a precisão das recomendações, aplicamos uma normalização, subtraindo as médias das avaliações dos filmes, de modo que filmes com avaliações mais altas não tenham peso desproporcional nas recomendações.\n"
   ]
  },
  {
   "cell_type": "code",
   "execution_count": 1,
   "id": "a56e3521-ce1b-45d8-8fa4-869737a12d79",
   "metadata": {},
   "outputs": [],
   "source": [
    "import pandas as pd\n",
    "\n",
    "#Carregando dados de avaliação dos filmes\n",
    "evaluate = pd.read_csv('../data/raw/u.data', sep='\\t', header=None, names=['user_id', 'movie_id', 'rating', 'timestamp'])\n",
    "\n",
    "# Carregar os dados dos filmes\n",
    "movies = pd.read_csv('../data/raw/u.item', sep='|', header=None, encoding='latin-1', names=['movie_id', 'title', 'release_date', 'video_release_date', 'IMDb_URL', 'unknown', 'Action', 'Adventure', 'Animation', 'Children', 'Comedy', 'Crime', 'Documentary', 'Drama', 'Fantasy', 'Film-Noir', 'Horror', 'Musical', 'Mystery', 'Romance', 'Sci-Fi', 'Thriller', 'War', 'Western'])"
   ]
  },
  {
   "cell_type": "markdown",
   "id": "320cf874-d9cf-4fe9-a029-c7d6b4807de9",
   "metadata": {},
   "source": [
    "#### Análise Exploratória (EDA)"
   ]
  },
  {
   "cell_type": "markdown",
   "id": "cabd74cb-78e2-452f-8408-69301e5a4c3b",
   "metadata": {},
   "source": [
    "##### Visualizando primeiras linhas dos dados"
   ]
  },
  {
   "cell_type": "code",
   "execution_count": 2,
   "id": "34e1a5eb-4673-4eaf-bdaf-8e9f0ac0134f",
   "metadata": {},
   "outputs": [
    {
     "data": {
      "text/html": [
       "<div>\n",
       "<style scoped>\n",
       "    .dataframe tbody tr th:only-of-type {\n",
       "        vertical-align: middle;\n",
       "    }\n",
       "\n",
       "    .dataframe tbody tr th {\n",
       "        vertical-align: top;\n",
       "    }\n",
       "\n",
       "    .dataframe thead th {\n",
       "        text-align: right;\n",
       "    }\n",
       "</style>\n",
       "<table border=\"1\" class=\"dataframe\">\n",
       "  <thead>\n",
       "    <tr style=\"text-align: right;\">\n",
       "      <th></th>\n",
       "      <th>user_id</th>\n",
       "      <th>movie_id</th>\n",
       "      <th>rating</th>\n",
       "      <th>timestamp</th>\n",
       "    </tr>\n",
       "  </thead>\n",
       "  <tbody>\n",
       "    <tr>\n",
       "      <th>0</th>\n",
       "      <td>196</td>\n",
       "      <td>242</td>\n",
       "      <td>3</td>\n",
       "      <td>881250949</td>\n",
       "    </tr>\n",
       "    <tr>\n",
       "      <th>1</th>\n",
       "      <td>186</td>\n",
       "      <td>302</td>\n",
       "      <td>3</td>\n",
       "      <td>891717742</td>\n",
       "    </tr>\n",
       "    <tr>\n",
       "      <th>2</th>\n",
       "      <td>22</td>\n",
       "      <td>377</td>\n",
       "      <td>1</td>\n",
       "      <td>878887116</td>\n",
       "    </tr>\n",
       "    <tr>\n",
       "      <th>3</th>\n",
       "      <td>244</td>\n",
       "      <td>51</td>\n",
       "      <td>2</td>\n",
       "      <td>880606923</td>\n",
       "    </tr>\n",
       "    <tr>\n",
       "      <th>4</th>\n",
       "      <td>166</td>\n",
       "      <td>346</td>\n",
       "      <td>1</td>\n",
       "      <td>886397596</td>\n",
       "    </tr>\n",
       "  </tbody>\n",
       "</table>\n",
       "</div>"
      ],
      "text/plain": [
       "   user_id  movie_id  rating  timestamp\n",
       "0      196       242       3  881250949\n",
       "1      186       302       3  891717742\n",
       "2       22       377       1  878887116\n",
       "3      244        51       2  880606923\n",
       "4      166       346       1  886397596"
      ]
     },
     "execution_count": 2,
     "metadata": {},
     "output_type": "execute_result"
    }
   ],
   "source": [
    "evaluate.head()"
   ]
  },
  {
   "cell_type": "code",
   "execution_count": 3,
   "id": "25b2447d-6b05-4ace-b3ca-ad7f0f52d0f6",
   "metadata": {},
   "outputs": [
    {
     "data": {
      "text/html": [
       "<div>\n",
       "<style scoped>\n",
       "    .dataframe tbody tr th:only-of-type {\n",
       "        vertical-align: middle;\n",
       "    }\n",
       "\n",
       "    .dataframe tbody tr th {\n",
       "        vertical-align: top;\n",
       "    }\n",
       "\n",
       "    .dataframe thead th {\n",
       "        text-align: right;\n",
       "    }\n",
       "</style>\n",
       "<table border=\"1\" class=\"dataframe\">\n",
       "  <thead>\n",
       "    <tr style=\"text-align: right;\">\n",
       "      <th></th>\n",
       "      <th>movie_id</th>\n",
       "      <th>title</th>\n",
       "      <th>release_date</th>\n",
       "      <th>video_release_date</th>\n",
       "      <th>IMDb_URL</th>\n",
       "      <th>unknown</th>\n",
       "      <th>Action</th>\n",
       "      <th>Adventure</th>\n",
       "      <th>Animation</th>\n",
       "      <th>Children</th>\n",
       "      <th>...</th>\n",
       "      <th>Fantasy</th>\n",
       "      <th>Film-Noir</th>\n",
       "      <th>Horror</th>\n",
       "      <th>Musical</th>\n",
       "      <th>Mystery</th>\n",
       "      <th>Romance</th>\n",
       "      <th>Sci-Fi</th>\n",
       "      <th>Thriller</th>\n",
       "      <th>War</th>\n",
       "      <th>Western</th>\n",
       "    </tr>\n",
       "  </thead>\n",
       "  <tbody>\n",
       "    <tr>\n",
       "      <th>0</th>\n",
       "      <td>1</td>\n",
       "      <td>Toy Story (1995)</td>\n",
       "      <td>01-Jan-1995</td>\n",
       "      <td>NaN</td>\n",
       "      <td>http://us.imdb.com/M/title-exact?Toy%20Story%2...</td>\n",
       "      <td>0</td>\n",
       "      <td>0</td>\n",
       "      <td>0</td>\n",
       "      <td>1</td>\n",
       "      <td>1</td>\n",
       "      <td>...</td>\n",
       "      <td>0</td>\n",
       "      <td>0</td>\n",
       "      <td>0</td>\n",
       "      <td>0</td>\n",
       "      <td>0</td>\n",
       "      <td>0</td>\n",
       "      <td>0</td>\n",
       "      <td>0</td>\n",
       "      <td>0</td>\n",
       "      <td>0</td>\n",
       "    </tr>\n",
       "    <tr>\n",
       "      <th>1</th>\n",
       "      <td>2</td>\n",
       "      <td>GoldenEye (1995)</td>\n",
       "      <td>01-Jan-1995</td>\n",
       "      <td>NaN</td>\n",
       "      <td>http://us.imdb.com/M/title-exact?GoldenEye%20(...</td>\n",
       "      <td>0</td>\n",
       "      <td>1</td>\n",
       "      <td>1</td>\n",
       "      <td>0</td>\n",
       "      <td>0</td>\n",
       "      <td>...</td>\n",
       "      <td>0</td>\n",
       "      <td>0</td>\n",
       "      <td>0</td>\n",
       "      <td>0</td>\n",
       "      <td>0</td>\n",
       "      <td>0</td>\n",
       "      <td>0</td>\n",
       "      <td>1</td>\n",
       "      <td>0</td>\n",
       "      <td>0</td>\n",
       "    </tr>\n",
       "    <tr>\n",
       "      <th>2</th>\n",
       "      <td>3</td>\n",
       "      <td>Four Rooms (1995)</td>\n",
       "      <td>01-Jan-1995</td>\n",
       "      <td>NaN</td>\n",
       "      <td>http://us.imdb.com/M/title-exact?Four%20Rooms%...</td>\n",
       "      <td>0</td>\n",
       "      <td>0</td>\n",
       "      <td>0</td>\n",
       "      <td>0</td>\n",
       "      <td>0</td>\n",
       "      <td>...</td>\n",
       "      <td>0</td>\n",
       "      <td>0</td>\n",
       "      <td>0</td>\n",
       "      <td>0</td>\n",
       "      <td>0</td>\n",
       "      <td>0</td>\n",
       "      <td>0</td>\n",
       "      <td>1</td>\n",
       "      <td>0</td>\n",
       "      <td>0</td>\n",
       "    </tr>\n",
       "    <tr>\n",
       "      <th>3</th>\n",
       "      <td>4</td>\n",
       "      <td>Get Shorty (1995)</td>\n",
       "      <td>01-Jan-1995</td>\n",
       "      <td>NaN</td>\n",
       "      <td>http://us.imdb.com/M/title-exact?Get%20Shorty%...</td>\n",
       "      <td>0</td>\n",
       "      <td>1</td>\n",
       "      <td>0</td>\n",
       "      <td>0</td>\n",
       "      <td>0</td>\n",
       "      <td>...</td>\n",
       "      <td>0</td>\n",
       "      <td>0</td>\n",
       "      <td>0</td>\n",
       "      <td>0</td>\n",
       "      <td>0</td>\n",
       "      <td>0</td>\n",
       "      <td>0</td>\n",
       "      <td>0</td>\n",
       "      <td>0</td>\n",
       "      <td>0</td>\n",
       "    </tr>\n",
       "    <tr>\n",
       "      <th>4</th>\n",
       "      <td>5</td>\n",
       "      <td>Copycat (1995)</td>\n",
       "      <td>01-Jan-1995</td>\n",
       "      <td>NaN</td>\n",
       "      <td>http://us.imdb.com/M/title-exact?Copycat%20(1995)</td>\n",
       "      <td>0</td>\n",
       "      <td>0</td>\n",
       "      <td>0</td>\n",
       "      <td>0</td>\n",
       "      <td>0</td>\n",
       "      <td>...</td>\n",
       "      <td>0</td>\n",
       "      <td>0</td>\n",
       "      <td>0</td>\n",
       "      <td>0</td>\n",
       "      <td>0</td>\n",
       "      <td>0</td>\n",
       "      <td>0</td>\n",
       "      <td>1</td>\n",
       "      <td>0</td>\n",
       "      <td>0</td>\n",
       "    </tr>\n",
       "  </tbody>\n",
       "</table>\n",
       "<p>5 rows × 24 columns</p>\n",
       "</div>"
      ],
      "text/plain": [
       "   movie_id              title release_date  video_release_date  \\\n",
       "0         1   Toy Story (1995)  01-Jan-1995                 NaN   \n",
       "1         2   GoldenEye (1995)  01-Jan-1995                 NaN   \n",
       "2         3  Four Rooms (1995)  01-Jan-1995                 NaN   \n",
       "3         4  Get Shorty (1995)  01-Jan-1995                 NaN   \n",
       "4         5     Copycat (1995)  01-Jan-1995                 NaN   \n",
       "\n",
       "                                            IMDb_URL  unknown  Action  \\\n",
       "0  http://us.imdb.com/M/title-exact?Toy%20Story%2...        0       0   \n",
       "1  http://us.imdb.com/M/title-exact?GoldenEye%20(...        0       1   \n",
       "2  http://us.imdb.com/M/title-exact?Four%20Rooms%...        0       0   \n",
       "3  http://us.imdb.com/M/title-exact?Get%20Shorty%...        0       1   \n",
       "4  http://us.imdb.com/M/title-exact?Copycat%20(1995)        0       0   \n",
       "\n",
       "   Adventure  Animation  Children  ...  Fantasy  Film-Noir  Horror  Musical  \\\n",
       "0          0          1         1  ...        0          0       0        0   \n",
       "1          1          0         0  ...        0          0       0        0   \n",
       "2          0          0         0  ...        0          0       0        0   \n",
       "3          0          0         0  ...        0          0       0        0   \n",
       "4          0          0         0  ...        0          0       0        0   \n",
       "\n",
       "   Mystery  Romance  Sci-Fi  Thriller  War  Western  \n",
       "0        0        0       0         0    0        0  \n",
       "1        0        0       0         1    0        0  \n",
       "2        0        0       0         1    0        0  \n",
       "3        0        0       0         0    0        0  \n",
       "4        0        0       0         1    0        0  \n",
       "\n",
       "[5 rows x 24 columns]"
      ]
     },
     "execution_count": 3,
     "metadata": {},
     "output_type": "execute_result"
    }
   ],
   "source": [
    "movies.head()"
   ]
  },
  {
   "cell_type": "markdown",
   "id": "246d0a42-b17f-442d-918f-9d6188368cc7",
   "metadata": {},
   "source": [
    "##### Distribuição de avaliação dos filmes\n",
    "\n",
    "Verificando a distribuição dos dados, vemos que a maioria dos usuário dão nota 4 nos filmes que assistem."
   ]
  },
  {
   "cell_type": "code",
   "execution_count": 4,
   "id": "bf22577f-dcd3-499a-8b7c-5a4b750e3a24",
   "metadata": {},
   "outputs": [
    {
     "data": {
      "image/png": "[encoded data removed]",
      "text/plain": [
       "<Figure size 600x400 with 1 Axes>"
      ]
     },
     "metadata": {},
     "output_type": "display_data"
    }
   ],
   "source": [
    "import matplotlib.pyplot as plt\n",
    "\n",
    "# Histograma das avaliações\n",
    "plt.figure(figsize=(6, 4))\n",
    "plt.hist(evaluate['rating'], bins=10, edgecolor='black', alpha=0.7)\n",
    "plt.title('Distribuição das Avaliações')\n",
    "plt.xlabel('Nota')\n",
    "plt.ylabel('Número de Avaliações')\n",
    "plt.show()"
   ]
  },
  {
   "cell_type": "markdown",
   "id": "1d4961c9-9a60-4933-bc24-1a700461243a",
   "metadata": {},
   "source": [
    "##### Número de avaliações por filme top 20\n",
    "\n",
    "Analisando a distribuição, vemos que o filme mais avaliado é o filme de de id 50, podemos também dizer que dentro todos do conjunto de dados ele é o mais assistido também."
   ]
  },
  {
   "cell_type": "code",
   "execution_count": 5,
   "id": "4225244f-9e2a-47f7-9902-7ce165e2ea6a",
   "metadata": {},
   "outputs": [
    {
     "data": {
      "image/png": "[encoded data removed]",
      "text/plain": [
       "<Figure size 600x400 with 1 Axes>"
      ]
     },
     "metadata": {},
     "output_type": "display_data"
    }
   ],
   "source": [
    "# Número de avaliações por filme\n",
    "movie_ratings_count = evaluate.groupby('movie_id')['rating'].count().sort_values(ascending=False)\n",
    "\n",
    "# Plotar a distribuição de avaliações por filme\n",
    "plt.figure(figsize=(6, 4))\n",
    "movie_ratings_count.head(20).plot(kind='bar', color='teal')\n",
    "plt.title('Número de Avaliações por Filme (Top 20)')\n",
    "plt.xlabel('ID do Filme')\n",
    "plt.ylabel('Número de Avaliações')\n",
    "plt.show()"
   ]
  },
  {
   "cell_type": "markdown",
   "id": "08ecdad5-4bb4-4b8d-8c14-7ebd380ac947",
   "metadata": {},
   "source": [
    "##### Número de avaliações por usuário\n",
    "\n",
    "Anaisando o gráfico, vemos que o usuário id 405 é o que mais comparece nas avaliações. "
   ]
  },
  {
   "cell_type": "code",
   "execution_count": 6,
   "id": "077c691b-4da8-4e97-bbe7-cea38a7439ef",
   "metadata": {},
   "outputs": [
    {
     "data": {
      "image/png": "[encoded data removed]",
      "text/plain": [
       "<Figure size 600x400 with 1 Axes>"
      ]
     },
     "metadata": {},
     "output_type": "display_data"
    }
   ],
   "source": [
    "# Número de avaliações por usuário\n",
    "user_ratings_count = evaluate.groupby('user_id')['rating'].count().sort_values(ascending=False)\n",
    "\n",
    "# Plotar a distribuição de avaliações por usuário\n",
    "plt.figure(figsize=(6, 4))\n",
    "user_ratings_count.head(20).plot(kind='bar', color='orange')\n",
    "plt.title('Número de Avaliações por Usuário (Top 20)')\n",
    "plt.xlabel('ID do Usuário')\n",
    "plt.ylabel('Número de Avaliações')\n",
    "plt.show()"
   ]
  },
  {
   "cell_type": "markdown",
   "id": "1d6d8004-b606-4d93-9a1f-13a3fd36767e",
   "metadata": {},
   "source": [
    "##### Distribuição de gênero dos filmes\n",
    "\n",
    "Dentre os filmes existentes na base de dados, os de gênero de drama tem a maior quantidade e o de gênero fantasia menor quantidade."
   ]
  },
  {
   "cell_type": "code",
   "execution_count": 7,
   "id": "b21acf80-b338-4663-8aff-f1844d58f0e9",
   "metadata": {},
   "outputs": [
    {
     "data": {
      "image/png": "[encoded data removed]",
      "text/plain": [
       "<Figure size 600x400 with 1 Axes>"
      ]
     },
     "metadata": {},
     "output_type": "display_data"
    }
   ],
   "source": [
    "# Contar o número de filmes em cada gênero\n",
    "genre_columns = movies.columns[6:]  # Os gêneros começam na 7ª coluna (índice 6)\n",
    "\n",
    "# Contar o número de filmes em cada gênero\n",
    "genre_counts = movies[genre_columns].sum().sort_values(ascending=False)\n",
    "\n",
    "# Plotar a distribuição dos gêneros\n",
    "plt.figure(figsize=(6, 4))\n",
    "genre_counts.plot(kind='bar', color='purple')\n",
    "plt.title('Distribuição de Gêneros dos Filmes')\n",
    "plt.xlabel('Gênero')\n",
    "plt.ylabel('Número de Filmes')\n",
    "plt.show()"
   ]
  },
  {
   "cell_type": "markdown",
   "id": "35ce5481-6597-41c3-a204-60d6c1c23288",
   "metadata": {},
   "source": [
    "##### Filmes mais populares top 10\n",
    "\n",
    "Dentre os filmes populares no top 10, o mais popular é o Star Wars"
   ]
  },
  {
   "cell_type": "code",
   "execution_count": 8,
   "id": "76661dc4-af02-4a79-a612-0c8cd55b77c0",
   "metadata": {},
   "outputs": [
    {
     "data": {
      "text/html": [
       "<div>\n",
       "<style scoped>\n",
       "    .dataframe tbody tr th:only-of-type {\n",
       "        vertical-align: middle;\n",
       "    }\n",
       "\n",
       "    .dataframe tbody tr th {\n",
       "        vertical-align: top;\n",
       "    }\n",
       "\n",
       "    .dataframe thead th {\n",
       "        text-align: right;\n",
       "    }\n",
       "</style>\n",
       "<table border=\"1\" class=\"dataframe\">\n",
       "  <thead>\n",
       "    <tr style=\"text-align: right;\">\n",
       "      <th></th>\n",
       "      <th>movie_id</th>\n",
       "      <th>title</th>\n",
       "      <th>rating</th>\n",
       "    </tr>\n",
       "  </thead>\n",
       "  <tbody>\n",
       "    <tr>\n",
       "      <th>0</th>\n",
       "      <td>50</td>\n",
       "      <td>Star Wars (1977)</td>\n",
       "      <td>583</td>\n",
       "    </tr>\n",
       "    <tr>\n",
       "      <th>1</th>\n",
       "      <td>258</td>\n",
       "      <td>Contact (1997)</td>\n",
       "      <td>509</td>\n",
       "    </tr>\n",
       "    <tr>\n",
       "      <th>2</th>\n",
       "      <td>100</td>\n",
       "      <td>Fargo (1996)</td>\n",
       "      <td>508</td>\n",
       "    </tr>\n",
       "    <tr>\n",
       "      <th>3</th>\n",
       "      <td>181</td>\n",
       "      <td>Return of the Jedi (1983)</td>\n",
       "      <td>507</td>\n",
       "    </tr>\n",
       "    <tr>\n",
       "      <th>4</th>\n",
       "      <td>294</td>\n",
       "      <td>Liar Liar (1997)</td>\n",
       "      <td>485</td>\n",
       "    </tr>\n",
       "    <tr>\n",
       "      <th>5</th>\n",
       "      <td>286</td>\n",
       "      <td>English Patient, The (1996)</td>\n",
       "      <td>481</td>\n",
       "    </tr>\n",
       "    <tr>\n",
       "      <th>6</th>\n",
       "      <td>288</td>\n",
       "      <td>Scream (1996)</td>\n",
       "      <td>478</td>\n",
       "    </tr>\n",
       "    <tr>\n",
       "      <th>7</th>\n",
       "      <td>1</td>\n",
       "      <td>Toy Story (1995)</td>\n",
       "      <td>452</td>\n",
       "    </tr>\n",
       "    <tr>\n",
       "      <th>8</th>\n",
       "      <td>300</td>\n",
       "      <td>Air Force One (1997)</td>\n",
       "      <td>431</td>\n",
       "    </tr>\n",
       "    <tr>\n",
       "      <th>9</th>\n",
       "      <td>121</td>\n",
       "      <td>Independence Day (ID4) (1996)</td>\n",
       "      <td>429</td>\n",
       "    </tr>\n",
       "  </tbody>\n",
       "</table>\n",
       "</div>"
      ],
      "text/plain": [
       "   movie_id                          title  rating\n",
       "0        50               Star Wars (1977)     583\n",
       "1       258                 Contact (1997)     509\n",
       "2       100                   Fargo (1996)     508\n",
       "3       181      Return of the Jedi (1983)     507\n",
       "4       294               Liar Liar (1997)     485\n",
       "5       286    English Patient, The (1996)     481\n",
       "6       288                  Scream (1996)     478\n",
       "7         1               Toy Story (1995)     452\n",
       "8       300           Air Force One (1997)     431\n",
       "9       121  Independence Day (ID4) (1996)     429"
      ]
     },
     "execution_count": 8,
     "metadata": {},
     "output_type": "execute_result"
    }
   ],
   "source": [
    "# Ordenar a contagem de avaliações por filme em ordem decrescente\n",
    "top_10_movies = pd.DataFrame(movie_ratings_count).head(10)\n",
    "\n",
    "top_10_movies = top_10_movies.reset_index()\n",
    "\n",
    "popular_movies = pd.merge(top_10_movies, movies, on='movie_id', how='inner') \n",
    "\n",
    "popular_movies[['movie_id', 'title', 'rating']]"
   ]
  },
  {
   "cell_type": "markdown",
   "id": "34f78506-7271-477b-93aa-d22020a5877a",
   "metadata": {},
   "source": [
    "##### Visualizar quais filmes os usuários mais ativos \n",
    "\n",
    "Filmes mais avaliados pelo usuários"
   ]
  },
  {
   "cell_type": "code",
   "execution_count": 9,
   "id": "662c646c-3509-4803-8e39-0b6947076e35",
   "metadata": {},
   "outputs": [
    {
     "data": {
      "text/html": [
       "<div>\n",
       "<style scoped>\n",
       "    .dataframe tbody tr th:only-of-type {\n",
       "        vertical-align: middle;\n",
       "    }\n",
       "\n",
       "    .dataframe tbody tr th {\n",
       "        vertical-align: top;\n",
       "    }\n",
       "\n",
       "    .dataframe thead th {\n",
       "        text-align: right;\n",
       "    }\n",
       "</style>\n",
       "<table border=\"1\" class=\"dataframe\">\n",
       "  <thead>\n",
       "    <tr style=\"text-align: right;\">\n",
       "      <th></th>\n",
       "      <th>movie_id</th>\n",
       "      <th>title</th>\n",
       "    </tr>\n",
       "  </thead>\n",
       "  <tbody>\n",
       "    <tr>\n",
       "      <th>3</th>\n",
       "      <td>4</td>\n",
       "      <td>Get Shorty (1995)</td>\n",
       "    </tr>\n",
       "    <tr>\n",
       "      <th>49</th>\n",
       "      <td>50</td>\n",
       "      <td>Star Wars (1977)</td>\n",
       "    </tr>\n",
       "    <tr>\n",
       "      <th>55</th>\n",
       "      <td>56</td>\n",
       "      <td>Pulp Fiction (1994)</td>\n",
       "    </tr>\n",
       "    <tr>\n",
       "      <th>78</th>\n",
       "      <td>79</td>\n",
       "      <td>Fugitive, The (1993)</td>\n",
       "    </tr>\n",
       "    <tr>\n",
       "      <th>317</th>\n",
       "      <td>318</td>\n",
       "      <td>Schindler's List (1993)</td>\n",
       "    </tr>\n",
       "    <tr>\n",
       "      <th>356</th>\n",
       "      <td>357</td>\n",
       "      <td>One Flew Over the Cuckoo's Nest (1975)</td>\n",
       "    </tr>\n",
       "    <tr>\n",
       "      <th>384</th>\n",
       "      <td>385</td>\n",
       "      <td>True Lies (1994)</td>\n",
       "    </tr>\n",
       "    <tr>\n",
       "      <th>422</th>\n",
       "      <td>423</td>\n",
       "      <td>E.T. the Extra-Terrestrial (1982)</td>\n",
       "    </tr>\n",
       "    <tr>\n",
       "      <th>654</th>\n",
       "      <td>655</td>\n",
       "      <td>Stand by Me (1986)</td>\n",
       "    </tr>\n",
       "    <tr>\n",
       "      <th>738</th>\n",
       "      <td>739</td>\n",
       "      <td>Pretty Woman (1990)</td>\n",
       "    </tr>\n",
       "  </tbody>\n",
       "</table>\n",
       "</div>"
      ],
      "text/plain": [
       "     movie_id                                   title\n",
       "3           4                       Get Shorty (1995)\n",
       "49         50                        Star Wars (1977)\n",
       "55         56                     Pulp Fiction (1994)\n",
       "78         79                    Fugitive, The (1993)\n",
       "317       318                 Schindler's List (1993)\n",
       "356       357  One Flew Over the Cuckoo's Nest (1975)\n",
       "384       385                        True Lies (1994)\n",
       "422       423       E.T. the Extra-Terrestrial (1982)\n",
       "654       655                      Stand by Me (1986)\n",
       "738       739                     Pretty Woman (1990)"
      ]
     },
     "execution_count": 9,
     "metadata": {},
     "output_type": "execute_result"
    }
   ],
   "source": [
    "# Top 10 usuários mais ativos\n",
    "top_10_users = user_ratings_count.head(10)\n",
    "\n",
    "# Ver os filmes avaliados por esses usuários\n",
    "active_users_ratings = evaluate[evaluate['user_id'].isin(top_10_users.index)]\n",
    "active_users_movie_counts = active_users_ratings.groupby('movie_id')['rating'].count().sort_values(ascending=False)\n",
    "\n",
    "# Exibir os filmes mais avaliados por usuários ativos\n",
    "top_10_active_movies = movies[movies['movie_id'].isin(active_users_movie_counts.head(10).index)]\n",
    "pd.DataFrame(top_10_active_movies[['movie_id', 'title']])"
   ]
  },
  {
   "cell_type": "markdown",
   "id": "09c3098e-eb2d-485b-b4bb-7253ecc4bcd6",
   "metadata": {},
   "source": [
    "#### Teste de Modelos"
   ]
  },
  {
   "cell_type": "markdown",
   "id": "eab808a6-0ed4-4e68-bf73-3939e68687fa",
   "metadata": {},
   "source": [
    "##### Criando matriz de interações"
   ]
  },
  {
   "cell_type": "code",
   "execution_count": 18,
   "id": "c2c6e3e9-26c7-47ab-8236-924533cb3e01",
   "metadata": {},
   "outputs": [
    {
     "data": {
      "text/plain": [
       "(943, 1682)"
      ]
     },
     "execution_count": 18,
     "metadata": {},
     "output_type": "execute_result"
    }
   ],
   "source": [
    "# Criar a matriz de interações (usuário x filme)\n",
    "rating_matrix = evaluate.pivot_table(index=\"user_id\", columns=\"movie_id\", values=\"rating\")\n",
    "\n",
    "# Substituir valores NaN por 0\n",
    "rating_matrix = rating_matrix.fillna(0)\n",
    "\n",
    "# Exibir as primeiras linhas\n",
    "rating_matrix.shape"
   ]
  },
  {
   "cell_type": "markdown",
   "id": "a612104f-87cf-4a72-bcb3-4a2b90ca2489",
   "metadata": {},
   "source": [
    "##### Calcular a similaridade de cosseno entre os filmes"
   ]
  },
  {
   "cell_type": "code",
   "execution_count": 17,
   "id": "05611205-e7bc-4e2f-bbe3-a8747748791f",
   "metadata": {},
   "outputs": [
    {
     "data": {
      "text/plain": [
       "(1682, 1682)"
      ]
     },
     "execution_count": 17,
     "metadata": {},
     "output_type": "execute_result"
    }
   ],
   "source": [
    "from sklearn.metrics.pairwise import cosine_similarity\n",
    "from scipy.sparse import csr_matrix\n",
    "\n",
    "# Converter a matriz para formato esparso\n",
    "rating_matrix_sparse = csr_matrix(rating_matrix)\n",
    "\n",
    "# Calcular a similaridade de cosseno entre os filmes\n",
    "similarity_matrix = cosine_similarity(rating_matrix_sparse.T)\n",
    "\n",
    "# Criar um DataFrame para visualizar as similaridades\n",
    "similarity_df = pd.DataFrame(similarity_matrix, index=rating_matrix.columns, columns=rating_matrix.columns)\n",
    "\n",
    "# Exibir as primeiras linhas da similaridade\n",
    "similarity_df.shape"
   ]
  },
  {
   "cell_type": "markdown",
   "id": "dd59081d-74cb-4389-9ce5-fbc4b03849ff",
   "metadata": {},
   "source": [
    "##### Calculando as recomendações"
   ]
  },
  {
   "cell_type": "code",
   "execution_count": 36,
   "id": "ccdde143-c908-4015-923a-8776e99e2e86",
   "metadata": {},
   "outputs": [
    {
     "data": {
      "text/html": [
       "<div>\n",
       "<style scoped>\n",
       "    .dataframe tbody tr th:only-of-type {\n",
       "        vertical-align: middle;\n",
       "    }\n",
       "\n",
       "    .dataframe tbody tr th {\n",
       "        vertical-align: top;\n",
       "    }\n",
       "\n",
       "    .dataframe thead th {\n",
       "        text-align: right;\n",
       "    }\n",
       "</style>\n",
       "<table border=\"1\" class=\"dataframe\">\n",
       "  <thead>\n",
       "    <tr style=\"text-align: right;\">\n",
       "      <th></th>\n",
       "      <th>movie_id</th>\n",
       "      <th>title</th>\n",
       "    </tr>\n",
       "  </thead>\n",
       "  <tbody>\n",
       "    <tr>\n",
       "      <th>5</th>\n",
       "      <td>6</td>\n",
       "      <td>Shanghai Triad (Yao a yao yao dao waipo qiao) ...</td>\n",
       "    </tr>\n",
       "    <tr>\n",
       "      <th>11</th>\n",
       "      <td>12</td>\n",
       "      <td>Usual Suspects, The (1995)</td>\n",
       "    </tr>\n",
       "    <tr>\n",
       "      <th>57</th>\n",
       "      <td>58</td>\n",
       "      <td>Quiz Show (1994)</td>\n",
       "    </tr>\n",
       "    <tr>\n",
       "      <th>92</th>\n",
       "      <td>93</td>\n",
       "      <td>Welcome to the Dollhouse (1995)</td>\n",
       "    </tr>\n",
       "    <tr>\n",
       "      <th>128</th>\n",
       "      <td>129</td>\n",
       "      <td>Bound (1996)</td>\n",
       "    </tr>\n",
       "    <tr>\n",
       "      <th>274</th>\n",
       "      <td>275</td>\n",
       "      <td>Sense and Sensibility (1995)</td>\n",
       "    </tr>\n",
       "    <tr>\n",
       "      <th>301</th>\n",
       "      <td>302</td>\n",
       "      <td>L.A. Confidential (1997)</td>\n",
       "    </tr>\n",
       "    <tr>\n",
       "      <th>306</th>\n",
       "      <td>307</td>\n",
       "      <td>Devil's Advocate, The (1997)</td>\n",
       "    </tr>\n",
       "    <tr>\n",
       "      <th>414</th>\n",
       "      <td>415</td>\n",
       "      <td>Apple Dumpling Gang, The (1975)</td>\n",
       "    </tr>\n",
       "    <tr>\n",
       "      <th>448</th>\n",
       "      <td>449</td>\n",
       "      <td>Star Trek: The Motion Picture (1979)</td>\n",
       "    </tr>\n",
       "  </tbody>\n",
       "</table>\n",
       "</div>"
      ],
      "text/plain": [
       "     movie_id                                              title\n",
       "5           6  Shanghai Triad (Yao a yao yao dao waipo qiao) ...\n",
       "11         12                         Usual Suspects, The (1995)\n",
       "57         58                                   Quiz Show (1994)\n",
       "92         93                    Welcome to the Dollhouse (1995)\n",
       "128       129                                       Bound (1996)\n",
       "274       275                       Sense and Sensibility (1995)\n",
       "301       302                           L.A. Confidential (1997)\n",
       "306       307                       Devil's Advocate, The (1997)\n",
       "414       415                    Apple Dumpling Gang, The (1975)\n",
       "448       449               Star Trek: The Motion Picture (1979)"
      ]
     },
     "execution_count": 36,
     "metadata": {},
     "output_type": "execute_result"
    }
   ],
   "source": [
    "import numpy as np\n",
    "\n",
    "def recommend_movies(movie_id, rating_matrix, similarity_matrix, top_n=10):\n",
    "    # Verificar se o filme existe na matriz\n",
    "    if movie_id not in rating_matrix.columns:\n",
    "        print(f\"Filme com id {movie_id} não encontrado.\")\n",
    "        return []\n",
    "    \n",
    "    # Obter os índices de similaridade para o filme de entrada\n",
    "    movie_similarity_scores = similarity_matrix[movie_id].values\n",
    "    \n",
    "    # Transpor a matriz de avaliações para alinhar as dimensões (n_usuarios x n_filmes)\n",
    "    transposed_ratings = rating_matrix.values.T  # Agora é (n_filmes, n_usuarios)\n",
    "    \n",
    "    # Calcular as pontuações de recomendação\n",
    "    scores = np.dot(movie_similarity_scores, transposed_ratings)  # Produto escalar para calcular as pontuações\n",
    "    \n",
    "    # Normalização: subtrair a média das avaliações dos filmes (com a forma correta)\n",
    "    movie_avg_ratings = rating_matrix.mean(axis=0).values  # A média por filme\n",
    "    \n",
    "    # Subtrair a média de cada filme de sua respectiva pontuação\n",
    "    for i in range(len(scores)):\n",
    "        scores[i] -= movie_avg_ratings[i]  # Subtrair a média de avaliações do filme\n",
    "\n",
    "    # Ordenar os filmes por pontuação (em ordem decrescente)\n",
    "    recommended_movie_ids = scores.argsort()[-top_n:][::-1]  # Pega os top_n filmes\n",
    "    \n",
    "    # Obter os títulos dos filmes recomendados\n",
    "    recommended_movies = movies[movies['movie_id'].isin(recommended_movie_ids)]\n",
    "    \n",
    "    return recommended_movies[['movie_id', 'title']]\n",
    "\n",
    "# Exemplo de recomendação para um filme com id 1\n",
    "recommended_movies = recommend_movies(movie_id=5, rating_matrix=rating_matrix, similarity_matrix=similarity_df)\n",
    "recommended_movies"
   ]
  },
  {
   "cell_type": "markdown",
   "id": "40599ac2-b652-41fb-85f8-bc2d9286b0b3",
   "metadata": {},
   "source": [
    "#### Resultados"
   ]
  },
  {
   "cell_type": "markdown",
   "id": "7a432d06-862c-4e2e-a4a3-3e2e4ba16e3c",
   "metadata": {},
   "source": [
    "Ao aplicar a técnica de recomendação, conseguimos gerar um conjunto de filmes recomendados para um usuário com base no filme escolhido. Como resultado, obtemos uma lista de filmes que são mais semelhantes ao filme inicial, permitindo que o usuário receba sugestões de filmes que possam ser de seu interesse, com base nas preferências de outros usuários com gostos semelhantes.\n",
    "\n",
    "A precisão das recomendações foi indicada pela lista de filmes gerada. Os filmes recomendados eram de fato relevantes e semelhantes ao filme de entrada, o que é um bom indicativo de que o modelo está funcionando de maneira adequada. Contudo, o modelo não levou em consideração fatores como popularidade dos filmes ou características adicionais, como o gênero, o que pode ser um ponto de melhoria para aumentar a qualidade da recomendação"
   ]
  }
 ],
 "metadata": {
  "kernelspec": {
   "display_name": "Python 3 (ipykernel)",
   "language": "python",
   "name": "python3"
  },
  "language_info": {
   "codemirror_mode": {
    "name": "ipython",
    "version": 3
   },
   "file_extension": ".py",
   "mimetype": "text/x-python",
   "name": "python",
   "nbconvert_exporter": "python",
   "pygments_lexer": "ipython3",
   "version": "3.9.12"
  }
 },
 "nbformat": 4,
 "nbformat_minor": 5
}
