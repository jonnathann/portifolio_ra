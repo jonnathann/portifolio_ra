{
 "cells": [
  {
   "cell_type": "markdown",
   "metadata": {},
   "source": [
    "# Construindo chatbot de atendimento médico com técnicas tradicionais de machine learning"
   ]
  },
  {
   "cell_type": "markdown",
   "metadata": {},
   "source": [
    "## Imports"
   ]
  },
  {
   "cell_type": "code",
   "execution_count": null,
   "metadata": {},
   "outputs": [],
   "source": [
    "import pandas as pd"
   ]
  },
  {
   "cell_type": "markdown",
   "metadata": {},
   "source": [
    "## Dataset"
   ]
  },
  {
   "cell_type": "markdown",
   "metadata": {},
   "source": [
    "### Construindo o dataset para o chatboot médico"
   ]
  },
  {
   "cell_type": "code",
   "execution_count": null,
   "metadata": {},
   "outputs": [],
   "source": [
    "# Dados\n",
    "data = [\n",
    "    (\"Quais são os sintomas da gripe?\", \"gripe\", \"Os sintomas da gripe incluem febre, dor no corpo, calafrios, dor de garganta e tosse.\"),\n",
    "    (\"Estou com febre e dor no corpo, é gripe?\", \"gripe\", \"Esses sintomas são comuns na gripe. Se você estiver com tosse e dor no corpo também, pode ser a gripe.\"),\n",
    "    (\"Como saber se estou gripado?\", \"gripe\", \"A gripe geralmente apresenta febre, calafrios, dor de cabeça e dor muscular. Se você tiver esses sintomas, é possível que seja gripe.\"),\n",
    "    (\"Quais os sintomas de um infarto?\", \"cardiologia\", \"Os sintomas incluem dor no peito, falta de ar, dor nas costas e suor excessivo.\"),\n",
    "    (\"Estou com dor no peito e falta de ar, isso pode ser um infarto?\", \"cardiologia\", \"Sim, esses podem ser sintomas de infarto. Procure ajuda médica imediatamente.\"),\n",
    "    (\"Como posso tratar acne?\", \"dermatologia\", \"A acne pode ser tratada com medicamentos tópicos, como peróxido de benzoíla ou cremes com retinoides.\"),\n",
    "    (\"Tenho espinhas no rosto, o que devo fazer?\", \"dermatologia\", \"Você pode usar cremes específicos para acne e evitar apertar as espinhas. Se necessário, consulte um dermatologista.\"),\n",
    "    (\"O que é depressão?\", \"saude_mental\", \"A depressão é um transtorno mental caracterizado por sentimentos persistentes de tristeza, perda de interesse nas atividades diárias e cansaço extremo.\"),\n",
    "    (\"Quais são os sintomas da depressão?\", \"saude_mental\", \"Os sintomas incluem tristeza constante, dificuldade de concentração, insônia ou sono excessivo, e perda de apetite.\"),\n",
    "    (\"Qual a melhor dieta para perder peso?\", \"nutricao\", \"Uma dieta balanceada, com controle de calorias e aumento do consumo de vegetais, é eficaz para perda de peso.\"),\n",
    "    (\"Devo cortar carboidratos para emagrecer?\", \"nutricao\", \"Não é necessário cortar carboidratos totalmente. O importante é escolher carboidratos saudáveis e consumi-los com moderação.\"),\n",
    "    (\"Vocês aceitam plano de saúde X?\", \"convenios\", \"Sim, aceitamos o plano de saúde X. Você pode consultar as coberturas diretamente com nossa recepção.\"),\n",
    "    (\"Quais planos de saúde vocês aceitam?\", \"convenios\", \"Aceitamos planos como Amil, Bradesco Saúde e Unimed. Consulte as condições com a recepção.\"),\n",
    "    (\"Como posso agendar uma consulta?\", \"consultas\", \"Você pode agendar sua consulta através do nosso portal online ou entrando em contato com a recepção.\"),\n",
    "    (\"Preciso levar algum exame para a consulta?\", \"consultas\", \"Recomendamos que leve os exames mais recentes, caso tenha algum, para facilitar a avaliação do médico.\"),\n",
    "    (\"Qual o melhor tratamento para dor nas costas?\", \"ortopedia\", \"O tratamento pode incluir fisioterapia, medicamentos anti-inflamatórios e, em alguns casos, cirurgia.\"),\n",
    "    (\"Estou com dor nas costas, o que pode ser?\", \"ortopedia\", \"A dor nas costas pode ser causada por tensão muscular, problemas na coluna ou até uma hérnia. É importante procurar um médico para diagnóstico.\"),\n",
    "    (\"Quais exames devo fazer para checar a saúde do coração?\", \"cardiologia\", \"Os exames mais comuns incluem o eletrocardiograma (ECG), ecocardiograma e testes de esforço.\"),\n",
    "    (\"Como posso saber se meu colesterol está alto?\", \"cardiologia\", \"Você pode verificar seu colesterol através de um exame de sangue chamado lipidograma, que mede os níveis de colesterol e triglicerídeos.\"),\n",
    "    (\"Estou com febre alta e dor no corpo, o que pode ser?\", \"gripe\", \"Esses sintomas podem ser causados por várias condições, como a gripe ou até a Covid-19. Você já teve contato com alguém que testou positivo para Covid-19 recentemente?\"),\n",
    "    (\"Não, mas estou com tosse também.\", \"gripe\", \"A tosse junto com febre é uma característica comum da gripe. Recomendo que você procure um médico para uma avaliação mais detalhada.\"),\n",
    "    (\"Como saber se a dor nas costas é grave?\", \"ortopedia\", \"A dor nas costas pode ser grave se for acompanhada de dormência, fraqueza nas pernas ou dificuldade de movimentação. Caso esses sintomas apareçam, procure um médico imediatamente.\"),\n",
    "    (\"Estou com muita dor de cabeça, o que posso fazer?\", \"neurologia\", \"Se a dor de cabeça for muito forte e persistir, pode ser sinal de enxaqueca ou outro problema. Tente descansar em um local tranquilo e tomar um analgésico, mas se persistir, consulte um médico.\")\n",
    "]\n",
    "\n",
    "# Criando o DataFrame\n",
    "df = pd.DataFrame(data, columns=[\"Pergunta\", \"Categoria\", \"Resposta\"])\n",
    "\n",
    "# Salvando o dataset em um .csv\n",
    "df.to_csv('../data/processed/nlp_chatbot_dataset.csv')"
   ]
  },
  {
   "cell_type": "markdown",
   "metadata": {},
   "source": [
    "### Lendo o dataset criado"
   ]
  },
  {
   "cell_type": "code",
   "execution_count": 13,
   "metadata": {},
   "outputs": [
    {
     "data": {
      "text/html": [
       "<div>\n",
       "<style scoped>\n",
       "    .dataframe tbody tr th:only-of-type {\n",
       "        vertical-align: middle;\n",
       "    }\n",
       "\n",
       "    .dataframe tbody tr th {\n",
       "        vertical-align: top;\n",
       "    }\n",
       "\n",
       "    .dataframe thead th {\n",
       "        text-align: right;\n",
       "    }\n",
       "</style>\n",
       "<table border=\"1\" class=\"dataframe\">\n",
       "  <thead>\n",
       "    <tr style=\"text-align: right;\">\n",
       "      <th></th>\n",
       "      <th>Pergunta</th>\n",
       "      <th>Categoria</th>\n",
       "      <th>Resposta</th>\n",
       "    </tr>\n",
       "  </thead>\n",
       "  <tbody>\n",
       "    <tr>\n",
       "      <th>0</th>\n",
       "      <td>Quais são os sintomas da gripe?</td>\n",
       "      <td>gripe</td>\n",
       "      <td>Os sintomas da gripe incluem febre, dor no cor...</td>\n",
       "    </tr>\n",
       "    <tr>\n",
       "      <th>1</th>\n",
       "      <td>Estou com febre e dor no corpo, é gripe?</td>\n",
       "      <td>gripe</td>\n",
       "      <td>Esses sintomas são comuns na gripe. Se você es...</td>\n",
       "    </tr>\n",
       "    <tr>\n",
       "      <th>2</th>\n",
       "      <td>Como saber se estou gripado?</td>\n",
       "      <td>gripe</td>\n",
       "      <td>A gripe geralmente apresenta febre, calafrios,...</td>\n",
       "    </tr>\n",
       "    <tr>\n",
       "      <th>3</th>\n",
       "      <td>Quais os sintomas de um infarto?</td>\n",
       "      <td>cardiologia</td>\n",
       "      <td>Os sintomas incluem dor no peito, falta de ar,...</td>\n",
       "    </tr>\n",
       "    <tr>\n",
       "      <th>4</th>\n",
       "      <td>Estou com dor no peito e falta de ar, isso pod...</td>\n",
       "      <td>cardiologia</td>\n",
       "      <td>Sim, esses podem ser sintomas de infarto. Proc...</td>\n",
       "    </tr>\n",
       "  </tbody>\n",
       "</table>\n",
       "</div>"
      ],
      "text/plain": [
       "                                            Pergunta    Categoria  \\\n",
       "0                    Quais são os sintomas da gripe?        gripe   \n",
       "1           Estou com febre e dor no corpo, é gripe?        gripe   \n",
       "2                       Como saber se estou gripado?        gripe   \n",
       "3                   Quais os sintomas de um infarto?  cardiologia   \n",
       "4  Estou com dor no peito e falta de ar, isso pod...  cardiologia   \n",
       "\n",
       "                                            Resposta  \n",
       "0  Os sintomas da gripe incluem febre, dor no cor...  \n",
       "1  Esses sintomas são comuns na gripe. Se você es...  \n",
       "2  A gripe geralmente apresenta febre, calafrios,...  \n",
       "3  Os sintomas incluem dor no peito, falta de ar,...  \n",
       "4  Sim, esses podem ser sintomas de infarto. Proc...  "
      ]
     },
     "execution_count": 13,
     "metadata": {},
     "output_type": "execute_result"
    }
   ],
   "source": [
    "df = pd.read_csv('../data/processed/nlp_chatbot_dataset.csv').drop('Unnamed: 0', axis=1)\n",
    "df.head()"
   ]
  }
 ],
 "metadata": {
  "kernelspec": {
   "display_name": "env_ra",
   "language": "python",
   "name": "python3"
  },
  "language_info": {
   "codemirror_mode": {
    "name": "ipython",
    "version": 3
   },
   "file_extension": ".py",
   "mimetype": "text/x-python",
   "name": "python",
   "nbconvert_exporter": "python",
   "pygments_lexer": "ipython3",
   "version": "3.9.12"
  }
 },
 "nbformat": 4,
 "nbformat_minor": 2
}
