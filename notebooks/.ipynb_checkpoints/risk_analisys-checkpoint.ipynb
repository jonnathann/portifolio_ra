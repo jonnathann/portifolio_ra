{
 "cells": [
  {
   "cell_type": "markdown",
   "id": "2f884d9c-7768-4df2-8380-0793e7b1f0fa",
   "metadata": {},
   "source": [
    "#### Importanto dados do Kaggle"
   ]
  },
  {
   "cell_type": "code",
   "execution_count": 1,
   "id": "595776ab-3b93-447f-af4f-0a7fc0b3dfd9",
   "metadata": {},
   "outputs": [],
   "source": [
    "import kagglehub as kag \n",
    "import pandas as pd"
   ]
  },
  {
   "cell_type": "code",
   "execution_count": 2,
   "id": "4c4ae7dd-de13-4e48-91b8-f80e3fccc40b",
   "metadata": {},
   "outputs": [],
   "source": [
    "path = kag.dataset_download(\"mlg-ulb/creditcardfraud\")"
   ]
  },
  {
   "cell_type": "code",
   "execution_count": 3,
   "id": "112f2e21-18d5-47e6-b23e-0e1422e9b683",
   "metadata": {},
   "outputs": [],
   "source": [
    "file_csv = f\"{path}/creditcard.csv\""
   ]
  },
  {
   "cell_type": "code",
   "execution_count": 4,
   "id": "3831c031-91a7-4110-ba61-863e52a955f2",
   "metadata": {},
   "outputs": [],
   "source": [
    "df = pd.read_csv(file_csv)"
   ]
  },
  {
   "cell_type": "code",
   "execution_count": 5,
   "id": "a4b65be1-5342-4d9c-b57c-ccc401242640",
   "metadata": {},
   "outputs": [
    {
     "data": {
      "text/plain": [
       "Index(['Time', 'V1', 'V2', 'V3', 'V4', 'V5', 'V6', 'V7', 'V8', 'V9', 'V10',\n",
       "       'V11', 'V12', 'V13', 'V14', 'V15', 'V16', 'V17', 'V18', 'V19', 'V20',\n",
       "       'V21', 'V22', 'V23', 'V24', 'V25', 'V26', 'V27', 'V28', 'Amount',\n",
       "       'Class'],\n",
       "      dtype='object')"
      ]
     },
     "execution_count": 5,
     "metadata": {},
     "output_type": "execute_result"
    }
   ],
   "source": [
    "df.columns"
   ]
  },
  {
   "cell_type": "code",
   "execution_count": 10,
   "id": "e1072a06-0684-437e-b011-2decbd6bd4b0",
   "metadata": {},
   "outputs": [
    {
     "data": {
      "text/plain": [
       "31"
      ]
     },
     "execution_count": 10,
     "metadata": {},
     "output_type": "execute_result"
    }
   ],
   "source": [
    "df.columns.shape[0]"
   ]
  },
  {
   "cell_type": "code",
   "execution_count": null,
   "id": "9374833e-2a02-43ff-a1a3-e06fb91cff65",
   "metadata": {},
   "outputs": [],
   "source": []
  }
 ],
 "metadata": {
  "kernelspec": {
   "display_name": "Python 3 (ipykernel)",
   "language": "python",
   "name": "python3"
  },
  "language_info": {
   "codemirror_mode": {
    "name": "ipython",
    "version": 3
   },
   "file_extension": ".py",
   "mimetype": "text/x-python",
   "name": "python",
   "nbconvert_exporter": "python",
   "pygments_lexer": "ipython3",
   "version": "3.9.12"
  }
 },
 "nbformat": 4,
 "nbformat_minor": 5
}
