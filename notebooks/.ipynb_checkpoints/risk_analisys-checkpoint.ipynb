{
 "cells": [
  {
   "cell_type": "markdown",
   "id": "2f884d9c-7768-4df2-8380-0793e7b1f0fa",
   "metadata": {},
   "source": [
    "#### Importanto dados do Kaggle"
   ]
  },
  {
   "cell_type": "code",
   "execution_count": 7,
   "id": "595776ab-3b93-447f-af4f-0a7fc0b3dfd9",
   "metadata": {},
   "outputs": [],
   "source": [
    "import kagglehub as kag \n",
    "import pandas as pd"
   ]
  },
  {
   "cell_type": "code",
   "execution_count": 8,
   "id": "4c4ae7dd-de13-4e48-91b8-f80e3fccc40b",
   "metadata": {},
   "outputs": [],
   "source": [
    "path = kag.dataset_download(\"mlg-ulb/creditcardfraud\")"
   ]
  },
  {
   "cell_type": "code",
   "execution_count": null,
   "id": "112f2e21-18d5-47e6-b23e-0e1422e9b683",
   "metadata": {},
   "outputs": [],
   "source": [
    "df = pd.read_csv(path)"
   ]
  }
 ],
 "metadata": {
  "kernelspec": {
   "display_name": "Python 3 (ipykernel)",
   "language": "python",
   "name": "python3"
  },
  "language_info": {
   "codemirror_mode": {
    "name": "ipython",
    "version": 3
   },
   "file_extension": ".py",
   "mimetype": "text/x-python",
   "name": "python",
   "nbconvert_exporter": "python",
   "pygments_lexer": "ipython3",
   "version": "3.9.12"
  }
 },
 "nbformat": 4,
 "nbformat_minor": 5
}
