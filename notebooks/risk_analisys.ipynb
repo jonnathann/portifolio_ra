{
 "cells": [
  {
   "cell_type": "markdown",
   "id": "2cc23b3e-0d23-4da4-a962-d7a9c73cc85e",
   "metadata": {},
   "source": [
    "#### Contexto\n",
    "Empresas de cartão de crédito precisam identificar transações fraudulentas para evitar cobranças indevidas.\n",
    "\n",
    "#### Conteúdo\n",
    "O conjunto de dados contém transações de cartões de crédito feitas por portadores europeus em setembro de 2013. Ele inclui 492 fraudes de um total de 284.807 transações, sendo que as fraudes representam 0,172% das transações. As variáveis de entrada são numéricas e resultam de uma transformação PCA, com exceção dos recursos 'Time' (tempo em segundos desde a primeira transação) e 'Amount' (valor da transação). A variável 'Class' indica se a transação é fraudulenta (1) ou não (0). Devido ao desequilíbrio de classes, recomenda-se usar a Área Sob a Curva de Precisão-Recall (AUPRC) para avaliar a precisão, em vez da matriz de confusão."
   ]
  },
  {
   "cell_type": "markdown",
   "id": "2f884d9c-7768-4df2-8380-0793e7b1f0fa",
   "metadata": {},
   "source": [
    "#### Importanto dados do Kaggle\n",
    "\n",
    "Nessa parte estamos fazendo o download do conjunto de dados para realização das análises. O arquivo que contém do conjunto de dados se chama creditcard.csv. Também aproveitamos e o adionamos em um dataframe para fazer uma análise exploratória mais aprofundadada."
   ]
  },
  {
   "cell_type": "code",
   "execution_count": 3,
   "id": "595776ab-3b93-447f-af4f-0a7fc0b3dfd9",
   "metadata": {},
   "outputs": [],
   "source": [
    "import kagglehub as kag \n",
    "import pandas as pd"
   ]
  },
  {
   "cell_type": "code",
   "execution_count": 4,
   "id": "4c4ae7dd-de13-4e48-91b8-f80e3fccc40b",
   "metadata": {},
   "outputs": [],
   "source": [
    "path = kag.dataset_download(\"mlg-ulb/creditcardfraud\")"
   ]
  },
  {
   "cell_type": "code",
   "execution_count": 5,
   "id": "112f2e21-18d5-47e6-b23e-0e1422e9b683",
   "metadata": {},
   "outputs": [],
   "source": [
    "file_csv = f\"{path}/creditcard.csv\""
   ]
  },
  {
   "cell_type": "markdown",
   "id": "000c2f0e-07e7-4320-84f6-c463ce83f95d",
   "metadata": {},
   "source": [
    "#### Quais variáveis e sua quantidade?\n",
    "Nesse ponto verfficamos que o conjunto total tem 31 variáveis sendo que três delas temos conhecimentos que são a (Time - tempo em segundo dese a primeira transação), (Amount - valor da transação) e a (Class - classes da obseração sendo [0 - não fraude] e [1 - fraude]). As variáveis de V1 até V28, como no enunciado dos dados, são componentes de um PCA que foi apliado nos dados antes do mesmo ser disponibilizado."
   ]
  },
  {
   "cell_type": "code",
   "execution_count": 6,
   "id": "3831c031-91a7-4110-ba61-863e52a955f2",
   "metadata": {},
   "outputs": [],
   "source": [
    "df = pd.read_csv(file_csv)"
   ]
  },
  {
   "cell_type": "code",
   "execution_count": 7,
   "id": "a4b65be1-5342-4d9c-b57c-ccc401242640",
   "metadata": {},
   "outputs": [
    {
     "data": {
      "text/plain": [
       "Index(['Time', 'V1', 'V2', 'V3', 'V4', 'V5', 'V6', 'V7', 'V8', 'V9', 'V10',\n",
       "       'V11', 'V12', 'V13', 'V14', 'V15', 'V16', 'V17', 'V18', 'V19', 'V20',\n",
       "       'V21', 'V22', 'V23', 'V24', 'V25', 'V26', 'V27', 'V28', 'Amount',\n",
       "       'Class'],\n",
       "      dtype='object')"
      ]
     },
     "execution_count": 7,
     "metadata": {},
     "output_type": "execute_result"
    }
   ],
   "source": [
    "df.columns"
   ]
  },
  {
   "cell_type": "code",
   "execution_count": 8,
   "id": "e1072a06-0684-437e-b011-2decbd6bd4b0",
   "metadata": {},
   "outputs": [
    {
     "data": {
      "text/plain": [
       "31"
      ]
     },
     "execution_count": 8,
     "metadata": {},
     "output_type": "execute_result"
    }
   ],
   "source": [
    "df.columns.shape[0]"
   ]
  },
  {
   "cell_type": "markdown",
   "id": "e2925df7-187e-421f-b7d3-4c14f13d8649",
   "metadata": {},
   "source": [
    "#### Verificando o desbalanceamento dos dados\n",
    "Ao verificarmos o nível de desbalanceamento percebemoa que existem 284315 observações que representam transações to tipo não fraude e 492 transações do tipo fraude. Em termos metemáticos temos uma diferença de quantidade entre as classes de 283823 pró classes não fraude. Resumindo, temos um conjunto de dados muito desbalanceado, onde a parte de classes fraudes não é representativa, perante a classe não fraude."
   ]
  },
  {
   "cell_type": "code",
   "execution_count": 20,
   "id": "9374833e-2a02-43ff-a1a3-e06fb91cff65",
   "metadata": {},
   "outputs": [
    {
     "data": {
      "text/html": [
       "<div>\n",
       "<style scoped>\n",
       "    .dataframe tbody tr th:only-of-type {\n",
       "        vertical-align: middle;\n",
       "    }\n",
       "\n",
       "    .dataframe tbody tr th {\n",
       "        vertical-align: top;\n",
       "    }\n",
       "\n",
       "    .dataframe thead th {\n",
       "        text-align: right;\n",
       "    }\n",
       "</style>\n",
       "<table border=\"1\" class=\"dataframe\">\n",
       "  <thead>\n",
       "    <tr style=\"text-align: right;\">\n",
       "      <th></th>\n",
       "      <th>Classes</th>\n",
       "      <th>Frequência</th>\n",
       "    </tr>\n",
       "  </thead>\n",
       "  <tbody>\n",
       "    <tr>\n",
       "      <th>0</th>\n",
       "      <td>0</td>\n",
       "      <td>284315</td>\n",
       "    </tr>\n",
       "    <tr>\n",
       "      <th>1</th>\n",
       "      <td>1</td>\n",
       "      <td>492</td>\n",
       "    </tr>\n",
       "  </tbody>\n",
       "</table>\n",
       "</div>"
      ],
      "text/plain": [
       "   Classes  Frequência\n",
       "0        0      284315\n",
       "1        1         492"
      ]
     },
     "execution_count": 20,
     "metadata": {},
     "output_type": "execute_result"
    }
   ],
   "source": [
    "df_count_class = pd.DataFrame(df.Class.value_counts().reset_index())\n",
    "df_count_class.columns = ['Classes', 'Frequência']\n",
    "df_count_class"
   ]
  },
  {
   "cell_type": "markdown",
   "id": "78652705-06a5-44fe-88ea-c2baa10ef33c",
   "metadata": {},
   "source": [
    "#### Verificando a distribuição das classes fraudes e e não fraudes\n",
    "\n",
    "Visualizando as distribuições das classes fraude e não fraude"
   ]
  },
  {
   "cell_type": "code",
   "execution_count": 21,
   "id": "390429a2-597e-4b0b-a91b-39df5ac8e0ba",
   "metadata": {},
   "outputs": [],
   "source": [
    "import matplotlib.pyplot as plt\n",
    "import seaborn as sns"
   ]
  },
  {
   "cell_type": "code",
   "execution_count": 32,
   "id": "841486c9-ee6e-4f77-8ab0-374c5d156a48",
   "metadata": {},
   "outputs": [
    {
     "data": {
      "image/png": "[encoded data removed]",
      "text/plain": [
       "<Figure size 600x400 with 1 Axes>"
      ]
     },
     "metadata": {},
     "output_type": "display_data"
    }
   ],
   "source": [
    "plt.figure(figsize=(6, 4))\n",
    "sns.countplot(x='Class', data=df, width=0.2)\n",
    "plt.title('Distribuição das Transações (Fraude vs Não Fraude)')\n",
    "plt.xlabel('Classe (0: não fraude, 1: fraude)')\n",
    "plt.ylabel('Quantidade de Transações')\n",
    "plt.yscale('log')\n",
    "plt.show()"
   ]
  },
  {
   "cell_type": "markdown",
   "id": "9bbe0c99-1e94-4a59-9e56-e9d0f9b12da2",
   "metadata": {},
   "source": [
    "#### Verificando a proporção entre classes fraude e não fraude\n",
    "Verificando a proporção de fraudes, vemos que o desbalanceamento é muito significativo de aproximdamantente 0.173%"
   ]
  },
  {
   "cell_type": "code",
   "execution_count": 39,
   "id": "bca7bfd3-20a4-4e69-97bb-a4b935121b4d",
   "metadata": {},
   "outputs": [
    {
     "name": "stdout",
     "output_type": "stream",
     "text": [
      "Proporção de fraudes: 0.00173\n"
     ]
    }
   ],
   "source": [
    "fraud_ratio = df[df.Class == 1].shape[0]/df[df.Class == 0].shape[0]\n",
    "print(f'Proporção de fraudes: {fraud_ratio:.5f}')"
   ]
  },
  {
   "cell_type": "markdown",
   "id": "372cc443-1170-4f6f-a301-470f7bec6475",
   "metadata": {},
   "source": [
    "#### Verificar a distribuição do valor das transações ('Amount') para fraudes e não fraudes"
   ]
  },
  {
   "cell_type": "code",
   "execution_count": null,
   "id": "c5832c7f-bc5f-4ab1-8b8e-5ad89350079a",
   "metadata": {},
   "outputs": [],
   "source": []
  }
 ],
 "metadata": {
  "kernelspec": {
   "display_name": "Python 3 (ipykernel)",
   "language": "python",
   "name": "python3"
  },
  "language_info": {
   "codemirror_mode": {
    "name": "ipython",
    "version": 3
   },
   "file_extension": ".py",
   "mimetype": "text/x-python",
   "name": "python",
   "nbconvert_exporter": "python",
   "pygments_lexer": "ipython3",
   "version": "3.9.12"
  }
 },
 "nbformat": 4,
 "nbformat_minor": 5
}
