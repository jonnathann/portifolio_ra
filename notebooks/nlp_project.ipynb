{
 "cells": [
  {
   "cell_type": "markdown",
   "id": "91c962f4-d327-441d-9deb-043177c65f70",
   "metadata": {},
   "source": [
    "## Análise de Sentimentos com Transformers"
   ]
  },
  {
   "cell_type": "markdown",
   "id": "b266ea5a-7f7b-458a-b054-ba26b4502867",
   "metadata": {},
   "source": [
    "#### Importando dataset da Amazon"
   ]
  },
  {
   "cell_type": "code",
   "execution_count": 5,
   "id": "e1b185de-84fe-40c8-b23d-35404c1abfb3",
   "metadata": {
    "scrolled": true
   },
   "outputs": [
    {
     "data": {
      "application/vnd.jupyter.widget-view+json": {
       "model_id": "ad8be2c971d943b58697df729ade463c",
       "version_major": 2,
       "version_minor": 0
      },
      "text/plain": [
       "README.md:   0%|          | 0.00/6.81k [00:00<?, ?B/s]"
      ]
     },
     "metadata": {},
     "output_type": "display_data"
    },
    {
     "data": {
      "application/vnd.jupyter.widget-view+json": {
       "model_id": "888550c8833945a6be4664779abf9710",
       "version_major": 2,
       "version_minor": 0
      },
      "text/plain": [
       "train-00000-of-00004.parquet:   0%|          | 0.00/260M [00:00<?, ?B/s]"
      ]
     },
     "metadata": {},
     "output_type": "display_data"
    },
    {
     "data": {
      "application/vnd.jupyter.widget-view+json": {
       "model_id": "3173a040266d4543b166d566514d9c9d",
       "version_major": 2,
       "version_minor": 0
      },
      "text/plain": [
       "train-00001-of-00004.parquet:   0%|          | 0.00/258M [00:00<?, ?B/s]"
      ]
     },
     "metadata": {},
     "output_type": "display_data"
    },
    {
     "data": {
      "application/vnd.jupyter.widget-view+json": {
       "model_id": "db8e0e87fe174819b314d7c67890a039",
       "version_major": 2,
       "version_minor": 0
      },
      "text/plain": [
       "train-00002-of-00004.parquet:   0%|          | 0.00/255M [00:00<?, ?B/s]"
      ]
     },
     "metadata": {},
     "output_type": "display_data"
    },
    {
     "data": {
      "application/vnd.jupyter.widget-view+json": {
       "model_id": "ba6732e9015940e6a145ae7bb6ec82e1",
       "version_major": 2,
       "version_minor": 0
      },
      "text/plain": [
       "train-00003-of-00004.parquet:   0%|          | 0.00/254M [00:00<?, ?B/s]"
      ]
     },
     "metadata": {},
     "output_type": "display_data"
    },
    {
     "data": {
      "application/vnd.jupyter.widget-view+json": {
       "model_id": "02d81486e8354535a3d9e2592bc0896e",
       "version_major": 2,
       "version_minor": 0
      },
      "text/plain": [
       "test-00000-of-00001.parquet:   0%|          | 0.00/117M [00:00<?, ?B/s]"
      ]
     },
     "metadata": {},
     "output_type": "display_data"
    },
    {
     "data": {
      "application/vnd.jupyter.widget-view+json": {
       "model_id": "bb7c76b2197d48e08afaba2aa3e0b947",
       "version_major": 2,
       "version_minor": 0
      },
      "text/plain": [
       "Generating train split:   0%|          | 0/3600000 [00:00<?, ? examples/s]"
      ]
     },
     "metadata": {},
     "output_type": "display_data"
    },
    {
     "data": {
      "application/vnd.jupyter.widget-view+json": {
       "model_id": "9a426d93ef3e4aae874af47489ceb1ae",
       "version_major": 2,
       "version_minor": 0
      },
      "text/plain": [
       "Generating test split:   0%|          | 0/400000 [00:00<?, ? examples/s]"
      ]
     },
     "metadata": {},
     "output_type": "display_data"
    }
   ],
   "source": [
    "from datasets import load_dataset\n",
    "\n",
    "dataset = load_dataset(\"amazon_polarity\")"
   ]
  },
  {
   "cell_type": "code",
   "execution_count": 9,
   "id": "36de476e-4c27-4d8e-bf00-c1d332caed09",
   "metadata": {},
   "outputs": [
    {
     "name": "stdout",
     "output_type": "stream",
     "text": [
      "label\n",
      "1    1800000\n",
      "0    1800000\n",
      "Name: count, dtype: int64\n",
      "label\n",
      "0    5000\n",
      "1    5000\n",
      "Name: count, dtype: int64\n",
      "         label                        title  \\\n",
      "3071567      1  Road to getting things done   \n",
      "3551226      0         The Weight Loss Cure   \n",
      "1551763      0         Royal Velvet Pillows   \n",
      "3021400      0       Great Book For Kiddies   \n",
      "2306845      0                   Digimortal   \n",
      "\n",
      "                                                   content  \n",
      "3071567  I am a great believer in valueing employees an...  \n",
      "3551226  This would be a good book. Good Ideas if every...  \n",
      "1551763  These pillows were over rated and the descript...  \n",
      "3021400  Robert Sawyer's books have featured an assortm...  \n",
      "2306845  You know, Fear Factory used to be my favorite ...  \n"
     ]
    }
   ],
   "source": [
    "from datasets import load_dataset\n",
    "import pandas as pd\n",
    "\n",
    "# Carregar o dataset\n",
    "dataset = load_dataset(\"amazon_polarity\")\n",
    "\n",
    "# Converter para pandas DataFrame\n",
    "df = pd.DataFrame(dataset[\"train\"])\n",
    "\n",
    "# Verificar a distribuição das classes\n",
    "class_counts = df['label'].value_counts()\n",
    "print(class_counts)\n",
    "\n",
    "# Balancear para 10k dados, pegando 5k de cada classe\n",
    "df_balanced = pd.concat([\n",
    "    df[df['label'] == 0].sample(n=5000, random_state=42),  # Classe negativa\n",
    "    df[df['label'] == 1].sample(n=5000, random_state=42)   # Classe positiva\n",
    "])\n",
    "\n",
    "# Verificar a nova distribuição\n",
    "print(df_balanced['label'].value_counts())\n",
    "\n",
    "# Selecionar as primeiras 10k amostras balanceadas\n",
    "df_balanced = df_balanced.sample(n=10000, random_state=42)"
   ]
  },
  {
   "cell_type": "code",
   "execution_count": 10,
   "id": "2f22c7e2-316e-46ad-a8a2-f286d0e25835",
   "metadata": {},
   "outputs": [
    {
     "data": {
      "text/html": [
       "<div>\n",
       "<style scoped>\n",
       "    .dataframe tbody tr th:only-of-type {\n",
       "        vertical-align: middle;\n",
       "    }\n",
       "\n",
       "    .dataframe tbody tr th {\n",
       "        vertical-align: top;\n",
       "    }\n",
       "\n",
       "    .dataframe thead th {\n",
       "        text-align: right;\n",
       "    }\n",
       "</style>\n",
       "<table border=\"1\" class=\"dataframe\">\n",
       "  <thead>\n",
       "    <tr style=\"text-align: right;\">\n",
       "      <th></th>\n",
       "      <th>label</th>\n",
       "      <th>title</th>\n",
       "      <th>content</th>\n",
       "    </tr>\n",
       "  </thead>\n",
       "  <tbody>\n",
       "    <tr>\n",
       "      <th>3071567</th>\n",
       "      <td>1</td>\n",
       "      <td>Road to getting things done</td>\n",
       "      <td>I am a great believer in valueing employees an...</td>\n",
       "    </tr>\n",
       "    <tr>\n",
       "      <th>3551226</th>\n",
       "      <td>0</td>\n",
       "      <td>The Weight Loss Cure</td>\n",
       "      <td>This would be a good book. Good Ideas if every...</td>\n",
       "    </tr>\n",
       "    <tr>\n",
       "      <th>1551763</th>\n",
       "      <td>0</td>\n",
       "      <td>Royal Velvet Pillows</td>\n",
       "      <td>These pillows were over rated and the descript...</td>\n",
       "    </tr>\n",
       "    <tr>\n",
       "      <th>3021400</th>\n",
       "      <td>0</td>\n",
       "      <td>Great Book For Kiddies</td>\n",
       "      <td>Robert Sawyer's books have featured an assortm...</td>\n",
       "    </tr>\n",
       "    <tr>\n",
       "      <th>2306845</th>\n",
       "      <td>0</td>\n",
       "      <td>Digimortal</td>\n",
       "      <td>You know, Fear Factory used to be my favorite ...</td>\n",
       "    </tr>\n",
       "    <tr>\n",
       "      <th>...</th>\n",
       "      <td>...</td>\n",
       "      <td>...</td>\n",
       "      <td>...</td>\n",
       "    </tr>\n",
       "    <tr>\n",
       "      <th>15604</th>\n",
       "      <td>1</td>\n",
       "      <td>Good</td>\n",
       "      <td>This is a nice trainer but it's noisier than e...</td>\n",
       "    </tr>\n",
       "    <tr>\n",
       "      <th>68917</th>\n",
       "      <td>1</td>\n",
       "      <td>The autobiography of an ex-coloured man</td>\n",
       "      <td>Would recommend this book to a lot of people a...</td>\n",
       "    </tr>\n",
       "    <tr>\n",
       "      <th>1365870</th>\n",
       "      <td>1</td>\n",
       "      <td>Wonderful Book! Couln't put it down!!!!!!!!!!!</td>\n",
       "      <td>This is one of the best books I have ever read...</td>\n",
       "    </tr>\n",
       "    <tr>\n",
       "      <th>3284310</th>\n",
       "      <td>0</td>\n",
       "      <td>lasted 1 week</td>\n",
       "      <td>I bought this item based on the pivoting plugs...</td>\n",
       "    </tr>\n",
       "    <tr>\n",
       "      <th>2274460</th>\n",
       "      <td>1</td>\n",
       "      <td>Sparkling Debut of New Author</td>\n",
       "      <td>Having read many novels of this genre, I was p...</td>\n",
       "    </tr>\n",
       "  </tbody>\n",
       "</table>\n",
       "<p>10000 rows × 3 columns</p>\n",
       "</div>"
      ],
      "text/plain": [
       "         label                                           title  \\\n",
       "3071567      1                     Road to getting things done   \n",
       "3551226      0                            The Weight Loss Cure   \n",
       "1551763      0                            Royal Velvet Pillows   \n",
       "3021400      0                          Great Book For Kiddies   \n",
       "2306845      0                                      Digimortal   \n",
       "...        ...                                             ...   \n",
       "15604        1                                            Good   \n",
       "68917        1         The autobiography of an ex-coloured man   \n",
       "1365870      1  Wonderful Book! Couln't put it down!!!!!!!!!!!   \n",
       "3284310      0                                   lasted 1 week   \n",
       "2274460      1                   Sparkling Debut of New Author   \n",
       "\n",
       "                                                   content  \n",
       "3071567  I am a great believer in valueing employees an...  \n",
       "3551226  This would be a good book. Good Ideas if every...  \n",
       "1551763  These pillows were over rated and the descript...  \n",
       "3021400  Robert Sawyer's books have featured an assortm...  \n",
       "2306845  You know, Fear Factory used to be my favorite ...  \n",
       "...                                                    ...  \n",
       "15604    This is a nice trainer but it's noisier than e...  \n",
       "68917    Would recommend this book to a lot of people a...  \n",
       "1365870  This is one of the best books I have ever read...  \n",
       "3284310  I bought this item based on the pivoting plugs...  \n",
       "2274460  Having read many novels of this genre, I was p...  \n",
       "\n",
       "[10000 rows x 3 columns]"
      ]
     },
     "execution_count": 10,
     "metadata": {},
     "output_type": "execute_result"
    }
   ],
   "source": [
    "df_balanced"
   ]
  }
 ],
 "metadata": {
  "kernelspec": {
   "display_name": "Python 3 (ipykernel)",
   "language": "python",
   "name": "python3"
  },
  "language_info": {
   "codemirror_mode": {
    "name": "ipython",
    "version": 3
   },
   "file_extension": ".py",
   "mimetype": "text/x-python",
   "name": "python",
   "nbconvert_exporter": "python",
   "pygments_lexer": "ipython3",
   "version": "3.9.12"
  }
 },
 "nbformat": 4,
 "nbformat_minor": 5
}
