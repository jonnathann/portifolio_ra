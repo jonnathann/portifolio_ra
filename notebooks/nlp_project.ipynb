{
 "cells": [
  {
   "cell_type": "markdown",
   "id": "91c962f4-d327-441d-9deb-043177c65f70",
   "metadata": {},
   "source": [
    "## Análise de Sentimentos com Transformers"
   ]
  },
  {
   "cell_type": "markdown",
   "id": "b266ea5a-7f7b-458a-b054-ba26b4502867",
   "metadata": {},
   "source": [
    "#### Importando dataset da Amazon"
   ]
  },
  {
   "cell_type": "code",
   "execution_count": 1,
   "id": "e1b185de-84fe-40c8-b23d-35404c1abfb3",
   "metadata": {
    "scrolled": true
   },
   "outputs": [],
   "source": [
    "from datasets import load_dataset\n",
    "\n",
    "dataset = load_dataset(\"amazon_polarity\")"
   ]
  },
  {
   "cell_type": "markdown",
   "id": "5a26e284-f076-444f-a3c4-c0ac0b06451d",
   "metadata": {},
   "source": [
    "#### Converter para pandas DataFrame"
   ]
  },
  {
   "cell_type": "code",
   "execution_count": 3,
   "id": "36de476e-4c27-4d8e-bf00-c1d332caed09",
   "metadata": {},
   "outputs": [],
   "source": [
    "import pandas as pd\n",
    "\n",
    "df = pd.DataFrame(dataset[\"train\"])"
   ]
  },
  {
   "cell_type": "markdown",
   "id": "900d9cb9-08fe-4b0c-b252-58d7daab0e3f",
   "metadata": {},
   "source": [
    "#### Verificar a distribuição das classes"
   ]
  },
  {
   "cell_type": "code",
   "execution_count": 6,
   "id": "6deb175c-98c3-41a9-80bd-a80943924b80",
   "metadata": {},
   "outputs": [
    {
     "data": {
      "text/plain": [
       "label\n",
       "1    1800000\n",
       "0    1800000\n",
       "Name: count, dtype: int64"
      ]
     },
     "execution_count": 6,
     "metadata": {},
     "output_type": "execute_result"
    }
   ],
   "source": [
    "class_counts = df['label'].value_counts()\n",
    "class_counts"
   ]
  },
  {
   "cell_type": "markdown",
   "id": "5d5076e6-49a5-4177-b291-ef3ac617d99d",
   "metadata": {},
   "source": [
    "#### Obtendo uma amostra de 10 mil linhas de dados, balanceado com cada classe contendo 5 mil observações cada"
   ]
  },
  {
   "cell_type": "code",
   "execution_count": 12,
   "id": "2f22c7e2-316e-46ad-a8a2-f286d0e25835",
   "metadata": {},
   "outputs": [],
   "source": [
    "# Balancear para 10k dados, pegando 5k de cada classe\n",
    "df_balanced = pd.concat([\n",
    "    df[df['label'] == 0].sample(n=5000, random_state=42),  # Classe negativa\n",
    "    df[df['label'] == 1].sample(n=5000, random_state=42)   # Classe positiva\n",
    "])\n",
    "\n",
    "# Selecionar as primeiras 10k amostras balanceadas\n",
    "df_balanced = df_balanced.sample(n=10000, random_state=42)\n",
    "\n",
    "#Salvando em um arquivo do tipo 'sample_amazon_polarity.csv'\n",
    "df_balanced.to_csv('../data/processed/sample_amazon_polarity.csv', index=False)"
   ]
  },
  {
   "cell_type": "markdown",
   "id": "be723f98-eca1-4e8f-a96d-76b8a748ebf1",
   "metadata": {},
   "source": [
    "#### Lendo a amostra que criamos no salva na pasta processed"
   ]
  },
  {
   "cell_type": "code",
   "execution_count": 14,
   "id": "37523b03-0913-475d-a303-414777feabf6",
   "metadata": {},
   "outputs": [
    {
     "data": {
      "text/html": [
       "<div>\n",
       "<style scoped>\n",
       "    .dataframe tbody tr th:only-of-type {\n",
       "        vertical-align: middle;\n",
       "    }\n",
       "\n",
       "    .dataframe tbody tr th {\n",
       "        vertical-align: top;\n",
       "    }\n",
       "\n",
       "    .dataframe thead th {\n",
       "        text-align: right;\n",
       "    }\n",
       "</style>\n",
       "<table border=\"1\" class=\"dataframe\">\n",
       "  <thead>\n",
       "    <tr style=\"text-align: right;\">\n",
       "      <th></th>\n",
       "      <th>label</th>\n",
       "      <th>title</th>\n",
       "      <th>content</th>\n",
       "    </tr>\n",
       "  </thead>\n",
       "  <tbody>\n",
       "    <tr>\n",
       "      <th>0</th>\n",
       "      <td>1</td>\n",
       "      <td>Road to getting things done</td>\n",
       "      <td>I am a great believer in valueing employees an...</td>\n",
       "    </tr>\n",
       "    <tr>\n",
       "      <th>1</th>\n",
       "      <td>0</td>\n",
       "      <td>The Weight Loss Cure</td>\n",
       "      <td>This would be a good book. Good Ideas if every...</td>\n",
       "    </tr>\n",
       "    <tr>\n",
       "      <th>2</th>\n",
       "      <td>0</td>\n",
       "      <td>Royal Velvet Pillows</td>\n",
       "      <td>These pillows were over rated and the descript...</td>\n",
       "    </tr>\n",
       "    <tr>\n",
       "      <th>3</th>\n",
       "      <td>0</td>\n",
       "      <td>Great Book For Kiddies</td>\n",
       "      <td>Robert Sawyer's books have featured an assortm...</td>\n",
       "    </tr>\n",
       "    <tr>\n",
       "      <th>4</th>\n",
       "      <td>0</td>\n",
       "      <td>Digimortal</td>\n",
       "      <td>You know, Fear Factory used to be my favorite ...</td>\n",
       "    </tr>\n",
       "  </tbody>\n",
       "</table>\n",
       "</div>"
      ],
      "text/plain": [
       "   label                        title  \\\n",
       "0      1  Road to getting things done   \n",
       "1      0         The Weight Loss Cure   \n",
       "2      0         Royal Velvet Pillows   \n",
       "3      0       Great Book For Kiddies   \n",
       "4      0                   Digimortal   \n",
       "\n",
       "                                             content  \n",
       "0  I am a great believer in valueing employees an...  \n",
       "1  This would be a good book. Good Ideas if every...  \n",
       "2  These pillows were over rated and the descript...  \n",
       "3  Robert Sawyer's books have featured an assortm...  \n",
       "4  You know, Fear Factory used to be my favorite ...  "
      ]
     },
     "execution_count": 14,
     "metadata": {},
     "output_type": "execute_result"
    }
   ],
   "source": [
    "df_samples = pd.read_csv('../data/processed/sample_amazon_polarity.csv')\n",
    "df_samples.head()"
   ]
  }
 ],
 "metadata": {
  "kernelspec": {
   "display_name": "Python 3 (ipykernel)",
   "language": "python",
   "name": "python3"
  },
  "language_info": {
   "codemirror_mode": {
    "name": "ipython",
    "version": 3
   },
   "file_extension": ".py",
   "mimetype": "text/x-python",
   "name": "python",
   "nbconvert_exporter": "python",
   "pygments_lexer": "ipython3",
   "version": "3.9.12"
  }
 },
 "nbformat": 4,
 "nbformat_minor": 5
}
