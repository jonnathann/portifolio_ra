{
 "cells": [
  {
   "cell_type": "markdown",
   "id": "91c962f4-d327-441d-9deb-043177c65f70",
   "metadata": {},
   "source": [
    "## Análise de Sentimentos com Transformers"
   ]
  },
  {
   "cell_type": "markdown",
   "id": "7babca97-dce2-4fc9-8606-ba8ae3d14980",
   "metadata": {},
   "source": [
    "#### Contexto do Problema\n",
    "O problema em questão trata-se de classificação de textos. A tarefa consiste em analisar um conjunto de resenhas de livros e prever se a resenha é positiva ou negativa, baseado no conteúdo textual dessas resenhas. Este tipo de problema é típico em sistemas de recomendação, como os utilizados por plataformas como Amazon, Goodreads ou Google Play Books, que precisam identificar automaticamente a satisfação do cliente com base em suas avaliações.\n",
    "\n",
    "O objetivo do modelo é atribuir uma classe (positiva ou negativa) a cada resenha, usando o conteúdo textual como único atributo. A modelagem de tal problema envolve o uso de técnicas de Processamento de Linguagem Natural (PLN), como a transformação do texto em uma forma que possa ser lida por um modelo de aprendizado de máquina. Para isso, utilizamos vetores de palavras e abordagens como TF-IDF (Term Frequency - Inverse Document Frequency) para extrair as características mais relevantes de cada resenha.\n",
    "\n",
    "O sucesso deste tipo de tarefa tem aplicações amplas, desde a filtragem de conteúdo até a recomendação personalizada e a análise de sentimentos, onde a precisão do modelo é importante para garantir a fidelidade das análises geradas a partir das resenhas dos usuários."
   ]
  },
  {
   "cell_type": "markdown",
   "id": "6f539c8c-7483-4e8f-8e1b-c0213233b776",
   "metadata": {},
   "source": [
    "#### Descrição do Conjunto de Dados: Amazon Polarity\n",
    "O conjunto de dados Amazon Polarity é uma coleção de resenhas de produtos extraídas de comentários de usuários na Amazon, com o objetivo de realizar a análise de sentimentos. O conjunto contém textos de resenhas que foram classificados como positivos ou negativos com base na opinião expressa pelo usuário. Cada resenha está rotulada com um valor binário: 0 para resenhas negativas e 1 para resenhas positivas.\n",
    "\n",
    "O conjunto de dados é um recurso muito utilizado em tarefas de classificação de sentimentos e análise de texto, e é ideal para treinar e testar modelos de aprendizado de máquina que buscam identificar automaticamente se uma opinião expressa em uma resenha é favorável ou desfavorável. Com isso, o modelo pode ser utilizado para prever a polaridade de novos comentários ou resenhas.\n",
    "\n",
    "#### Características do Conjunto de Dados:\n",
    "##### Tamanho: O conjunto de dados é composto por milhares de resenhas, com rótulos binários indicando se a resenha é positiva (1) ou negativa (0).\n",
    "\n",
    "##### Texto da Resenha: Cada amostra contém um texto de resenha escrito por um usuário da Amazon. O conteúdo dessas resenhas varia muito em termos de comprimento e tópicos, pois os produtos abrangem uma ampla gama de categorias, como eletrônicos, roupas, acessórios, livros, e muito mais.\n",
    "\n",
    "##### Polaridade: A principal característica é a polaridade da resenha, onde o modelo precisa prever se a opinião do usuário é positiva ou negativa com base no conteúdo da resenha.\n",
    "\n",
    "##### Aplicações:\n",
    "Análise de Sentimentos: O principal objetivo desse conjunto de dados é classificar as opiniões dos consumidores de maneira automática, sem necessidade de leitura manual de cada resenha.\n",
    "Sistemas de Recomendação: Compreender a opinião dos consumidores sobre determinados produtos pode ser usado para ajustar e melhorar sistemas de recomendação em plataformas de e-commerce.\n",
    "Análise de Feedback: A análise automática das resenhas pode proporcionar insights valiosos para empresas, permitindo-lhes entender melhor a satisfação do cliente e identificar áreas de melhoria nos produtos.\n",
    "\n",
    "Os modelos utilizados nesse estudo foram então treinados para prever a classe da resenha, e os seguintes algoritmos foram avaliados no conjunto de dados:\n",
    "\n",
    "##### Regressão Logística\n",
    "\n",
    "##### Máquina de Vetores de Suporte (SVM)\n",
    "\n",
    "##### XGBoost\n",
    "\n",
    "##### Random Forest\n",
    "\n",
    "Os resultados de cada modelo foram avaliados com métricas como acurácia, precisão, recall e f1-score e curva AUC para garantir uma análise mais equilibrada, considerando não apenas a taxa de acertos, mas também a performance do modelo nas classes positivas e negativas."
   ]
  },
  {
   "cell_type": "markdown",
   "id": "b266ea5a-7f7b-458a-b054-ba26b4502867",
   "metadata": {},
   "source": [
    "#### Importando dataset da Amazon: Amazon Polarity"
   ]
  },
  {
   "cell_type": "raw",
   "id": "6b858a49-26a2-4ad5-b081-e4c1ba79e5dd",
   "metadata": {
    "scrolled": true
   },
   "source": [
    "from datasets import load_dataset\n",
    "\n",
    "dataset = load_dataset(\"amazon_polarity\")"
   ]
  },
  {
   "cell_type": "markdown",
   "id": "5a26e284-f076-444f-a3c4-c0ac0b06451d",
   "metadata": {},
   "source": [
    "#### Converter para pandas DataFrame"
   ]
  },
  {
   "cell_type": "raw",
   "id": "2b9be387-227a-4988-85f2-6cb04954529f",
   "metadata": {},
   "source": [
    "import pandas as pd\n",
    "\n",
    "df = pd.DataFrame(dataset[\"train\"])"
   ]
  },
  {
   "cell_type": "markdown",
   "id": "900d9cb9-08fe-4b0c-b252-58d7daab0e3f",
   "metadata": {},
   "source": [
    "#### Verificar a distribuição das classes"
   ]
  },
  {
   "cell_type": "raw",
   "id": "b149abea-550a-4d8c-a585-16f8ae85f7ec",
   "metadata": {},
   "source": [
    "class_counts = df['label'].value_counts()\n",
    "class_counts"
   ]
  },
  {
   "cell_type": "markdown",
   "id": "5d5076e6-49a5-4177-b291-ef3ac617d99d",
   "metadata": {},
   "source": [
    "#### Obtendo uma amostra dos dados balanceado"
   ]
  },
  {
   "cell_type": "raw",
   "id": "b530d9fc-82c7-4318-9ec5-cd1f3a2f3b06",
   "metadata": {},
   "source": [
    "# Balancear para 10k dados, pegando 5k de cada classe\n",
    "df_balanced = pd.concat([\n",
    "    df[df['label'] == 0].sample(n=5000, random_state=42),  # Classe negativa\n",
    "    df[df['label'] == 1].sample(n=5000, random_state=42)   # Classe positiva\n",
    "])\n",
    "\n",
    "# Selecionar as primeiras 10k amostras balanceadas\n",
    "df_balanced = df_balanced.sample(n=10000, random_state=42)\n",
    "\n",
    "#Salvando em um arquivo do tipo 'sample_amazon_polarity.csv'\n",
    "df_balanced.to_csv('../data/processed/sample_amazon_polarity.csv', index=False)"
   ]
  },
  {
   "cell_type": "markdown",
   "id": "be723f98-eca1-4e8f-a96d-76b8a748ebf1",
   "metadata": {},
   "source": [
    "#### Lendo a amostra que criamos no salva na pasta processed"
   ]
  },
  {
   "cell_type": "code",
   "execution_count": 1,
   "id": "37523b03-0913-475d-a303-414777feabf6",
   "metadata": {},
   "outputs": [
    {
     "data": {
      "text/html": [
       "<div>\n",
       "<style scoped>\n",
       "    .dataframe tbody tr th:only-of-type {\n",
       "        vertical-align: middle;\n",
       "    }\n",
       "\n",
       "    .dataframe tbody tr th {\n",
       "        vertical-align: top;\n",
       "    }\n",
       "\n",
       "    .dataframe thead th {\n",
       "        text-align: right;\n",
       "    }\n",
       "</style>\n",
       "<table border=\"1\" class=\"dataframe\">\n",
       "  <thead>\n",
       "    <tr style=\"text-align: right;\">\n",
       "      <th></th>\n",
       "      <th>label</th>\n",
       "      <th>title</th>\n",
       "      <th>content</th>\n",
       "    </tr>\n",
       "  </thead>\n",
       "  <tbody>\n",
       "    <tr>\n",
       "      <th>0</th>\n",
       "      <td>1</td>\n",
       "      <td>Road to getting things done</td>\n",
       "      <td>I am a great believer in valueing employees an...</td>\n",
       "    </tr>\n",
       "    <tr>\n",
       "      <th>1</th>\n",
       "      <td>0</td>\n",
       "      <td>The Weight Loss Cure</td>\n",
       "      <td>This would be a good book. Good Ideas if every...</td>\n",
       "    </tr>\n",
       "    <tr>\n",
       "      <th>2</th>\n",
       "      <td>0</td>\n",
       "      <td>Royal Velvet Pillows</td>\n",
       "      <td>These pillows were over rated and the descript...</td>\n",
       "    </tr>\n",
       "    <tr>\n",
       "      <th>3</th>\n",
       "      <td>0</td>\n",
       "      <td>Great Book For Kiddies</td>\n",
       "      <td>Robert Sawyer's books have featured an assortm...</td>\n",
       "    </tr>\n",
       "    <tr>\n",
       "      <th>4</th>\n",
       "      <td>0</td>\n",
       "      <td>Digimortal</td>\n",
       "      <td>You know, Fear Factory used to be my favorite ...</td>\n",
       "    </tr>\n",
       "  </tbody>\n",
       "</table>\n",
       "</div>"
      ],
      "text/plain": [
       "   label                        title  \\\n",
       "0      1  Road to getting things done   \n",
       "1      0         The Weight Loss Cure   \n",
       "2      0         Royal Velvet Pillows   \n",
       "3      0       Great Book For Kiddies   \n",
       "4      0                   Digimortal   \n",
       "\n",
       "                                             content  \n",
       "0  I am a great believer in valueing employees an...  \n",
       "1  This would be a good book. Good Ideas if every...  \n",
       "2  These pillows were over rated and the descript...  \n",
       "3  Robert Sawyer's books have featured an assortm...  \n",
       "4  You know, Fear Factory used to be my favorite ...  "
      ]
     },
     "execution_count": 1,
     "metadata": {},
     "output_type": "execute_result"
    }
   ],
   "source": [
    "import pandas as pd\n",
    "\n",
    "df_samples = pd.read_csv('../data/processed/sample_amazon_polarity.csv')\n",
    "df_samples.head()"
   ]
  },
  {
   "cell_type": "markdown",
   "id": "2d26e341-d75b-40c0-a7ed-911aaceb8d02",
   "metadata": {},
   "source": [
    "#### Verificando quantidade de amostras, quantidade de colunas e quantidade de classes\n",
    "\n",
    "Aqui temos uma amostra de 10 mil observações, três colunas: label, title e content duas classes [0, 1]."
   ]
  },
  {
   "cell_type": "code",
   "execution_count": 2,
   "id": "cfcdcfee-b82e-4d93-955a-0b9277fbaa0b",
   "metadata": {},
   "outputs": [
    {
     "data": {
      "text/plain": [
       "(10000, 3)"
      ]
     },
     "execution_count": 2,
     "metadata": {},
     "output_type": "execute_result"
    }
   ],
   "source": [
    "df_samples.shape"
   ]
  },
  {
   "cell_type": "code",
   "execution_count": 3,
   "id": "b9e3e45c-63a0-4164-9d4c-2785a516481f",
   "metadata": {},
   "outputs": [
    {
     "data": {
      "text/plain": [
       "array([1, 0])"
      ]
     },
     "execution_count": 3,
     "metadata": {},
     "output_type": "execute_result"
    }
   ],
   "source": [
    "df_samples.label.unique()"
   ]
  },
  {
   "cell_type": "markdown",
   "id": "5cfbad58-22a1-4ff2-a29e-a14b08abc641",
   "metadata": {},
   "source": [
    "#### Análise Exploratória dos dados\n",
    "\n",
    "Aqui realizamos alguns tratamentos nos dados para o treinamento dos modelos"
   ]
  },
  {
   "cell_type": "markdown",
   "id": "0181d9a9-161f-4743-9568-7f9937422ddb",
   "metadata": {},
   "source": [
    "##### Função para limpeza dos dados"
   ]
  },
  {
   "cell_type": "code",
   "execution_count": 4,
   "id": "4262692a-6031-483d-9830-e5b52f1e31bc",
   "metadata": {},
   "outputs": [
    {
     "name": "stderr",
     "output_type": "stream",
     "text": [
      "[nltk_data] Downloading package stopwords to\n",
      "[nltk_data]     /home/jonnathann/nltk_data...\n",
      "[nltk_data]   Package stopwords is already up-to-date!\n",
      "[nltk_data] Downloading package punkt to /home/jonnathann/nltk_data...\n",
      "[nltk_data]   Package punkt is already up-to-date!\n",
      "[nltk_data] Downloading package wordnet to\n",
      "[nltk_data]     /home/jonnathann/nltk_data...\n",
      "[nltk_data]   Package wordnet is already up-to-date!\n",
      "[nltk_data] Downloading package punkt_tab to\n",
      "[nltk_data]     /home/jonnathann/nltk_data...\n",
      "[nltk_data]   Package punkt_tab is already up-to-date!\n"
     ]
    }
   ],
   "source": [
    "import pandas as pd\n",
    "import re\n",
    "import nltk\n",
    "from nltk.corpus import stopwords\n",
    "from nltk.stem import WordNetLemmatizer\n",
    "\n",
    "# Baixando o conjunto de stopwords\n",
    "nltk.download('stopwords')\n",
    "nltk.download('punkt')\n",
    "nltk.download('wordnet')\n",
    "nltk.download('punkt_tab')\n",
    "\n",
    "# Inicializando o lemmatizer\n",
    "lemmatizer = WordNetLemmatizer()\n",
    "\n",
    "# Função para limpar o texto\n",
    "def clean_text(text):\n",
    "    # 1. Remover links e emails\n",
    "    text = re.sub(r'http\\S+|www\\S+|@\\S+', '', text)\n",
    "\n",
    "    # 2. Remover caracteres especiais e números\n",
    "    text = re.sub(r'[^A-Za-z\\s]', '', text)\n",
    "\n",
    "    # 3. Converter o texto para minúsculas\n",
    "    text = text.lower()\n",
    "\n",
    "    # 4. Tokenização (separar em palavras)\n",
    "    words = nltk.word_tokenize(text)\n",
    "\n",
    "    # 5. Remover stopwords\n",
    "    stop_words = set(stopwords.words('english'))  # Para inglês. Para outro idioma, substitua aqui.\n",
    "    words = [word for word in words if word not in stop_words]\n",
    "\n",
    "    # 6. Lemmatização\n",
    "    words = [lemmatizer.lemmatize(word) for word in words]\n",
    "\n",
    "    # 7. Reconstruir o texto\n",
    "    return ' '.join(words)"
   ]
  },
  {
   "cell_type": "markdown",
   "id": "2c8b9b5e-1f8c-4b89-9f2f-938033023b90",
   "metadata": {},
   "source": [
    "##### Relizando limpeza dos dados "
   ]
  },
  {
   "cell_type": "code",
   "execution_count": 5,
   "id": "f0e173aa-4d1e-4b84-adbe-5e54397bc390",
   "metadata": {},
   "outputs": [
    {
     "data": {
      "text/html": [
       "<div>\n",
       "<style scoped>\n",
       "    .dataframe tbody tr th:only-of-type {\n",
       "        vertical-align: middle;\n",
       "    }\n",
       "\n",
       "    .dataframe tbody tr th {\n",
       "        vertical-align: top;\n",
       "    }\n",
       "\n",
       "    .dataframe thead th {\n",
       "        text-align: right;\n",
       "    }\n",
       "</style>\n",
       "<table border=\"1\" class=\"dataframe\">\n",
       "  <thead>\n",
       "    <tr style=\"text-align: right;\">\n",
       "      <th></th>\n",
       "      <th>title</th>\n",
       "      <th>cleaned_title</th>\n",
       "      <th>content</th>\n",
       "      <th>cleaned_content</th>\n",
       "    </tr>\n",
       "  </thead>\n",
       "  <tbody>\n",
       "    <tr>\n",
       "      <th>0</th>\n",
       "      <td>Road to getting things done</td>\n",
       "      <td>road getting thing done</td>\n",
       "      <td>I am a great believer in valueing employees an...</td>\n",
       "      <td>great believer valueing employee rewarding pro...</td>\n",
       "    </tr>\n",
       "    <tr>\n",
       "      <th>1</th>\n",
       "      <td>The Weight Loss Cure</td>\n",
       "      <td>weight loss cure</td>\n",
       "      <td>This would be a good book. Good Ideas if every...</td>\n",
       "      <td>would good book good idea everyone needed lose...</td>\n",
       "    </tr>\n",
       "    <tr>\n",
       "      <th>2</th>\n",
       "      <td>Royal Velvet Pillows</td>\n",
       "      <td>royal velvet pillow</td>\n",
       "      <td>These pillows were over rated and the descript...</td>\n",
       "      <td>pillow rated description amamzon accuratewe di...</td>\n",
       "    </tr>\n",
       "    <tr>\n",
       "      <th>3</th>\n",
       "      <td>Great Book For Kiddies</td>\n",
       "      <td>great book kiddy</td>\n",
       "      <td>Robert Sawyer's books have featured an assortm...</td>\n",
       "      <td>robert sawyer book featured assortment funny e...</td>\n",
       "    </tr>\n",
       "    <tr>\n",
       "      <th>4</th>\n",
       "      <td>Digimortal</td>\n",
       "      <td>digimortal</td>\n",
       "      <td>You know, Fear Factory used to be my favorite ...</td>\n",
       "      <td>know fear factory used favorite band album rea...</td>\n",
       "    </tr>\n",
       "  </tbody>\n",
       "</table>\n",
       "</div>"
      ],
      "text/plain": [
       "                         title            cleaned_title  \\\n",
       "0  Road to getting things done  road getting thing done   \n",
       "1         The Weight Loss Cure         weight loss cure   \n",
       "2         Royal Velvet Pillows      royal velvet pillow   \n",
       "3       Great Book For Kiddies         great book kiddy   \n",
       "4                   Digimortal               digimortal   \n",
       "\n",
       "                                             content  \\\n",
       "0  I am a great believer in valueing employees an...   \n",
       "1  This would be a good book. Good Ideas if every...   \n",
       "2  These pillows were over rated and the descript...   \n",
       "3  Robert Sawyer's books have featured an assortm...   \n",
       "4  You know, Fear Factory used to be my favorite ...   \n",
       "\n",
       "                                     cleaned_content  \n",
       "0  great believer valueing employee rewarding pro...  \n",
       "1  would good book good idea everyone needed lose...  \n",
       "2  pillow rated description amamzon accuratewe di...  \n",
       "3  robert sawyer book featured assortment funny e...  \n",
       "4  know fear factory used favorite band album rea...  "
      ]
     },
     "execution_count": 5,
     "metadata": {},
     "output_type": "execute_result"
    }
   ],
   "source": [
    "# Aplicando a limpeza tanto no 'title' quanto no 'context'\n",
    "df_samples['cleaned_title']  = df_samples['title'].apply(clean_text)\n",
    "df_samples['cleaned_content'] = df_samples['content'].apply(clean_text)\n",
    "\n",
    "df_samples[['title', 'cleaned_title', 'content', 'cleaned_content']].head()"
   ]
  },
  {
   "cell_type": "markdown",
   "id": "8fbdac31-ab58-488f-b23e-91ab8d599251",
   "metadata": {},
   "source": [
    "##### Concatenando o cleaned_title com o cleaned_content"
   ]
  },
  {
   "cell_type": "code",
   "execution_count": 6,
   "id": "7ee6970c-6368-49d4-bf7f-4bf41feb1c4e",
   "metadata": {},
   "outputs": [
    {
     "data": {
      "text/html": [
       "<div>\n",
       "<style scoped>\n",
       "    .dataframe tbody tr th:only-of-type {\n",
       "        vertical-align: middle;\n",
       "    }\n",
       "\n",
       "    .dataframe tbody tr th {\n",
       "        vertical-align: top;\n",
       "    }\n",
       "\n",
       "    .dataframe thead th {\n",
       "        text-align: right;\n",
       "    }\n",
       "</style>\n",
       "<table border=\"1\" class=\"dataframe\">\n",
       "  <thead>\n",
       "    <tr style=\"text-align: right;\">\n",
       "      <th></th>\n",
       "      <th>title_content</th>\n",
       "      <th>label</th>\n",
       "    </tr>\n",
       "  </thead>\n",
       "  <tbody>\n",
       "    <tr>\n",
       "      <th>0</th>\n",
       "      <td>road getting thing done great believer valuein...</td>\n",
       "      <td>1</td>\n",
       "    </tr>\n",
       "    <tr>\n",
       "      <th>1</th>\n",
       "      <td>weight loss cure would good book good idea eve...</td>\n",
       "      <td>0</td>\n",
       "    </tr>\n",
       "    <tr>\n",
       "      <th>2</th>\n",
       "      <td>royal velvet pillow pillow rated description a...</td>\n",
       "      <td>0</td>\n",
       "    </tr>\n",
       "    <tr>\n",
       "      <th>3</th>\n",
       "      <td>great book kiddy robert sawyer book featured a...</td>\n",
       "      <td>0</td>\n",
       "    </tr>\n",
       "    <tr>\n",
       "      <th>4</th>\n",
       "      <td>digimortal know fear factory used favorite ban...</td>\n",
       "      <td>0</td>\n",
       "    </tr>\n",
       "    <tr>\n",
       "      <th>...</th>\n",
       "      <td>...</td>\n",
       "      <td>...</td>\n",
       "    </tr>\n",
       "    <tr>\n",
       "      <th>9995</th>\n",
       "      <td>good nice trainer noisier expected also conven...</td>\n",
       "      <td>1</td>\n",
       "    </tr>\n",
       "    <tr>\n",
       "      <th>9996</th>\n",
       "      <td>autobiography excoloured man would recommend b...</td>\n",
       "      <td>1</td>\n",
       "    </tr>\n",
       "    <tr>\n",
       "      <th>9997</th>\n",
       "      <td>wonderful book coulnt put one best book ever r...</td>\n",
       "      <td>1</td>\n",
       "    </tr>\n",
       "    <tr>\n",
       "      <th>9998</th>\n",
       "      <td>lasted week bought item based pivoting plug gl...</td>\n",
       "      <td>0</td>\n",
       "    </tr>\n",
       "    <tr>\n",
       "      <th>9999</th>\n",
       "      <td>sparkling debut new author read many novel gen...</td>\n",
       "      <td>1</td>\n",
       "    </tr>\n",
       "  </tbody>\n",
       "</table>\n",
       "<p>10000 rows × 2 columns</p>\n",
       "</div>"
      ],
      "text/plain": [
       "                                          title_content  label\n",
       "0     road getting thing done great believer valuein...      1\n",
       "1     weight loss cure would good book good idea eve...      0\n",
       "2     royal velvet pillow pillow rated description a...      0\n",
       "3     great book kiddy robert sawyer book featured a...      0\n",
       "4     digimortal know fear factory used favorite ban...      0\n",
       "...                                                 ...    ...\n",
       "9995  good nice trainer noisier expected also conven...      1\n",
       "9996  autobiography excoloured man would recommend b...      1\n",
       "9997  wonderful book coulnt put one best book ever r...      1\n",
       "9998  lasted week bought item based pivoting plug gl...      0\n",
       "9999  sparkling debut new author read many novel gen...      1\n",
       "\n",
       "[10000 rows x 2 columns]"
      ]
     },
     "execution_count": 6,
     "metadata": {},
     "output_type": "execute_result"
    }
   ],
   "source": [
    "df_samples['title_content'] = df_samples['cleaned_title'] +' '+df_samples['cleaned_content']\n",
    "df_samples[['title_content', 'label']]"
   ]
  },
  {
   "cell_type": "markdown",
   "id": "91e609b7-9965-4a73-9094-30fdef404ea2",
   "metadata": {},
   "source": [
    "##### Vetorizando o texto\n",
    "\n",
    "Usamos o TFIDF para vetorizar os textos de cada observação"
   ]
  },
  {
   "cell_type": "code",
   "execution_count": 7,
   "id": "93c93764-7d77-4faf-ad15-bf9b83f6ad9c",
   "metadata": {},
   "outputs": [
    {
     "data": {
      "text/html": [
       "<div>\n",
       "<style scoped>\n",
       "    .dataframe tbody tr th:only-of-type {\n",
       "        vertical-align: middle;\n",
       "    }\n",
       "\n",
       "    .dataframe tbody tr th {\n",
       "        vertical-align: top;\n",
       "    }\n",
       "\n",
       "    .dataframe thead th {\n",
       "        text-align: right;\n",
       "    }\n",
       "</style>\n",
       "<table border=\"1\" class=\"dataframe\">\n",
       "  <thead>\n",
       "    <tr style=\"text-align: right;\">\n",
       "      <th></th>\n",
       "      <th>able</th>\n",
       "      <th>absolutely</th>\n",
       "      <th>account</th>\n",
       "      <th>accurate</th>\n",
       "      <th>across</th>\n",
       "      <th>act</th>\n",
       "      <th>acting</th>\n",
       "      <th>action</th>\n",
       "      <th>actor</th>\n",
       "      <th>actual</th>\n",
       "      <th>...</th>\n",
       "      <th>written</th>\n",
       "      <th>wrong</th>\n",
       "      <th>wrote</th>\n",
       "      <th>year</th>\n",
       "      <th>yes</th>\n",
       "      <th>yet</th>\n",
       "      <th>youll</th>\n",
       "      <th>young</th>\n",
       "      <th>youre</th>\n",
       "      <th>youve</th>\n",
       "    </tr>\n",
       "  </thead>\n",
       "  <tbody>\n",
       "    <tr>\n",
       "      <th>0</th>\n",
       "      <td>0.0</td>\n",
       "      <td>0.0</td>\n",
       "      <td>0.0</td>\n",
       "      <td>0.0</td>\n",
       "      <td>0.0</td>\n",
       "      <td>0.0</td>\n",
       "      <td>0.0</td>\n",
       "      <td>0.337877</td>\n",
       "      <td>0.0</td>\n",
       "      <td>0.0</td>\n",
       "      <td>...</td>\n",
       "      <td>0.0</td>\n",
       "      <td>0.0</td>\n",
       "      <td>0.0</td>\n",
       "      <td>0.0</td>\n",
       "      <td>0.0</td>\n",
       "      <td>0.0</td>\n",
       "      <td>0.0</td>\n",
       "      <td>0.0</td>\n",
       "      <td>0.000000</td>\n",
       "      <td>0.0</td>\n",
       "    </tr>\n",
       "    <tr>\n",
       "      <th>1</th>\n",
       "      <td>0.0</td>\n",
       "      <td>0.0</td>\n",
       "      <td>0.0</td>\n",
       "      <td>0.0</td>\n",
       "      <td>0.0</td>\n",
       "      <td>0.0</td>\n",
       "      <td>0.0</td>\n",
       "      <td>0.000000</td>\n",
       "      <td>0.0</td>\n",
       "      <td>0.0</td>\n",
       "      <td>...</td>\n",
       "      <td>0.0</td>\n",
       "      <td>0.0</td>\n",
       "      <td>0.0</td>\n",
       "      <td>0.0</td>\n",
       "      <td>0.0</td>\n",
       "      <td>0.0</td>\n",
       "      <td>0.0</td>\n",
       "      <td>0.0</td>\n",
       "      <td>0.000000</td>\n",
       "      <td>0.0</td>\n",
       "    </tr>\n",
       "    <tr>\n",
       "      <th>2</th>\n",
       "      <td>0.0</td>\n",
       "      <td>0.0</td>\n",
       "      <td>0.0</td>\n",
       "      <td>0.0</td>\n",
       "      <td>0.0</td>\n",
       "      <td>0.0</td>\n",
       "      <td>0.0</td>\n",
       "      <td>0.000000</td>\n",
       "      <td>0.0</td>\n",
       "      <td>0.0</td>\n",
       "      <td>...</td>\n",
       "      <td>0.0</td>\n",
       "      <td>0.0</td>\n",
       "      <td>0.0</td>\n",
       "      <td>0.0</td>\n",
       "      <td>0.0</td>\n",
       "      <td>0.0</td>\n",
       "      <td>0.0</td>\n",
       "      <td>0.0</td>\n",
       "      <td>0.000000</td>\n",
       "      <td>0.0</td>\n",
       "    </tr>\n",
       "    <tr>\n",
       "      <th>3</th>\n",
       "      <td>0.0</td>\n",
       "      <td>0.0</td>\n",
       "      <td>0.0</td>\n",
       "      <td>0.0</td>\n",
       "      <td>0.0</td>\n",
       "      <td>0.0</td>\n",
       "      <td>0.0</td>\n",
       "      <td>0.000000</td>\n",
       "      <td>0.0</td>\n",
       "      <td>0.0</td>\n",
       "      <td>...</td>\n",
       "      <td>0.0</td>\n",
       "      <td>0.0</td>\n",
       "      <td>0.0</td>\n",
       "      <td>0.0</td>\n",
       "      <td>0.0</td>\n",
       "      <td>0.0</td>\n",
       "      <td>0.0</td>\n",
       "      <td>0.0</td>\n",
       "      <td>0.000000</td>\n",
       "      <td>0.0</td>\n",
       "    </tr>\n",
       "    <tr>\n",
       "      <th>4</th>\n",
       "      <td>0.0</td>\n",
       "      <td>0.0</td>\n",
       "      <td>0.0</td>\n",
       "      <td>0.0</td>\n",
       "      <td>0.0</td>\n",
       "      <td>0.0</td>\n",
       "      <td>0.0</td>\n",
       "      <td>0.000000</td>\n",
       "      <td>0.0</td>\n",
       "      <td>0.0</td>\n",
       "      <td>...</td>\n",
       "      <td>0.0</td>\n",
       "      <td>0.0</td>\n",
       "      <td>0.0</td>\n",
       "      <td>0.0</td>\n",
       "      <td>0.0</td>\n",
       "      <td>0.0</td>\n",
       "      <td>0.0</td>\n",
       "      <td>0.0</td>\n",
       "      <td>0.129794</td>\n",
       "      <td>0.0</td>\n",
       "    </tr>\n",
       "  </tbody>\n",
       "</table>\n",
       "<p>5 rows × 1000 columns</p>\n",
       "</div>"
      ],
      "text/plain": [
       "   able  absolutely  account  accurate  across  act  acting    action  actor  \\\n",
       "0   0.0         0.0      0.0       0.0     0.0  0.0     0.0  0.337877    0.0   \n",
       "1   0.0         0.0      0.0       0.0     0.0  0.0     0.0  0.000000    0.0   \n",
       "2   0.0         0.0      0.0       0.0     0.0  0.0     0.0  0.000000    0.0   \n",
       "3   0.0         0.0      0.0       0.0     0.0  0.0     0.0  0.000000    0.0   \n",
       "4   0.0         0.0      0.0       0.0     0.0  0.0     0.0  0.000000    0.0   \n",
       "\n",
       "   actual  ...  written  wrong  wrote  year  yes  yet  youll  young     youre  \\\n",
       "0     0.0  ...      0.0    0.0    0.0   0.0  0.0  0.0    0.0    0.0  0.000000   \n",
       "1     0.0  ...      0.0    0.0    0.0   0.0  0.0  0.0    0.0    0.0  0.000000   \n",
       "2     0.0  ...      0.0    0.0    0.0   0.0  0.0  0.0    0.0    0.0  0.000000   \n",
       "3     0.0  ...      0.0    0.0    0.0   0.0  0.0  0.0    0.0    0.0  0.000000   \n",
       "4     0.0  ...      0.0    0.0    0.0   0.0  0.0  0.0    0.0    0.0  0.129794   \n",
       "\n",
       "   youve  \n",
       "0    0.0  \n",
       "1    0.0  \n",
       "2    0.0  \n",
       "3    0.0  \n",
       "4    0.0  \n",
       "\n",
       "[5 rows x 1000 columns]"
      ]
     },
     "execution_count": 7,
     "metadata": {},
     "output_type": "execute_result"
    }
   ],
   "source": [
    "from sklearn.feature_extraction.text import TfidfVectorizer\n",
    "\n",
    "# Inicializando o vetor TF-IDF\n",
    "tfidf = TfidfVectorizer(max_features=1000)  # max_features=5000 para pegar as 5000 palavras mais relevantes\n",
    "\n",
    "# Ajustando e transformando o texto (título + contexto) em uma matriz TF-IDF\n",
    "X = tfidf.fit_transform(df_samples['title_content'])\n",
    "\n",
    "# Convertendo para um DataFrame para visualização\n",
    "X_df = pd.DataFrame(X.toarray(), columns=tfidf.get_feature_names_out())\n",
    "\n",
    "# Visualizando as primeiras linhas\n",
    "X_df.head(5)"
   ]
  },
  {
   "cell_type": "markdown",
   "id": "9e82136c-f799-4349-82a8-3f40749484ca",
   "metadata": {},
   "source": [
    "#### Treinamento e análises dos modelos"
   ]
  },
  {
   "cell_type": "markdown",
   "id": "b1f7bd13-8ecc-49cd-a3d1-058f0aca1112",
   "metadata": {},
   "source": [
    "##### Separação do conjunto de dados em treino e teste"
   ]
  },
  {
   "cell_type": "code",
   "execution_count": 8,
   "id": "0deac860-1cca-4169-b3e7-4d759dd03323",
   "metadata": {},
   "outputs": [],
   "source": [
    "from sklearn.model_selection import train_test_split\n",
    "\n",
    "X = X  # Matriz de características gerada pelo TfidfVectorizer\n",
    "y = df_samples['label']  # As labels (classes) que você está tentando prever\n",
    "\n",
    "# Dividir os dados em treino e teste\n",
    "X_train, X_test, y_train, y_test = train_test_split(X, y, test_size=0.2, random_state=42)"
   ]
  },
  {
   "cell_type": "markdown",
   "id": "76153b52-dde2-496d-80d0-d75305128185",
   "metadata": {},
   "source": [
    "##### Modelo Logistic Regression"
   ]
  },
  {
   "cell_type": "code",
   "execution_count": 9,
   "id": "174653da-dad2-4f8c-9d96-26b27521f2b0",
   "metadata": {},
   "outputs": [
    {
     "name": "stdout",
     "output_type": "stream",
     "text": [
      "Acurácia do modelo: 0.836\n",
      "              precision    recall  f1-score   support\n",
      "\n",
      "           0       0.83      0.85      0.84      1013\n",
      "           1       0.84      0.83      0.83       987\n",
      "\n",
      "    accuracy                           0.84      2000\n",
      "   macro avg       0.84      0.84      0.84      2000\n",
      "weighted avg       0.84      0.84      0.84      2000\n",
      "\n"
     ]
    },
    {
     "data": {
      "image/png": "[encoded data removed]",
      "text/plain": [
       "<Figure size 800x600 with 1 Axes>"
      ]
     },
     "metadata": {},
     "output_type": "display_data"
    }
   ],
   "source": [
    "from sklearn.linear_model import LogisticRegression\n",
    "from sklearn.metrics import classification_report, accuracy_score\n",
    "from sklearn.metrics import roc_curve, auc, accuracy_score, classification_report\n",
    "import matplotlib.pyplot as plt\n",
    "\n",
    "\n",
    "# Instanciando o modelo\n",
    "model = LogisticRegression(max_iter=1000)\n",
    "\n",
    "# Treinando o modelo com os dados de treino\n",
    "model.fit(X_train, y_train)\n",
    "\n",
    "# Fazendo previsões\n",
    "y_pred_rf = model.predict(X_test)\n",
    "y_prob_rf = model.predict_proba(X_test)[:, 1]  # Pega as probabilidades da classe 1\n",
    "\n",
    "# Fazendo previsões com os dados de teste\n",
    "y_pred = model.predict(X_test)\n",
    "\n",
    "# Exibindo a acurácia\n",
    "print(f'Acurácia do modelo: {accuracy_score(y_test, y_pred)}')\n",
    "\n",
    "# Exibindo o relatório de classificação (precisão, recall, F1-score)\n",
    "print(classification_report(y_test, y_pred))\n",
    "\n",
    "# Calculando a curva ROC e AUC\n",
    "fpr_rf, tpr_rf, thresholds_rf = roc_curve(y_test, y_prob_rf)\n",
    "roc_auc_rf = auc(fpr_rf, tpr_rf)\n",
    "\n",
    "# Plotando a Curva ROC\n",
    "plt.figure(figsize=(8, 6))\n",
    "plt.plot(fpr_rf, tpr_rf, color='b', lw=2, label=f'Curva ROC (AUC = {roc_auc_rf:.2f})')\n",
    "plt.plot([0, 1], [0, 1], color='gray', linestyle='--')  # Linha de referência (caso aleatório)\n",
    "plt.xlim([0.0, 1.0])\n",
    "plt.ylim([0.0, 1.05])\n",
    "plt.xlabel('Taxa de Falsos Positivos (FPR)')\n",
    "plt.ylabel('Taxa de Verdadeiros Positivos (TPR)')\n",
    "plt.title('Curva ROC - Logistic Regression')\n",
    "plt.legend(loc='lower right')\n",
    "plt.show()"
   ]
  },
  {
   "cell_type": "markdown",
   "id": "54570d9f-359a-4115-8464-574de46d744d",
   "metadata": {},
   "source": [
    "##### Modelo Support Vector Machine"
   ]
  },
  {
   "cell_type": "code",
   "execution_count": 10,
   "id": "18047213-2e8f-4c6e-8af2-73d4374fd81e",
   "metadata": {},
   "outputs": [
    {
     "name": "stdout",
     "output_type": "stream",
     "text": [
      "Acurácia do modelo: 0.83\n",
      "              precision    recall  f1-score   support\n",
      "\n",
      "           0       0.82      0.85      0.84      1013\n",
      "           1       0.84      0.81      0.82       987\n",
      "\n",
      "    accuracy                           0.83      2000\n",
      "   macro avg       0.83      0.83      0.83      2000\n",
      "weighted avg       0.83      0.83      0.83      2000\n",
      "\n"
     ]
    },
    {
     "data": {
      "image/png": "[encoded data removed]",
      "text/plain": [
       "<Figure size 800x600 with 1 Axes>"
      ]
     },
     "metadata": {},
     "output_type": "display_data"
    }
   ],
   "source": [
    "from sklearn.svm import SVC\n",
    "from sklearn.metrics import accuracy_score, classification_report\n",
    "import matplotlib.pyplot as plt\n",
    "\n",
    "\n",
    "# Criação do modelo SVM com parâmetros padrão\n",
    "svm = SVC(random_state=42, probability=True)\n",
    "\n",
    "# Treinamento do modelo com os dados de treinamento\n",
    "svm.fit(X_train, y_train)\n",
    "\n",
    "# Previsões no conjunto de teste\n",
    "y_pred = svm.predict(X_test)\n",
    "\n",
    "# Fazendo previsões\n",
    "y_pred_rf = svm.predict(X_test)\n",
    "y_prob_rf = svm.predict_proba(X_test)[:, 1]  # Pega as probabilidades da classe 1\n",
    "\n",
    "# Avaliação do modelo\n",
    "print(f\"Acurácia do modelo: {accuracy_score(y_test, y_pred)}\")\n",
    "print(classification_report(y_test, y_pred))\n",
    "\n",
    "# Calculando a curva ROC e AUC\n",
    "fpr_rf, tpr_rf, thresholds_rf = roc_curve(y_test, y_prob_rf)\n",
    "roc_auc_rf = auc(fpr_rf, tpr_rf)\n",
    "\n",
    "# Plotando a Curva ROC\n",
    "plt.figure(figsize=(8, 6))\n",
    "plt.plot(fpr_rf, tpr_rf, color='b', lw=2, label=f'Curva ROC (AUC = {roc_auc_rf:.2f})')\n",
    "plt.plot([0, 1], [0, 1], color='gray', linestyle='--')  # Linha de referência (caso aleatório)\n",
    "plt.xlim([0.0, 1.0])\n",
    "plt.ylim([0.0, 1.05])\n",
    "plt.xlabel('Taxa de Falsos Positivos (FPR)')\n",
    "plt.ylabel('Taxa de Verdadeiros Positivos (TPR)')\n",
    "plt.title('Curva ROC - Support Vector Machine')\n",
    "plt.legend(loc='lower right')\n",
    "plt.show()"
   ]
  },
  {
   "cell_type": "markdown",
   "id": "b559b609-86a4-4cb0-9103-0c0bfe045e92",
   "metadata": {},
   "source": [
    "##### Modelo XGBoost"
   ]
  },
  {
   "cell_type": "code",
   "execution_count": 11,
   "id": "7aee9294-5ee8-4ae2-bd2a-ca2b62387d80",
   "metadata": {},
   "outputs": [
    {
     "name": "stdout",
     "output_type": "stream",
     "text": [
      "Acurácia do modelo: 0.8165\n",
      "              precision    recall  f1-score   support\n",
      "\n",
      "           0       0.81      0.83      0.82      1013\n",
      "           1       0.82      0.81      0.81       987\n",
      "\n",
      "    accuracy                           0.82      2000\n",
      "   macro avg       0.82      0.82      0.82      2000\n",
      "weighted avg       0.82      0.82      0.82      2000\n",
      "\n"
     ]
    },
    {
     "data": {
      "image/png": "[encoded data removed]",
      "text/plain": [
       "<Figure size 800x600 with 1 Axes>"
      ]
     },
     "metadata": {},
     "output_type": "display_data"
    }
   ],
   "source": [
    "from xgboost import XGBClassifier\n",
    "from sklearn.metrics import classification_report, accuracy_score\n",
    "import matplotlib.pyplot as plt\n",
    "\n",
    "\n",
    "# Criando o modelo XGBoost\n",
    "xgb = XGBClassifier(\n",
    "    n_estimators=200,      # Número de árvores\n",
    "    learning_rate=0.1,     # Taxa de aprendizado\n",
    "    max_depth=6,           # Profundidade máxima da árvore\n",
    "    subsample=0.8,         # Porcentagem de amostras usadas por árvore\n",
    "    colsample_bytree=0.8,  # Porcentagem de features usadas por árvore\n",
    "    eval_metric='logloss'  # Evita warnings sobre métricas\n",
    ")\n",
    "\n",
    "# Treinando o modelo\n",
    "xgb.fit(X_train, y_train)\n",
    "\n",
    "\n",
    "# Fazendo previsões\n",
    "y_pred_rf = xgb.predict(X_test)\n",
    "y_prob_rf = xgb.predict_proba(X_test)[:, 1]  # Pega as probabilidades da classe 1\n",
    "\n",
    "# Fazendo previsões\n",
    "y_pred = xgb.predict(X_test)\n",
    "\n",
    "# Avaliando o modelo\n",
    "print(\"Acurácia do modelo:\", accuracy_score(y_test, y_pred))\n",
    "print(classification_report(y_test, y_pred))\n",
    "\n",
    "# Calculando a curva ROC e AUC\n",
    "fpr_rf, tpr_rf, thresholds_rf = roc_curve(y_test, y_prob_rf)\n",
    "roc_auc_rf = auc(fpr_rf, tpr_rf)\n",
    "\n",
    "# Plotando a Curva ROC\n",
    "plt.figure(figsize=(8, 6))\n",
    "plt.plot(fpr_rf, tpr_rf, color='b', lw=2, label=f'Curva ROC (AUC = {roc_auc_rf:.2f})')\n",
    "plt.plot([0, 1], [0, 1], color='gray', linestyle='--')  # Linha de referência (caso aleatório)\n",
    "plt.xlim([0.0, 1.0])\n",
    "plt.ylim([0.0, 1.05])\n",
    "plt.xlabel('Taxa de Falsos Positivos (FPR)')\n",
    "plt.ylabel('Taxa de Verdadeiros Positivos (TPR)')\n",
    "plt.title('Curva ROC - XGBoost')\n",
    "plt.legend(loc='lower right')\n",
    "plt.show()"
   ]
  },
  {
   "cell_type": "markdown",
   "id": "c44d76ba-9763-43c9-9312-577684023593",
   "metadata": {},
   "source": [
    "##### Modelo Random Forest"
   ]
  },
  {
   "cell_type": "code",
   "execution_count": 12,
   "id": "ac4e74ad-1a9c-4903-a228-6f08944a6f0f",
   "metadata": {},
   "outputs": [
    {
     "name": "stdout",
     "output_type": "stream",
     "text": [
      "Acurácia do modelo: 0.8105\n",
      "              precision    recall  f1-score   support\n",
      "\n",
      "           0       0.82      0.81      0.81      1013\n",
      "           1       0.80      0.81      0.81       987\n",
      "\n",
      "    accuracy                           0.81      2000\n",
      "   macro avg       0.81      0.81      0.81      2000\n",
      "weighted avg       0.81      0.81      0.81      2000\n",
      "\n"
     ]
    },
    {
     "data": {
      "image/png": "[encoded data removed]",
      "text/plain": [
       "<Figure size 800x600 with 1 Axes>"
      ]
     },
     "metadata": {},
     "output_type": "display_data"
    }
   ],
   "source": [
    "from sklearn.ensemble import RandomForestClassifier\n",
    "from sklearn.metrics import roc_curve, auc, accuracy_score, classification_report\n",
    "import matplotlib.pyplot as plt\n",
    "\n",
    "# Criando e treinando o modelo Random Forest\n",
    "rf = RandomForestClassifier(n_estimators=200, max_depth=None, random_state=42, n_jobs=-1)\n",
    "rf.fit(X_train, y_train)\n",
    "\n",
    "# Fazendo previsões\n",
    "y_pred_rf = rf.predict(X_test)\n",
    "\n",
    "# Fazendo previsões\n",
    "y_pred_rf = rf.predict(X_test)\n",
    "y_prob_rf = rf.predict_proba(X_test)[:, 1]  # Pega as probabilidades da classe 1\n",
    "\n",
    "# Avaliando o modelo\n",
    "print(\"Acurácia do modelo: {:.4f}\".format(accuracy_score(y_test, y_pred_rf)))\n",
    "print(classification_report(y_test, y_pred_rf))\n",
    "\n",
    "# Calculando a curva ROC e AUC\n",
    "fpr_rf, tpr_rf, thresholds_rf = roc_curve(y_test, y_prob_rf)\n",
    "roc_auc_rf = auc(fpr_rf, tpr_rf)\n",
    "\n",
    "# Plotando a Curva ROC\n",
    "plt.figure(figsize=(8, 6))\n",
    "plt.plot(fpr_rf, tpr_rf, color='b', lw=2, label=f'Curva ROC (AUC = {roc_auc_rf:.2f})')\n",
    "plt.plot([0, 1], [0, 1], color='gray', linestyle='--')  # Linha de referência (caso aleatório)\n",
    "plt.xlim([0.0, 1.0])\n",
    "plt.ylim([0.0, 1.05])\n",
    "plt.xlabel('Taxa de Falsos Positivos (FPR)')\n",
    "plt.ylabel('Taxa de Verdadeiros Positivos (TPR)')\n",
    "plt.title('Curva ROC - Random Forest')\n",
    "plt.legend(loc='lower right')\n",
    "plt.show()"
   ]
  },
  {
   "cell_type": "markdown",
   "id": "b8c21ecc-dd01-46f5-b9cd-dec43f87f944",
   "metadata": {},
   "source": [
    "#### Resultados\n",
    "Neste trabalho, foi realizada uma análise de sentimentos em resenhas de produtos da Amazon, utilizando diferentes modelos de machine learning para prever a polaridade das avaliações (positiva ou negativa). Para isso, utilizamos quatro algoritmos principais: Regressão Logística, SVM (Máquina de Vetores de Suporte), XGBoost e Random Forest, comparando suas performances por meio de métricas de avaliação como Acurácia, Precision, Recall, F1-Score e AUC (Área sob a Curva ROC).\n",
    "\n",
    "Resultados dos Modelos\n",
    "\n",
    "##### Regressão Logística:\n",
    "\n",
    "Acurácia: 0.836\n",
    "\n",
    "AUC: 0.91\n",
    "\n",
    "A Regressão Logística obteve o melhor desempenho em termos de Acurácia entre os modelos avaliados. Embora tenha apresentado uma AUC de 0.91 (similar ao SVM), sua capacidade de fazer previsões corretas foi ligeiramente superior, atingindo 83.6% de acerto.\n",
    "\n",
    "##### SVM (Máquina de Vetores de Suporte):\n",
    "\n",
    "Acurácia: 0.\n",
    "\n",
    "AUC: 0.91\n",
    "\n",
    "O SVM apresentou a melhor AUC, com 0.91, indicando uma excelente capacidade de discriminação entre as classes. No entanto, sua Acurácia foi um pouco inferior à da Regressão Logística, com 83%. Mesmo assim, o SVM demonstrou bom desempenho em termos de Precision e Recall, sendo uma escolha robusta para este tipo de problema.\n",
    "\n",
    "##### XGBoost:\n",
    "\n",
    "Acurácia: 0.8165\n",
    "\n",
    "AUC: 0.90\n",
    "\n",
    "O modelo XGBoost teve uma Acurácia de 81.65%, ligeiramente inferior à da Regressão Logística. A AUC também foi de 0.90, indicando que o modelo tem um bom poder de discriminação entre as classes, embora não tenha superado o SVM em AUC.\n",
    "\n",
    "##### Random Forest:\n",
    "\n",
    "Acurácia: 0.8105\n",
    "\n",
    "AUC: 0.90\n",
    "\n",
    "A Random Forest teve uma Acurácia de 81.05%, ficando abaixo da Regressão Logística. No entanto, a AUC também foi de 0.90, indicando que a capacidade de distinguir entre as classes foi razoavelmente boa. O desempenho da Random Forest foi sólido, mas não foi capaz de superar os outros modelos em termos de acurácia ou AUC.\n",
    "\n",
    "#### Conclusões\n",
    "Com base nos resultados obtidos, com os parâmetros escolhidos, podemos observar que:\n",
    "\n",
    "O modelo de Regressão Logística apresentou o melhor desempenho geral em termos de acurácia, atingindo 83.6%, seguido pelo SVM, que teve a melhor AUC (0.91) e uma boa precisão e recall.\n",
    "O SVM mostrou-se bastante eficaz em termos de discriminação entre as classes, mas teve uma leve perda em Acurácia comparado à Regressão Logística.\n",
    "\n",
    "O XGBoost e a Random Forest também apresentaram resultados bastante sólidos, com Acurácias ao redor de 81% e boas AUCs de 0.90, mas não foram tão eficazes quanto os outros dois modelos."
   ]
  },
  {
   "cell_type": "code",
   "execution_count": 28,
   "id": "a90fe42b-3f82-4b5a-b9cd-f924b2f8c441",
   "metadata": {},
   "outputs": [
    {
     "name": "stderr",
     "output_type": "stream",
     "text": [
      "Some weights of BertForSequenceClassification were not initialized from the model checkpoint at bert-base-uncased and are newly initialized: ['classifier.bias', 'classifier.weight']\n",
      "You should probably TRAIN this model on a down-stream task to be able to use it for predictions and inference.\n",
      "/home/jonnathann/Documentos/portifolio_jonnathann/env_ra/lib/python3.9/site-packages/transformers/optimization.py:591: FutureWarning: This implementation of AdamW is deprecated and will be removed in a future version. Use the PyTorch implementation torch.optim.AdamW instead, or set `no_deprecation_warning=True` to disable this warning\n",
      "  warnings.warn(\n"
     ]
    },
    {
     "ename": "KeyboardInterrupt",
     "evalue": "",
     "output_type": "error",
     "traceback": [
      "\u001b[0;31m---------------------------------------------------------------------------\u001b[0m",
      "\u001b[0;31mKeyboardInterrupt\u001b[0m                         Traceback (most recent call last)",
      "Cell \u001b[0;32mIn[28], line 49\u001b[0m\n\u001b[1;32m     47\u001b[0m     outputs \u001b[38;5;241m=\u001b[39m model(input_ids, attention_mask\u001b[38;5;241m=\u001b[39mattention_mask, labels\u001b[38;5;241m=\u001b[39mlabels)\n\u001b[1;32m     48\u001b[0m     loss \u001b[38;5;241m=\u001b[39m outputs\u001b[38;5;241m.\u001b[39mloss\n\u001b[0;32m---> 49\u001b[0m     \u001b[43mloss\u001b[49m\u001b[38;5;241;43m.\u001b[39;49m\u001b[43mbackward\u001b[49m\u001b[43m(\u001b[49m\u001b[43m)\u001b[49m  \u001b[38;5;66;03m# Calcula o gradiente\u001b[39;00m\n\u001b[1;32m     50\u001b[0m     optimizer\u001b[38;5;241m.\u001b[39mstep()  \u001b[38;5;66;03m# Atualiza os pesos\u001b[39;00m\n\u001b[1;32m     52\u001b[0m \u001b[38;5;28mprint\u001b[39m(\u001b[38;5;124mf\u001b[39m\u001b[38;5;124m\"\u001b[39m\u001b[38;5;124mEpoch \u001b[39m\u001b[38;5;132;01m{\u001b[39;00mepoch\u001b[38;5;250m \u001b[39m\u001b[38;5;241m+\u001b[39m\u001b[38;5;250m \u001b[39m\u001b[38;5;241m1\u001b[39m\u001b[38;5;132;01m}\u001b[39;00m\u001b[38;5;124m: Loss \u001b[39m\u001b[38;5;132;01m{\u001b[39;00mloss\u001b[38;5;241m.\u001b[39mitem()\u001b[38;5;132;01m:\u001b[39;00m\u001b[38;5;124m.4f\u001b[39m\u001b[38;5;132;01m}\u001b[39;00m\u001b[38;5;124m\"\u001b[39m)\n",
      "File \u001b[0;32m~/Documentos/portifolio_jonnathann/env_ra/lib/python3.9/site-packages/torch/_tensor.py:522\u001b[0m, in \u001b[0;36mTensor.backward\u001b[0;34m(self, gradient, retain_graph, create_graph, inputs)\u001b[0m\n\u001b[1;32m    512\u001b[0m \u001b[38;5;28;01mif\u001b[39;00m has_torch_function_unary(\u001b[38;5;28mself\u001b[39m):\n\u001b[1;32m    513\u001b[0m     \u001b[38;5;28;01mreturn\u001b[39;00m handle_torch_function(\n\u001b[1;32m    514\u001b[0m         Tensor\u001b[38;5;241m.\u001b[39mbackward,\n\u001b[1;32m    515\u001b[0m         (\u001b[38;5;28mself\u001b[39m,),\n\u001b[0;32m   (...)\u001b[0m\n\u001b[1;32m    520\u001b[0m         inputs\u001b[38;5;241m=\u001b[39minputs,\n\u001b[1;32m    521\u001b[0m     )\n\u001b[0;32m--> 522\u001b[0m \u001b[43mtorch\u001b[49m\u001b[38;5;241;43m.\u001b[39;49m\u001b[43mautograd\u001b[49m\u001b[38;5;241;43m.\u001b[39;49m\u001b[43mbackward\u001b[49m\u001b[43m(\u001b[49m\n\u001b[1;32m    523\u001b[0m \u001b[43m    \u001b[49m\u001b[38;5;28;43mself\u001b[39;49m\u001b[43m,\u001b[49m\u001b[43m \u001b[49m\u001b[43mgradient\u001b[49m\u001b[43m,\u001b[49m\u001b[43m \u001b[49m\u001b[43mretain_graph\u001b[49m\u001b[43m,\u001b[49m\u001b[43m \u001b[49m\u001b[43mcreate_graph\u001b[49m\u001b[43m,\u001b[49m\u001b[43m \u001b[49m\u001b[43minputs\u001b[49m\u001b[38;5;241;43m=\u001b[39;49m\u001b[43minputs\u001b[49m\n\u001b[1;32m    524\u001b[0m \u001b[43m\u001b[49m\u001b[43m)\u001b[49m\n",
      "File \u001b[0;32m~/Documentos/portifolio_jonnathann/env_ra/lib/python3.9/site-packages/torch/autograd/__init__.py:266\u001b[0m, in \u001b[0;36mbackward\u001b[0;34m(tensors, grad_tensors, retain_graph, create_graph, grad_variables, inputs)\u001b[0m\n\u001b[1;32m    261\u001b[0m     retain_graph \u001b[38;5;241m=\u001b[39m create_graph\n\u001b[1;32m    263\u001b[0m \u001b[38;5;66;03m# The reason we repeat the same comment below is that\u001b[39;00m\n\u001b[1;32m    264\u001b[0m \u001b[38;5;66;03m# some Python versions print out the first line of a multi-line function\u001b[39;00m\n\u001b[1;32m    265\u001b[0m \u001b[38;5;66;03m# calls in the traceback and some print out the last line\u001b[39;00m\n\u001b[0;32m--> 266\u001b[0m \u001b[43mVariable\u001b[49m\u001b[38;5;241;43m.\u001b[39;49m\u001b[43m_execution_engine\u001b[49m\u001b[38;5;241;43m.\u001b[39;49m\u001b[43mrun_backward\u001b[49m\u001b[43m(\u001b[49m\u001b[43m  \u001b[49m\u001b[38;5;66;43;03m# Calls into the C++ engine to run the backward pass\u001b[39;49;00m\n\u001b[1;32m    267\u001b[0m \u001b[43m    \u001b[49m\u001b[43mtensors\u001b[49m\u001b[43m,\u001b[49m\n\u001b[1;32m    268\u001b[0m \u001b[43m    \u001b[49m\u001b[43mgrad_tensors_\u001b[49m\u001b[43m,\u001b[49m\n\u001b[1;32m    269\u001b[0m \u001b[43m    \u001b[49m\u001b[43mretain_graph\u001b[49m\u001b[43m,\u001b[49m\n\u001b[1;32m    270\u001b[0m \u001b[43m    \u001b[49m\u001b[43mcreate_graph\u001b[49m\u001b[43m,\u001b[49m\n\u001b[1;32m    271\u001b[0m \u001b[43m    \u001b[49m\u001b[43minputs\u001b[49m\u001b[43m,\u001b[49m\n\u001b[1;32m    272\u001b[0m \u001b[43m    \u001b[49m\u001b[43mallow_unreachable\u001b[49m\u001b[38;5;241;43m=\u001b[39;49m\u001b[38;5;28;43;01mTrue\u001b[39;49;00m\u001b[43m,\u001b[49m\n\u001b[1;32m    273\u001b[0m \u001b[43m    \u001b[49m\u001b[43maccumulate_grad\u001b[49m\u001b[38;5;241;43m=\u001b[39;49m\u001b[38;5;28;43;01mTrue\u001b[39;49;00m\u001b[43m,\u001b[49m\n\u001b[1;32m    274\u001b[0m \u001b[43m\u001b[49m\u001b[43m)\u001b[49m\n",
      "\u001b[0;31mKeyboardInterrupt\u001b[0m: "
     ]
    }
   ],
   "source": [
    "from transformers import AdamW, BertTokenizer, BertForSequenceClassification\n",
    "from torch.utils.data import DataLoader, TensorDataset\n",
    "import torch\n",
    "from sklearn.model_selection import train_test_split\n",
    "from sklearn.metrics import accuracy_score, classification_report\n",
    "\n",
    "# 1. Carregar o tokenizer e o modelo pré-treinado para classificação\n",
    "tokenizer = BertTokenizer.from_pretrained('bert-base-uncased')\n",
    "model = BertForSequenceClassification.from_pretrained('bert-base-uncased')\n",
    "\n",
    "# 2. Dividir seus dados em treino e teste\n",
    "X_train, X_test, y_train, y_test = train_test_split(df_samples['title_content'], df_samples['label'], test_size=0.2, random_state=42)\n",
    "\n",
    "# 3. Tokenizar os dados de treino e teste\n",
    "train_encodings = tokenizer(X_train.tolist(), padding=True, truncation=True, max_length=512, return_tensors=\"pt\")\n",
    "test_encodings = tokenizer(X_test.tolist(), padding=True, truncation=True, max_length=512, return_tensors=\"pt\")\n",
    "\n",
    "# 4. Converter y_train e y_test para tensores do tipo long\n",
    "train_labels = torch.tensor(y_train.values, dtype=torch.long)\n",
    "test_labels = torch.tensor(y_test.values, dtype=torch.long)\n",
    "\n",
    "# 5. Criar datasets e dataloaders para treino e teste\n",
    "train_dataset = TensorDataset(train_encodings['input_ids'], train_encodings['attention_mask'], train_labels)\n",
    "train_loader = DataLoader(train_dataset, batch_size=16, shuffle=True)\n",
    "\n",
    "test_dataset = TensorDataset(test_encodings['input_ids'], test_encodings['attention_mask'], test_labels)\n",
    "test_loader = DataLoader(test_dataset, batch_size=16)\n",
    "\n",
    "# 6. Definir dispositivo e mover o modelo para o dispositivo\n",
    "device = torch.device(\"cuda\" if torch.cuda.is_available() else \"cpu\")\n",
    "model.to(device)\n",
    "\n",
    "# 7. Definir o otimizador\n",
    "optimizer = AdamW(model.parameters(), lr=5e-5)\n",
    "\n",
    "# 8. Fine-tuning: Treinando o modelo por algumas épocas\n",
    "model.train()\n",
    "for epoch in range(3):  # Ajuste o número de épocas conforme necessário\n",
    "    for batch in train_loader:\n",
    "        input_ids, attention_mask, labels = batch\n",
    "        input_ids = input_ids.to(device)\n",
    "        attention_mask = attention_mask.to(device)\n",
    "        labels = labels.to(device)\n",
    "\n",
    "        # Forward pass\n",
    "        optimizer.zero_grad()  # Limpar gradientes anteriores\n",
    "        outputs = model(input_ids, attention_mask=attention_mask, labels=labels)\n",
    "        loss = outputs.loss\n",
    "        loss.backward()  # Calcula o gradiente\n",
    "        optimizer.step()  # Atualiza os pesos\n",
    "\n",
    "    print(f\"Epoch {epoch + 1}: Loss {loss.item():.4f}\")\n",
    "\n",
    "# 9. Avaliar o modelo no conjunto de teste\n",
    "model.eval()\n",
    "predictions, true_labels = [], []\n",
    "\n",
    "with torch.no_grad():\n",
    "    for batch in test_loader:\n",
    "        input_ids, attention_mask, labels = batch\n",
    "        input_ids = input_ids.to(device)\n",
    "        attention_mask = attention_mask.to(device)\n",
    "        labels = labels.to(device)\n",
    "\n",
    "        # Forward pass\n",
    "        outputs = model(input_ids, attention_mask=attention_mask)\n",
    "        logits = outputs.logits\n",
    "\n",
    "        # Obter as previsões\n",
    "        preds = torch.argmax(logits, dim=-1)\n",
    "        predictions.extend(preds.cpu().numpy())\n",
    "        true_labels.extend(labels.cpu().numpy())\n",
    "\n",
    "# 10. Avaliar o desempenho\n",
    "print(\"Acurácia do modelo: {:.4f}\".format(accuracy_score(true_labels, predictions)))\n",
    "print(classification_report(true_labels, predictions))"
   ]
  }
 ],
 "metadata": {
  "kernelspec": {
   "display_name": "Python 3 (ipykernel)",
   "language": "python",
   "name": "python3"
  },
  "language_info": {
   "codemirror_mode": {
    "name": "ipython",
    "version": 3
   },
   "file_extension": ".py",
   "mimetype": "text/x-python",
   "name": "python",
   "nbconvert_exporter": "python",
   "pygments_lexer": "ipython3",
   "version": "3.9.12"
  }
 },
 "nbformat": 4,
 "nbformat_minor": 5
}
