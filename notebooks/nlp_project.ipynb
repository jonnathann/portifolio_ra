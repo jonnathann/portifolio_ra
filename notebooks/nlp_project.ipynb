{
 "cells": [
  {
   "cell_type": "markdown",
   "id": "d273e7d3-ba1c-4f10-84be-3203b5324c87",
   "metadata": {},
   "source": [
    "# Classificação de Sentimentos com Modelos Supervisionados"
   ]
  },
  {
   "cell_type": "code",
   "execution_count": null,
   "id": "d5dc8b1f-cc03-4405-8882-c43b8ebf36d7",
   "metadata": {},
   "outputs": [],
   "source": [
    "#### 📘 Contexto do Problema\n",
    "\n",
    "O problema em questão trata-se de **classificação de textos**. A tarefa consiste em analisar um conjunto de **resenhas de livros** e prever se a resenha é **positiva ou negativa**, baseado no conteúdo textual dessas resenhas.\n",
    "\n",
    "Este tipo de problema é típico em **sistemas de recomendação**, como os utilizados por plataformas como **Amazon, Goodreads ou Google Play Books**, que precisam identificar automaticamente a satisfação do cliente com base em suas avaliações.\n",
    "\n",
    "O objetivo do modelo é atribuir uma **classe (positiva ou negativa)** a cada resenha, usando o **conteúdo textual** como único atributo. A modelagem deste problema envolve o uso de técnicas de **Processamento de Linguagem Natural (PLN)**, como a transformação do texto em uma forma compreensível por algoritmos de aprendizado de máquina. Para isso, utilizamos vetores de palavras e abordagens como **TF-IDF (Term Frequency - Inverse Document Frequency)** para extrair as características mais relevantes de cada resenha.\n",
    "\n",
    "O sucesso deste tipo de tarefa tem **aplicações amplas**, desde a **filtragem de conteúdo** até a **recomendação personalizada** e a **análise de sentimentos**, onde a **precisão do modelo** é importante para garantir a fidelidade das análises geradas a partir das resenhas dos usuários.\n",
    "\n",
    "---\n",
    "\n",
    "#### 📚 Descrição do Conjunto de Dados: *Amazon Polarity*\n",
    "\n",
    "O conjunto de dados **Amazon Polarity** é uma coleção de **resenhas de produtos extraídas da Amazon**, com o objetivo de realizar **análise de sentimentos**.\n",
    "\n",
    "Cada resenha foi classificada como **positiva ou negativa**, com base na opinião expressa pelo usuário:\n",
    "\n",
    "- `0` → Resenha **negativa**\n",
    "- `1` → Resenha **positiva**\n",
    "\n",
    "Este conjunto de dados é amplamente utilizado em tarefas de **classificação de sentimentos** e **análise de texto**, ideal para treinar e testar modelos de aprendizado de máquina com o propósito de **identificar automaticamente a polaridade** de novas resenhas.\n",
    "\n",
    "---\n",
    "\n",
    "#### 📌 Características do Conjunto de Dados\n",
    "\n",
    "- **🔢 Tamanho:**  \n",
    "  Contém **milhares de resenhas** rotuladas como positivas (1) ou negativas (0).\n",
    "\n",
    "- **📝 Texto da Resenha:**  \n",
    "  Cada amostra é composta por um **texto livre**, escrito por um usuário da Amazon. Os textos variam bastante em **tamanho e conteúdo**, abrangendo produtos como **eletrônicos, roupas, acessórios, livros** e muito mais.\n",
    "\n",
    "- **👍👎 Polaridade:**  \n",
    "  O modelo deve prever a **opinião (positiva ou negativa)** com base no texto.\n",
    "\n",
    "---\n",
    "\n",
    "#### 🛠️ Aplicações\n",
    "\n",
    "- **🔍 Análise de Sentimentos:**  \n",
    "  Classificação automática das opiniões dos consumidores, sem leitura manual.\n",
    "\n",
    "- **🤖 Sistemas de Recomendação:**  \n",
    "  Avaliações ajudam a ajustar algoritmos de recomendação em e-commerces.\n",
    "\n",
    "- **📈 Análise de Feedback:**  \n",
    "  Permite obter insights sobre a **satisfação do cliente** e **melhorias de produto**.\n",
    "\n",
    "---\n",
    "\n",
    "#### 🤖 Modelos Utilizados\n",
    "\n",
    "Os modelos foram treinados para prever a **classe da resenha (positiva ou negativa)**. Os seguintes algoritmos foram avaliados:\n",
    "\n",
    "- 🔹 **Regressão Logística**\n",
    "- 🔹 **Máquina de Vetores de Suporte (SVM)**\n",
    "- 🔹 **XGBoost**\n",
    "- 🔹 **Random Forest**\n",
    "\n",
    "---\n",
    "\n",
    "#### 📊 Avaliação dos Resultados\n",
    "\n",
    "Os resultados de cada modelo foram avaliados com as seguintes métricas:\n",
    "\n",
    "- **Acurácia**\n",
    "- **Precisão**\n",
    "- **Recall**\n",
    "- **F1-Score**\n",
    "- **Curva ROC / AUC**\n",
    "\n",
    "Essas métricas foram usadas para garantir uma **avaliação equilibrada** do desempenho dos modelos, considerando não apenas a taxa de acertos, mas também a performance em prever corretamente **ambas as classes**."
   ]
  },
  {
   "cell_type": "markdown",
   "id": "4bd28b4b-a207-447c-adba-54547e4c36a8",
   "metadata": {},
   "source": [
    "## Imports"
   ]
  },
  {
   "cell_type": "code",
   "execution_count": 32,
   "id": "e74d41d3-840f-4322-885e-60e1352e6203",
   "metadata": {},
   "outputs": [
    {
     "name": "stderr",
     "output_type": "stream",
     "text": [
      "[nltk_data] Downloading package stopwords to\n",
      "[nltk_data]     /home/jonnathann/nltk_data...\n",
      "[nltk_data]   Package stopwords is already up-to-date!\n",
      "[nltk_data] Downloading package punkt to /home/jonnathann/nltk_data...\n",
      "[nltk_data]   Package punkt is already up-to-date!\n",
      "[nltk_data] Downloading package wordnet to\n",
      "[nltk_data]     /home/jonnathann/nltk_data...\n",
      "[nltk_data]   Package wordnet is already up-to-date!\n"
     ]
    },
    {
     "data": {
      "text/plain": [
       "True"
      ]
     },
     "execution_count": 32,
     "metadata": {},
     "output_type": "execute_result"
    }
   ],
   "source": [
    "# Manipulação de dados\n",
    "import pandas as pd\n",
    "import numpy as np\n",
    "\n",
    "# Pré-processamento\n",
    "from sklearn.model_selection import train_test_split\n",
    "from sklearn.feature_extraction.text import TfidfVectorizer\n",
    "\n",
    "# Modelos\n",
    "from sklearn.linear_model import LogisticRegression\n",
    "from sklearn.naive_bayes import MultinomialNB\n",
    "from sklearn.ensemble import RandomForestClassifier\n",
    "from xgboost import XGBClassifier\n",
    "from sklearn.svm import SVC\n",
    "\n",
    "# Avaliação\n",
    "from sklearn.metrics import accuracy_score, classification_report, roc_curve, auc\n",
    "\n",
    "# Visualização\n",
    "import matplotlib.pyplot as plt\n",
    "from datasets import load_dataset\n",
    "\n",
    "#NLP\n",
    "import re\n",
    "import nltk\n",
    "from nltk.corpus import stopwords\n",
    "from nltk.stem import WordNetLemmatizer\n",
    "\n",
    "nltk.download('stopwords')\n",
    "nltk.download('punkt')\n",
    "nltk.download('wordnet')"
   ]
  },
  {
   "cell_type": "markdown",
   "id": "5736b08c-b79b-4c48-aa6c-5c23d1038cdb",
   "metadata": {},
   "source": [
    "## Leitura dataset geral"
   ]
  },
  {
   "cell_type": "code",
   "execution_count": 7,
   "id": "99ffd78d-1743-4cbc-9f4f-24dc45316d16",
   "metadata": {},
   "outputs": [],
   "source": [
    "dataset = load_dataset(\"amazon_polarity\")"
   ]
  },
  {
   "cell_type": "markdown",
   "id": "19c30323-ff68-4f2d-bb8b-58754fce1527",
   "metadata": {},
   "source": [
    "### Gerando Dataframe"
   ]
  },
  {
   "cell_type": "code",
   "execution_count": null,
   "id": "5ae7051b-685c-4114-a1be-c8231bd27162",
   "metadata": {},
   "outputs": [],
   "source": [
    "df = pd.DataFrame(dataset[\"train\"])\n",
    "df['label'].value_counts()"
   ]
  },
  {
   "cell_type": "markdown",
   "id": "aa3a7496-7505-4668-805c-59b17930da92",
   "metadata": {},
   "source": [
    "### Pegando uma amostra de dados menor para essa análise e salvando"
   ]
  },
  {
   "cell_type": "code",
   "execution_count": 10,
   "id": "e8443267-50bb-40d4-878e-ef57f10cbfe3",
   "metadata": {},
   "outputs": [],
   "source": [
    "df_balanced = pd.concat([\n",
    "    df[df['label'] == 0].sample(n=5000, random_state=42),\n",
    "    df[df['label'] == 1].sample(n=5000, random_state=42)\n",
    "])\n",
    "\n",
    "df_balanced = df_balanced.sample(n=10000, random_state=42)\n",
    "df_balanced.to_csv('../data/processed/sample_amazon_polarity.csv', index=False)"
   ]
  },
  {
   "cell_type": "markdown",
   "id": "7f52962f-3983-4ffc-ae88-f0b986c44cc3",
   "metadata": {},
   "source": [
    "### Lendo a amostra de dados em um novo DataFrame"
   ]
  },
  {
   "cell_type": "code",
   "execution_count": 17,
   "id": "1940c529-0ce2-4393-bbfa-3e92f61f2cd9",
   "metadata": {},
   "outputs": [
    {
     "data": {
      "text/html": [
       "<div>\n",
       "<style scoped>\n",
       "    .dataframe tbody tr th:only-of-type {\n",
       "        vertical-align: middle;\n",
       "    }\n",
       "\n",
       "    .dataframe tbody tr th {\n",
       "        vertical-align: top;\n",
       "    }\n",
       "\n",
       "    .dataframe thead th {\n",
       "        text-align: right;\n",
       "    }\n",
       "</style>\n",
       "<table border=\"1\" class=\"dataframe\">\n",
       "  <thead>\n",
       "    <tr style=\"text-align: right;\">\n",
       "      <th></th>\n",
       "      <th>label</th>\n",
       "      <th>title</th>\n",
       "      <th>content</th>\n",
       "    </tr>\n",
       "  </thead>\n",
       "  <tbody>\n",
       "    <tr>\n",
       "      <th>0</th>\n",
       "      <td>1</td>\n",
       "      <td>Road to getting things done</td>\n",
       "      <td>I am a great believer in valueing employees an...</td>\n",
       "    </tr>\n",
       "    <tr>\n",
       "      <th>1</th>\n",
       "      <td>0</td>\n",
       "      <td>The Weight Loss Cure</td>\n",
       "      <td>This would be a good book. Good Ideas if every...</td>\n",
       "    </tr>\n",
       "    <tr>\n",
       "      <th>2</th>\n",
       "      <td>0</td>\n",
       "      <td>Royal Velvet Pillows</td>\n",
       "      <td>These pillows were over rated and the descript...</td>\n",
       "    </tr>\n",
       "    <tr>\n",
       "      <th>3</th>\n",
       "      <td>0</td>\n",
       "      <td>Great Book For Kiddies</td>\n",
       "      <td>Robert Sawyer's books have featured an assortm...</td>\n",
       "    </tr>\n",
       "    <tr>\n",
       "      <th>4</th>\n",
       "      <td>0</td>\n",
       "      <td>Digimortal</td>\n",
       "      <td>You know, Fear Factory used to be my favorite ...</td>\n",
       "    </tr>\n",
       "  </tbody>\n",
       "</table>\n",
       "</div>"
      ],
      "text/plain": [
       "   label                        title  \\\n",
       "0      1  Road to getting things done   \n",
       "1      0         The Weight Loss Cure   \n",
       "2      0         Royal Velvet Pillows   \n",
       "3      0       Great Book For Kiddies   \n",
       "4      0                   Digimortal   \n",
       "\n",
       "                                             content  \n",
       "0  I am a great believer in valueing employees an...  \n",
       "1  This would be a good book. Good Ideas if every...  \n",
       "2  These pillows were over rated and the descript...  \n",
       "3  Robert Sawyer's books have featured an assortm...  \n",
       "4  You know, Fear Factory used to be my favorite ...  "
      ]
     },
     "execution_count": 17,
     "metadata": {},
     "output_type": "execute_result"
    }
   ],
   "source": [
    "df_samples = pd.read_csv('../data/processed/sample_amazon_polarity.csv')\n",
    "df_samples.head()"
   ]
  },
  {
   "cell_type": "code",
   "execution_count": 18,
   "id": "23c5a995-9ebf-4f10-bbf4-60778cd43fce",
   "metadata": {},
   "outputs": [
    {
     "data": {
      "text/plain": [
       "label\n",
       "1    5000\n",
       "0    5000\n",
       "Name: count, dtype: int64"
      ]
     },
     "execution_count": 18,
     "metadata": {},
     "output_type": "execute_result"
    }
   ],
   "source": [
    "df_samples['label'].value_counts()"
   ]
  },
  {
   "cell_type": "markdown",
   "id": "ad3e430f-a64a-4e6c-ac82-6c88a141d53c",
   "metadata": {},
   "source": [
    "### Verificando dimensões das classes"
   ]
  },
  {
   "cell_type": "code",
   "execution_count": 19,
   "id": "9fa63eda-df82-44d0-b88e-303a89ba48c5",
   "metadata": {},
   "outputs": [
    {
     "data": {
      "text/plain": [
       "array([1, 0])"
      ]
     },
     "execution_count": 19,
     "metadata": {},
     "output_type": "execute_result"
    }
   ],
   "source": [
    "df_samples.shape\n",
    "df_samples.label.unique()"
   ]
  },
  {
   "cell_type": "markdown",
   "id": "39da3e0c-03d6-42f7-a86c-4d575f6ff3c3",
   "metadata": {},
   "source": [
    "## Análise Exploratória e Limpeza dos Dados"
   ]
  },
  {
   "cell_type": "markdown",
   "id": "1536e087-7692-43d6-a6dd-162a04a33679",
   "metadata": {},
   "source": [
    "### Aplicando limpeza dos dados"
   ]
  },
  {
   "cell_type": "code",
   "execution_count": 22,
   "id": "fa906cbb-bc6f-49c4-8d1a-32cfc3044020",
   "metadata": {},
   "outputs": [],
   "source": [
    "lemmatizer = WordNetLemmatizer()\n",
    "\n",
    "def clean_text(text):\n",
    "    text = re.sub(r'http\\S+|www\\S+|@\\S+', '', text)\n",
    "    text = re.sub(r'[^A-Za-z\\s]', '', text)\n",
    "    text = text.lower()\n",
    "    words = nltk.word_tokenize(text)\n",
    "    stop_words = set(stopwords.words('english'))\n",
    "    words = [word for word in words if word not in stop_words]\n",
    "    words = [lemmatizer.lemmatize(word) for word in words]\n",
    "    return ' '.join(words)"
   ]
  },
  {
   "cell_type": "code",
   "execution_count": 23,
   "id": "cfa85c1c-b970-4143-a12b-55c5e1136754",
   "metadata": {},
   "outputs": [],
   "source": [
    "df_samples['cleaned_title'] = df_samples['title'].apply(clean_text)\n",
    "df_samples['cleaned_content'] = df_samples['content'].apply(clean_text)"
   ]
  },
  {
   "cell_type": "markdown",
   "id": "feb24873-1d67-44d3-8d16-733a7e4280e1",
   "metadata": {},
   "source": [
    "### Concatenando cleaned_title e cleaned_content"
   ]
  },
  {
   "cell_type": "code",
   "execution_count": 25,
   "id": "11241ed8-f9cc-44bc-b94b-b61f0e7ae503",
   "metadata": {},
   "outputs": [
    {
     "data": {
      "text/html": [
       "<div>\n",
       "<style scoped>\n",
       "    .dataframe tbody tr th:only-of-type {\n",
       "        vertical-align: middle;\n",
       "    }\n",
       "\n",
       "    .dataframe tbody tr th {\n",
       "        vertical-align: top;\n",
       "    }\n",
       "\n",
       "    .dataframe thead th {\n",
       "        text-align: right;\n",
       "    }\n",
       "</style>\n",
       "<table border=\"1\" class=\"dataframe\">\n",
       "  <thead>\n",
       "    <tr style=\"text-align: right;\">\n",
       "      <th></th>\n",
       "      <th>label</th>\n",
       "      <th>title</th>\n",
       "      <th>content</th>\n",
       "      <th>cleaned_title</th>\n",
       "      <th>cleaned_content</th>\n",
       "      <th>title_content</th>\n",
       "    </tr>\n",
       "  </thead>\n",
       "  <tbody>\n",
       "    <tr>\n",
       "      <th>0</th>\n",
       "      <td>1</td>\n",
       "      <td>Road to getting things done</td>\n",
       "      <td>I am a great believer in valueing employees an...</td>\n",
       "      <td>road getting thing done</td>\n",
       "      <td>great believer valueing employee rewarding pro...</td>\n",
       "      <td>road getting thing done great believer valuein...</td>\n",
       "    </tr>\n",
       "    <tr>\n",
       "      <th>1</th>\n",
       "      <td>0</td>\n",
       "      <td>The Weight Loss Cure</td>\n",
       "      <td>This would be a good book. Good Ideas if every...</td>\n",
       "      <td>weight loss cure</td>\n",
       "      <td>would good book good idea everyone needed lose...</td>\n",
       "      <td>weight loss cure would good book good idea eve...</td>\n",
       "    </tr>\n",
       "    <tr>\n",
       "      <th>2</th>\n",
       "      <td>0</td>\n",
       "      <td>Royal Velvet Pillows</td>\n",
       "      <td>These pillows were over rated and the descript...</td>\n",
       "      <td>royal velvet pillow</td>\n",
       "      <td>pillow rated description amamzon accuratewe di...</td>\n",
       "      <td>royal velvet pillow pillow rated description a...</td>\n",
       "    </tr>\n",
       "    <tr>\n",
       "      <th>3</th>\n",
       "      <td>0</td>\n",
       "      <td>Great Book For Kiddies</td>\n",
       "      <td>Robert Sawyer's books have featured an assortm...</td>\n",
       "      <td>great book kiddy</td>\n",
       "      <td>robert sawyer book featured assortment funny e...</td>\n",
       "      <td>great book kiddy robert sawyer book featured a...</td>\n",
       "    </tr>\n",
       "    <tr>\n",
       "      <th>4</th>\n",
       "      <td>0</td>\n",
       "      <td>Digimortal</td>\n",
       "      <td>You know, Fear Factory used to be my favorite ...</td>\n",
       "      <td>digimortal</td>\n",
       "      <td>know fear factory used favorite band album rea...</td>\n",
       "      <td>digimortal know fear factory used favorite ban...</td>\n",
       "    </tr>\n",
       "  </tbody>\n",
       "</table>\n",
       "</div>"
      ],
      "text/plain": [
       "   label                        title  \\\n",
       "0      1  Road to getting things done   \n",
       "1      0         The Weight Loss Cure   \n",
       "2      0         Royal Velvet Pillows   \n",
       "3      0       Great Book For Kiddies   \n",
       "4      0                   Digimortal   \n",
       "\n",
       "                                             content            cleaned_title  \\\n",
       "0  I am a great believer in valueing employees an...  road getting thing done   \n",
       "1  This would be a good book. Good Ideas if every...         weight loss cure   \n",
       "2  These pillows were over rated and the descript...      royal velvet pillow   \n",
       "3  Robert Sawyer's books have featured an assortm...         great book kiddy   \n",
       "4  You know, Fear Factory used to be my favorite ...               digimortal   \n",
       "\n",
       "                                     cleaned_content  \\\n",
       "0  great believer valueing employee rewarding pro...   \n",
       "1  would good book good idea everyone needed lose...   \n",
       "2  pillow rated description amamzon accuratewe di...   \n",
       "3  robert sawyer book featured assortment funny e...   \n",
       "4  know fear factory used favorite band album rea...   \n",
       "\n",
       "                                       title_content  \n",
       "0  road getting thing done great believer valuein...  \n",
       "1  weight loss cure would good book good idea eve...  \n",
       "2  royal velvet pillow pillow rated description a...  \n",
       "3  great book kiddy robert sawyer book featured a...  \n",
       "4  digimortal know fear factory used favorite ban...  "
      ]
     },
     "execution_count": 25,
     "metadata": {},
     "output_type": "execute_result"
    }
   ],
   "source": [
    "df_samples['title_content'] = df_samples['cleaned_title'] + ' ' + df_samples['cleaned_content']\n",
    "df_samples.head()"
   ]
  },
  {
   "cell_type": "markdown",
   "id": "0a5a63e0-b767-48d9-a3ed-f56418bbf90b",
   "metadata": {},
   "source": [
    "## Pré-Processamento"
   ]
  },
  {
   "cell_type": "markdown",
   "id": "c2e06f14-b762-4fde-9165-7f2f9b7c40f9",
   "metadata": {},
   "source": [
    "### Vetorização com TF-IDF"
   ]
  },
  {
   "cell_type": "code",
   "execution_count": 27,
   "id": "b054a9b1-2729-45f6-bb97-4e25a3047b6f",
   "metadata": {},
   "outputs": [
    {
     "data": {
      "text/html": [
       "<div>\n",
       "<style scoped>\n",
       "    .dataframe tbody tr th:only-of-type {\n",
       "        vertical-align: middle;\n",
       "    }\n",
       "\n",
       "    .dataframe tbody tr th {\n",
       "        vertical-align: top;\n",
       "    }\n",
       "\n",
       "    .dataframe thead th {\n",
       "        text-align: right;\n",
       "    }\n",
       "</style>\n",
       "<table border=\"1\" class=\"dataframe\">\n",
       "  <thead>\n",
       "    <tr style=\"text-align: right;\">\n",
       "      <th></th>\n",
       "      <th>able</th>\n",
       "      <th>absolutely</th>\n",
       "      <th>account</th>\n",
       "      <th>accurate</th>\n",
       "      <th>across</th>\n",
       "      <th>act</th>\n",
       "      <th>acting</th>\n",
       "      <th>action</th>\n",
       "      <th>actor</th>\n",
       "      <th>actual</th>\n",
       "      <th>...</th>\n",
       "      <th>written</th>\n",
       "      <th>wrong</th>\n",
       "      <th>wrote</th>\n",
       "      <th>year</th>\n",
       "      <th>yes</th>\n",
       "      <th>yet</th>\n",
       "      <th>youll</th>\n",
       "      <th>young</th>\n",
       "      <th>youre</th>\n",
       "      <th>youve</th>\n",
       "    </tr>\n",
       "  </thead>\n",
       "  <tbody>\n",
       "    <tr>\n",
       "      <th>0</th>\n",
       "      <td>0.0</td>\n",
       "      <td>0.0</td>\n",
       "      <td>0.0</td>\n",
       "      <td>0.0</td>\n",
       "      <td>0.0</td>\n",
       "      <td>0.0</td>\n",
       "      <td>0.0</td>\n",
       "      <td>0.337877</td>\n",
       "      <td>0.0</td>\n",
       "      <td>0.0</td>\n",
       "      <td>...</td>\n",
       "      <td>0.0</td>\n",
       "      <td>0.0</td>\n",
       "      <td>0.0</td>\n",
       "      <td>0.0</td>\n",
       "      <td>0.0</td>\n",
       "      <td>0.0</td>\n",
       "      <td>0.0</td>\n",
       "      <td>0.0</td>\n",
       "      <td>0.000000</td>\n",
       "      <td>0.0</td>\n",
       "    </tr>\n",
       "    <tr>\n",
       "      <th>1</th>\n",
       "      <td>0.0</td>\n",
       "      <td>0.0</td>\n",
       "      <td>0.0</td>\n",
       "      <td>0.0</td>\n",
       "      <td>0.0</td>\n",
       "      <td>0.0</td>\n",
       "      <td>0.0</td>\n",
       "      <td>0.000000</td>\n",
       "      <td>0.0</td>\n",
       "      <td>0.0</td>\n",
       "      <td>...</td>\n",
       "      <td>0.0</td>\n",
       "      <td>0.0</td>\n",
       "      <td>0.0</td>\n",
       "      <td>0.0</td>\n",
       "      <td>0.0</td>\n",
       "      <td>0.0</td>\n",
       "      <td>0.0</td>\n",
       "      <td>0.0</td>\n",
       "      <td>0.000000</td>\n",
       "      <td>0.0</td>\n",
       "    </tr>\n",
       "    <tr>\n",
       "      <th>2</th>\n",
       "      <td>0.0</td>\n",
       "      <td>0.0</td>\n",
       "      <td>0.0</td>\n",
       "      <td>0.0</td>\n",
       "      <td>0.0</td>\n",
       "      <td>0.0</td>\n",
       "      <td>0.0</td>\n",
       "      <td>0.000000</td>\n",
       "      <td>0.0</td>\n",
       "      <td>0.0</td>\n",
       "      <td>...</td>\n",
       "      <td>0.0</td>\n",
       "      <td>0.0</td>\n",
       "      <td>0.0</td>\n",
       "      <td>0.0</td>\n",
       "      <td>0.0</td>\n",
       "      <td>0.0</td>\n",
       "      <td>0.0</td>\n",
       "      <td>0.0</td>\n",
       "      <td>0.000000</td>\n",
       "      <td>0.0</td>\n",
       "    </tr>\n",
       "    <tr>\n",
       "      <th>3</th>\n",
       "      <td>0.0</td>\n",
       "      <td>0.0</td>\n",
       "      <td>0.0</td>\n",
       "      <td>0.0</td>\n",
       "      <td>0.0</td>\n",
       "      <td>0.0</td>\n",
       "      <td>0.0</td>\n",
       "      <td>0.000000</td>\n",
       "      <td>0.0</td>\n",
       "      <td>0.0</td>\n",
       "      <td>...</td>\n",
       "      <td>0.0</td>\n",
       "      <td>0.0</td>\n",
       "      <td>0.0</td>\n",
       "      <td>0.0</td>\n",
       "      <td>0.0</td>\n",
       "      <td>0.0</td>\n",
       "      <td>0.0</td>\n",
       "      <td>0.0</td>\n",
       "      <td>0.000000</td>\n",
       "      <td>0.0</td>\n",
       "    </tr>\n",
       "    <tr>\n",
       "      <th>4</th>\n",
       "      <td>0.0</td>\n",
       "      <td>0.0</td>\n",
       "      <td>0.0</td>\n",
       "      <td>0.0</td>\n",
       "      <td>0.0</td>\n",
       "      <td>0.0</td>\n",
       "      <td>0.0</td>\n",
       "      <td>0.000000</td>\n",
       "      <td>0.0</td>\n",
       "      <td>0.0</td>\n",
       "      <td>...</td>\n",
       "      <td>0.0</td>\n",
       "      <td>0.0</td>\n",
       "      <td>0.0</td>\n",
       "      <td>0.0</td>\n",
       "      <td>0.0</td>\n",
       "      <td>0.0</td>\n",
       "      <td>0.0</td>\n",
       "      <td>0.0</td>\n",
       "      <td>0.129794</td>\n",
       "      <td>0.0</td>\n",
       "    </tr>\n",
       "  </tbody>\n",
       "</table>\n",
       "<p>5 rows × 1000 columns</p>\n",
       "</div>"
      ],
      "text/plain": [
       "   able  absolutely  account  accurate  across  act  acting    action  actor  \\\n",
       "0   0.0         0.0      0.0       0.0     0.0  0.0     0.0  0.337877    0.0   \n",
       "1   0.0         0.0      0.0       0.0     0.0  0.0     0.0  0.000000    0.0   \n",
       "2   0.0         0.0      0.0       0.0     0.0  0.0     0.0  0.000000    0.0   \n",
       "3   0.0         0.0      0.0       0.0     0.0  0.0     0.0  0.000000    0.0   \n",
       "4   0.0         0.0      0.0       0.0     0.0  0.0     0.0  0.000000    0.0   \n",
       "\n",
       "   actual  ...  written  wrong  wrote  year  yes  yet  youll  young     youre  \\\n",
       "0     0.0  ...      0.0    0.0    0.0   0.0  0.0  0.0    0.0    0.0  0.000000   \n",
       "1     0.0  ...      0.0    0.0    0.0   0.0  0.0  0.0    0.0    0.0  0.000000   \n",
       "2     0.0  ...      0.0    0.0    0.0   0.0  0.0  0.0    0.0    0.0  0.000000   \n",
       "3     0.0  ...      0.0    0.0    0.0   0.0  0.0  0.0    0.0    0.0  0.000000   \n",
       "4     0.0  ...      0.0    0.0    0.0   0.0  0.0  0.0    0.0    0.0  0.129794   \n",
       "\n",
       "   youve  \n",
       "0    0.0  \n",
       "1    0.0  \n",
       "2    0.0  \n",
       "3    0.0  \n",
       "4    0.0  \n",
       "\n",
       "[5 rows x 1000 columns]"
      ]
     },
     "execution_count": 27,
     "metadata": {},
     "output_type": "execute_result"
    }
   ],
   "source": [
    "tfidf = TfidfVectorizer(max_features=1000)\n",
    "X = tfidf.fit_transform(df_samples['title_content'])\n",
    "\n",
    "X_df = pd.DataFrame(X.toarray(), columns=tfidf.get_feature_names_out())\n",
    "X_df.head()"
   ]
  },
  {
   "cell_type": "markdown",
   "id": "eda09401-c431-419c-bc96-55d823c0b312",
   "metadata": {},
   "source": [
    "### Separação Treino/Teste"
   ]
  },
  {
   "cell_type": "code",
   "execution_count": 28,
   "id": "a48c9198-e0ab-4018-8af1-6ac819bb180f",
   "metadata": {},
   "outputs": [],
   "source": [
    "y = df_samples['label']\n",
    "X_train, X_test, y_train, y_test = train_test_split(X, y, test_size=0.2, random_state=42)"
   ]
  },
  {
   "cell_type": "markdown",
   "id": "9fc6cbe1-fabf-41bd-b1a9-e5222be6c3d8",
   "metadata": {},
   "source": [
    "## Modelos de classificação"
   ]
  },
  {
   "cell_type": "markdown",
   "id": "ee0ea0b7-649b-40f1-bbb9-864bc24d3ab8",
   "metadata": {},
   "source": [
    "### Regressão Logística"
   ]
  },
  {
   "cell_type": "code",
   "execution_count": 29,
   "id": "51ce07b0-07f7-4d72-84a9-33187e4ef331",
   "metadata": {},
   "outputs": [
    {
     "name": "stdout",
     "output_type": "stream",
     "text": [
      "Acurácia: 0.836\n",
      "              precision    recall  f1-score   support\n",
      "\n",
      "           0       0.83      0.85      0.84      1013\n",
      "           1       0.84      0.83      0.83       987\n",
      "\n",
      "    accuracy                           0.84      2000\n",
      "   macro avg       0.84      0.84      0.84      2000\n",
      "weighted avg       0.84      0.84      0.84      2000\n",
      "\n"
     ]
    },
    {
     "data": {
      "image/png": "[encoded data removed]",
      "text/plain": [
       "<Figure size 800x600 with 1 Axes>"
      ]
     },
     "metadata": {},
     "output_type": "display_data"
    }
   ],
   "source": [
    "model = LogisticRegression(max_iter=1000)\n",
    "model.fit(X_train, y_train)\n",
    "\n",
    "y_pred = model.predict(X_test)\n",
    "y_prob = model.predict_proba(X_test)[:, 1]\n",
    "\n",
    "print(f'Acurácia: {accuracy_score(y_test, y_pred)}')\n",
    "print(classification_report(y_test, y_pred))\n",
    "\n",
    "fpr, tpr, _ = roc_curve(y_test, y_prob)\n",
    "roc_auc = auc(fpr, tpr)\n",
    "\n",
    "plt.figure(figsize=(8, 6))\n",
    "plt.plot(fpr, tpr, label=f'Logistic Regression (AUC = {roc_auc:.2f})')\n",
    "plt.plot([0, 1], [0, 1], linestyle='--', color='gray')\n",
    "plt.xlabel('FPR')\n",
    "plt.ylabel('TPR')\n",
    "plt.title('Curva ROC - Logistic Regression')\n",
    "plt.legend()\n",
    "plt.show()"
   ]
  },
  {
   "cell_type": "markdown",
   "id": "80d64477-93e1-466c-8fb1-f691048b42d8",
   "metadata": {},
   "source": [
    "### Support Vector Machine (SVM)"
   ]
  },
  {
   "cell_type": "code",
   "execution_count": 31,
   "id": "853159c3-9502-48f3-a8d1-cd73c70ab087",
   "metadata": {},
   "outputs": [
    {
     "name": "stdout",
     "output_type": "stream",
     "text": [
      "Acurácia: 0.83\n",
      "              precision    recall  f1-score   support\n",
      "\n",
      "           0       0.82      0.85      0.84      1013\n",
      "           1       0.84      0.81      0.82       987\n",
      "\n",
      "    accuracy                           0.83      2000\n",
      "   macro avg       0.83      0.83      0.83      2000\n",
      "weighted avg       0.83      0.83      0.83      2000\n",
      "\n"
     ]
    },
    {
     "data": {
      "image/png": "[encoded data removed]",
      "text/plain": [
       "<Figure size 800x600 with 1 Axes>"
      ]
     },
     "metadata": {},
     "output_type": "display_data"
    }
   ],
   "source": [
    "svm = SVC(random_state=42, probability=True)\n",
    "svm.fit(X_train, y_train)\n",
    "\n",
    "y_pred = svm.predict(X_test)\n",
    "y_prob = svm.predict_proba(X_test)[:, 1]\n",
    "\n",
    "print(f'Acurácia: {accuracy_score(y_test, y_pred)}')\n",
    "print(classification_report(y_test, y_pred))\n",
    "\n",
    "fpr, tpr, _ = roc_curve(y_test, y_prob)\n",
    "roc_auc = auc(fpr, tpr)\n",
    "\n",
    "plt.figure(figsize=(8, 6))\n",
    "plt.plot(fpr, tpr, label=f'SVM (AUC = {roc_auc:.2f})')\n",
    "plt.plot([0, 1], [0, 1], linestyle='--', color='gray')\n",
    "plt.xlabel('FPR')\n",
    "plt.ylabel('TPR')\n",
    "plt.title('Curva ROC - SVM')\n",
    "plt.legend()\n",
    "plt.show()"
   ]
  },
  {
   "cell_type": "markdown",
   "id": "bed6c311-6f71-495d-bf4c-3e3486c17e37",
   "metadata": {},
   "source": [
    "### XGBoost"
   ]
  },
  {
   "cell_type": "code",
   "execution_count": 36,
   "id": "ff005c36-43d4-4cfb-8d8e-7ee2441188e7",
   "metadata": {},
   "outputs": [
    {
     "name": "stdout",
     "output_type": "stream",
     "text": [
      "Acurácia: 0.811\n",
      "              precision    recall  f1-score   support\n",
      "\n",
      "           0       0.81      0.82      0.81      1013\n",
      "           1       0.81      0.80      0.81       987\n",
      "\n",
      "    accuracy                           0.81      2000\n",
      "   macro avg       0.81      0.81      0.81      2000\n",
      "weighted avg       0.81      0.81      0.81      2000\n",
      "\n"
     ]
    },
    {
     "data": {
      "image/png": "[encoded data removed]",
      "text/plain": [
       "<Figure size 800x600 with 1 Axes>"
      ]
     },
     "metadata": {},
     "output_type": "display_data"
    }
   ],
   "source": [
    "xgb = XGBClassifier(eval_metric='logloss', random_state=42)\n",
    "xgb.fit(X_train, y_train)\n",
    "\n",
    "y_pred = xgb.predict(X_test)\n",
    "y_prob = xgb.predict_proba(X_test)[:, 1]\n",
    "\n",
    "print(f'Acurácia: {accuracy_score(y_test, y_pred)}')\n",
    "print(classification_report(y_test, y_pred))\n",
    "\n",
    "fpr, tpr, _ = roc_curve(y_test, y_prob)\n",
    "roc_auc = auc(fpr, tpr)\n",
    "\n",
    "plt.figure(figsize=(8, 6))\n",
    "plt.plot(fpr, tpr, label=f'XGBoost (AUC = {roc_auc:.2f})')\n",
    "plt.plot([0, 1], [0, 1], linestyle='--', color='gray')\n",
    "plt.xlabel('FPR')\n",
    "plt.ylabel('TPR')\n",
    "plt.title('Curva ROC - XGBoost')\n",
    "plt.legend()\n",
    "plt.show()"
   ]
  },
  {
   "cell_type": "code",
   "execution_count": 37,
   "id": "7e9ef616-a9f9-475e-b8bd-3fb0c109950d",
   "metadata": {},
   "outputs": [
    {
     "name": "stdout",
     "output_type": "stream",
     "text": [
      "Acurácia: 0.811\n",
      "              precision    recall  f1-score   support\n",
      "\n",
      "           0       0.82      0.81      0.81      1013\n",
      "           1       0.80      0.82      0.81       987\n",
      "\n",
      "    accuracy                           0.81      2000\n",
      "   macro avg       0.81      0.81      0.81      2000\n",
      "weighted avg       0.81      0.81      0.81      2000\n",
      "\n"
     ]
    },
    {
     "data": {
      "image/png": "[encoded data removed]",
      "text/plain": [
       "<Figure size 800x600 with 1 Axes>"
      ]
     },
     "metadata": {},
     "output_type": "display_data"
    }
   ],
   "source": [
    "rf = RandomForestClassifier(random_state=42)\n",
    "rf.fit(X_train, y_train)\n",
    "\n",
    "y_pred = rf.predict(X_test)\n",
    "y_prob = rf.predict_proba(X_test)[:, 1]\n",
    "\n",
    "print(f'Acurácia: {accuracy_score(y_test, y_pred)}')\n",
    "print(classification_report(y_test, y_pred))\n",
    "\n",
    "fpr, tpr, _ = roc_curve(y_test, y_prob)\n",
    "roc_auc = auc(fpr, tpr)\n",
    "\n",
    "plt.figure(figsize=(8, 6))\n",
    "plt.plot(fpr, tpr, label=f'Random Forest (AUC = {roc_auc:.2f})')\n",
    "plt.plot([0, 1], [0, 1], linestyle='--', color='gray')\n",
    "plt.xlabel('FPR')\n",
    "plt.ylabel('TPR')\n",
    "plt.title('Curva ROC - Random Forest')\n",
    "plt.legend()\n",
    "plt.show()"
   ]
  },
  {
   "cell_type": "markdown",
   "id": "1c7c8150-a9e9-46fc-905f-c7d4903c6118",
   "metadata": {},
   "source": [
    "### 📊 Resultados dos Modelos\n",
    "\n",
    "#### 📈 Regressão Logística  \n",
    "- 🔹 **AUC:** 0.91  \n",
    "- 🎯 **Acurácia:** 0.811  \n",
    "- 🧪 Classe 0: Precisão = 0.81 | Recall = 0.82 | F1-score = 0.81 | Amostras = 1013  \n",
    "- 🧪 Classe 1: Precisão = 0.81 | Recall = 0.80 | F1-score = 0.81 | Amostras = 987  \n",
    "- 📦 Total de amostras: 2000\n",
    "\n",
    "---\n",
    "\n",
    "#### 🤖 SVM (Máquina de Vetores de Suporte)  \n",
    "- 🔹 **AUC:** 0.91  \n",
    "- 🎯 **Acurácia:** 0.83  \n",
    "- 🧪 Classe 0: Precisão = 0.82 | Recall = 0.85 | F1-score = 0.84 | Amostras = 1013  \n",
    "- 🧪 Classe 1: Precisão = 0.84 | Recall = 0.81 | F1-score = 0.82 | Amostras = 987  \n",
    "- 📦 Total de amostras: 2000\n",
    "\n",
    "---\n",
    "\n",
    "#### ⚡ XGBoost  \n",
    "- 🔹 **AUC:** 0.90  \n",
    "- 🎯 **Acurácia:** 0.83  \n",
    "- 🧪 Classe 0: Precisão = 0.82 | Recall = 0.85 | F1-score = 0.84 | Amostras = 1013  \n",
    "- 🧪 Classe 1: Precisão = 0.84 | Recall = 0.81 | F1-score = 0.82 | Amostras = 987  \n",
    "- 📦 Total de amostras: 2000\n",
    "\n",
    "---\n",
    "\n",
    "#### 🌲 Random Forest  \n",
    "- 🔹 **AUC:** 0.89  \n",
    "- 🎯 **Acurácia:** 0.811  \n",
    "- 🧪 Classe 0: Precisão = 0.82 | Recall = 0.81 | F1-score = 0.81 | Amostras = 1013  \n",
    "- 🧪 Classe 1: Precisão = 0.80 | Recall = 0.82 | F1-score = 0.81 | Amostras = 987  \n",
    "- 📦 Total de amostras: 2000"
   ]
  },
  {
   "cell_type": "markdown",
   "id": "91c962f4-d327-441d-9deb-043177c65f70",
   "metadata": {},
   "source": [
    "## Análise de Sentimentos com NLP"
   ]
  },
  {
   "cell_type": "markdown",
   "id": "6f539c8c-7483-4e8f-8e1b-c0213233b776",
   "metadata": {},
   "source": [
    "#### Descrição do Conjunto de Dados: Amazon Polarity\n",
    "O conjunto de dados Amazon Polarity é uma coleção de resenhas de produtos extraídas de comentários de usuários na Amazon, com o objetivo de realizar a análise de sentimentos. O conjunto contém textos de resenhas que foram classificados como positivos ou negativos com base na opinião expressa pelo usuário. Cada resenha está rotulada com um valor binário: 0 para resenhas negativas e 1 para resenhas positivas.\n",
    "\n",
    "O conjunto de dados é um recurso muito utilizado em tarefas de classificação de sentimentos e análise de texto, e é ideal para treinar e testar modelos de aprendizado de máquina que buscam identificar automaticamente se uma opinião expressa em uma resenha é favorável ou desfavorável. Com isso, o modelo pode ser utilizado para prever a polaridade de novos comentários ou resenhas.\n",
    "\n",
    "#### Características do Conjunto de Dados:\n",
    "##### Tamanho: O conjunto de dados é composto por milhares de resenhas, com rótulos binários indicando se a resenha é positiva (1) ou negativa (0).\n",
    "\n",
    "##### Texto da Resenha: Cada amostra contém um texto de resenha escrito por um usuário da Amazon. O conteúdo dessas resenhas varia muito em termos de comprimento e tópicos, pois os produtos abrangem uma ampla gama de categorias, como eletrônicos, roupas, acessórios, livros, e muito mais.\n",
    "\n",
    "##### Polaridade: A principal característica é a polaridade da resenha, onde o modelo precisa prever se a opinião do usuário é positiva ou negativa com base no conteúdo da resenha.\n",
    "\n",
    "##### Aplicações:\n",
    "Análise de Sentimentos: O principal objetivo desse conjunto de dados é classificar as opiniões dos consumidores de maneira automática, sem necessidade de leitura manual de cada resenha.\n",
    "Sistemas de Recomendação: Compreender a opinião dos consumidores sobre determinados produtos pode ser usado para ajustar e melhorar sistemas de recomendação em plataformas de e-commerce.\n",
    "Análise de Feedback: A análise automática das resenhas pode proporcionar insights valiosos para empresas, permitindo-lhes entender melhor a satisfação do cliente e identificar áreas de melhoria nos produtos.\n",
    "\n",
    "Os modelos utilizados nesse estudo foram então treinados para prever a classe da resenha, e os seguintes algoritmos foram avaliados no conjunto de dados:\n",
    "\n",
    "##### Regressão Logística\n",
    "\n",
    "##### Máquina de Vetores de Suporte (SVM)\n",
    "\n",
    "##### XGBoost\n",
    "\n",
    "##### Random Forest\n",
    "\n",
    "Os resultados de cada modelo foram avaliados com métricas como acurácia, precisão, recall e f1-score e curva AUC para garantir uma análise mais equilibrada, considerando não apenas a taxa de acertos, mas também a performance do modelo nas classes positivas e negativas."
   ]
  },
  {
   "cell_type": "markdown",
   "id": "b8c21ecc-dd01-46f5-b9cd-dec43f87f944",
   "metadata": {},
   "source": [
    "#### Resultados\n",
    "Neste trabalho, foi realizada uma análise de sentimentos em resenhas de produtos da Amazon, utilizando diferentes modelos de machine learning para prever a polaridade das avaliações (positiva ou negativa). Para isso, utilizamos quatro algoritmos principais: Regressão Logística, SVM (Máquina de Vetores de Suporte), XGBoost e Random Forest, comparando suas performances por meio de métricas de avaliação como Acurácia, Precision, Recall, F1-Score e AUC (Área sob a Curva ROC).\n",
    "\n",
    "Resultados dos Modelos\n",
    "\n",
    "##### Regressão Logística:\n",
    "\n",
    "Acurácia: 0.836\n",
    "\n",
    "AUC: 0.91\n",
    "\n",
    "A Regressão Logística obteve o melhor desempenho em termos de Acurácia entre os modelos avaliados. Embora tenha apresentado uma AUC de 0.91 (similar ao SVM), sua capacidade de fazer previsões corretas foi ligeiramente superior, atingindo 83.6% de acerto.\n",
    "\n",
    "##### SVM (Máquina de Vetores de Suporte):\n",
    "\n",
    "Acurácia: 0.\n",
    "\n",
    "AUC: 0.91\n",
    "\n",
    "O SVM apresentou a melhor AUC, com 0.91, indicando uma excelente capacidade de discriminação entre as classes. No entanto, sua Acurácia foi um pouco inferior à da Regressão Logística, com 83%. Mesmo assim, o SVM demonstrou bom desempenho em termos de Precision e Recall, sendo uma escolha robusta para este tipo de problema.\n",
    "\n",
    "##### XGBoost:\n",
    "\n",
    "Acurácia: 0.8165\n",
    "\n",
    "AUC: 0.90\n",
    "\n",
    "O modelo XGBoost teve uma Acurácia de 81.65%, ligeiramente inferior à da Regressão Logística. A AUC também foi de 0.90, indicando que o modelo tem um bom poder de discriminação entre as classes, embora não tenha superado o SVM em AUC.\n",
    "\n",
    "##### Random Forest:\n",
    "\n",
    "Acurácia: 0.8105\n",
    "\n",
    "AUC: 0.90\n",
    "\n",
    "A Random Forest teve uma Acurácia de 81.05%, ficando abaixo da Regressão Logística. No entanto, a AUC também foi de 0.90, indicando que a capacidade de distinguir entre as classes foi razoavelmente boa. O desempenho da Random Forest foi sólido, mas não foi capaz de superar os outros modelos em termos de acurácia ou AUC.\n",
    "\n",
    "#### Conclusões\n",
    "Com base nos resultados obtidos, com os parâmetros escolhidos, podemos observar que:\n",
    "\n",
    "O modelo de Regressão Logística apresentou o melhor desempenho geral em termos de acurácia, atingindo 83.6%, seguido pelo SVM, que teve a melhor AUC (0.91) e uma boa precisão e recall.\n",
    "O SVM mostrou-se bastante eficaz em termos de discriminação entre as classes, mas teve uma leve perda em Acurácia comparado à Regressão Logística.\n",
    "\n",
    "O XGBoost e a Random Forest também apresentaram resultados bastante sólidos, com Acurácias ao redor de 81% e boas AUCs de 0.90, mas não foram tão eficazes quanto os outros dois modelos."
   ]
  }
 ],
 "metadata": {
  "kernelspec": {
   "display_name": "Python 3 (ipykernel)",
   "language": "python",
   "name": "python3"
  },
  "language_info": {
   "codemirror_mode": {
    "name": "ipython",
    "version": 3
   },
   "file_extension": ".py",
   "mimetype": "text/x-python",
   "name": "python",
   "nbconvert_exporter": "python",
   "pygments_lexer": "ipython3",
   "version": "3.9.12"
  }
 },
 "nbformat": 4,
 "nbformat_minor": 5
}
