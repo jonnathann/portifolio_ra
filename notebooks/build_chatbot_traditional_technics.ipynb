{
 "cells": [
  {
   "cell_type": "markdown",
   "metadata": {},
   "source": [
    "# Construindo chatbot de atendimento médico com técnicas tradicionais de machine learning"
   ]
  },
  {
   "cell_type": "markdown",
   "metadata": {},
   "source": [
    "## Imports"
   ]
  },
  {
   "cell_type": "code",
   "execution_count": 28,
   "metadata": {},
   "outputs": [],
   "source": [
    "import pandas as pd\n",
    "import seaborn as sns\n",
    "import matplotlib.pyplot as plt\n",
    "import re\n",
    "import random\n",
    "import numpy as np\n",
    "from faker import Faker\n",
    "from sklearn.feature_extraction.text import TfidfVectorizer\n",
    "from sklearn.preprocessing import LabelEncoder\n",
    "from sklearn.linear_model import LogisticRegression\n",
    "from sklearn.ensemble import RandomForestClassifier\n",
    "from sklearn.model_selection import train_test_split\n",
    "from sklearn.metrics import classification_report, accuracy_score, confusion_matrix, roc_auc_score, roc_curve\n",
    "from sklearn.neighbors import KNeighborsClassifier\n",
    "from sklearn.svm import SVC\n",
    "from sklearn.preprocessing import label_binarize\n",
    "from collections import defaultdict"
   ]
  },
  {
   "cell_type": "markdown",
   "metadata": {},
   "source": [
    "## Dataset"
   ]
  },
  {
   "cell_type": "markdown",
   "metadata": {},
   "source": [
    "### Construindo o dataset para o chatboot médico"
   ]
  },
  {
   "cell_type": "code",
   "execution_count": 29,
   "metadata": {},
   "outputs": [],
   "source": [
    "# Dados base com perguntas, categorias e respostas\n",
    "data = [\n",
    "    (\"Quais são os sintomas da gripe?\", \"gripe\", \"Os sintomas da gripe incluem febre, dor no corpo, calafrios, dor de garganta e tosse.\"),\n",
    "    (\"Estou com febre e dor no corpo, é gripe?\", \"gripe\", \"Esses sintomas são comuns na gripe. Se você estiver com tosse e dor no corpo também, pode ser a gripe.\"),\n",
    "    (\"Como saber se estou gripado?\", \"gripe\", \"A gripe geralmente apresenta febre, calafrios, dor de cabeça e dor muscular. Se você tiver esses sintomas, é possível que seja gripe.\"),\n",
    "    (\"Estou com febre alta e dor no corpo, o que pode ser?\", \"gripe\", \"Esses sintomas podem ser causados por várias condições, como a gripe ou até a Covid-19. Você já teve contato com alguém que testou positivo para Covid-19 recentemente?\"),\n",
    "    (\"Não, mas estou com tosse também.\", \"gripe\", \"A tosse junto com febre é uma característica comum da gripe. Recomendo que você procure um médico para uma avaliação mais detalhada.\"),\n",
    "    \n",
    "    (\"Quais os sintomas de um infarto?\", \"cardiologia\", \"Os sintomas incluem dor no peito, falta de ar, dor nas costas e suor excessivo.\"),\n",
    "    (\"Estou com dor no peito e falta de ar, isso pode ser um infarto?\", \"cardiologia\", \"Sim, esses podem ser sintomas de infarto. Procure ajuda médica imediatamente.\"),\n",
    "    (\"Quais exames devo fazer para checar a saúde do coração?\", \"cardiologia\", \"Os exames mais comuns incluem o eletrocardiograma (ECG), ecocardiograma e testes de esforço.\"),\n",
    "    (\"Como posso saber se meu colesterol está alto?\", \"cardiologia\", \"Você pode verificar seu colesterol através de um exame de sangue chamado lipidograma, que mede os níveis de colesterol e triglicerídeos.\"),\n",
    "\n",
    "    (\"Como posso tratar acne?\", \"dermatologia\", \"A acne pode ser tratada com medicamentos tópicos, como peróxido de benzoíla ou cremes com retinoides.\"),\n",
    "    (\"Tenho espinhas no rosto, o que devo fazer?\", \"dermatologia\", \"Você pode usar cremes específicos para acne e evitar apertar as espinhas. Se necessário, consulte um dermatologista.\"),\n",
    "\n",
    "    (\"O que é depressão?\", \"saude_mental\", \"A depressão é um transtorno mental caracterizado por sentimentos persistentes de tristeza, perda de interesse nas atividades diárias e cansaço extremo.\"),\n",
    "    (\"Quais são os sintomas da depressão?\", \"saude_mental\", \"Os sintomas incluem tristeza constante, dificuldade de concentração, insônia ou sono excessivo, e perda de apetite.\"),\n",
    "\n",
    "    (\"Qual a melhor dieta para perder peso?\", \"nutricao\", \"Uma dieta balanceada, com controle de calorias e aumento do consumo de vegetais, é eficaz para perda de peso.\"),\n",
    "    (\"Devo cortar carboidratos para emagrecer?\", \"nutricao\", \"Não é necessário cortar carboidratos totalmente. O importante é escolher carboidratos saudáveis e consumi-los com moderação.\"),\n",
    "\n",
    "    (\"Vocês aceitam plano de saúde X?\", \"convenios\", \"Sim, aceitamos o plano de saúde X. Você pode consultar as coberturas diretamente com nossa recepção.\"),\n",
    "    (\"Quais planos de saúde vocês aceitam?\", \"convenios\", \"Aceitamos planos como Amil, Bradesco Saúde e Unimed. Consulte as condições com a recepção.\"),\n",
    "\n",
    "    (\"Como posso agendar uma consulta?\", \"consultas\", \"Você pode agendar sua consulta através do nosso portal online ou entrando em contato com a recepção.\"),\n",
    "    (\"Preciso levar algum exame para a consulta?\", \"consultas\", \"Recomendamos que leve os exames mais recentes, caso tenha algum, para facilitar a avaliação do médico.\"),\n",
    "\n",
    "    (\"Qual o melhor tratamento para dor nas costas?\", \"ortopedia\", \"O tratamento pode incluir fisioterapia, medicamentos anti-inflamatórios e, em alguns casos, cirurgia.\"),\n",
    "    (\"Estou com dor nas costas, o que pode ser?\", \"ortopedia\", \"A dor nas costas pode ser causada por tensão muscular, problemas na coluna ou até uma hérnia. É importante procurar um médico para diagnóstico.\"),\n",
    "    (\"Como saber se a dor nas costas é grave?\", \"ortopedia\", \"A dor nas costas pode ser grave se for acompanhada de dormência, fraqueza nas pernas ou dificuldade de movimentação. Caso esses sintomas apareçam, procure um médico imediatamente.\"),\n",
    "\n",
    "    (\"Estou com muita dor de cabeça, o que posso fazer?\", \"neurologia\", \"Se a dor de cabeça for muito forte e persistir, pode ser sinal de enxaqueca ou outro problema. Tente descansar em um local tranquilo e tomar um analgésico, mas se persistir, consulte um médico.\")\n",
    "]\n",
    "\n",
    "\n",
    "category_dict = defaultdict(list)\n",
    "for q, c, a in data:\n",
    "    category_dict[c].append((q, a))\n",
    "\n",
    "# Gerar dados sintéticos balanceados\n",
    "synthetic_data = []\n",
    "target_per_class = 500\n",
    "\n",
    "for category, qa_list in category_dict.items():\n",
    "    for _ in range(target_per_class):\n",
    "        q, a = random.choice(qa_list)\n",
    "        # Introduzir leve embaralhamento nas perguntas\n",
    "        q_words = q.split()\n",
    "        random.shuffle(q_words)\n",
    "        shuffled_q = ' '.join(q_words)\n",
    "        synthetic_data.append((shuffled_q, category, a))\n",
    "\n",
    "# Embaralhar os dados\n",
    "random.shuffle(synthetic_data)\n",
    "\n",
    "# Converter para DataFrame\n",
    "df = pd.DataFrame(synthetic_data, columns=[\"pergunta\", \"categoria\", \"resposta\"])\n",
    "df.to_csv('../data/processed/nlp_chatbot_dataset.csv')"
   ]
  },
  {
   "cell_type": "markdown",
   "metadata": {},
   "source": [
    "### Lendo o dataset criado"
   ]
  },
  {
   "cell_type": "code",
   "execution_count": 30,
   "metadata": {},
   "outputs": [
    {
     "data": {
      "text/html": [
       "<div>\n",
       "<style scoped>\n",
       "    .dataframe tbody tr th:only-of-type {\n",
       "        vertical-align: middle;\n",
       "    }\n",
       "\n",
       "    .dataframe tbody tr th {\n",
       "        vertical-align: top;\n",
       "    }\n",
       "\n",
       "    .dataframe thead th {\n",
       "        text-align: right;\n",
       "    }\n",
       "</style>\n",
       "<table border=\"1\" class=\"dataframe\">\n",
       "  <thead>\n",
       "    <tr style=\"text-align: right;\">\n",
       "      <th></th>\n",
       "      <th>pergunta</th>\n",
       "      <th>categoria</th>\n",
       "      <th>resposta</th>\n",
       "    </tr>\n",
       "  </thead>\n",
       "  <tbody>\n",
       "    <tr>\n",
       "      <th>0</th>\n",
       "      <td>o que muita dor cabeça, fazer? com Estou posso de</td>\n",
       "      <td>neurologia</td>\n",
       "      <td>Se a dor de cabeça for muito forte e persistir...</td>\n",
       "    </tr>\n",
       "    <tr>\n",
       "      <th>1</th>\n",
       "      <td>saúde de aceitam X? Vocês plano</td>\n",
       "      <td>convenios</td>\n",
       "      <td>Sim, aceitamos o plano de saúde X. Você pode c...</td>\n",
       "    </tr>\n",
       "    <tr>\n",
       "      <th>2</th>\n",
       "      <td>fazer? rosto, devo que no espinhas Tenho o</td>\n",
       "      <td>dermatologia</td>\n",
       "      <td>Você pode usar cremes específicos para acne e ...</td>\n",
       "    </tr>\n",
       "    <tr>\n",
       "      <th>3</th>\n",
       "      <td>da sintomas Quais os são depressão?</td>\n",
       "      <td>saude_mental</td>\n",
       "      <td>Os sintomas incluem tristeza constante, dificu...</td>\n",
       "    </tr>\n",
       "    <tr>\n",
       "      <th>4</th>\n",
       "      <td>se meu Como saber está posso colesterol alto?</td>\n",
       "      <td>cardiologia</td>\n",
       "      <td>Você pode verificar seu colesterol através de ...</td>\n",
       "    </tr>\n",
       "  </tbody>\n",
       "</table>\n",
       "</div>"
      ],
      "text/plain": [
       "                                            pergunta     categoria  \\\n",
       "0  o que muita dor cabeça, fazer? com Estou posso de    neurologia   \n",
       "1                    saúde de aceitam X? Vocês plano     convenios   \n",
       "2         fazer? rosto, devo que no espinhas Tenho o  dermatologia   \n",
       "3                da sintomas Quais os são depressão?  saude_mental   \n",
       "4      se meu Como saber está posso colesterol alto?   cardiologia   \n",
       "\n",
       "                                            resposta  \n",
       "0  Se a dor de cabeça for muito forte e persistir...  \n",
       "1  Sim, aceitamos o plano de saúde X. Você pode c...  \n",
       "2  Você pode usar cremes específicos para acne e ...  \n",
       "3  Os sintomas incluem tristeza constante, dificu...  \n",
       "4  Você pode verificar seu colesterol através de ...  "
      ]
     },
     "execution_count": 30,
     "metadata": {},
     "output_type": "execute_result"
    }
   ],
   "source": [
    "df = pd.read_csv('../data/processed/nlp_chatbot_dataset.csv').drop('Unnamed: 0', axis=1)\n",
    "df.head()"
   ]
  },
  {
   "cell_type": "markdown",
   "metadata": {},
   "source": [
    "## Explorando o dataset"
   ]
  },
  {
   "cell_type": "markdown",
   "metadata": {},
   "source": [
    "### Colunas"
   ]
  },
  {
   "cell_type": "code",
   "execution_count": 11,
   "metadata": {},
   "outputs": [
    {
     "data": {
      "text/plain": [
       "Index(['pergunta', 'categoria', 'resposta'], dtype='object')"
      ]
     },
     "execution_count": 11,
     "metadata": {},
     "output_type": "execute_result"
    }
   ],
   "source": [
    "df.columns"
   ]
  },
  {
   "cell_type": "markdown",
   "metadata": {},
   "source": [
    "### Dimensões"
   ]
  },
  {
   "cell_type": "code",
   "execution_count": 12,
   "metadata": {},
   "outputs": [
    {
     "data": {
      "text/plain": [
       "(4500, 3)"
      ]
     },
     "execution_count": 12,
     "metadata": {},
     "output_type": "execute_result"
    }
   ],
   "source": [
    "df.shape"
   ]
  },
  {
   "cell_type": "markdown",
   "metadata": {},
   "source": [
    "### Verificando existência de valores nulos"
   ]
  },
  {
   "cell_type": "code",
   "execution_count": 13,
   "metadata": {},
   "outputs": [
    {
     "data": {
      "text/plain": [
       "pergunta     0\n",
       "categoria    0\n",
       "resposta     0\n",
       "dtype: int64"
      ]
     },
     "execution_count": 13,
     "metadata": {},
     "output_type": "execute_result"
    }
   ],
   "source": [
    "df.isna().sum()"
   ]
  },
  {
   "cell_type": "markdown",
   "metadata": {},
   "source": [
    "### Quantidade de caracteres para cada variável (pergunta, categoria e reposta)"
   ]
  },
  {
   "cell_type": "code",
   "execution_count": 14,
   "metadata": {},
   "outputs": [
    {
     "data": {
      "text/html": [
       "<div>\n",
       "<style scoped>\n",
       "    .dataframe tbody tr th:only-of-type {\n",
       "        vertical-align: middle;\n",
       "    }\n",
       "\n",
       "    .dataframe tbody tr th {\n",
       "        vertical-align: top;\n",
       "    }\n",
       "\n",
       "    .dataframe thead th {\n",
       "        text-align: right;\n",
       "    }\n",
       "</style>\n",
       "<table border=\"1\" class=\"dataframe\">\n",
       "  <thead>\n",
       "    <tr style=\"text-align: right;\">\n",
       "      <th></th>\n",
       "      <th>pergunta</th>\n",
       "      <th>categoria</th>\n",
       "      <th>resposta</th>\n",
       "      <th>caracteres_pergunta</th>\n",
       "      <th>caracteres_categoria</th>\n",
       "      <th>caracteres_resposta</th>\n",
       "    </tr>\n",
       "  </thead>\n",
       "  <tbody>\n",
       "    <tr>\n",
       "      <th>0</th>\n",
       "      <td>Tenho devo o rosto, que no fazer? espinhas</td>\n",
       "      <td>dermatologia</td>\n",
       "      <td>Você pode usar cremes específicos para acne e ...</td>\n",
       "      <td>42</td>\n",
       "      <td>12</td>\n",
       "      <td>116</td>\n",
       "    </tr>\n",
       "    <tr>\n",
       "      <th>1</th>\n",
       "      <td>com dor o Estou nas pode ser? costas, que</td>\n",
       "      <td>ortopedia</td>\n",
       "      <td>A dor nas costas pode ser causada por tensão m...</td>\n",
       "      <td>41</td>\n",
       "      <td>9</td>\n",
       "      <td>143</td>\n",
       "    </tr>\n",
       "    <tr>\n",
       "      <th>2</th>\n",
       "      <td>aceitam X? plano de Vocês saúde</td>\n",
       "      <td>convenios</td>\n",
       "      <td>Sim, aceitamos o plano de saúde X. Você pode c...</td>\n",
       "      <td>31</td>\n",
       "      <td>9</td>\n",
       "      <td>100</td>\n",
       "    </tr>\n",
       "    <tr>\n",
       "      <th>3</th>\n",
       "      <td>posso Estou com de o dor cabeça, que fazer? muita</td>\n",
       "      <td>neurologia</td>\n",
       "      <td>Se a dor de cabeça for muito forte e persistir...</td>\n",
       "      <td>49</td>\n",
       "      <td>10</td>\n",
       "      <td>193</td>\n",
       "    </tr>\n",
       "    <tr>\n",
       "      <th>4</th>\n",
       "      <td>o Estou nas costas, que pode ser? com dor</td>\n",
       "      <td>ortopedia</td>\n",
       "      <td>A dor nas costas pode ser causada por tensão m...</td>\n",
       "      <td>41</td>\n",
       "      <td>9</td>\n",
       "      <td>143</td>\n",
       "    </tr>\n",
       "  </tbody>\n",
       "</table>\n",
       "</div>"
      ],
      "text/plain": [
       "                                            pergunta     categoria  \\\n",
       "0         Tenho devo o rosto, que no fazer? espinhas  dermatologia   \n",
       "1          com dor o Estou nas pode ser? costas, que     ortopedia   \n",
       "2                    aceitam X? plano de Vocês saúde     convenios   \n",
       "3  posso Estou com de o dor cabeça, que fazer? muita    neurologia   \n",
       "4          o Estou nas costas, que pode ser? com dor     ortopedia   \n",
       "\n",
       "                                            resposta  caracteres_pergunta  \\\n",
       "0  Você pode usar cremes específicos para acne e ...                   42   \n",
       "1  A dor nas costas pode ser causada por tensão m...                   41   \n",
       "2  Sim, aceitamos o plano de saúde X. Você pode c...                   31   \n",
       "3  Se a dor de cabeça for muito forte e persistir...                   49   \n",
       "4  A dor nas costas pode ser causada por tensão m...                   41   \n",
       "\n",
       "   caracteres_categoria  caracteres_resposta  \n",
       "0                    12                  116  \n",
       "1                     9                  143  \n",
       "2                     9                  100  \n",
       "3                    10                  193  \n",
       "4                     9                  143  "
      ]
     },
     "execution_count": 14,
     "metadata": {},
     "output_type": "execute_result"
    }
   ],
   "source": [
    "df['caracteres_pergunta'] = df.pergunta.apply(lambda x: len(x))\n",
    "df['caracteres_categoria'] = df.categoria.apply(lambda x: len(x))\n",
    "df['caracteres_resposta'] = df.resposta.apply(lambda x: len(x))\n",
    "\n",
    "df.head()"
   ]
  },
  {
   "cell_type": "markdown",
   "metadata": {},
   "source": [
    "### Distribuição das categorias"
   ]
  },
  {
   "cell_type": "code",
   "execution_count": 15,
   "metadata": {},
   "outputs": [
    {
     "data": {
      "image/png": "[encoded data removed]",
      "text/plain": [
       "<Figure size 1000x600 with 1 Axes>"
      ]
     },
     "metadata": {},
     "output_type": "display_data"
    }
   ],
   "source": [
    "plt.figure(figsize=(10,6))\n",
    "sns.countplot(\n",
    "    data=df,\n",
    "    x='categoria',\n",
    "    hue='categoria',\n",
    "    order=df['categoria'].value_counts().index,\n",
    "    palette='Set2',\n",
    "    legend=False\n",
    ")\n",
    "plt.title('Distribuição das Categorias')\n",
    "plt.xlabel('Categoria')\n",
    "plt.ylabel('Número de Perguntas')\n",
    "plt.xticks(rotation=45)\n",
    "plt.tight_layout()\n",
    "plt.show()"
   ]
  },
  {
   "cell_type": "code",
   "execution_count": 16,
   "metadata": {},
   "outputs": [
    {
     "data": {
      "text/plain": [
       "categoria\n",
       "dermatologia    500\n",
       "ortopedia       500\n",
       "convenios       500\n",
       "neurologia      500\n",
       "nutricao        500\n",
       "gripe           500\n",
       "cardiologia     500\n",
       "consultas       500\n",
       "saude_mental    500\n",
       "Name: count, dtype: int64"
      ]
     },
     "execution_count": 16,
     "metadata": {},
     "output_type": "execute_result"
    }
   ],
   "source": [
    "df.categoria.value_counts()"
   ]
  },
  {
   "cell_type": "markdown",
   "metadata": {},
   "source": [
    "## Pré-processamento dos dados"
   ]
  },
  {
   "cell_type": "markdown",
   "metadata": {},
   "source": [
    "### Função de pré-processamento de texto"
   ]
  },
  {
   "cell_type": "code",
   "execution_count": 34,
   "metadata": {},
   "outputs": [],
   "source": [
    "# Função de pré-processamento do texto\n",
    "def preprocess_text(text):\n",
    "    # Transformando para minúsculas\n",
    "    text = text.lower()\n",
    "    \n",
    "    # Remover símbolos e pontuação usando expressão regular\n",
    "    text = re.sub(r'[^\\w\\s]', '', text)\n",
    "    \n",
    "    # Remover espaços extras\n",
    "    text = re.sub(r'\\s+', ' ', text).strip()\n",
    "    \n",
    "    return text\n",
    "\n",
    "# Função para avaliar métricas do modelo\n",
    "def evaluate_model(modelo, X_test, y_test, y_pred=None, titulo=''):\n",
    "    # Prever se não foi passado y_pred\n",
    "    if y_pred is None:\n",
    "        y_pred = modelo.predict(X_test)\n",
    "    \n",
    "    # Acurácia\n",
    "    acc = accuracy_score(y_test, y_pred)\n",
    "    print(f\"Acurácia: {acc:.4f}\")\n",
    "    \n",
    "    # Relatório de classificação\n",
    "    print(\"\\nRelatório de Classificação:\")\n",
    "    print(classification_report(y_test, y_pred))\n",
    "    \n",
    "    # Matriz de confusão\n",
    "    cm = confusion_matrix(y_test, y_pred)\n",
    "    plt.figure(figsize=(8, 6))\n",
    "    sns.heatmap(cm, annot=True, fmt='d', cmap='Blues', xticklabels=modelo.classes_, yticklabels=modelo.classes_)\n",
    "    plt.title(f'Matriz de Confusão - {titulo}')\n",
    "    plt.xlabel('Predito')\n",
    "    plt.ylabel('Verdadeiro')\n",
    "    plt.show()\n",
    "\n",
    "    # Curva ROC e AUC\n",
    "    y_test_bin = label_binarize(y_test, classes=np.unique(y_test))\n",
    "    if hasattr(modelo, \"predict_proba\"):\n",
    "        y_score = modelo.predict_proba(X_test)\n",
    "    elif hasattr(modelo, \"decision_function\"):\n",
    "        y_score = modelo.decision_function(X_test)\n",
    "    else:\n",
    "        print(\"Modelo não suporta ROC/AUC (sem predict_proba ou decision_function).\")\n",
    "        return\n",
    "    \n",
    "    n_classes = y_test_bin.shape[1]\n",
    "    fpr = dict()\n",
    "    tpr = dict()\n",
    "    roc_auc = dict()\n",
    "\n",
    "    plt.figure(figsize=(10, 7))\n",
    "    for i in range(n_classes):\n",
    "        fpr[i], tpr[i], _ = roc_curve(y_test_bin[:, i], y_score[:, i])\n",
    "        roc_auc[i] = roc_auc_score(y_test_bin[:, i], y_score[:, i])\n",
    "        plt.plot(fpr[i], tpr[i], label=f'Classe {i} (AUC = {roc_auc[i]:.2f})')\n",
    "\n",
    "    plt.plot([0, 1], [0, 1], 'k--')\n",
    "    plt.xlabel('FPR')\n",
    "    plt.ylabel('TPR')\n",
    "    plt.title(f'Curva ROC - {titulo}')\n",
    "    plt.legend(loc='lower right')\n",
    "    plt.grid()\n",
    "    plt.show()\n"
   ]
  },
  {
   "cell_type": "markdown",
   "metadata": {},
   "source": [
    "### Relizando limpeza de elementos não significativos nas perguntas"
   ]
  },
  {
   "cell_type": "code",
   "execution_count": 18,
   "metadata": {},
   "outputs": [
    {
     "data": {
      "text/html": [
       "<div>\n",
       "<style scoped>\n",
       "    .dataframe tbody tr th:only-of-type {\n",
       "        vertical-align: middle;\n",
       "    }\n",
       "\n",
       "    .dataframe tbody tr th {\n",
       "        vertical-align: top;\n",
       "    }\n",
       "\n",
       "    .dataframe thead th {\n",
       "        text-align: right;\n",
       "    }\n",
       "</style>\n",
       "<table border=\"1\" class=\"dataframe\">\n",
       "  <thead>\n",
       "    <tr style=\"text-align: right;\">\n",
       "      <th></th>\n",
       "      <th>pergunta</th>\n",
       "      <th>categoria</th>\n",
       "      <th>resposta</th>\n",
       "      <th>caracteres_pergunta</th>\n",
       "      <th>caracteres_categoria</th>\n",
       "      <th>caracteres_resposta</th>\n",
       "    </tr>\n",
       "  </thead>\n",
       "  <tbody>\n",
       "    <tr>\n",
       "      <th>0</th>\n",
       "      <td>tenho devo o rosto que no fazer espinhas</td>\n",
       "      <td>dermatologia</td>\n",
       "      <td>Você pode usar cremes específicos para acne e ...</td>\n",
       "      <td>42</td>\n",
       "      <td>12</td>\n",
       "      <td>116</td>\n",
       "    </tr>\n",
       "    <tr>\n",
       "      <th>1</th>\n",
       "      <td>com dor o estou nas pode ser costas que</td>\n",
       "      <td>ortopedia</td>\n",
       "      <td>A dor nas costas pode ser causada por tensão m...</td>\n",
       "      <td>41</td>\n",
       "      <td>9</td>\n",
       "      <td>143</td>\n",
       "    </tr>\n",
       "    <tr>\n",
       "      <th>2</th>\n",
       "      <td>aceitam x plano de vocês saúde</td>\n",
       "      <td>convenios</td>\n",
       "      <td>Sim, aceitamos o plano de saúde X. Você pode c...</td>\n",
       "      <td>31</td>\n",
       "      <td>9</td>\n",
       "      <td>100</td>\n",
       "    </tr>\n",
       "    <tr>\n",
       "      <th>3</th>\n",
       "      <td>posso estou com de o dor cabeça que fazer muita</td>\n",
       "      <td>neurologia</td>\n",
       "      <td>Se a dor de cabeça for muito forte e persistir...</td>\n",
       "      <td>49</td>\n",
       "      <td>10</td>\n",
       "      <td>193</td>\n",
       "    </tr>\n",
       "    <tr>\n",
       "      <th>4</th>\n",
       "      <td>o estou nas costas que pode ser com dor</td>\n",
       "      <td>ortopedia</td>\n",
       "      <td>A dor nas costas pode ser causada por tensão m...</td>\n",
       "      <td>41</td>\n",
       "      <td>9</td>\n",
       "      <td>143</td>\n",
       "    </tr>\n",
       "  </tbody>\n",
       "</table>\n",
       "</div>"
      ],
      "text/plain": [
       "                                          pergunta     categoria  \\\n",
       "0         tenho devo o rosto que no fazer espinhas  dermatologia   \n",
       "1          com dor o estou nas pode ser costas que     ortopedia   \n",
       "2                   aceitam x plano de vocês saúde     convenios   \n",
       "3  posso estou com de o dor cabeça que fazer muita    neurologia   \n",
       "4          o estou nas costas que pode ser com dor     ortopedia   \n",
       "\n",
       "                                            resposta  caracteres_pergunta  \\\n",
       "0  Você pode usar cremes específicos para acne e ...                   42   \n",
       "1  A dor nas costas pode ser causada por tensão m...                   41   \n",
       "2  Sim, aceitamos o plano de saúde X. Você pode c...                   31   \n",
       "3  Se a dor de cabeça for muito forte e persistir...                   49   \n",
       "4  A dor nas costas pode ser causada por tensão m...                   41   \n",
       "\n",
       "   caracteres_categoria  caracteres_resposta  \n",
       "0                    12                  116  \n",
       "1                     9                  143  \n",
       "2                     9                  100  \n",
       "3                    10                  193  \n",
       "4                     9                  143  "
      ]
     },
     "execution_count": 18,
     "metadata": {},
     "output_type": "execute_result"
    }
   ],
   "source": [
    "# Aplicando o pré-processamento nas perguntas\n",
    "df['pergunta'] = df['pergunta'].apply(preprocess_text)\n",
    "df.head()"
   ]
  },
  {
   "cell_type": "markdown",
   "metadata": {},
   "source": [
    "### Vetorizando os dados usando TF-IDF"
   ]
  },
  {
   "cell_type": "code",
   "execution_count": 19,
   "metadata": {},
   "outputs": [],
   "source": [
    "# Vetorizador TF-IDF\n",
    "vectorizer = TfidfVectorizer()\n",
    "\n",
    "# Transformando as perguntas em vetores TF-IDF\n",
    "X = vectorizer.fit_transform(df['pergunta'])\n",
    "\n",
    "# As categorias serão os rótulos (y)\n",
    "y = df['categoria']"
   ]
  },
  {
   "cell_type": "markdown",
   "metadata": {},
   "source": [
    "### Imprimindo a matriz esparsa da vetorização"
   ]
  },
  {
   "cell_type": "code",
   "execution_count": 20,
   "metadata": {},
   "outputs": [
    {
     "data": {
      "text/html": [
       "<div>\n",
       "<style scoped>\n",
       "    .dataframe tbody tr th:only-of-type {\n",
       "        vertical-align: middle;\n",
       "    }\n",
       "\n",
       "    .dataframe tbody tr th {\n",
       "        vertical-align: top;\n",
       "    }\n",
       "\n",
       "    .dataframe thead th {\n",
       "        text-align: right;\n",
       "    }\n",
       "</style>\n",
       "<table border=\"1\" class=\"dataframe\">\n",
       "  <thead>\n",
       "    <tr style=\"text-align: right;\">\n",
       "      <th></th>\n",
       "      <th>aceitam</th>\n",
       "      <th>acne</th>\n",
       "      <th>agendar</th>\n",
       "      <th>algum</th>\n",
       "      <th>alta</th>\n",
       "      <th>alto</th>\n",
       "      <th>ar</th>\n",
       "      <th>cabeça</th>\n",
       "      <th>carboidratos</th>\n",
       "      <th>checar</th>\n",
       "      <th>...</th>\n",
       "      <th>sintomas</th>\n",
       "      <th>são</th>\n",
       "      <th>também</th>\n",
       "      <th>tenho</th>\n",
       "      <th>tosse</th>\n",
       "      <th>tratamento</th>\n",
       "      <th>tratar</th>\n",
       "      <th>um</th>\n",
       "      <th>uma</th>\n",
       "      <th>vocês</th>\n",
       "    </tr>\n",
       "  </thead>\n",
       "  <tbody>\n",
       "    <tr>\n",
       "      <th>0</th>\n",
       "      <td>0.000000</td>\n",
       "      <td>0.0</td>\n",
       "      <td>0.0</td>\n",
       "      <td>0.0</td>\n",
       "      <td>0.0</td>\n",
       "      <td>0.0</td>\n",
       "      <td>0.0</td>\n",
       "      <td>0.000000</td>\n",
       "      <td>0.0</td>\n",
       "      <td>0.0</td>\n",
       "      <td>...</td>\n",
       "      <td>0.0</td>\n",
       "      <td>0.0</td>\n",
       "      <td>0.0</td>\n",
       "      <td>0.448464</td>\n",
       "      <td>0.0</td>\n",
       "      <td>0.0</td>\n",
       "      <td>0.0</td>\n",
       "      <td>0.0</td>\n",
       "      <td>0.0</td>\n",
       "      <td>0.000000</td>\n",
       "    </tr>\n",
       "    <tr>\n",
       "      <th>1</th>\n",
       "      <td>0.000000</td>\n",
       "      <td>0.0</td>\n",
       "      <td>0.0</td>\n",
       "      <td>0.0</td>\n",
       "      <td>0.0</td>\n",
       "      <td>0.0</td>\n",
       "      <td>0.0</td>\n",
       "      <td>0.000000</td>\n",
       "      <td>0.0</td>\n",
       "      <td>0.0</td>\n",
       "      <td>...</td>\n",
       "      <td>0.0</td>\n",
       "      <td>0.0</td>\n",
       "      <td>0.0</td>\n",
       "      <td>0.000000</td>\n",
       "      <td>0.0</td>\n",
       "      <td>0.0</td>\n",
       "      <td>0.0</td>\n",
       "      <td>0.0</td>\n",
       "      <td>0.0</td>\n",
       "      <td>0.000000</td>\n",
       "    </tr>\n",
       "    <tr>\n",
       "      <th>2</th>\n",
       "      <td>0.454897</td>\n",
       "      <td>0.0</td>\n",
       "      <td>0.0</td>\n",
       "      <td>0.0</td>\n",
       "      <td>0.0</td>\n",
       "      <td>0.0</td>\n",
       "      <td>0.0</td>\n",
       "      <td>0.000000</td>\n",
       "      <td>0.0</td>\n",
       "      <td>0.0</td>\n",
       "      <td>...</td>\n",
       "      <td>0.0</td>\n",
       "      <td>0.0</td>\n",
       "      <td>0.0</td>\n",
       "      <td>0.000000</td>\n",
       "      <td>0.0</td>\n",
       "      <td>0.0</td>\n",
       "      <td>0.0</td>\n",
       "      <td>0.0</td>\n",
       "      <td>0.0</td>\n",
       "      <td>0.454897</td>\n",
       "    </tr>\n",
       "    <tr>\n",
       "      <th>3</th>\n",
       "      <td>0.000000</td>\n",
       "      <td>0.0</td>\n",
       "      <td>0.0</td>\n",
       "      <td>0.0</td>\n",
       "      <td>0.0</td>\n",
       "      <td>0.0</td>\n",
       "      <td>0.0</td>\n",
       "      <td>0.413959</td>\n",
       "      <td>0.0</td>\n",
       "      <td>0.0</td>\n",
       "      <td>...</td>\n",
       "      <td>0.0</td>\n",
       "      <td>0.0</td>\n",
       "      <td>0.0</td>\n",
       "      <td>0.000000</td>\n",
       "      <td>0.0</td>\n",
       "      <td>0.0</td>\n",
       "      <td>0.0</td>\n",
       "      <td>0.0</td>\n",
       "      <td>0.0</td>\n",
       "      <td>0.000000</td>\n",
       "    </tr>\n",
       "    <tr>\n",
       "      <th>4</th>\n",
       "      <td>0.000000</td>\n",
       "      <td>0.0</td>\n",
       "      <td>0.0</td>\n",
       "      <td>0.0</td>\n",
       "      <td>0.0</td>\n",
       "      <td>0.0</td>\n",
       "      <td>0.0</td>\n",
       "      <td>0.000000</td>\n",
       "      <td>0.0</td>\n",
       "      <td>0.0</td>\n",
       "      <td>...</td>\n",
       "      <td>0.0</td>\n",
       "      <td>0.0</td>\n",
       "      <td>0.0</td>\n",
       "      <td>0.000000</td>\n",
       "      <td>0.0</td>\n",
       "      <td>0.0</td>\n",
       "      <td>0.0</td>\n",
       "      <td>0.0</td>\n",
       "      <td>0.0</td>\n",
       "      <td>0.000000</td>\n",
       "    </tr>\n",
       "  </tbody>\n",
       "</table>\n",
       "<p>5 rows × 75 columns</p>\n",
       "</div>"
      ],
      "text/plain": [
       "    aceitam  acne  agendar  algum  alta  alto   ar    cabeça  carboidratos  \\\n",
       "0  0.000000   0.0      0.0    0.0   0.0   0.0  0.0  0.000000           0.0   \n",
       "1  0.000000   0.0      0.0    0.0   0.0   0.0  0.0  0.000000           0.0   \n",
       "2  0.454897   0.0      0.0    0.0   0.0   0.0  0.0  0.000000           0.0   \n",
       "3  0.000000   0.0      0.0    0.0   0.0   0.0  0.0  0.413959           0.0   \n",
       "4  0.000000   0.0      0.0    0.0   0.0   0.0  0.0  0.000000           0.0   \n",
       "\n",
       "   checar  ...  sintomas  são  também     tenho  tosse  tratamento  tratar  \\\n",
       "0     0.0  ...       0.0  0.0     0.0  0.448464    0.0         0.0     0.0   \n",
       "1     0.0  ...       0.0  0.0     0.0  0.000000    0.0         0.0     0.0   \n",
       "2     0.0  ...       0.0  0.0     0.0  0.000000    0.0         0.0     0.0   \n",
       "3     0.0  ...       0.0  0.0     0.0  0.000000    0.0         0.0     0.0   \n",
       "4     0.0  ...       0.0  0.0     0.0  0.000000    0.0         0.0     0.0   \n",
       "\n",
       "    um  uma     vocês  \n",
       "0  0.0  0.0  0.000000  \n",
       "1  0.0  0.0  0.000000  \n",
       "2  0.0  0.0  0.454897  \n",
       "3  0.0  0.0  0.000000  \n",
       "4  0.0  0.0  0.000000  \n",
       "\n",
       "[5 rows x 75 columns]"
      ]
     },
     "execution_count": 20,
     "metadata": {},
     "output_type": "execute_result"
    }
   ],
   "source": [
    "X_df = pd.DataFrame(X.toarray(), columns=vectorizer.get_feature_names_out())\n",
    "X_df.head()"
   ]
  },
  {
   "cell_type": "markdown",
   "metadata": {},
   "source": [
    "### Convertendo as labels literais em labels numéricas"
   ]
  },
  {
   "cell_type": "code",
   "execution_count": 21,
   "metadata": {},
   "outputs": [
    {
     "name": "stdout",
     "output_type": "stream",
     "text": [
      "Categorias codificadas: [3 7 2 ... 6 7 5]\n",
      "Classes: ['cardiologia' 'consultas' 'convenios' 'dermatologia' 'gripe' 'neurologia'\n",
      " 'nutricao' 'ortopedia' 'saude_mental']\n"
     ]
    }
   ],
   "source": [
    "encoder = LabelEncoder()\n",
    "y_encoded = encoder.fit_transform(y)\n",
    "\n",
    "# Se quiser ver o resultado:\n",
    "print(\"Categorias codificadas:\", y_encoded)\n",
    "print(\"Classes:\", encoder.classes_)"
   ]
  },
  {
   "cell_type": "markdown",
   "metadata": {},
   "source": [
    "## Treinamento dos modelos"
   ]
  },
  {
   "cell_type": "markdown",
   "metadata": {},
   "source": [
    "### Separando conjunto de dados em treino e teste"
   ]
  },
  {
   "cell_type": "code",
   "execution_count": 22,
   "metadata": {},
   "outputs": [],
   "source": [
    "# Separar os dados em treino e teste\n",
    "X_train, X_test, y_train, y_test = train_test_split(X, y_encoded, test_size=0.3, random_state=42)"
   ]
  },
  {
   "cell_type": "markdown",
   "metadata": {},
   "source": [
    "### Regressão Logística"
   ]
  },
  {
   "cell_type": "code",
   "execution_count": null,
   "metadata": {},
   "outputs": [
    {
     "ename": "InvalidParameterError",
     "evalue": "The 'y_pred' parameter of accuracy_score must be an array-like or a sparse matrix. Got 'Regressão Logística' instead.",
     "output_type": "error",
     "traceback": [
      "\u001b[0;31m---------------------------------------------------------------------------\u001b[0m",
      "\u001b[0;31mInvalidParameterError\u001b[0m                     Traceback (most recent call last)",
      "Cell \u001b[0;32mIn[35], line 6\u001b[0m\n\u001b[1;32m      2\u001b[0m model \u001b[38;5;241m=\u001b[39m LogisticRegression(max_iter\u001b[38;5;241m=\u001b[39m\u001b[38;5;241m1000\u001b[39m)\n\u001b[1;32m      3\u001b[0m model\u001b[38;5;241m.\u001b[39mfit(X_train, y_train)\n\u001b[0;32m----> 6\u001b[0m \u001b[43mevaluate_model\u001b[49m\u001b[43m(\u001b[49m\u001b[43mmodel\u001b[49m\u001b[43m,\u001b[49m\u001b[43m \u001b[49m\u001b[43mX_test\u001b[49m\u001b[43m,\u001b[49m\u001b[43m \u001b[49m\u001b[43my_test\u001b[49m\u001b[43m,\u001b[49m\u001b[43m \u001b[49m\u001b[38;5;124;43m'\u001b[39;49m\u001b[38;5;124;43mRegressão Logística\u001b[39;49m\u001b[38;5;124;43m'\u001b[39;49m\u001b[43m)\u001b[49m\n\u001b[1;32m      8\u001b[0m \u001b[38;5;66;03m# Avaliar o desempenho\u001b[39;00m\n\u001b[1;32m      9\u001b[0m \u001b[38;5;66;03m#print(\"Acurácia:\", accuracy_score(y_test, y_pred))\u001b[39;00m\n\u001b[1;32m     10\u001b[0m \u001b[38;5;66;03m#print(\"\\nRelatório de Classificação:\")\u001b[39;00m\n\u001b[1;32m     11\u001b[0m \u001b[38;5;66;03m#print(classification_report(y_test, y_pred, target_names=encoder.classes_))\u001b[39;00m\n",
      "Cell \u001b[0;32mIn[34], line 21\u001b[0m, in \u001b[0;36mevaluate_model\u001b[0;34m(modelo, X_test, y_test, y_pred, titulo)\u001b[0m\n\u001b[1;32m     18\u001b[0m     y_pred \u001b[38;5;241m=\u001b[39m modelo\u001b[38;5;241m.\u001b[39mpredict(X_test)\n\u001b[1;32m     20\u001b[0m \u001b[38;5;66;03m# Acurácia\u001b[39;00m\n\u001b[0;32m---> 21\u001b[0m acc \u001b[38;5;241m=\u001b[39m \u001b[43maccuracy_score\u001b[49m\u001b[43m(\u001b[49m\u001b[43my_test\u001b[49m\u001b[43m,\u001b[49m\u001b[43m \u001b[49m\u001b[43my_pred\u001b[49m\u001b[43m)\u001b[49m\n\u001b[1;32m     22\u001b[0m \u001b[38;5;28mprint\u001b[39m(\u001b[38;5;124mf\u001b[39m\u001b[38;5;124m\"\u001b[39m\u001b[38;5;124mAcurácia: \u001b[39m\u001b[38;5;132;01m{\u001b[39;00macc\u001b[38;5;132;01m:\u001b[39;00m\u001b[38;5;124m.4f\u001b[39m\u001b[38;5;132;01m}\u001b[39;00m\u001b[38;5;124m\"\u001b[39m)\n\u001b[1;32m     24\u001b[0m \u001b[38;5;66;03m# Relatório de classificação\u001b[39;00m\n",
      "File \u001b[0;32m~/Documentos/portifolio_jonnathann/env_ra/lib/python3.9/site-packages/sklearn/utils/_param_validation.py:206\u001b[0m, in \u001b[0;36mvalidate_params.<locals>.decorator.<locals>.wrapper\u001b[0;34m(*args, **kwargs)\u001b[0m\n\u001b[1;32m    203\u001b[0m to_ignore \u001b[38;5;241m+\u001b[39m\u001b[38;5;241m=\u001b[39m [\u001b[38;5;124m\"\u001b[39m\u001b[38;5;124mself\u001b[39m\u001b[38;5;124m\"\u001b[39m, \u001b[38;5;124m\"\u001b[39m\u001b[38;5;124mcls\u001b[39m\u001b[38;5;124m\"\u001b[39m]\n\u001b[1;32m    204\u001b[0m params \u001b[38;5;241m=\u001b[39m {k: v \u001b[38;5;28;01mfor\u001b[39;00m k, v \u001b[38;5;129;01min\u001b[39;00m params\u001b[38;5;241m.\u001b[39marguments\u001b[38;5;241m.\u001b[39mitems() \u001b[38;5;28;01mif\u001b[39;00m k \u001b[38;5;129;01mnot\u001b[39;00m \u001b[38;5;129;01min\u001b[39;00m to_ignore}\n\u001b[0;32m--> 206\u001b[0m \u001b[43mvalidate_parameter_constraints\u001b[49m\u001b[43m(\u001b[49m\n\u001b[1;32m    207\u001b[0m \u001b[43m    \u001b[49m\u001b[43mparameter_constraints\u001b[49m\u001b[43m,\u001b[49m\u001b[43m \u001b[49m\u001b[43mparams\u001b[49m\u001b[43m,\u001b[49m\u001b[43m \u001b[49m\u001b[43mcaller_name\u001b[49m\u001b[38;5;241;43m=\u001b[39;49m\u001b[43mfunc\u001b[49m\u001b[38;5;241;43m.\u001b[39;49m\u001b[38;5;18;43m__qualname__\u001b[39;49m\n\u001b[1;32m    208\u001b[0m \u001b[43m\u001b[49m\u001b[43m)\u001b[49m\n\u001b[1;32m    210\u001b[0m \u001b[38;5;28;01mtry\u001b[39;00m:\n\u001b[1;32m    211\u001b[0m     \u001b[38;5;28;01mwith\u001b[39;00m config_context(\n\u001b[1;32m    212\u001b[0m         skip_parameter_validation\u001b[38;5;241m=\u001b[39m(\n\u001b[1;32m    213\u001b[0m             prefer_skip_nested_validation \u001b[38;5;129;01mor\u001b[39;00m global_skip_validation\n\u001b[1;32m    214\u001b[0m         )\n\u001b[1;32m    215\u001b[0m     ):\n",
      "File \u001b[0;32m~/Documentos/portifolio_jonnathann/env_ra/lib/python3.9/site-packages/sklearn/utils/_param_validation.py:98\u001b[0m, in \u001b[0;36mvalidate_parameter_constraints\u001b[0;34m(parameter_constraints, params, caller_name)\u001b[0m\n\u001b[1;32m     92\u001b[0m \u001b[38;5;28;01melse\u001b[39;00m:\n\u001b[1;32m     93\u001b[0m     constraints_str \u001b[38;5;241m=\u001b[39m (\n\u001b[1;32m     94\u001b[0m         \u001b[38;5;124mf\u001b[39m\u001b[38;5;124m\"\u001b[39m\u001b[38;5;132;01m{\u001b[39;00m\u001b[38;5;124m'\u001b[39m\u001b[38;5;124m, \u001b[39m\u001b[38;5;124m'\u001b[39m\u001b[38;5;241m.\u001b[39mjoin([\u001b[38;5;28mstr\u001b[39m(c)\u001b[38;5;250m \u001b[39m\u001b[38;5;28;01mfor\u001b[39;00m\u001b[38;5;250m \u001b[39mc\u001b[38;5;250m \u001b[39m\u001b[38;5;129;01min\u001b[39;00m\u001b[38;5;250m \u001b[39mconstraints[:\u001b[38;5;241m-\u001b[39m\u001b[38;5;241m1\u001b[39m]])\u001b[38;5;132;01m}\u001b[39;00m\u001b[38;5;124m or\u001b[39m\u001b[38;5;124m\"\u001b[39m\n\u001b[1;32m     95\u001b[0m         \u001b[38;5;124mf\u001b[39m\u001b[38;5;124m\"\u001b[39m\u001b[38;5;124m \u001b[39m\u001b[38;5;132;01m{\u001b[39;00mconstraints[\u001b[38;5;241m-\u001b[39m\u001b[38;5;241m1\u001b[39m]\u001b[38;5;132;01m}\u001b[39;00m\u001b[38;5;124m\"\u001b[39m\n\u001b[1;32m     96\u001b[0m     )\n\u001b[0;32m---> 98\u001b[0m \u001b[38;5;28;01mraise\u001b[39;00m InvalidParameterError(\n\u001b[1;32m     99\u001b[0m     \u001b[38;5;124mf\u001b[39m\u001b[38;5;124m\"\u001b[39m\u001b[38;5;124mThe \u001b[39m\u001b[38;5;132;01m{\u001b[39;00mparam_name\u001b[38;5;132;01m!r}\u001b[39;00m\u001b[38;5;124m parameter of \u001b[39m\u001b[38;5;132;01m{\u001b[39;00mcaller_name\u001b[38;5;132;01m}\u001b[39;00m\u001b[38;5;124m must be\u001b[39m\u001b[38;5;124m\"\u001b[39m\n\u001b[1;32m    100\u001b[0m     \u001b[38;5;124mf\u001b[39m\u001b[38;5;124m\"\u001b[39m\u001b[38;5;124m \u001b[39m\u001b[38;5;132;01m{\u001b[39;00mconstraints_str\u001b[38;5;132;01m}\u001b[39;00m\u001b[38;5;124m. Got \u001b[39m\u001b[38;5;132;01m{\u001b[39;00mparam_val\u001b[38;5;132;01m!r}\u001b[39;00m\u001b[38;5;124m instead.\u001b[39m\u001b[38;5;124m\"\u001b[39m\n\u001b[1;32m    101\u001b[0m )\n",
      "\u001b[0;31mInvalidParameterError\u001b[0m: The 'y_pred' parameter of accuracy_score must be an array-like or a sparse matrix. Got 'Regressão Logística' instead."
     ]
    }
   ],
   "source": [
    "# Instanciar e treinar o modelo\n",
    "model = LogisticRegression(max_iter=1000)\n",
    "model.fit(X_train, y_train)\n",
    "\n",
    "\n",
    "evaluate_model(model, X_test, y_test, titulo='Regressão Logística')\n",
    "\n",
    "# Avaliar o desempenho\n",
    "#print(\"Acurácia:\", accuracy_score(y_test, y_pred))\n",
    "#print(\"\\nRelatório de Classificação:\")\n",
    "#print(classification_report(y_test, y_pred, target_names=encoder.classes_))"
   ]
  },
  {
   "cell_type": "markdown",
   "metadata": {},
   "source": [
    "### Random Forest"
   ]
  },
  {
   "cell_type": "code",
   "execution_count": 24,
   "metadata": {},
   "outputs": [
    {
     "name": "stdout",
     "output_type": "stream",
     "text": [
      "Acurácia: 1.0\n",
      "\n",
      "Relatório de Classificação:\n",
      "              precision    recall  f1-score   support\n",
      "\n",
      " cardiologia       1.00      1.00      1.00       143\n",
      "   consultas       1.00      1.00      1.00       136\n",
      "   convenios       1.00      1.00      1.00       150\n",
      "dermatologia       1.00      1.00      1.00       164\n",
      "       gripe       1.00      1.00      1.00       167\n",
      "  neurologia       1.00      1.00      1.00       163\n",
      "    nutricao       1.00      1.00      1.00       146\n",
      "   ortopedia       1.00      1.00      1.00       131\n",
      "saude_mental       1.00      1.00      1.00       150\n",
      "\n",
      "    accuracy                           1.00      1350\n",
      "   macro avg       1.00      1.00      1.00      1350\n",
      "weighted avg       1.00      1.00      1.00      1350\n",
      "\n"
     ]
    }
   ],
   "source": [
    "# Treinamento do modelo\n",
    "rf_model = RandomForestClassifier(random_state=42)\n",
    "rf_model.fit(X_train, y_train)\n",
    "\n",
    "# Previsões\n",
    "y_pred_rf = rf_model.predict(X_test)\n",
    "\n",
    "# Avaliação\n",
    "print(\"Acurácia:\", accuracy_score(y_test, y_pred_rf))\n",
    "print(\"\\nRelatório de Classificação:\")\n",
    "print(classification_report(y_test, y_pred_rf, target_names= encoder.classes_))"
   ]
  },
  {
   "cell_type": "markdown",
   "metadata": {},
   "source": [
    "### K-Nearest Neighbors"
   ]
  },
  {
   "cell_type": "code",
   "execution_count": 25,
   "metadata": {},
   "outputs": [
    {
     "name": "stdout",
     "output_type": "stream",
     "text": [
      "Acurácia do KNN: 1.0\n",
      "Relatório de Classificação (KNN):\n",
      "              precision    recall  f1-score   support\n",
      "\n",
      "           0       1.00      1.00      1.00       143\n",
      "           1       1.00      1.00      1.00       136\n",
      "           2       1.00      1.00      1.00       150\n",
      "           3       1.00      1.00      1.00       164\n",
      "           4       1.00      1.00      1.00       167\n",
      "           5       1.00      1.00      1.00       163\n",
      "           6       1.00      1.00      1.00       146\n",
      "           7       1.00      1.00      1.00       131\n",
      "           8       1.00      1.00      1.00       150\n",
      "\n",
      "    accuracy                           1.00      1350\n",
      "   macro avg       1.00      1.00      1.00      1350\n",
      "weighted avg       1.00      1.00      1.00      1350\n",
      "\n"
     ]
    }
   ],
   "source": [
    "# Criar o modelo KNN\n",
    "knn = KNeighborsClassifier(n_neighbors=5)\n",
    "\n",
    "# Treinar o modelo\n",
    "knn.fit(X_train, y_train)\n",
    "\n",
    "# Fazer previsões\n",
    "y_pred_knn = knn.predict(X_test)\n",
    "\n",
    "# Calcular a acurácia\n",
    "acuracia_knn = accuracy_score(y_test, y_pred_knn)\n",
    "print(f'Acurácia do KNN: {acuracia_knn}')\n",
    "\n",
    "# Relatório de classificação\n",
    "print(\"Relatório de Classificação (KNN):\")\n",
    "print(classification_report(y_test, y_pred_knn))"
   ]
  },
  {
   "cell_type": "markdown",
   "metadata": {},
   "source": [
    "### Support Vector Machines"
   ]
  },
  {
   "cell_type": "code",
   "execution_count": 26,
   "metadata": {},
   "outputs": [
    {
     "name": "stdout",
     "output_type": "stream",
     "text": [
      "Acurácia do SVM: 1.0\n",
      "Relatório de Classificação (KNN):\n",
      "              precision    recall  f1-score   support\n",
      "\n",
      "           0       1.00      1.00      1.00       143\n",
      "           1       1.00      1.00      1.00       136\n",
      "           2       1.00      1.00      1.00       150\n",
      "           3       1.00      1.00      1.00       164\n",
      "           4       1.00      1.00      1.00       167\n",
      "           5       1.00      1.00      1.00       163\n",
      "           6       1.00      1.00      1.00       146\n",
      "           7       1.00      1.00      1.00       131\n",
      "           8       1.00      1.00      1.00       150\n",
      "\n",
      "    accuracy                           1.00      1350\n",
      "   macro avg       1.00      1.00      1.00      1350\n",
      "weighted avg       1.00      1.00      1.00      1350\n",
      "\n"
     ]
    }
   ],
   "source": [
    "# Inicializando o modelo SVM\n",
    "svm_model = SVC(kernel='linear')  # Usando um kernel linear\n",
    "\n",
    "# Treinando o modelo com os dados\n",
    "svm_model.fit(X_train, y_train)\n",
    "\n",
    "# Realizando previsões\n",
    "y_pred_svm = svm_model.predict(X_test)\n",
    "\n",
    "# Calcular a acurácia\n",
    "acuracia_svm = accuracy_score(y_test, y_pred_svm)\n",
    "print(f'Acurácia do SVM: {acuracia_svm}')\n",
    "\n",
    "# Relatório de classificação\n",
    "print(\"Relatório de Classificação (KNN):\")\n",
    "print(classification_report(y_test, y_pred_svm))"
   ]
  }
 ],
 "metadata": {
  "kernelspec": {
   "display_name": "env_ra",
   "language": "python",
   "name": "python3"
  },
  "language_info": {
   "codemirror_mode": {
    "name": "ipython",
    "version": 3
   },
   "file_extension": ".py",
   "mimetype": "text/x-python",
   "name": "python",
   "nbconvert_exporter": "python",
   "pygments_lexer": "ipython3",
   "version": "3.9.12"
  }
 },
 "nbformat": 4,
 "nbformat_minor": 2
}
