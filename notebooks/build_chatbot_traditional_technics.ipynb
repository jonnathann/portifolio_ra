{
 "cells": [
  {
   "cell_type": "markdown",
   "metadata": {},
   "source": [
    "# Construindo chatbot de atendimento médico com técnicas tradicionais de machine learning"
   ]
  },
  {
   "cell_type": "markdown",
   "metadata": {},
   "source": [
    "## Imports"
   ]
  },
  {
   "cell_type": "code",
   "execution_count": 76,
   "metadata": {},
   "outputs": [],
   "source": [
    "import pandas as pd\n",
    "import seaborn as sns\n",
    "import matplotlib.pyplot as plt\n",
    "import re\n",
    "import random\n",
    "from collections import Counter\n",
    "from faker import Faker\n",
    "from sklearn.feature_extraction.text import TfidfVectorizer\n",
    "from sklearn.preprocessing import LabelEncoder\n",
    "from sklearn.linear_model import LogisticRegression\n",
    "from sklearn.ensemble import RandomForestClassifier\n",
    "from sklearn.model_selection import train_test_split\n",
    "from sklearn.metrics import classification_report, accuracy_score\n",
    "from sklearn.neighbors import KNeighborsClassifier\n",
    "from sklearn.svm import SVC\n"
   ]
  },
  {
   "cell_type": "markdown",
   "metadata": {},
   "source": [
    "## Dataset"
   ]
  },
  {
   "cell_type": "markdown",
   "metadata": {},
   "source": [
    "### Construindo o dataset para o chatboot médico"
   ]
  },
  {
   "cell_type": "code",
   "execution_count": 37,
   "metadata": {},
   "outputs": [],
   "source": [
    "import random\n",
    "import pandas as pd\n",
    "\n",
    "# Dados base com perguntas, categorias e respostas\n",
    "data = [\n",
    "    (\"Quais são os sintomas da gripe?\", \"gripe\", \"Os sintomas da gripe incluem febre, dor no corpo, calafrios, dor de garganta e tosse.\"),\n",
    "    (\"Estou com febre e dor no corpo, é gripe?\", \"gripe\", \"Esses sintomas são comuns na gripe. Se você estiver com tosse e dor no corpo também, pode ser a gripe.\"),\n",
    "    (\"Como saber se estou gripado?\", \"gripe\", \"A gripe geralmente apresenta febre, calafrios, dor de cabeça e dor muscular. Se você tiver esses sintomas, é possível que seja gripe.\"),\n",
    "    (\"Estou com febre alta e dor no corpo, o que pode ser?\", \"gripe\", \"Esses sintomas podem ser causados por várias condições, como a gripe ou até a Covid-19. Você já teve contato com alguém que testou positivo para Covid-19 recentemente?\"),\n",
    "    (\"Não, mas estou com tosse também.\", \"gripe\", \"A tosse junto com febre é uma característica comum da gripe. Recomendo que você procure um médico para uma avaliação mais detalhada.\"),\n",
    "    \n",
    "    (\"Quais os sintomas de um infarto?\", \"cardiologia\", \"Os sintomas incluem dor no peito, falta de ar, dor nas costas e suor excessivo.\"),\n",
    "    (\"Estou com dor no peito e falta de ar, isso pode ser um infarto?\", \"cardiologia\", \"Sim, esses podem ser sintomas de infarto. Procure ajuda médica imediatamente.\"),\n",
    "    (\"Quais exames devo fazer para checar a saúde do coração?\", \"cardiologia\", \"Os exames mais comuns incluem o eletrocardiograma (ECG), ecocardiograma e testes de esforço.\"),\n",
    "    (\"Como posso saber se meu colesterol está alto?\", \"cardiologia\", \"Você pode verificar seu colesterol através de um exame de sangue chamado lipidograma, que mede os níveis de colesterol e triglicerídeos.\"),\n",
    "\n",
    "    (\"Como posso tratar acne?\", \"dermatologia\", \"A acne pode ser tratada com medicamentos tópicos, como peróxido de benzoíla ou cremes com retinoides.\"),\n",
    "    (\"Tenho espinhas no rosto, o que devo fazer?\", \"dermatologia\", \"Você pode usar cremes específicos para acne e evitar apertar as espinhas. Se necessário, consulte um dermatologista.\"),\n",
    "\n",
    "    (\"O que é depressão?\", \"saude_mental\", \"A depressão é um transtorno mental caracterizado por sentimentos persistentes de tristeza, perda de interesse nas atividades diárias e cansaço extremo.\"),\n",
    "    (\"Quais são os sintomas da depressão?\", \"saude_mental\", \"Os sintomas incluem tristeza constante, dificuldade de concentração, insônia ou sono excessivo, e perda de apetite.\"),\n",
    "\n",
    "    (\"Qual a melhor dieta para perder peso?\", \"nutricao\", \"Uma dieta balanceada, com controle de calorias e aumento do consumo de vegetais, é eficaz para perda de peso.\"),\n",
    "    (\"Devo cortar carboidratos para emagrecer?\", \"nutricao\", \"Não é necessário cortar carboidratos totalmente. O importante é escolher carboidratos saudáveis e consumi-los com moderação.\"),\n",
    "\n",
    "    (\"Vocês aceitam plano de saúde X?\", \"convenios\", \"Sim, aceitamos o plano de saúde X. Você pode consultar as coberturas diretamente com nossa recepção.\"),\n",
    "    (\"Quais planos de saúde vocês aceitam?\", \"convenios\", \"Aceitamos planos como Amil, Bradesco Saúde e Unimed. Consulte as condições com a recepção.\"),\n",
    "\n",
    "    (\"Como posso agendar uma consulta?\", \"consultas\", \"Você pode agendar sua consulta através do nosso portal online ou entrando em contato com a recepção.\"),\n",
    "    (\"Preciso levar algum exame para a consulta?\", \"consultas\", \"Recomendamos que leve os exames mais recentes, caso tenha algum, para facilitar a avaliação do médico.\"),\n",
    "\n",
    "    (\"Qual o melhor tratamento para dor nas costas?\", \"ortopedia\", \"O tratamento pode incluir fisioterapia, medicamentos anti-inflamatórios e, em alguns casos, cirurgia.\"),\n",
    "    (\"Estou com dor nas costas, o que pode ser?\", \"ortopedia\", \"A dor nas costas pode ser causada por tensão muscular, problemas na coluna ou até uma hérnia. É importante procurar um médico para diagnóstico.\"),\n",
    "    (\"Como saber se a dor nas costas é grave?\", \"ortopedia\", \"A dor nas costas pode ser grave se for acompanhada de dormência, fraqueza nas pernas ou dificuldade de movimentação. Caso esses sintomas apareçam, procure um médico imediatamente.\"),\n",
    "\n",
    "    (\"Estou com muita dor de cabeça, o que posso fazer?\", \"neurologia\", \"Se a dor de cabeça for muito forte e persistir, pode ser sinal de enxaqueca ou outro problema. Tente descansar em um local tranquilo e tomar um analgésico, mas se persistir, consulte um médico.\")\n",
    "]\n",
    "\n",
    "# Agrupar por categoria\n",
    "from collections import defaultdict\n",
    "category_dict = defaultdict(list)\n",
    "for q, c, a in data:\n",
    "    category_dict[c].append((q, a))\n",
    "\n",
    "# Gerar dados sintéticos balanceados\n",
    "synthetic_data = []\n",
    "target_per_class = 500\n",
    "\n",
    "for category, qa_list in category_dict.items():\n",
    "    for _ in range(target_per_class):\n",
    "        q, a = random.choice(qa_list)\n",
    "        # Introduzir leve embaralhamento nas perguntas\n",
    "        q_words = q.split()\n",
    "        random.shuffle(q_words)\n",
    "        shuffled_q = ' '.join(q_words)\n",
    "        synthetic_data.append((shuffled_q, category, a))\n",
    "\n",
    "# Embaralhar os dados\n",
    "random.shuffle(synthetic_data)\n",
    "\n",
    "# Converter para DataFrame\n",
    "df = pd.DataFrame(synthetic_data, columns=[\"pergunta\", \"categoria\", \"resposta\"])\n",
    "df.to_csv('../data/processed/nlp_chatbot_dataset.csv')"
   ]
  },
  {
   "cell_type": "markdown",
   "metadata": {},
   "source": [
    "### Lendo o dataset criado"
   ]
  },
  {
   "cell_type": "code",
   "execution_count": 38,
   "metadata": {},
   "outputs": [
    {
     "data": {
      "text/html": [
       "<div>\n",
       "<style scoped>\n",
       "    .dataframe tbody tr th:only-of-type {\n",
       "        vertical-align: middle;\n",
       "    }\n",
       "\n",
       "    .dataframe tbody tr th {\n",
       "        vertical-align: top;\n",
       "    }\n",
       "\n",
       "    .dataframe thead th {\n",
       "        text-align: right;\n",
       "    }\n",
       "</style>\n",
       "<table border=\"1\" class=\"dataframe\">\n",
       "  <thead>\n",
       "    <tr style=\"text-align: right;\">\n",
       "      <th></th>\n",
       "      <th>pergunta</th>\n",
       "      <th>categoria</th>\n",
       "      <th>resposta</th>\n",
       "    </tr>\n",
       "  </thead>\n",
       "  <tbody>\n",
       "    <tr>\n",
       "      <th>0</th>\n",
       "      <td>o no rosto, Tenho fazer? devo espinhas que</td>\n",
       "      <td>dermatologia</td>\n",
       "      <td>Você pode usar cremes específicos para acne e ...</td>\n",
       "    </tr>\n",
       "    <tr>\n",
       "      <th>1</th>\n",
       "      <td>fazer? de posso cabeça, dor que muita Estou o com</td>\n",
       "      <td>neurologia</td>\n",
       "      <td>Se a dor de cabeça for muito forte e persistir...</td>\n",
       "    </tr>\n",
       "    <tr>\n",
       "      <th>2</th>\n",
       "      <td>muita fazer? Estou o que dor cabeça, de posso com</td>\n",
       "      <td>neurologia</td>\n",
       "      <td>Se a dor de cabeça for muito forte e persistir...</td>\n",
       "    </tr>\n",
       "    <tr>\n",
       "      <th>3</th>\n",
       "      <td>com o dor muita que Estou fazer? de posso cabeça,</td>\n",
       "      <td>neurologia</td>\n",
       "      <td>Se a dor de cabeça for muito forte e persistir...</td>\n",
       "    </tr>\n",
       "    <tr>\n",
       "      <th>4</th>\n",
       "      <td>uma posso Como agendar consulta?</td>\n",
       "      <td>consultas</td>\n",
       "      <td>Você pode agendar sua consulta através do noss...</td>\n",
       "    </tr>\n",
       "  </tbody>\n",
       "</table>\n",
       "</div>"
      ],
      "text/plain": [
       "                                            pergunta     categoria  \\\n",
       "0         o no rosto, Tenho fazer? devo espinhas que  dermatologia   \n",
       "1  fazer? de posso cabeça, dor que muita Estou o com    neurologia   \n",
       "2  muita fazer? Estou o que dor cabeça, de posso com    neurologia   \n",
       "3  com o dor muita que Estou fazer? de posso cabeça,    neurologia   \n",
       "4                   uma posso Como agendar consulta?     consultas   \n",
       "\n",
       "                                            resposta  \n",
       "0  Você pode usar cremes específicos para acne e ...  \n",
       "1  Se a dor de cabeça for muito forte e persistir...  \n",
       "2  Se a dor de cabeça for muito forte e persistir...  \n",
       "3  Se a dor de cabeça for muito forte e persistir...  \n",
       "4  Você pode agendar sua consulta através do noss...  "
      ]
     },
     "execution_count": 38,
     "metadata": {},
     "output_type": "execute_result"
    }
   ],
   "source": [
    "df = pd.read_csv('../data/processed/nlp_chatbot_dataset.csv').drop('Unnamed: 0', axis=1)\n",
    "df.head()"
   ]
  },
  {
   "cell_type": "markdown",
   "metadata": {},
   "source": [
    "## Explorando o dataset"
   ]
  },
  {
   "cell_type": "markdown",
   "metadata": {},
   "source": [
    "### Colunas"
   ]
  },
  {
   "cell_type": "code",
   "execution_count": 39,
   "metadata": {},
   "outputs": [
    {
     "data": {
      "text/plain": [
       "Index(['pergunta', 'categoria', 'resposta'], dtype='object')"
      ]
     },
     "execution_count": 39,
     "metadata": {},
     "output_type": "execute_result"
    }
   ],
   "source": [
    "df.columns"
   ]
  },
  {
   "cell_type": "markdown",
   "metadata": {},
   "source": [
    "### Dimensões"
   ]
  },
  {
   "cell_type": "code",
   "execution_count": 40,
   "metadata": {},
   "outputs": [
    {
     "data": {
      "text/plain": [
       "(4500, 3)"
      ]
     },
     "execution_count": 40,
     "metadata": {},
     "output_type": "execute_result"
    }
   ],
   "source": [
    "df.shape"
   ]
  },
  {
   "cell_type": "markdown",
   "metadata": {},
   "source": [
    "### Verificando existência de valores nulos"
   ]
  },
  {
   "cell_type": "code",
   "execution_count": 41,
   "metadata": {},
   "outputs": [
    {
     "data": {
      "text/plain": [
       "pergunta     0\n",
       "categoria    0\n",
       "resposta     0\n",
       "dtype: int64"
      ]
     },
     "execution_count": 41,
     "metadata": {},
     "output_type": "execute_result"
    }
   ],
   "source": [
    "df.isna().sum()"
   ]
  },
  {
   "cell_type": "markdown",
   "metadata": {},
   "source": [
    "### Quantidade de caracteres para cada variável (pergunta, categoria e reposta)"
   ]
  },
  {
   "cell_type": "code",
   "execution_count": 44,
   "metadata": {},
   "outputs": [
    {
     "data": {
      "text/html": [
       "<div>\n",
       "<style scoped>\n",
       "    .dataframe tbody tr th:only-of-type {\n",
       "        vertical-align: middle;\n",
       "    }\n",
       "\n",
       "    .dataframe tbody tr th {\n",
       "        vertical-align: top;\n",
       "    }\n",
       "\n",
       "    .dataframe thead th {\n",
       "        text-align: right;\n",
       "    }\n",
       "</style>\n",
       "<table border=\"1\" class=\"dataframe\">\n",
       "  <thead>\n",
       "    <tr style=\"text-align: right;\">\n",
       "      <th></th>\n",
       "      <th>pergunta</th>\n",
       "      <th>categoria</th>\n",
       "      <th>resposta</th>\n",
       "      <th>caracteres_pergunta</th>\n",
       "      <th>caracteres_categoria</th>\n",
       "      <th>caracteres_resposta</th>\n",
       "    </tr>\n",
       "  </thead>\n",
       "  <tbody>\n",
       "    <tr>\n",
       "      <th>0</th>\n",
       "      <td>o no rosto, Tenho fazer? devo espinhas que</td>\n",
       "      <td>dermatologia</td>\n",
       "      <td>Você pode usar cremes específicos para acne e ...</td>\n",
       "      <td>42</td>\n",
       "      <td>12</td>\n",
       "      <td>116</td>\n",
       "    </tr>\n",
       "    <tr>\n",
       "      <th>1</th>\n",
       "      <td>fazer? de posso cabeça, dor que muita Estou o com</td>\n",
       "      <td>neurologia</td>\n",
       "      <td>Se a dor de cabeça for muito forte e persistir...</td>\n",
       "      <td>49</td>\n",
       "      <td>10</td>\n",
       "      <td>193</td>\n",
       "    </tr>\n",
       "    <tr>\n",
       "      <th>2</th>\n",
       "      <td>muita fazer? Estou o que dor cabeça, de posso com</td>\n",
       "      <td>neurologia</td>\n",
       "      <td>Se a dor de cabeça for muito forte e persistir...</td>\n",
       "      <td>49</td>\n",
       "      <td>10</td>\n",
       "      <td>193</td>\n",
       "    </tr>\n",
       "    <tr>\n",
       "      <th>3</th>\n",
       "      <td>com o dor muita que Estou fazer? de posso cabeça,</td>\n",
       "      <td>neurologia</td>\n",
       "      <td>Se a dor de cabeça for muito forte e persistir...</td>\n",
       "      <td>49</td>\n",
       "      <td>10</td>\n",
       "      <td>193</td>\n",
       "    </tr>\n",
       "    <tr>\n",
       "      <th>4</th>\n",
       "      <td>uma posso Como agendar consulta?</td>\n",
       "      <td>consultas</td>\n",
       "      <td>Você pode agendar sua consulta através do noss...</td>\n",
       "      <td>32</td>\n",
       "      <td>9</td>\n",
       "      <td>100</td>\n",
       "    </tr>\n",
       "  </tbody>\n",
       "</table>\n",
       "</div>"
      ],
      "text/plain": [
       "                                            pergunta     categoria  \\\n",
       "0         o no rosto, Tenho fazer? devo espinhas que  dermatologia   \n",
       "1  fazer? de posso cabeça, dor que muita Estou o com    neurologia   \n",
       "2  muita fazer? Estou o que dor cabeça, de posso com    neurologia   \n",
       "3  com o dor muita que Estou fazer? de posso cabeça,    neurologia   \n",
       "4                   uma posso Como agendar consulta?     consultas   \n",
       "\n",
       "                                            resposta  caracteres_pergunta  \\\n",
       "0  Você pode usar cremes específicos para acne e ...                   42   \n",
       "1  Se a dor de cabeça for muito forte e persistir...                   49   \n",
       "2  Se a dor de cabeça for muito forte e persistir...                   49   \n",
       "3  Se a dor de cabeça for muito forte e persistir...                   49   \n",
       "4  Você pode agendar sua consulta através do noss...                   32   \n",
       "\n",
       "   caracteres_categoria  caracteres_resposta  \n",
       "0                    12                  116  \n",
       "1                    10                  193  \n",
       "2                    10                  193  \n",
       "3                    10                  193  \n",
       "4                     9                  100  "
      ]
     },
     "execution_count": 44,
     "metadata": {},
     "output_type": "execute_result"
    }
   ],
   "source": [
    "df['caracteres_pergunta'] = df.pergunta.apply(lambda x: len(x))\n",
    "df['caracteres_categoria'] = df.categoria.apply(lambda x: len(x))\n",
    "df['caracteres_resposta'] = df.resposta.apply(lambda x: len(x))\n",
    "\n",
    "df.head()"
   ]
  },
  {
   "cell_type": "markdown",
   "metadata": {},
   "source": [
    "### Distribuição das categorias"
   ]
  },
  {
   "cell_type": "code",
   "execution_count": 47,
   "metadata": {},
   "outputs": [
    {
     "data": {
      "image/png": "[encoded data removed]",
      "text/plain": [
       "<Figure size 1000x600 with 1 Axes>"
      ]
     },
     "metadata": {},
     "output_type": "display_data"
    }
   ],
   "source": [
    "plt.figure(figsize=(10,6))\n",
    "sns.countplot(\n",
    "    data=df,\n",
    "    x='categoria',\n",
    "    hue='categoria',\n",
    "    order=df['categoria'].value_counts().index,\n",
    "    palette='Set2',\n",
    "    legend=False\n",
    ")\n",
    "plt.title('Distribuição das Categorias')\n",
    "plt.xlabel('Categoria')\n",
    "plt.ylabel('Número de Perguntas')\n",
    "plt.xticks(rotation=45)\n",
    "plt.tight_layout()\n",
    "plt.show()"
   ]
  },
  {
   "cell_type": "code",
   "execution_count": 49,
   "metadata": {},
   "outputs": [
    {
     "data": {
      "text/plain": [
       "categoria\n",
       "dermatologia    500\n",
       "neurologia      500\n",
       "consultas       500\n",
       "ortopedia       500\n",
       "convenios       500\n",
       "cardiologia     500\n",
       "gripe           500\n",
       "nutricao        500\n",
       "saude_mental    500\n",
       "Name: count, dtype: int64"
      ]
     },
     "execution_count": 49,
     "metadata": {},
     "output_type": "execute_result"
    }
   ],
   "source": [
    "df.categoria.value_counts()"
   ]
  },
  {
   "cell_type": "markdown",
   "metadata": {},
   "source": [
    "## Pré-processamento dos dados"
   ]
  },
  {
   "cell_type": "markdown",
   "metadata": {},
   "source": [
    "### Função de pré-processamento de texto"
   ]
  },
  {
   "cell_type": "code",
   "execution_count": 50,
   "metadata": {},
   "outputs": [],
   "source": [
    "# Função de pré-processamento do texto\n",
    "def preprocess_text(text):\n",
    "    # Transformando para minúsculas\n",
    "    text = text.lower()\n",
    "    \n",
    "    # Remover símbolos e pontuação usando expressão regular\n",
    "    text = re.sub(r'[^\\w\\s]', '', text)\n",
    "    \n",
    "    # Remover espaços extras\n",
    "    text = re.sub(r'\\s+', ' ', text).strip()\n",
    "    \n",
    "    return text"
   ]
  },
  {
   "cell_type": "markdown",
   "metadata": {},
   "source": [
    "### Relizando limpeza de elementos não significativos nas perguntas"
   ]
  },
  {
   "cell_type": "code",
   "execution_count": 52,
   "metadata": {},
   "outputs": [
    {
     "data": {
      "text/html": [
       "<div>\n",
       "<style scoped>\n",
       "    .dataframe tbody tr th:only-of-type {\n",
       "        vertical-align: middle;\n",
       "    }\n",
       "\n",
       "    .dataframe tbody tr th {\n",
       "        vertical-align: top;\n",
       "    }\n",
       "\n",
       "    .dataframe thead th {\n",
       "        text-align: right;\n",
       "    }\n",
       "</style>\n",
       "<table border=\"1\" class=\"dataframe\">\n",
       "  <thead>\n",
       "    <tr style=\"text-align: right;\">\n",
       "      <th></th>\n",
       "      <th>pergunta</th>\n",
       "      <th>categoria</th>\n",
       "      <th>resposta</th>\n",
       "      <th>caracteres_pergunta</th>\n",
       "      <th>caracteres_categoria</th>\n",
       "      <th>caracteres_resposta</th>\n",
       "    </tr>\n",
       "  </thead>\n",
       "  <tbody>\n",
       "    <tr>\n",
       "      <th>0</th>\n",
       "      <td>o no rosto tenho fazer devo espinhas que</td>\n",
       "      <td>dermatologia</td>\n",
       "      <td>Você pode usar cremes específicos para acne e ...</td>\n",
       "      <td>42</td>\n",
       "      <td>12</td>\n",
       "      <td>116</td>\n",
       "    </tr>\n",
       "    <tr>\n",
       "      <th>1</th>\n",
       "      <td>fazer de posso cabeça dor que muita estou o com</td>\n",
       "      <td>neurologia</td>\n",
       "      <td>Se a dor de cabeça for muito forte e persistir...</td>\n",
       "      <td>49</td>\n",
       "      <td>10</td>\n",
       "      <td>193</td>\n",
       "    </tr>\n",
       "    <tr>\n",
       "      <th>2</th>\n",
       "      <td>muita fazer estou o que dor cabeça de posso com</td>\n",
       "      <td>neurologia</td>\n",
       "      <td>Se a dor de cabeça for muito forte e persistir...</td>\n",
       "      <td>49</td>\n",
       "      <td>10</td>\n",
       "      <td>193</td>\n",
       "    </tr>\n",
       "    <tr>\n",
       "      <th>3</th>\n",
       "      <td>com o dor muita que estou fazer de posso cabeça</td>\n",
       "      <td>neurologia</td>\n",
       "      <td>Se a dor de cabeça for muito forte e persistir...</td>\n",
       "      <td>49</td>\n",
       "      <td>10</td>\n",
       "      <td>193</td>\n",
       "    </tr>\n",
       "    <tr>\n",
       "      <th>4</th>\n",
       "      <td>uma posso como agendar consulta</td>\n",
       "      <td>consultas</td>\n",
       "      <td>Você pode agendar sua consulta através do noss...</td>\n",
       "      <td>32</td>\n",
       "      <td>9</td>\n",
       "      <td>100</td>\n",
       "    </tr>\n",
       "  </tbody>\n",
       "</table>\n",
       "</div>"
      ],
      "text/plain": [
       "                                          pergunta     categoria  \\\n",
       "0         o no rosto tenho fazer devo espinhas que  dermatologia   \n",
       "1  fazer de posso cabeça dor que muita estou o com    neurologia   \n",
       "2  muita fazer estou o que dor cabeça de posso com    neurologia   \n",
       "3  com o dor muita que estou fazer de posso cabeça    neurologia   \n",
       "4                  uma posso como agendar consulta     consultas   \n",
       "\n",
       "                                            resposta  caracteres_pergunta  \\\n",
       "0  Você pode usar cremes específicos para acne e ...                   42   \n",
       "1  Se a dor de cabeça for muito forte e persistir...                   49   \n",
       "2  Se a dor de cabeça for muito forte e persistir...                   49   \n",
       "3  Se a dor de cabeça for muito forte e persistir...                   49   \n",
       "4  Você pode agendar sua consulta através do noss...                   32   \n",
       "\n",
       "   caracteres_categoria  caracteres_resposta  \n",
       "0                    12                  116  \n",
       "1                    10                  193  \n",
       "2                    10                  193  \n",
       "3                    10                  193  \n",
       "4                     9                  100  "
      ]
     },
     "execution_count": 52,
     "metadata": {},
     "output_type": "execute_result"
    }
   ],
   "source": [
    "# Aplicando o pré-processamento nas perguntas\n",
    "df['pergunta'] = df['pergunta'].apply(preprocess_text)\n",
    "df.head()"
   ]
  },
  {
   "cell_type": "markdown",
   "metadata": {},
   "source": [
    "### Vetorizando os dados usando TF-IDF"
   ]
  },
  {
   "cell_type": "code",
   "execution_count": 54,
   "metadata": {},
   "outputs": [],
   "source": [
    "# Vetorizador TF-IDF\n",
    "vectorizer = TfidfVectorizer()\n",
    "\n",
    "# Transformando as perguntas em vetores TF-IDF\n",
    "X = vectorizer.fit_transform(df['pergunta'])\n",
    "\n",
    "# As categorias serão os rótulos (y)\n",
    "y = df['categoria']"
   ]
  },
  {
   "cell_type": "markdown",
   "metadata": {},
   "source": [
    "### Imprimindo a matriz esparsa da vetorização"
   ]
  },
  {
   "cell_type": "code",
   "execution_count": 55,
   "metadata": {},
   "outputs": [
    {
     "data": {
      "text/html": [
       "<div>\n",
       "<style scoped>\n",
       "    .dataframe tbody tr th:only-of-type {\n",
       "        vertical-align: middle;\n",
       "    }\n",
       "\n",
       "    .dataframe tbody tr th {\n",
       "        vertical-align: top;\n",
       "    }\n",
       "\n",
       "    .dataframe thead th {\n",
       "        text-align: right;\n",
       "    }\n",
       "</style>\n",
       "<table border=\"1\" class=\"dataframe\">\n",
       "  <thead>\n",
       "    <tr style=\"text-align: right;\">\n",
       "      <th></th>\n",
       "      <th>aceitam</th>\n",
       "      <th>acne</th>\n",
       "      <th>agendar</th>\n",
       "      <th>algum</th>\n",
       "      <th>alta</th>\n",
       "      <th>alto</th>\n",
       "      <th>ar</th>\n",
       "      <th>cabeça</th>\n",
       "      <th>carboidratos</th>\n",
       "      <th>checar</th>\n",
       "      <th>...</th>\n",
       "      <th>sintomas</th>\n",
       "      <th>são</th>\n",
       "      <th>também</th>\n",
       "      <th>tenho</th>\n",
       "      <th>tosse</th>\n",
       "      <th>tratamento</th>\n",
       "      <th>tratar</th>\n",
       "      <th>um</th>\n",
       "      <th>uma</th>\n",
       "      <th>vocês</th>\n",
       "    </tr>\n",
       "  </thead>\n",
       "  <tbody>\n",
       "    <tr>\n",
       "      <th>0</th>\n",
       "      <td>0.0</td>\n",
       "      <td>0.0</td>\n",
       "      <td>0.000000</td>\n",
       "      <td>0.0</td>\n",
       "      <td>0.0</td>\n",
       "      <td>0.0</td>\n",
       "      <td>0.0</td>\n",
       "      <td>0.000000</td>\n",
       "      <td>0.0</td>\n",
       "      <td>0.0</td>\n",
       "      <td>...</td>\n",
       "      <td>0.0</td>\n",
       "      <td>0.0</td>\n",
       "      <td>0.0</td>\n",
       "      <td>0.445403</td>\n",
       "      <td>0.0</td>\n",
       "      <td>0.0</td>\n",
       "      <td>0.0</td>\n",
       "      <td>0.0</td>\n",
       "      <td>0.000000</td>\n",
       "      <td>0.0</td>\n",
       "    </tr>\n",
       "    <tr>\n",
       "      <th>1</th>\n",
       "      <td>0.0</td>\n",
       "      <td>0.0</td>\n",
       "      <td>0.000000</td>\n",
       "      <td>0.0</td>\n",
       "      <td>0.0</td>\n",
       "      <td>0.0</td>\n",
       "      <td>0.0</td>\n",
       "      <td>0.411966</td>\n",
       "      <td>0.0</td>\n",
       "      <td>0.0</td>\n",
       "      <td>...</td>\n",
       "      <td>0.0</td>\n",
       "      <td>0.0</td>\n",
       "      <td>0.0</td>\n",
       "      <td>0.000000</td>\n",
       "      <td>0.0</td>\n",
       "      <td>0.0</td>\n",
       "      <td>0.0</td>\n",
       "      <td>0.0</td>\n",
       "      <td>0.000000</td>\n",
       "      <td>0.0</td>\n",
       "    </tr>\n",
       "    <tr>\n",
       "      <th>2</th>\n",
       "      <td>0.0</td>\n",
       "      <td>0.0</td>\n",
       "      <td>0.000000</td>\n",
       "      <td>0.0</td>\n",
       "      <td>0.0</td>\n",
       "      <td>0.0</td>\n",
       "      <td>0.0</td>\n",
       "      <td>0.411966</td>\n",
       "      <td>0.0</td>\n",
       "      <td>0.0</td>\n",
       "      <td>...</td>\n",
       "      <td>0.0</td>\n",
       "      <td>0.0</td>\n",
       "      <td>0.0</td>\n",
       "      <td>0.000000</td>\n",
       "      <td>0.0</td>\n",
       "      <td>0.0</td>\n",
       "      <td>0.0</td>\n",
       "      <td>0.0</td>\n",
       "      <td>0.000000</td>\n",
       "      <td>0.0</td>\n",
       "    </tr>\n",
       "    <tr>\n",
       "      <th>3</th>\n",
       "      <td>0.0</td>\n",
       "      <td>0.0</td>\n",
       "      <td>0.000000</td>\n",
       "      <td>0.0</td>\n",
       "      <td>0.0</td>\n",
       "      <td>0.0</td>\n",
       "      <td>0.0</td>\n",
       "      <td>0.411966</td>\n",
       "      <td>0.0</td>\n",
       "      <td>0.0</td>\n",
       "      <td>...</td>\n",
       "      <td>0.0</td>\n",
       "      <td>0.0</td>\n",
       "      <td>0.0</td>\n",
       "      <td>0.000000</td>\n",
       "      <td>0.0</td>\n",
       "      <td>0.0</td>\n",
       "      <td>0.0</td>\n",
       "      <td>0.0</td>\n",
       "      <td>0.000000</td>\n",
       "      <td>0.0</td>\n",
       "    </tr>\n",
       "    <tr>\n",
       "      <th>4</th>\n",
       "      <td>0.0</td>\n",
       "      <td>0.0</td>\n",
       "      <td>0.532808</td>\n",
       "      <td>0.0</td>\n",
       "      <td>0.0</td>\n",
       "      <td>0.0</td>\n",
       "      <td>0.0</td>\n",
       "      <td>0.000000</td>\n",
       "      <td>0.0</td>\n",
       "      <td>0.0</td>\n",
       "      <td>...</td>\n",
       "      <td>0.0</td>\n",
       "      <td>0.0</td>\n",
       "      <td>0.0</td>\n",
       "      <td>0.000000</td>\n",
       "      <td>0.0</td>\n",
       "      <td>0.0</td>\n",
       "      <td>0.0</td>\n",
       "      <td>0.0</td>\n",
       "      <td>0.532808</td>\n",
       "      <td>0.0</td>\n",
       "    </tr>\n",
       "  </tbody>\n",
       "</table>\n",
       "<p>5 rows × 75 columns</p>\n",
       "</div>"
      ],
      "text/plain": [
       "   aceitam  acne   agendar  algum  alta  alto   ar    cabeça  carboidratos  \\\n",
       "0      0.0   0.0  0.000000    0.0   0.0   0.0  0.0  0.000000           0.0   \n",
       "1      0.0   0.0  0.000000    0.0   0.0   0.0  0.0  0.411966           0.0   \n",
       "2      0.0   0.0  0.000000    0.0   0.0   0.0  0.0  0.411966           0.0   \n",
       "3      0.0   0.0  0.000000    0.0   0.0   0.0  0.0  0.411966           0.0   \n",
       "4      0.0   0.0  0.532808    0.0   0.0   0.0  0.0  0.000000           0.0   \n",
       "\n",
       "   checar  ...  sintomas  são  também     tenho  tosse  tratamento  tratar  \\\n",
       "0     0.0  ...       0.0  0.0     0.0  0.445403    0.0         0.0     0.0   \n",
       "1     0.0  ...       0.0  0.0     0.0  0.000000    0.0         0.0     0.0   \n",
       "2     0.0  ...       0.0  0.0     0.0  0.000000    0.0         0.0     0.0   \n",
       "3     0.0  ...       0.0  0.0     0.0  0.000000    0.0         0.0     0.0   \n",
       "4     0.0  ...       0.0  0.0     0.0  0.000000    0.0         0.0     0.0   \n",
       "\n",
       "    um       uma  vocês  \n",
       "0  0.0  0.000000    0.0  \n",
       "1  0.0  0.000000    0.0  \n",
       "2  0.0  0.000000    0.0  \n",
       "3  0.0  0.000000    0.0  \n",
       "4  0.0  0.532808    0.0  \n",
       "\n",
       "[5 rows x 75 columns]"
      ]
     },
     "execution_count": 55,
     "metadata": {},
     "output_type": "execute_result"
    }
   ],
   "source": [
    "X_df = pd.DataFrame(X.toarray(), columns=vectorizer.get_feature_names_out())\n",
    "X_df.head()"
   ]
  },
  {
   "cell_type": "markdown",
   "metadata": {},
   "source": [
    "### Convertendo as labels literais em labels numéricas"
   ]
  },
  {
   "cell_type": "code",
   "execution_count": 56,
   "metadata": {},
   "outputs": [
    {
     "name": "stdout",
     "output_type": "stream",
     "text": [
      "Categorias codificadas: [3 5 5 ... 8 3 6]\n",
      "Classes: ['cardiologia' 'consultas' 'convenios' 'dermatologia' 'gripe' 'neurologia'\n",
      " 'nutricao' 'ortopedia' 'saude_mental']\n"
     ]
    }
   ],
   "source": [
    "encoder = LabelEncoder()\n",
    "y_encoded = encoder.fit_transform(y)\n",
    "\n",
    "# Se quiser ver o resultado:\n",
    "print(\"Categorias codificadas:\", y_encoded)\n",
    "print(\"Classes:\", encoder.classes_)"
   ]
  },
  {
   "cell_type": "markdown",
   "metadata": {},
   "source": [
    "## Treinamento dos modelos"
   ]
  },
  {
   "cell_type": "markdown",
   "metadata": {},
   "source": [
    "### Separando conjunto de dados em treino e teste"
   ]
  },
  {
   "cell_type": "code",
   "execution_count": 57,
   "metadata": {},
   "outputs": [],
   "source": [
    "# Separar os dados em treino e teste\n",
    "X_train, X_test, y_train, y_test = train_test_split(X, y_encoded, test_size=0.3, random_state=42)"
   ]
  },
  {
   "cell_type": "markdown",
   "metadata": {},
   "source": [
    "### Regressão Logística"
   ]
  },
  {
   "cell_type": "code",
   "execution_count": 58,
   "metadata": {},
   "outputs": [
    {
     "name": "stdout",
     "output_type": "stream",
     "text": [
      "Acurácia: 1.0\n",
      "\n",
      "Relatório de Classificação:\n",
      "              precision    recall  f1-score   support\n",
      "\n",
      " cardiologia       1.00      1.00      1.00       156\n",
      "   consultas       1.00      1.00      1.00       159\n",
      "   convenios       1.00      1.00      1.00       159\n",
      "dermatologia       1.00      1.00      1.00       153\n",
      "       gripe       1.00      1.00      1.00       142\n",
      "  neurologia       1.00      1.00      1.00       128\n",
      "    nutricao       1.00      1.00      1.00       144\n",
      "   ortopedia       1.00      1.00      1.00       157\n",
      "saude_mental       1.00      1.00      1.00       152\n",
      "\n",
      "    accuracy                           1.00      1350\n",
      "   macro avg       1.00      1.00      1.00      1350\n",
      "weighted avg       1.00      1.00      1.00      1350\n",
      "\n"
     ]
    }
   ],
   "source": [
    "# Instanciar e treinar o modelo\n",
    "model = LogisticRegression(max_iter=1000)\n",
    "model.fit(X_train, y_train)\n",
    "\n",
    "# Fazer previsões\n",
    "y_pred = model.predict(X_test)\n",
    "\n",
    "# Avaliar o desempenho\n",
    "print(\"Acurácia:\", accuracy_score(y_test, y_pred))\n",
    "print(\"\\nRelatório de Classificação:\")\n",
    "print(classification_report(y_test, y_pred, target_names=encoder.classes_))"
   ]
  },
  {
   "cell_type": "markdown",
   "metadata": {},
   "source": [
    "### Random Forest"
   ]
  },
  {
   "cell_type": "code",
   "execution_count": 60,
   "metadata": {},
   "outputs": [
    {
     "name": "stdout",
     "output_type": "stream",
     "text": [
      "Acurácia: 1.0\n",
      "\n",
      "Relatório de Classificação:\n",
      "              precision    recall  f1-score   support\n",
      "\n",
      " cardiologia       1.00      1.00      1.00       156\n",
      "   consultas       1.00      1.00      1.00       159\n",
      "   convenios       1.00      1.00      1.00       159\n",
      "dermatologia       1.00      1.00      1.00       153\n",
      "       gripe       1.00      1.00      1.00       142\n",
      "  neurologia       1.00      1.00      1.00       128\n",
      "    nutricao       1.00      1.00      1.00       144\n",
      "   ortopedia       1.00      1.00      1.00       157\n",
      "saude_mental       1.00      1.00      1.00       152\n",
      "\n",
      "    accuracy                           1.00      1350\n",
      "   macro avg       1.00      1.00      1.00      1350\n",
      "weighted avg       1.00      1.00      1.00      1350\n",
      "\n"
     ]
    }
   ],
   "source": [
    "# Treinamento do modelo\n",
    "rf_model = RandomForestClassifier(random_state=42)\n",
    "rf_model.fit(X_train, y_train)\n",
    "\n",
    "# Previsões\n",
    "y_pred_rf = rf_model.predict(X_test)\n",
    "\n",
    "# Avaliação\n",
    "print(\"Acurácia:\", accuracy_score(y_test, y_pred_rf))\n",
    "print(\"\\nRelatório de Classificação:\")\n",
    "print(classification_report(y_test, y_pred_rf, target_names= encoder.classes_))"
   ]
  },
  {
   "cell_type": "markdown",
   "metadata": {},
   "source": [
    "### K-Nearest Neighbors"
   ]
  },
  {
   "cell_type": "code",
   "execution_count": 75,
   "metadata": {},
   "outputs": [
    {
     "name": "stdout",
     "output_type": "stream",
     "text": [
      "Acurácia do KNN: 1.0\n",
      "Relatório de Classificação (KNN):\n",
      "              precision    recall  f1-score   support\n",
      "\n",
      "           0       1.00      1.00      1.00       156\n",
      "           1       1.00      1.00      1.00       159\n",
      "           2       1.00      1.00      1.00       159\n",
      "           3       1.00      1.00      1.00       153\n",
      "           4       1.00      1.00      1.00       142\n",
      "           5       1.00      1.00      1.00       128\n",
      "           6       1.00      1.00      1.00       144\n",
      "           7       1.00      1.00      1.00       157\n",
      "           8       1.00      1.00      1.00       152\n",
      "\n",
      "    accuracy                           1.00      1350\n",
      "   macro avg       1.00      1.00      1.00      1350\n",
      "weighted avg       1.00      1.00      1.00      1350\n",
      "\n"
     ]
    }
   ],
   "source": [
    "# Criar o modelo KNN\n",
    "knn = KNeighborsClassifier(n_neighbors=5)\n",
    "\n",
    "# Treinar o modelo\n",
    "knn.fit(X_train, y_train)\n",
    "\n",
    "# Fazer previsões\n",
    "y_pred_knn = knn.predict(X_test)\n",
    "\n",
    "# Calcular a acurácia\n",
    "acuracia_knn = accuracy_score(y_test, y_pred_knn)\n",
    "print(f'Acurácia do KNN: {acuracia_knn}')\n",
    "\n",
    "# Relatório de classificação\n",
    "print(\"Relatório de Classificação (KNN):\")\n",
    "print(classification_report(y_test, y_pred_knn))"
   ]
  },
  {
   "cell_type": "markdown",
   "metadata": {},
   "source": [
    "### Support Vector Machines"
   ]
  },
  {
   "cell_type": "code",
   "execution_count": 78,
   "metadata": {},
   "outputs": [
    {
     "name": "stdout",
     "output_type": "stream",
     "text": [
      "Acurácia do SVM: 1.0\n",
      "Relatório de Classificação (KNN):\n",
      "              precision    recall  f1-score   support\n",
      "\n",
      "           0       1.00      1.00      1.00       156\n",
      "           1       1.00      1.00      1.00       159\n",
      "           2       1.00      1.00      1.00       159\n",
      "           3       1.00      1.00      1.00       153\n",
      "           4       1.00      1.00      1.00       142\n",
      "           5       1.00      1.00      1.00       128\n",
      "           6       1.00      1.00      1.00       144\n",
      "           7       1.00      1.00      1.00       157\n",
      "           8       1.00      1.00      1.00       152\n",
      "\n",
      "    accuracy                           1.00      1350\n",
      "   macro avg       1.00      1.00      1.00      1350\n",
      "weighted avg       1.00      1.00      1.00      1350\n",
      "\n"
     ]
    }
   ],
   "source": [
    "# Inicializando o modelo SVM\n",
    "svm_model = SVC(kernel='linear')  # Usando um kernel linear\n",
    "\n",
    "# Treinando o modelo com os dados\n",
    "svm_model.fit(X_train, y_train)\n",
    "\n",
    "# Realizando previsões\n",
    "y_pred_svm = svm_model.predict(X_test)\n",
    "\n",
    "# Calcular a acurácia\n",
    "acuracia_svm = accuracy_score(y_test, y_pred_svm)\n",
    "print(f'Acurácia do SVM: {acuracia_svm}')\n",
    "\n",
    "# Relatório de classificação\n",
    "print(\"Relatório de Classificação (KNN):\")\n",
    "print(classification_report(y_test, y_pred_svm))"
   ]
  }
 ],
 "metadata": {
  "kernelspec": {
   "display_name": "env_ra",
   "language": "python",
   "name": "python3"
  },
  "language_info": {
   "codemirror_mode": {
    "name": "ipython",
    "version": 3
   },
   "file_extension": ".py",
   "mimetype": "text/x-python",
   "name": "python",
   "nbconvert_exporter": "python",
   "pygments_lexer": "ipython3",
   "version": "3.9.12"
  }
 },
 "nbformat": 4,
 "nbformat_minor": 2
}
