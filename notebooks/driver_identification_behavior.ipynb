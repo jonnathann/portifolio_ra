{
 "cells": [
  {
   "cell_type": "markdown",
   "id": "6250ad58-3d97-4b64-b97d-ecf315be906f",
   "metadata": {},
   "source": [
    "# Identificação de motoristas através de comportamentos de condução"
   ]
  },
  {
   "cell_type": "markdown",
   "id": "57450431-6e92-47e8-9d9c-2a823048ae66",
   "metadata": {},
   "source": [
    "##  Imports"
   ]
  },
  {
   "cell_type": "code",
   "execution_count": 1,
   "id": "c29bf700-8768-44a6-a785-c42000f28948",
   "metadata": {},
   "outputs": [],
   "source": [
    "import numpy as np\n",
    "import pandas as pd\n",
    "import random\n",
    "import matplotlib.pyplot as plt"
   ]
  },
  {
   "cell_type": "markdown",
   "id": "032525a5-bd81-4a87-b268-d6c863f3f41f",
   "metadata": {},
   "source": [
    "## Gerando dados sintéticos de comportamentos de condução para 10 motoristas"
   ]
  },
  {
   "cell_type": "code",
   "execution_count": 2,
   "id": "3e141dd2-c01f-451e-a7e6-d5bcdb36b04f",
   "metadata": {},
   "outputs": [],
   "source": [
    "# Configurações\n",
    "num_motoristas = 10\n",
    "segundos_por_motorista = 86400  # 1 dia de dados por motorista\n",
    "total_linhas = num_motoristas * segundos_por_motorista\n",
    "\n",
    "# Função para gerar dados sintéticos para um motorista\n",
    "def gerar_dados_motorista(motorista_id, n_registros):\n",
    "    np.random.seed(motorista_id)  # manter reprodutibilidade por motorista\n",
    "\n",
    "    # Simula variações realistas por motorista\n",
    "    velocidade_base = random.uniform(40, 100)\n",
    "    aceleracao_base = random.uniform(-1, 1)\n",
    "    rotacao_base = random.uniform(1000, 3000)\n",
    "    consumo_base = random.uniform(8, 15)\n",
    "\n",
    "    dados = {\n",
    "        'motorista_id': [motorista_id] * n_registros,\n",
    "        'timestamp': pd.date_range(\"2025-04-10 00:00:00\", periods=n_registros, freq='S'),\n",
    "        'velocidade_kmh': np.clip(np.random.normal(velocidade_base, 10, n_registros), 0, 180),\n",
    "        'aceleracao_ms2': np.clip(np.random.normal(aceleracao_base, 0.5, n_registros), -3, 3),\n",
    "        'rpm': np.clip(np.random.normal(rotacao_base, 300, n_registros), 500, 6000),\n",
    "        'consumo_l_100km': np.clip(np.random.normal(consumo_base, 1.0, n_registros), 5, 25),\n",
    "        'angulo_volante_graus': np.clip(np.random.normal(0, 30, n_registros), -180, 180),\n",
    "        'posicao_pedal_acelerador': np.clip(np.random.normal(30, 20, n_registros), 0, 100),\n",
    "        'freio_acionado': np.random.choice([0, 1], size=n_registros, p=[0.85, 0.15]),\n",
    "        'marcha': np.random.choice(range(1, 7), size=n_registros),\n",
    "        'gps_inclinacao': np.clip(np.random.normal(0, 3, n_registros), -10, 10),\n",
    "        'gps_curva_graus': np.clip(np.random.normal(0, 20, n_registros), -180, 180)\n",
    "    }\n",
    "\n",
    "    return pd.DataFrame(dados)"
   ]
  },
  {
   "cell_type": "markdown",
   "id": "3cc48a3c-0906-439a-92c4-ee3043ffe84f",
   "metadata": {},
   "source": [
    "## Salvando arquivo em .csv"
   ]
  },
  {
   "cell_type": "raw",
   "id": "fc15eac2-8f54-4b41-9baa-9417f1962bc7",
   "metadata": {},
   "source": [
    "# Gerar todos os dados\n",
    "df_total = pd.concat([gerar_dados_motorista(i, segundos_por_motorista) for i in range(num_motoristas)], ignore_index=True)\n",
    "\n",
    "# Salvar\n",
    "df_total.to_csv('../data/raw/dados_obd_sinteticos.csv', index=False)\n",
    "print(\"Arquivo salvo como dados_obd_sinteticos.csv\")"
   ]
  },
  {
   "cell_type": "markdown",
   "id": "f1381d8b-91d4-41eb-bfab-29d5427f4be5",
   "metadata": {},
   "source": [
    "## Lendo arquivo com dados sintéticos gerado"
   ]
  },
  {
   "cell_type": "markdown",
   "id": "5d6f4f6d-5580-415f-8738-90763d9a28d3",
   "metadata": {},
   "source": [
    "### Visualizando as primeiras linhas do conjunto de dados"
   ]
  },
  {
   "cell_type": "code",
   "execution_count": 3,
   "id": "e61baaff-8af9-4adc-9ba5-d7574f6e9f96",
   "metadata": {},
   "outputs": [
    {
     "data": {
      "text/html": [
       "<div>\n",
       "<style scoped>\n",
       "    .dataframe tbody tr th:only-of-type {\n",
       "        vertical-align: middle;\n",
       "    }\n",
       "\n",
       "    .dataframe tbody tr th {\n",
       "        vertical-align: top;\n",
       "    }\n",
       "\n",
       "    .dataframe thead th {\n",
       "        text-align: right;\n",
       "    }\n",
       "</style>\n",
       "<table border=\"1\" class=\"dataframe\">\n",
       "  <thead>\n",
       "    <tr style=\"text-align: right;\">\n",
       "      <th></th>\n",
       "      <th>motorista_id</th>\n",
       "      <th>timestamp</th>\n",
       "      <th>velocidade_kmh</th>\n",
       "      <th>aceleracao_ms2</th>\n",
       "      <th>rpm</th>\n",
       "      <th>consumo_l_100km</th>\n",
       "      <th>angulo_volante_graus</th>\n",
       "      <th>posicao_pedal_acelerador</th>\n",
       "      <th>freio_acionado</th>\n",
       "      <th>marcha</th>\n",
       "      <th>gps_inclinacao</th>\n",
       "      <th>gps_curva_graus</th>\n",
       "    </tr>\n",
       "  </thead>\n",
       "  <tbody>\n",
       "    <tr>\n",
       "      <th>0</th>\n",
       "      <td>0</td>\n",
       "      <td>2025-04-10 00:00:00</td>\n",
       "      <td>87.641492</td>\n",
       "      <td>-1.164779</td>\n",
       "      <td>2856.580894</td>\n",
       "      <td>12.974922</td>\n",
       "      <td>-3.010104</td>\n",
       "      <td>49.875534</td>\n",
       "      <td>0</td>\n",
       "      <td>4</td>\n",
       "      <td>6.412683</td>\n",
       "      <td>19.300237</td>\n",
       "    </tr>\n",
       "    <tr>\n",
       "      <th>1</th>\n",
       "      <td>0</td>\n",
       "      <td>2025-04-10 00:00:01</td>\n",
       "      <td>74.002541</td>\n",
       "      <td>-0.248364</td>\n",
       "      <td>3077.701709</td>\n",
       "      <td>13.668439</td>\n",
       "      <td>33.277285</td>\n",
       "      <td>61.205832</td>\n",
       "      <td>0</td>\n",
       "      <td>1</td>\n",
       "      <td>2.937810</td>\n",
       "      <td>-11.193276</td>\n",
       "    </tr>\n",
       "    <tr>\n",
       "      <th>2</th>\n",
       "      <td>0</td>\n",
       "      <td>2025-04-10 00:00:02</td>\n",
       "      <td>79.788349</td>\n",
       "      <td>-0.921159</td>\n",
       "      <td>2830.124124</td>\n",
       "      <td>13.328252</td>\n",
       "      <td>-12.179117</td>\n",
       "      <td>7.030715</td>\n",
       "      <td>0</td>\n",
       "      <td>3</td>\n",
       "      <td>3.128054</td>\n",
       "      <td>5.762080</td>\n",
       "    </tr>\n",
       "    <tr>\n",
       "      <th>3</th>\n",
       "      <td>0</td>\n",
       "      <td>2025-04-10 00:00:03</td>\n",
       "      <td>92.409901</td>\n",
       "      <td>-0.880992</td>\n",
       "      <td>2645.434835</td>\n",
       "      <td>14.942527</td>\n",
       "      <td>48.682247</td>\n",
       "      <td>24.472256</td>\n",
       "      <td>0</td>\n",
       "      <td>6</td>\n",
       "      <td>-2.114854</td>\n",
       "      <td>7.320182</td>\n",
       "    </tr>\n",
       "    <tr>\n",
       "      <th>4</th>\n",
       "      <td>0</td>\n",
       "      <td>2025-04-10 00:00:04</td>\n",
       "      <td>88.676549</td>\n",
       "      <td>-0.618572</td>\n",
       "      <td>2639.916381</td>\n",
       "      <td>14.947222</td>\n",
       "      <td>30.107772</td>\n",
       "      <td>29.852586</td>\n",
       "      <td>0</td>\n",
       "      <td>5</td>\n",
       "      <td>-2.536785</td>\n",
       "      <td>-9.340282</td>\n",
       "    </tr>\n",
       "  </tbody>\n",
       "</table>\n",
       "</div>"
      ],
      "text/plain": [
       "   motorista_id            timestamp  velocidade_kmh  aceleracao_ms2  \\\n",
       "0             0  2025-04-10 00:00:00       87.641492       -1.164779   \n",
       "1             0  2025-04-10 00:00:01       74.002541       -0.248364   \n",
       "2             0  2025-04-10 00:00:02       79.788349       -0.921159   \n",
       "3             0  2025-04-10 00:00:03       92.409901       -0.880992   \n",
       "4             0  2025-04-10 00:00:04       88.676549       -0.618572   \n",
       "\n",
       "           rpm  consumo_l_100km  angulo_volante_graus  \\\n",
       "0  2856.580894        12.974922             -3.010104   \n",
       "1  3077.701709        13.668439             33.277285   \n",
       "2  2830.124124        13.328252            -12.179117   \n",
       "3  2645.434835        14.942527             48.682247   \n",
       "4  2639.916381        14.947222             30.107772   \n",
       "\n",
       "   posicao_pedal_acelerador  freio_acionado  marcha  gps_inclinacao  \\\n",
       "0                 49.875534               0       4        6.412683   \n",
       "1                 61.205832               0       1        2.937810   \n",
       "2                  7.030715               0       3        3.128054   \n",
       "3                 24.472256               0       6       -2.114854   \n",
       "4                 29.852586               0       5       -2.536785   \n",
       "\n",
       "   gps_curva_graus  \n",
       "0        19.300237  \n",
       "1       -11.193276  \n",
       "2         5.762080  \n",
       "3         7.320182  \n",
       "4        -9.340282  "
      ]
     },
     "execution_count": 3,
     "metadata": {},
     "output_type": "execute_result"
    }
   ],
   "source": [
    "df = pd.read_csv('../data/raw/dados_obd_sinteticos.csv')\n",
    "df.head()"
   ]
  },
  {
   "cell_type": "markdown",
   "id": "7daf2dec-951c-4bb6-965a-ef62f94efc55",
   "metadata": {},
   "source": [
    "## Análise Exploratória (EDA)"
   ]
  },
  {
   "cell_type": "markdown",
   "id": "92bd8008-b4e4-40dc-ae62-553e23facd18",
   "metadata": {},
   "source": [
    "### Verificando colunas dos dados"
   ]
  },
  {
   "cell_type": "code",
   "execution_count": 4,
   "id": "9aa617b1-a074-45f9-9c48-38009188b569",
   "metadata": {},
   "outputs": [
    {
     "data": {
      "text/plain": [
       "Index(['motorista_id', 'timestamp', 'velocidade_kmh', 'aceleracao_ms2', 'rpm',\n",
       "       'consumo_l_100km', 'angulo_volante_graus', 'posicao_pedal_acelerador',\n",
       "       'freio_acionado', 'marcha', 'gps_inclinacao', 'gps_curva_graus'],\n",
       "      dtype='object')"
      ]
     },
     "execution_count": 4,
     "metadata": {},
     "output_type": "execute_result"
    }
   ],
   "source": [
    "df.columns"
   ]
  },
  {
   "cell_type": "markdown",
   "id": "e6effdcc-0bee-4f3e-a8a2-03003174c08c",
   "metadata": {},
   "source": [
    "### Verificando tamanho do conjunto de dados"
   ]
  },
  {
   "cell_type": "code",
   "execution_count": 5,
   "id": "e9f5978c-3cf9-4bc5-b2f8-4e83acf9e7d6",
   "metadata": {},
   "outputs": [
    {
     "data": {
      "text/plain": [
       "(864000, 12)"
      ]
     },
     "execution_count": 5,
     "metadata": {},
     "output_type": "execute_result"
    }
   ],
   "source": [
    "df.shape"
   ]
  },
  {
   "cell_type": "markdown",
   "id": "b82acbf3-5bf0-4822-be36-230f81a66cc3",
   "metadata": {},
   "source": [
    "### Verificando a existência de dados nulos"
   ]
  },
  {
   "cell_type": "code",
   "execution_count": 6,
   "id": "f09c3500-3149-4fd2-aef8-aa38570b755f",
   "metadata": {},
   "outputs": [
    {
     "data": {
      "text/plain": [
       "motorista_id                0\n",
       "timestamp                   0\n",
       "velocidade_kmh              0\n",
       "aceleracao_ms2              0\n",
       "rpm                         0\n",
       "consumo_l_100km             0\n",
       "angulo_volante_graus        0\n",
       "posicao_pedal_acelerador    0\n",
       "freio_acionado              0\n",
       "marcha                      0\n",
       "gps_inclinacao              0\n",
       "gps_curva_graus             0\n",
       "dtype: int64"
      ]
     },
     "execution_count": 6,
     "metadata": {},
     "output_type": "execute_result"
    }
   ],
   "source": [
    "df.isna().sum()"
   ]
  },
  {
   "cell_type": "markdown",
   "id": "19ce6953-aa04-4333-964c-4064848940c2",
   "metadata": {},
   "source": [
    "### Verificando os tipos de dados de cada coluna"
   ]
  },
  {
   "cell_type": "code",
   "execution_count": 7,
   "id": "989bf6b5-66ee-4d18-966d-9573b15fb9e1",
   "metadata": {},
   "outputs": [
    {
     "data": {
      "text/plain": [
       "motorista_id                  int64\n",
       "timestamp                    object\n",
       "velocidade_kmh              float64\n",
       "aceleracao_ms2              float64\n",
       "rpm                         float64\n",
       "consumo_l_100km             float64\n",
       "angulo_volante_graus        float64\n",
       "posicao_pedal_acelerador    float64\n",
       "freio_acionado                int64\n",
       "marcha                        int64\n",
       "gps_inclinacao              float64\n",
       "gps_curva_graus             float64\n",
       "dtype: object"
      ]
     },
     "execution_count": 7,
     "metadata": {},
     "output_type": "execute_result"
    }
   ],
   "source": [
    "df.dtypes"
   ]
  },
  {
   "cell_type": "markdown",
   "id": "b182531d-be44-4c9e-8590-98612634ed65",
   "metadata": {},
   "source": [
    "### Verificando a quantidade de motoristas"
   ]
  },
  {
   "cell_type": "code",
   "execution_count": 8,
   "id": "318f35f4-236c-4693-bc79-c9c41543132a",
   "metadata": {},
   "outputs": [
    {
     "data": {
      "text/plain": [
       "array([0, 1, 2, 3, 4, 5, 6, 7, 8, 9])"
      ]
     },
     "execution_count": 8,
     "metadata": {},
     "output_type": "execute_result"
    }
   ],
   "source": [
    "df.motorista_id.unique()"
   ]
  },
  {
   "cell_type": "markdown",
   "id": "cd1ae40f-0984-4d24-9e97-3f1678a5e123",
   "metadata": {},
   "source": [
    "### Realizando análise de distribuição das variáveis abaixo com uma amostra de dados para cada motorista: \n",
    "\n",
    "Para evitar sobrecarga de memória e visualizações densas demais devido ao alto volume de dados, optamos por utilizar **amostras aleatórias dos dados por motorista**. A análise a seguir mostra a distribuição das seguintes variáveis:\n",
    "\n",
    "- `velocidade_kmh`  \n",
    "- `aceleracao_ms2`  \n",
    "- `rpm`  \n",
    "- `consumo_l_100km`  \n",
    "- `angulo_volante_graus`  \n",
    "- `posicao_pedal_acelerador`  \n",
    "- `marcha`  \n",
    "- `gps_inclinacao`  \n",
    "- `gps_curva_graus`  \n",
    "\n",
    "As distribuições serão analisadas por meio de histogramas, gráficos de densidade (KDE) e boxplots. Essas abordagens facilitam a interpretação dos padrões de condução individuais e ajudam a identificar possíveis diferenças entre os motoristas com base em seu estilo de direção.\n"
   ]
  },
  {
   "cell_type": "markdown",
   "id": "f36be78d-806b-46ba-b2ba-1b0df109bec8",
   "metadata": {},
   "source": [
    "#### Amostra"
   ]
  },
  {
   "cell_type": "code",
   "execution_count": 10,
   "id": "8f7dea19-b00f-4cbd-b3b2-080f1091607f",
   "metadata": {},
   "outputs": [],
   "source": [
    "def driver_samples(df, size):\n",
    "    list_dataframes_samples = []\n",
    "    for i in range(10):\n",
    "        print('ID_Motorista:', i)\n",
    "        df_driver = df[df.motorista_id == i]\n",
    "        df_driver_sample = df_driver.sample(size, random_state=42)\n",
    "        list_dataframes_samples.append(df_driver_sample)\n",
    "    return pd.concat(list_dataframes_samples)\n",
    "\n",
    "# def plots_analysis(amostra):\n",
    "#     plt.figure(figsize=(10, 5))\n",
    "#     sns.histplot(amostra['velocidade_kmh'], bins=50, kde=True)\n",
    "#     plt.title('Histograma da Velocidade (km/h)')\n",
    "#     plt.xlabel('Velocidade (km/h)')\n",
    "#     plt.ylabel('Frequência')\n",
    "#     plt.grid(True)\n",
    "#     plt.show()"
   ]
  },
  {
   "cell_type": "code",
   "execution_count": 11,
   "id": "d2ce051d-c391-4971-a94d-c3fb06e2c616",
   "metadata": {},
   "outputs": [
    {
     "name": "stdout",
     "output_type": "stream",
     "text": [
      "ID_Motorista: 0\n",
      "ID_Motorista: 1\n",
      "ID_Motorista: 2\n",
      "ID_Motorista: 3\n",
      "ID_Motorista: 4\n",
      "ID_Motorista: 5\n",
      "ID_Motorista: 6\n",
      "ID_Motorista: 7\n",
      "ID_Motorista: 8\n",
      "ID_Motorista: 9\n"
     ]
    }
   ],
   "source": [
    "dv_samples = driver_samples(df, 10000)"
   ]
  },
  {
   "cell_type": "code",
   "execution_count": 12,
   "id": "e903f457-539f-47d8-8455-bcc5bc35c0a5",
   "metadata": {},
   "outputs": [
    {
     "data": {
      "text/html": [
       "<div>\n",
       "<style scoped>\n",
       "    .dataframe tbody tr th:only-of-type {\n",
       "        vertical-align: middle;\n",
       "    }\n",
       "\n",
       "    .dataframe tbody tr th {\n",
       "        vertical-align: top;\n",
       "    }\n",
       "\n",
       "    .dataframe thead th {\n",
       "        text-align: right;\n",
       "    }\n",
       "</style>\n",
       "<table border=\"1\" class=\"dataframe\">\n",
       "  <thead>\n",
       "    <tr style=\"text-align: right;\">\n",
       "      <th></th>\n",
       "      <th>motorista_id</th>\n",
       "      <th>timestamp</th>\n",
       "      <th>velocidade_kmh</th>\n",
       "      <th>aceleracao_ms2</th>\n",
       "      <th>rpm</th>\n",
       "      <th>consumo_l_100km</th>\n",
       "      <th>angulo_volante_graus</th>\n",
       "      <th>posicao_pedal_acelerador</th>\n",
       "      <th>freio_acionado</th>\n",
       "      <th>marcha</th>\n",
       "      <th>gps_inclinacao</th>\n",
       "      <th>gps_curva_graus</th>\n",
       "    </tr>\n",
       "  </thead>\n",
       "  <tbody>\n",
       "    <tr>\n",
       "      <th>43404</th>\n",
       "      <td>0</td>\n",
       "      <td>2025-04-10 12:03:24</td>\n",
       "      <td>45.945584</td>\n",
       "      <td>-1.254292</td>\n",
       "      <td>3073.382390</td>\n",
       "      <td>13.554596</td>\n",
       "      <td>33.345751</td>\n",
       "      <td>25.230675</td>\n",
       "      <td>0</td>\n",
       "      <td>5</td>\n",
       "      <td>-4.624741</td>\n",
       "      <td>18.646467</td>\n",
       "    </tr>\n",
       "    <tr>\n",
       "      <th>78317</th>\n",
       "      <td>0</td>\n",
       "      <td>2025-04-10 21:45:17</td>\n",
       "      <td>63.047813</td>\n",
       "      <td>-0.486870</td>\n",
       "      <td>3159.726750</td>\n",
       "      <td>14.766736</td>\n",
       "      <td>31.056006</td>\n",
       "      <td>5.048942</td>\n",
       "      <td>0</td>\n",
       "      <td>5</td>\n",
       "      <td>1.594952</td>\n",
       "      <td>5.139402</td>\n",
       "    </tr>\n",
       "    <tr>\n",
       "      <th>6096</th>\n",
       "      <td>0</td>\n",
       "      <td>2025-04-10 01:41:36</td>\n",
       "      <td>76.780529</td>\n",
       "      <td>-0.628180</td>\n",
       "      <td>2982.387154</td>\n",
       "      <td>15.088523</td>\n",
       "      <td>-58.204085</td>\n",
       "      <td>0.000000</td>\n",
       "      <td>0</td>\n",
       "      <td>5</td>\n",
       "      <td>-0.036797</td>\n",
       "      <td>4.100237</td>\n",
       "    </tr>\n",
       "    <tr>\n",
       "      <th>40929</th>\n",
       "      <td>0</td>\n",
       "      <td>2025-04-10 11:22:09</td>\n",
       "      <td>73.633072</td>\n",
       "      <td>-0.680562</td>\n",
       "      <td>2862.234306</td>\n",
       "      <td>14.693674</td>\n",
       "      <td>13.893542</td>\n",
       "      <td>43.944134</td>\n",
       "      <td>0</td>\n",
       "      <td>3</td>\n",
       "      <td>-0.942629</td>\n",
       "      <td>17.686829</td>\n",
       "    </tr>\n",
       "    <tr>\n",
       "      <th>59505</th>\n",
       "      <td>0</td>\n",
       "      <td>2025-04-10 16:31:45</td>\n",
       "      <td>63.349937</td>\n",
       "      <td>-1.014227</td>\n",
       "      <td>2917.690892</td>\n",
       "      <td>15.495757</td>\n",
       "      <td>-1.488069</td>\n",
       "      <td>27.196232</td>\n",
       "      <td>0</td>\n",
       "      <td>6</td>\n",
       "      <td>-0.616065</td>\n",
       "      <td>-10.608583</td>\n",
       "    </tr>\n",
       "  </tbody>\n",
       "</table>\n",
       "</div>"
      ],
      "text/plain": [
       "       motorista_id            timestamp  velocidade_kmh  aceleracao_ms2  \\\n",
       "43404             0  2025-04-10 12:03:24       45.945584       -1.254292   \n",
       "78317             0  2025-04-10 21:45:17       63.047813       -0.486870   \n",
       "6096              0  2025-04-10 01:41:36       76.780529       -0.628180   \n",
       "40929             0  2025-04-10 11:22:09       73.633072       -0.680562   \n",
       "59505             0  2025-04-10 16:31:45       63.349937       -1.014227   \n",
       "\n",
       "               rpm  consumo_l_100km  angulo_volante_graus  \\\n",
       "43404  3073.382390        13.554596             33.345751   \n",
       "78317  3159.726750        14.766736             31.056006   \n",
       "6096   2982.387154        15.088523            -58.204085   \n",
       "40929  2862.234306        14.693674             13.893542   \n",
       "59505  2917.690892        15.495757             -1.488069   \n",
       "\n",
       "       posicao_pedal_acelerador  freio_acionado  marcha  gps_inclinacao  \\\n",
       "43404                 25.230675               0       5       -4.624741   \n",
       "78317                  5.048942               0       5        1.594952   \n",
       "6096                   0.000000               0       5       -0.036797   \n",
       "40929                 43.944134               0       3       -0.942629   \n",
       "59505                 27.196232               0       6       -0.616065   \n",
       "\n",
       "       gps_curva_graus  \n",
       "43404        18.646467  \n",
       "78317         5.139402  \n",
       "6096          4.100237  \n",
       "40929        17.686829  \n",
       "59505       -10.608583  "
      ]
     },
     "execution_count": 12,
     "metadata": {},
     "output_type": "execute_result"
    }
   ],
   "source": [
    "dv_samples.head()"
   ]
  },
  {
   "cell_type": "markdown",
   "id": "91a65410-249f-4e8c-b100-a61a6aa2069e",
   "metadata": {},
   "source": [
    "#### Distribuição velocidade_kmh"
   ]
  },
  {
   "cell_type": "code",
   "execution_count": null,
   "id": "3dd16239-74af-4fb2-9bc1-b127333d5c70",
   "metadata": {},
   "outputs": [],
   "source": []
  }
 ],
 "metadata": {
  "kernelspec": {
   "display_name": "Python 3 (ipykernel)",
   "language": "python",
   "name": "python3"
  },
  "language_info": {
   "codemirror_mode": {
    "name": "ipython",
    "version": 3
   },
   "file_extension": ".py",
   "mimetype": "text/x-python",
   "name": "python",
   "nbconvert_exporter": "python",
   "pygments_lexer": "ipython3",
   "version": "3.9.12"
  }
 },
 "nbformat": 4,
 "nbformat_minor": 5
}
