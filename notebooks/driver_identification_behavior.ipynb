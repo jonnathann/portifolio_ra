{
 "cells": [
  {
   "cell_type": "markdown",
   "id": "6250ad58-3d97-4b64-b97d-ecf315be906f",
   "metadata": {},
   "source": [
    "# Identificação de motoristas através de comportamentos de condução"
   ]
  },
  {
   "cell_type": "markdown",
   "id": "57450431-6e92-47e8-9d9c-2a823048ae66",
   "metadata": {},
   "source": [
    "##  Imports"
   ]
  },
  {
   "cell_type": "code",
   "execution_count": 1,
   "id": "c29bf700-8768-44a6-a785-c42000f28948",
   "metadata": {},
   "outputs": [],
   "source": [
    "import numpy as np\n",
    "import pandas as pd\n",
    "import random"
   ]
  },
  {
   "cell_type": "markdown",
   "id": "032525a5-bd81-4a87-b268-d6c863f3f41f",
   "metadata": {},
   "source": [
    "## Gerando dados sintéticos de comportamentos de condução para 10 motoristas"
   ]
  },
  {
   "cell_type": "raw",
   "id": "ec077826-009b-42da-9e77-e0c0db8f7750",
   "metadata": {},
   "source": [
    "# Configurações\n",
    "num_motoristas = 10\n",
    "segundos_por_motorista = 3600  # 1 hora de dados por motorista\n",
    "total_linhas = num_motoristas * segundos_por_motorista\n",
    "\n",
    "# Função para gerar dados sintéticos para um motorista\n",
    "def gerar_dados_motorista(motorista_id, n_registros):\n",
    "    np.random.seed(motorista_id)  # manter reprodutibilidade por motorista\n",
    "\n",
    "    # Simula variações realistas por motorista\n",
    "    velocidade_base = random.uniform(40, 100)\n",
    "    aceleracao_base = random.uniform(-1, 1)\n",
    "    rotacao_base = random.uniform(1000, 3000)\n",
    "    consumo_base = random.uniform(8, 15)\n",
    "\n",
    "    dados = {\n",
    "        'motorista_id': [motorista_id] * n_registros,\n",
    "        'timestamp': pd.date_range(\"2025-04-10 08:00:00\", periods=n_registros, freq='S'),\n",
    "        'velocidade_kmh': np.clip(np.random.normal(velocidade_base, 10, n_registros), 0, 180),\n",
    "        'aceleracao_ms2': np.clip(np.random.normal(aceleracao_base, 0.5, n_registros), -3, 3),\n",
    "        'rpm': np.clip(np.random.normal(rotacao_base, 300, n_registros), 500, 6000),\n",
    "        'consumo_l_100km': np.clip(np.random.normal(consumo_base, 1.0, n_registros), 5, 25),\n",
    "        'angulo_volante_graus': np.clip(np.random.normal(0, 30, n_registros), -180, 180),\n",
    "        'posicao_pedal_acelerador': np.clip(np.random.normal(30, 20, n_registros), 0, 100),\n",
    "        'freio_acionado': np.random.choice([0, 1], size=n_registros, p=[0.85, 0.15]),\n",
    "        'marcha': np.random.choice(range(1, 7), size=n_registros),\n",
    "        'gps_inclinacao': np.clip(np.random.normal(0, 3, n_registros), -10, 10),\n",
    "        'gps_curva_graus': np.clip(np.random.normal(0, 20, n_registros), -180, 180)\n",
    "    }\n",
    "\n",
    "    return pd.DataFrame(dados)"
   ]
  },
  {
   "cell_type": "markdown",
   "id": "3cc48a3c-0906-439a-92c4-ee3043ffe84f",
   "metadata": {},
   "source": [
    "## Salvando arquivo em .csv"
   ]
  },
  {
   "cell_type": "raw",
   "id": "b6ced57c-31e2-4bdd-a5cd-712dcbbfc40a",
   "metadata": {},
   "source": [
    "# Gerar todos os dados\n",
    "df_total = pd.concat([gerar_dados_motorista(i, segundos_por_motorista) for i in range(num_motoristas)], ignore_index=True)\n",
    "\n",
    "# Salvar\n",
    "df_total.to_csv('../data/raw/dados_obd_sinteticos.csv', index=False)\n",
    "print(\"Arquivo salvo como dados_obd_sinteticos.csv\")"
   ]
  },
  {
   "cell_type": "markdown",
   "id": "f1381d8b-91d4-41eb-bfab-29d5427f4be5",
   "metadata": {},
   "source": [
    "## Lendo arquivo com dados sintéticos gerado"
   ]
  },
  {
   "cell_type": "markdown",
   "id": "5d6f4f6d-5580-415f-8738-90763d9a28d3",
   "metadata": {},
   "source": [
    "### Visualizando as primeiras linhas do conjunto de dados"
   ]
  },
  {
   "cell_type": "code",
   "execution_count": 7,
   "id": "e61baaff-8af9-4adc-9ba5-d7574f6e9f96",
   "metadata": {},
   "outputs": [
    {
     "data": {
      "text/html": [
       "<div>\n",
       "<style scoped>\n",
       "    .dataframe tbody tr th:only-of-type {\n",
       "        vertical-align: middle;\n",
       "    }\n",
       "\n",
       "    .dataframe tbody tr th {\n",
       "        vertical-align: top;\n",
       "    }\n",
       "\n",
       "    .dataframe thead th {\n",
       "        text-align: right;\n",
       "    }\n",
       "</style>\n",
       "<table border=\"1\" class=\"dataframe\">\n",
       "  <thead>\n",
       "    <tr style=\"text-align: right;\">\n",
       "      <th></th>\n",
       "      <th>motorista_id</th>\n",
       "      <th>timestamp</th>\n",
       "      <th>velocidade_kmh</th>\n",
       "      <th>aceleracao_ms2</th>\n",
       "      <th>rpm</th>\n",
       "      <th>consumo_l_100km</th>\n",
       "      <th>angulo_volante_graus</th>\n",
       "      <th>posicao_pedal_acelerador</th>\n",
       "      <th>freio_acionado</th>\n",
       "      <th>marcha</th>\n",
       "      <th>gps_inclinacao</th>\n",
       "      <th>gps_curva_graus</th>\n",
       "    </tr>\n",
       "  </thead>\n",
       "  <tbody>\n",
       "    <tr>\n",
       "      <th>0</th>\n",
       "      <td>0</td>\n",
       "      <td>2025-04-10 08:00:00</td>\n",
       "      <td>67.849800</td>\n",
       "      <td>-0.494549</td>\n",
       "      <td>2645.904496</td>\n",
       "      <td>10.506860</td>\n",
       "      <td>0.336017</td>\n",
       "      <td>30.120284</td>\n",
       "      <td>0</td>\n",
       "      <td>6</td>\n",
       "      <td>-7.507713</td>\n",
       "      <td>13.321314</td>\n",
       "    </tr>\n",
       "    <tr>\n",
       "      <th>1</th>\n",
       "      <td>0</td>\n",
       "      <td>2025-04-10 08:00:01</td>\n",
       "      <td>54.210849</td>\n",
       "      <td>-0.707409</td>\n",
       "      <td>3126.352854</td>\n",
       "      <td>11.512822</td>\n",
       "      <td>-57.394443</td>\n",
       "      <td>45.055424</td>\n",
       "      <td>0</td>\n",
       "      <td>5</td>\n",
       "      <td>3.148092</td>\n",
       "      <td>-29.695937</td>\n",
       "    </tr>\n",
       "    <tr>\n",
       "      <th>2</th>\n",
       "      <td>0</td>\n",
       "      <td>2025-04-10 08:00:02</td>\n",
       "      <td>59.996656</td>\n",
       "      <td>-0.952261</td>\n",
       "      <td>2844.634272</td>\n",
       "      <td>13.031198</td>\n",
       "      <td>-49.576798</td>\n",
       "      <td>34.648811</td>\n",
       "      <td>0</td>\n",
       "      <td>5</td>\n",
       "      <td>-4.029578</td>\n",
       "      <td>17.264626</td>\n",
       "    </tr>\n",
       "    <tr>\n",
       "      <th>3</th>\n",
       "      <td>0</td>\n",
       "      <td>2025-04-10 08:00:03</td>\n",
       "      <td>72.618208</td>\n",
       "      <td>-1.081336</td>\n",
       "      <td>2510.220627</td>\n",
       "      <td>11.996259</td>\n",
       "      <td>-29.580120</td>\n",
       "      <td>41.830009</td>\n",
       "      <td>0</td>\n",
       "      <td>3</td>\n",
       "      <td>-5.749163</td>\n",
       "      <td>45.464143</td>\n",
       "    </tr>\n",
       "    <tr>\n",
       "      <th>4</th>\n",
       "      <td>0</td>\n",
       "      <td>2025-04-10 08:00:04</td>\n",
       "      <td>68.884856</td>\n",
       "      <td>-0.847481</td>\n",
       "      <td>2702.875067</td>\n",
       "      <td>12.376213</td>\n",
       "      <td>-12.567649</td>\n",
       "      <td>9.577115</td>\n",
       "      <td>0</td>\n",
       "      <td>4</td>\n",
       "      <td>-5.162190</td>\n",
       "      <td>0.492311</td>\n",
       "    </tr>\n",
       "  </tbody>\n",
       "</table>\n",
       "</div>"
      ],
      "text/plain": [
       "   motorista_id            timestamp  velocidade_kmh  aceleracao_ms2  \\\n",
       "0             0  2025-04-10 08:00:00       67.849800       -0.494549   \n",
       "1             0  2025-04-10 08:00:01       54.210849       -0.707409   \n",
       "2             0  2025-04-10 08:00:02       59.996656       -0.952261   \n",
       "3             0  2025-04-10 08:00:03       72.618208       -1.081336   \n",
       "4             0  2025-04-10 08:00:04       68.884856       -0.847481   \n",
       "\n",
       "           rpm  consumo_l_100km  angulo_volante_graus  \\\n",
       "0  2645.904496        10.506860              0.336017   \n",
       "1  3126.352854        11.512822            -57.394443   \n",
       "2  2844.634272        13.031198            -49.576798   \n",
       "3  2510.220627        11.996259            -29.580120   \n",
       "4  2702.875067        12.376213            -12.567649   \n",
       "\n",
       "   posicao_pedal_acelerador  freio_acionado  marcha  gps_inclinacao  \\\n",
       "0                 30.120284               0       6       -7.507713   \n",
       "1                 45.055424               0       5        3.148092   \n",
       "2                 34.648811               0       5       -4.029578   \n",
       "3                 41.830009               0       3       -5.749163   \n",
       "4                  9.577115               0       4       -5.162190   \n",
       "\n",
       "   gps_curva_graus  \n",
       "0        13.321314  \n",
       "1       -29.695937  \n",
       "2        17.264626  \n",
       "3        45.464143  \n",
       "4         0.492311  "
      ]
     },
     "execution_count": 7,
     "metadata": {},
     "output_type": "execute_result"
    }
   ],
   "source": [
    "df = pd.read_csv('../data/raw/dados_obd_sinteticos.csv')\n",
    "df.head()"
   ]
  }
 ],
 "metadata": {
  "kernelspec": {
   "display_name": "Python 3 (ipykernel)",
   "language": "python",
   "name": "python3"
  },
  "language_info": {
   "codemirror_mode": {
    "name": "ipython",
    "version": 3
   },
   "file_extension": ".py",
   "mimetype": "text/x-python",
   "name": "python",
   "nbconvert_exporter": "python",
   "pygments_lexer": "ipython3",
   "version": "3.9.12"
  }
 },
 "nbformat": 4,
 "nbformat_minor": 5
}
