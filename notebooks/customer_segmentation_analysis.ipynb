{
 "cells": [
  {
   "cell_type": "markdown",
   "id": "69d17878-36ab-4421-9161-7631139b61c8",
   "metadata": {},
   "source": [
    "## Análise de Segmentação de Clientes: Clustering"
   ]
  },
  {
   "cell_type": "code",
   "execution_count": 60,
   "id": "b404663b-eb0e-4d26-8804-0c1d6619856e",
   "metadata": {},
   "outputs": [],
   "source": [
    "import pandas as pd\n",
    "\n",
    "url = \"https://archive.ics.uci.edu/ml/machine-learning-databases/00352/Online%20Retail.xlsx\"\n",
    "\n",
    "df = pd.read_excel(url)"
   ]
  },
  {
   "cell_type": "markdown",
   "id": "871fcde3-0b57-4cce-9f07-7f2e8245fb10",
   "metadata": {},
   "source": [
    "#### Análise exploratória (EDA)"
   ]
  },
  {
   "cell_type": "markdown",
   "id": "150ddd1e-bb3d-4485-947d-ffaa478b81b4",
   "metadata": {},
   "source": [
    "##### Visualizando as primeiras linhas dos dados"
   ]
  },
  {
   "cell_type": "code",
   "execution_count": 61,
   "id": "74051732-f8b2-4b7f-ab93-dd91eb191af2",
   "metadata": {},
   "outputs": [
    {
     "data": {
      "text/html": [
       "<div>\n",
       "<style scoped>\n",
       "    .dataframe tbody tr th:only-of-type {\n",
       "        vertical-align: middle;\n",
       "    }\n",
       "\n",
       "    .dataframe tbody tr th {\n",
       "        vertical-align: top;\n",
       "    }\n",
       "\n",
       "    .dataframe thead th {\n",
       "        text-align: right;\n",
       "    }\n",
       "</style>\n",
       "<table border=\"1\" class=\"dataframe\">\n",
       "  <thead>\n",
       "    <tr style=\"text-align: right;\">\n",
       "      <th></th>\n",
       "      <th>InvoiceNo</th>\n",
       "      <th>StockCode</th>\n",
       "      <th>Description</th>\n",
       "      <th>Quantity</th>\n",
       "      <th>InvoiceDate</th>\n",
       "      <th>UnitPrice</th>\n",
       "      <th>CustomerID</th>\n",
       "      <th>Country</th>\n",
       "    </tr>\n",
       "  </thead>\n",
       "  <tbody>\n",
       "    <tr>\n",
       "      <th>0</th>\n",
       "      <td>536365</td>\n",
       "      <td>85123A</td>\n",
       "      <td>WHITE HANGING HEART T-LIGHT HOLDER</td>\n",
       "      <td>6</td>\n",
       "      <td>2010-12-01 08:26:00</td>\n",
       "      <td>2.55</td>\n",
       "      <td>17850.0</td>\n",
       "      <td>United Kingdom</td>\n",
       "    </tr>\n",
       "    <tr>\n",
       "      <th>1</th>\n",
       "      <td>536365</td>\n",
       "      <td>71053</td>\n",
       "      <td>WHITE METAL LANTERN</td>\n",
       "      <td>6</td>\n",
       "      <td>2010-12-01 08:26:00</td>\n",
       "      <td>3.39</td>\n",
       "      <td>17850.0</td>\n",
       "      <td>United Kingdom</td>\n",
       "    </tr>\n",
       "    <tr>\n",
       "      <th>2</th>\n",
       "      <td>536365</td>\n",
       "      <td>84406B</td>\n",
       "      <td>CREAM CUPID HEARTS COAT HANGER</td>\n",
       "      <td>8</td>\n",
       "      <td>2010-12-01 08:26:00</td>\n",
       "      <td>2.75</td>\n",
       "      <td>17850.0</td>\n",
       "      <td>United Kingdom</td>\n",
       "    </tr>\n",
       "    <tr>\n",
       "      <th>3</th>\n",
       "      <td>536365</td>\n",
       "      <td>84029G</td>\n",
       "      <td>KNITTED UNION FLAG HOT WATER BOTTLE</td>\n",
       "      <td>6</td>\n",
       "      <td>2010-12-01 08:26:00</td>\n",
       "      <td>3.39</td>\n",
       "      <td>17850.0</td>\n",
       "      <td>United Kingdom</td>\n",
       "    </tr>\n",
       "    <tr>\n",
       "      <th>4</th>\n",
       "      <td>536365</td>\n",
       "      <td>84029E</td>\n",
       "      <td>RED WOOLLY HOTTIE WHITE HEART.</td>\n",
       "      <td>6</td>\n",
       "      <td>2010-12-01 08:26:00</td>\n",
       "      <td>3.39</td>\n",
       "      <td>17850.0</td>\n",
       "      <td>United Kingdom</td>\n",
       "    </tr>\n",
       "  </tbody>\n",
       "</table>\n",
       "</div>"
      ],
      "text/plain": [
       "  InvoiceNo StockCode                          Description  Quantity  \\\n",
       "0    536365    85123A   WHITE HANGING HEART T-LIGHT HOLDER         6   \n",
       "1    536365     71053                  WHITE METAL LANTERN         6   \n",
       "2    536365    84406B       CREAM CUPID HEARTS COAT HANGER         8   \n",
       "3    536365    84029G  KNITTED UNION FLAG HOT WATER BOTTLE         6   \n",
       "4    536365    84029E       RED WOOLLY HOTTIE WHITE HEART.         6   \n",
       "\n",
       "          InvoiceDate  UnitPrice  CustomerID         Country  \n",
       "0 2010-12-01 08:26:00       2.55     17850.0  United Kingdom  \n",
       "1 2010-12-01 08:26:00       3.39     17850.0  United Kingdom  \n",
       "2 2010-12-01 08:26:00       2.75     17850.0  United Kingdom  \n",
       "3 2010-12-01 08:26:00       3.39     17850.0  United Kingdom  \n",
       "4 2010-12-01 08:26:00       3.39     17850.0  United Kingdom  "
      ]
     },
     "execution_count": 61,
     "metadata": {},
     "output_type": "execute_result"
    }
   ],
   "source": [
    "df.head()"
   ]
  },
  {
   "cell_type": "markdown",
   "id": "7a0c9b48-cc37-473b-bbca-02573ffd1ff7",
   "metadata": {},
   "source": [
    "##### Atributos do conjunto de dados"
   ]
  },
  {
   "cell_type": "code",
   "execution_count": 62,
   "id": "adf59ce0-2079-48ad-9162-a42a99b3e658",
   "metadata": {},
   "outputs": [
    {
     "data": {
      "text/plain": [
       "Index(['InvoiceNo', 'StockCode', 'Description', 'Quantity', 'InvoiceDate',\n",
       "       'UnitPrice', 'CustomerID', 'Country'],\n",
       "      dtype='object')"
      ]
     },
     "execution_count": 62,
     "metadata": {},
     "output_type": "execute_result"
    }
   ],
   "source": [
    "df.columns"
   ]
  },
  {
   "cell_type": "markdown",
   "id": "450e06ee-11f5-4414-86e6-ca46d012b5b8",
   "metadata": {},
   "source": [
    "##### Tamanho do conjunto de dados"
   ]
  },
  {
   "cell_type": "code",
   "execution_count": 63,
   "id": "e683227b-6b97-4d46-a00f-129986c53421",
   "metadata": {},
   "outputs": [
    {
     "data": {
      "text/plain": [
       "(541909, 8)"
      ]
     },
     "execution_count": 63,
     "metadata": {},
     "output_type": "execute_result"
    }
   ],
   "source": [
    "df.shape"
   ]
  },
  {
   "cell_type": "markdown",
   "id": "7cc64b58-7a08-4b04-9cc8-64bacafb97bd",
   "metadata": {},
   "source": [
    "##### Verificando os tipos de dados das colunas"
   ]
  },
  {
   "cell_type": "code",
   "execution_count": 64,
   "id": "8e900eb2-a157-4321-8f22-5603e9911cea",
   "metadata": {},
   "outputs": [
    {
     "name": "stdout",
     "output_type": "stream",
     "text": [
      "<class 'pandas.core.frame.DataFrame'>\n",
      "RangeIndex: 541909 entries, 0 to 541908\n",
      "Data columns (total 8 columns):\n",
      " #   Column       Non-Null Count   Dtype         \n",
      "---  ------       --------------   -----         \n",
      " 0   InvoiceNo    541909 non-null  object        \n",
      " 1   StockCode    541909 non-null  object        \n",
      " 2   Description  540455 non-null  object        \n",
      " 3   Quantity     541909 non-null  int64         \n",
      " 4   InvoiceDate  541909 non-null  datetime64[ns]\n",
      " 5   UnitPrice    541909 non-null  float64       \n",
      " 6   CustomerID   406829 non-null  float64       \n",
      " 7   Country      541909 non-null  object        \n",
      "dtypes: datetime64[ns](1), float64(2), int64(1), object(4)\n",
      "memory usage: 33.1+ MB\n"
     ]
    }
   ],
   "source": [
    "df.info()"
   ]
  },
  {
   "cell_type": "markdown",
   "id": "c850c2f9-4e96-43f7-ad4f-cf3a64a603f7",
   "metadata": {},
   "source": [
    "##### Verificar se existem dados faltantes"
   ]
  },
  {
   "cell_type": "code",
   "execution_count": 65,
   "id": "4f3b5ca6-6d88-4eea-86ef-e711744aff15",
   "metadata": {},
   "outputs": [
    {
     "data": {
      "text/plain": [
       "InvoiceNo           0\n",
       "StockCode           0\n",
       "Description      1454\n",
       "Quantity            0\n",
       "InvoiceDate         0\n",
       "UnitPrice           0\n",
       "CustomerID     135080\n",
       "Country             0\n",
       "dtype: int64"
      ]
     },
     "execution_count": 65,
     "metadata": {},
     "output_type": "execute_result"
    }
   ],
   "source": [
    "df.isnull().sum()"
   ]
  },
  {
   "cell_type": "markdown",
   "id": "31c40054-9c58-437d-a136-95a54b378f56",
   "metadata": {},
   "source": [
    "##### Tratando os dados faltantes"
   ]
  },
  {
   "cell_type": "code",
   "execution_count": 66,
   "id": "e477acaf-b120-4dc3-9cbe-866aa9a49b1d",
   "metadata": {},
   "outputs": [],
   "source": [
    "#Adicinando a frase 'sem descrição' nos campos onde a descrição está faltando\n",
    "df['Description'] = df['Description'].fillna('Sem descrição')\n",
    "\n",
    "#Como tem clientes sem ID, vamos removê-los para não atrapalhar a segmentação\n",
    "df.dropna(subset=['CustomerID'], inplace=True)"
   ]
  },
  {
   "cell_type": "markdown",
   "id": "523c7fc8-d6e3-410d-89d7-5aea91f6fa29",
   "metadata": {},
   "source": [
    "##### Verificando novamente a existência de dados faltantes"
   ]
  },
  {
   "cell_type": "code",
   "execution_count": 67,
   "id": "1c6ccd5e-a2ea-46ea-b8c2-e6499addf04e",
   "metadata": {},
   "outputs": [
    {
     "data": {
      "text/plain": [
       "InvoiceNo      0\n",
       "StockCode      0\n",
       "Description    0\n",
       "Quantity       0\n",
       "InvoiceDate    0\n",
       "UnitPrice      0\n",
       "CustomerID     0\n",
       "Country        0\n",
       "dtype: int64"
      ]
     },
     "execution_count": 67,
     "metadata": {},
     "output_type": "execute_result"
    }
   ],
   "source": [
    "df.isnull().sum()"
   ]
  },
  {
   "cell_type": "markdown",
   "id": "b31c9cd5-ddcf-404a-8a86-eea7155d0f02",
   "metadata": {},
   "source": [
    "#### Calculando métricas RFM:\n",
    "\n",
    "- Recência (R): Tempo desde a última compra do cliente.\n",
    "- Frequência (F): Número total de compras feitas pelo cliente.\n",
    "- Valor Monetário (M): Total gasto por cada cliente."
   ]
  },
  {
   "cell_type": "markdown",
   "id": "9e4034e9-058f-46ec-8726-2619246f2742",
   "metadata": {},
   "source": [
    "##### Recência (R)"
   ]
  },
  {
   "cell_type": "code",
   "execution_count": 68,
   "id": "7526fa30-a541-4c6b-a3f0-8832c80ec8da",
   "metadata": {},
   "outputs": [],
   "source": [
    "# Definir a data de referência (última data no conjunto de dados)\n",
    "latest_date = df['InvoiceDate'].max()\n",
    "\n",
    "# Calcular a recência de cada cliente (em dias)\n",
    "rfm = df.groupby('CustomerID').agg({\n",
    "    'InvoiceDate': lambda x: (latest_date - x.max()).days  # Última compra de cada cliente\n",
    "})\n",
    "rfm.rename(columns={'InvoiceDate': 'Recency'}, inplace=True)"
   ]
  },
  {
   "cell_type": "code",
   "execution_count": 69,
   "id": "7b2d369e-3785-4e36-ab96-7e48e9f88174",
   "metadata": {},
   "outputs": [
    {
     "data": {
      "text/html": [
       "<div>\n",
       "<style scoped>\n",
       "    .dataframe tbody tr th:only-of-type {\n",
       "        vertical-align: middle;\n",
       "    }\n",
       "\n",
       "    .dataframe tbody tr th {\n",
       "        vertical-align: top;\n",
       "    }\n",
       "\n",
       "    .dataframe thead th {\n",
       "        text-align: right;\n",
       "    }\n",
       "</style>\n",
       "<table border=\"1\" class=\"dataframe\">\n",
       "  <thead>\n",
       "    <tr style=\"text-align: right;\">\n",
       "      <th></th>\n",
       "      <th>Recency</th>\n",
       "    </tr>\n",
       "    <tr>\n",
       "      <th>CustomerID</th>\n",
       "      <th></th>\n",
       "    </tr>\n",
       "  </thead>\n",
       "  <tbody>\n",
       "    <tr>\n",
       "      <th>12346.0</th>\n",
       "      <td>325</td>\n",
       "    </tr>\n",
       "    <tr>\n",
       "      <th>12347.0</th>\n",
       "      <td>1</td>\n",
       "    </tr>\n",
       "    <tr>\n",
       "      <th>12348.0</th>\n",
       "      <td>74</td>\n",
       "    </tr>\n",
       "    <tr>\n",
       "      <th>12349.0</th>\n",
       "      <td>18</td>\n",
       "    </tr>\n",
       "    <tr>\n",
       "      <th>12350.0</th>\n",
       "      <td>309</td>\n",
       "    </tr>\n",
       "  </tbody>\n",
       "</table>\n",
       "</div>"
      ],
      "text/plain": [
       "            Recency\n",
       "CustomerID         \n",
       "12346.0         325\n",
       "12347.0           1\n",
       "12348.0          74\n",
       "12349.0          18\n",
       "12350.0         309"
      ]
     },
     "execution_count": 69,
     "metadata": {},
     "output_type": "execute_result"
    }
   ],
   "source": [
    "rfm.head()"
   ]
  },
  {
   "cell_type": "markdown",
   "id": "7cef4ac7-8ab1-4d5b-a4d9-befa991baf81",
   "metadata": {},
   "source": [
    "##### Frequência (F)"
   ]
  },
  {
   "cell_type": "code",
   "execution_count": 70,
   "id": "02ed75cf-36e2-441d-8457-47b510522879",
   "metadata": {},
   "outputs": [],
   "source": [
    "# Calcular a frequência de compras de cada cliente\n",
    "rfm['Frequency'] = df.groupby('CustomerID').size()"
   ]
  },
  {
   "cell_type": "code",
   "execution_count": 71,
   "id": "39ffb276-751f-4f24-9f15-1e07c61b5916",
   "metadata": {},
   "outputs": [
    {
     "data": {
      "text/html": [
       "<div>\n",
       "<style scoped>\n",
       "    .dataframe tbody tr th:only-of-type {\n",
       "        vertical-align: middle;\n",
       "    }\n",
       "\n",
       "    .dataframe tbody tr th {\n",
       "        vertical-align: top;\n",
       "    }\n",
       "\n",
       "    .dataframe thead th {\n",
       "        text-align: right;\n",
       "    }\n",
       "</style>\n",
       "<table border=\"1\" class=\"dataframe\">\n",
       "  <thead>\n",
       "    <tr style=\"text-align: right;\">\n",
       "      <th></th>\n",
       "      <th>Recency</th>\n",
       "      <th>Frequency</th>\n",
       "    </tr>\n",
       "    <tr>\n",
       "      <th>CustomerID</th>\n",
       "      <th></th>\n",
       "      <th></th>\n",
       "    </tr>\n",
       "  </thead>\n",
       "  <tbody>\n",
       "    <tr>\n",
       "      <th>12346.0</th>\n",
       "      <td>325</td>\n",
       "      <td>2</td>\n",
       "    </tr>\n",
       "    <tr>\n",
       "      <th>12347.0</th>\n",
       "      <td>1</td>\n",
       "      <td>182</td>\n",
       "    </tr>\n",
       "    <tr>\n",
       "      <th>12348.0</th>\n",
       "      <td>74</td>\n",
       "      <td>31</td>\n",
       "    </tr>\n",
       "    <tr>\n",
       "      <th>12349.0</th>\n",
       "      <td>18</td>\n",
       "      <td>73</td>\n",
       "    </tr>\n",
       "    <tr>\n",
       "      <th>12350.0</th>\n",
       "      <td>309</td>\n",
       "      <td>17</td>\n",
       "    </tr>\n",
       "  </tbody>\n",
       "</table>\n",
       "</div>"
      ],
      "text/plain": [
       "            Recency  Frequency\n",
       "CustomerID                    \n",
       "12346.0         325          2\n",
       "12347.0           1        182\n",
       "12348.0          74         31\n",
       "12349.0          18         73\n",
       "12350.0         309         17"
      ]
     },
     "execution_count": 71,
     "metadata": {},
     "output_type": "execute_result"
    }
   ],
   "source": [
    "rfm.head()"
   ]
  },
  {
   "cell_type": "markdown",
   "id": "d1b608b3-3af0-4454-9600-abef286ef615",
   "metadata": {},
   "source": [
    "##### Valor Monetário (M)"
   ]
  },
  {
   "cell_type": "code",
   "execution_count": 73,
   "id": "818cd16d-1de0-4d5f-b273-fd709ea17c63",
   "metadata": {},
   "outputs": [],
   "source": [
    "# Calcular o valor gasto por cada cliente (Quantity * UnitPrice)\n",
    "df['TotalSpend'] = df['Quantity'] * df['UnitPrice']\n",
    "\n",
    "# Calcular o valor monetário total gasto por cliente\n",
    "rfm['Monetary'] = df.groupby('CustomerID')['TotalSpend'].sum()"
   ]
  },
  {
   "cell_type": "code",
   "execution_count": 30,
   "id": "ecd8ee70-3aa1-45d4-b682-bfda00fd0ca5",
   "metadata": {},
   "outputs": [
    {
     "data": {
      "text/html": [
       "<div>\n",
       "<style scoped>\n",
       "    .dataframe tbody tr th:only-of-type {\n",
       "        vertical-align: middle;\n",
       "    }\n",
       "\n",
       "    .dataframe tbody tr th {\n",
       "        vertical-align: top;\n",
       "    }\n",
       "\n",
       "    .dataframe thead th {\n",
       "        text-align: right;\n",
       "    }\n",
       "</style>\n",
       "<table border=\"1\" class=\"dataframe\">\n",
       "  <thead>\n",
       "    <tr style=\"text-align: right;\">\n",
       "      <th></th>\n",
       "      <th>Recency</th>\n",
       "      <th>Frequency</th>\n",
       "      <th>Monetary</th>\n",
       "    </tr>\n",
       "    <tr>\n",
       "      <th>CustomerID</th>\n",
       "      <th></th>\n",
       "      <th></th>\n",
       "      <th></th>\n",
       "    </tr>\n",
       "  </thead>\n",
       "  <tbody>\n",
       "    <tr>\n",
       "      <th>12346.0</th>\n",
       "      <td>325</td>\n",
       "      <td>2</td>\n",
       "      <td>0.00</td>\n",
       "    </tr>\n",
       "    <tr>\n",
       "      <th>12347.0</th>\n",
       "      <td>1</td>\n",
       "      <td>182</td>\n",
       "      <td>4310.00</td>\n",
       "    </tr>\n",
       "    <tr>\n",
       "      <th>12348.0</th>\n",
       "      <td>74</td>\n",
       "      <td>31</td>\n",
       "      <td>1797.24</td>\n",
       "    </tr>\n",
       "    <tr>\n",
       "      <th>12349.0</th>\n",
       "      <td>18</td>\n",
       "      <td>73</td>\n",
       "      <td>1757.55</td>\n",
       "    </tr>\n",
       "    <tr>\n",
       "      <th>12350.0</th>\n",
       "      <td>309</td>\n",
       "      <td>17</td>\n",
       "      <td>334.40</td>\n",
       "    </tr>\n",
       "  </tbody>\n",
       "</table>\n",
       "</div>"
      ],
      "text/plain": [
       "            Recency  Frequency  Monetary\n",
       "CustomerID                              \n",
       "12346.0         325          2      0.00\n",
       "12347.0           1        182   4310.00\n",
       "12348.0          74         31   1797.24\n",
       "12349.0          18         73   1757.55\n",
       "12350.0         309         17    334.40"
      ]
     },
     "execution_count": 30,
     "metadata": {},
     "output_type": "execute_result"
    }
   ],
   "source": [
    "rfm.head()"
   ]
  },
  {
   "cell_type": "markdown",
   "id": "5745c357-48be-47b5-a38b-7af61b7de956",
   "metadata": {},
   "source": [
    "##### Relizando a segmentação de clientes"
   ]
  },
  {
   "cell_type": "code",
   "execution_count": 74,
   "id": "0a48f041-9da6-40c5-a8a3-d029819ceb80",
   "metadata": {},
   "outputs": [
    {
     "data": {
      "text/html": [
       "<div>\n",
       "<style scoped>\n",
       "    .dataframe tbody tr th:only-of-type {\n",
       "        vertical-align: middle;\n",
       "    }\n",
       "\n",
       "    .dataframe tbody tr th {\n",
       "        vertical-align: top;\n",
       "    }\n",
       "\n",
       "    .dataframe thead th {\n",
       "        text-align: right;\n",
       "    }\n",
       "</style>\n",
       "<table border=\"1\" class=\"dataframe\">\n",
       "  <thead>\n",
       "    <tr style=\"text-align: right;\">\n",
       "      <th></th>\n",
       "      <th>Recencia</th>\n",
       "      <th>Frequencia</th>\n",
       "      <th>Valor</th>\n",
       "      <th>Recencia_Score</th>\n",
       "      <th>Frequencia_Score</th>\n",
       "      <th>Valor_Score</th>\n",
       "      <th>Total_Score</th>\n",
       "      <th>Segmento</th>\n",
       "    </tr>\n",
       "    <tr>\n",
       "      <th>CustomerID</th>\n",
       "      <th></th>\n",
       "      <th></th>\n",
       "      <th></th>\n",
       "      <th></th>\n",
       "      <th></th>\n",
       "      <th></th>\n",
       "      <th></th>\n",
       "      <th></th>\n",
       "    </tr>\n",
       "  </thead>\n",
       "  <tbody>\n",
       "    <tr>\n",
       "      <th>12346.0</th>\n",
       "      <td>326</td>\n",
       "      <td>2</td>\n",
       "      <td>0.00</td>\n",
       "      <td>1</td>\n",
       "      <td>1</td>\n",
       "      <td>1</td>\n",
       "      <td>3</td>\n",
       "      <td>Segmento 4: Clientes inativos</td>\n",
       "    </tr>\n",
       "    <tr>\n",
       "      <th>12347.0</th>\n",
       "      <td>2</td>\n",
       "      <td>182</td>\n",
       "      <td>4310.00</td>\n",
       "      <td>5</td>\n",
       "      <td>5</td>\n",
       "      <td>5</td>\n",
       "      <td>15</td>\n",
       "      <td>Segmento 1: Clientes mais valiosos</td>\n",
       "    </tr>\n",
       "    <tr>\n",
       "      <th>12348.0</th>\n",
       "      <td>75</td>\n",
       "      <td>31</td>\n",
       "      <td>1797.24</td>\n",
       "      <td>2</td>\n",
       "      <td>3</td>\n",
       "      <td>4</td>\n",
       "      <td>9</td>\n",
       "      <td>Segmento 2: Clientes potenciais</td>\n",
       "    </tr>\n",
       "    <tr>\n",
       "      <th>12349.0</th>\n",
       "      <td>19</td>\n",
       "      <td>73</td>\n",
       "      <td>1757.55</td>\n",
       "      <td>4</td>\n",
       "      <td>4</td>\n",
       "      <td>4</td>\n",
       "      <td>12</td>\n",
       "      <td>Segmento 2: Clientes potenciais</td>\n",
       "    </tr>\n",
       "    <tr>\n",
       "      <th>12350.0</th>\n",
       "      <td>310</td>\n",
       "      <td>17</td>\n",
       "      <td>334.40</td>\n",
       "      <td>1</td>\n",
       "      <td>2</td>\n",
       "      <td>2</td>\n",
       "      <td>5</td>\n",
       "      <td>Segmento 3: Clientes regulares</td>\n",
       "    </tr>\n",
       "    <tr>\n",
       "      <th>...</th>\n",
       "      <td>...</td>\n",
       "      <td>...</td>\n",
       "      <td>...</td>\n",
       "      <td>...</td>\n",
       "      <td>...</td>\n",
       "      <td>...</td>\n",
       "      <td>...</td>\n",
       "      <td>...</td>\n",
       "    </tr>\n",
       "    <tr>\n",
       "      <th>18280.0</th>\n",
       "      <td>278</td>\n",
       "      <td>10</td>\n",
       "      <td>180.60</td>\n",
       "      <td>1</td>\n",
       "      <td>1</td>\n",
       "      <td>1</td>\n",
       "      <td>3</td>\n",
       "      <td>Segmento 4: Clientes inativos</td>\n",
       "    </tr>\n",
       "    <tr>\n",
       "      <th>18281.0</th>\n",
       "      <td>181</td>\n",
       "      <td>7</td>\n",
       "      <td>80.82</td>\n",
       "      <td>1</td>\n",
       "      <td>1</td>\n",
       "      <td>1</td>\n",
       "      <td>3</td>\n",
       "      <td>Segmento 4: Clientes inativos</td>\n",
       "    </tr>\n",
       "    <tr>\n",
       "      <th>18282.0</th>\n",
       "      <td>8</td>\n",
       "      <td>13</td>\n",
       "      <td>176.60</td>\n",
       "      <td>5</td>\n",
       "      <td>1</td>\n",
       "      <td>1</td>\n",
       "      <td>7</td>\n",
       "      <td>Segmento 3: Clientes regulares</td>\n",
       "    </tr>\n",
       "    <tr>\n",
       "      <th>18283.0</th>\n",
       "      <td>4</td>\n",
       "      <td>756</td>\n",
       "      <td>2094.88</td>\n",
       "      <td>5</td>\n",
       "      <td>5</td>\n",
       "      <td>5</td>\n",
       "      <td>15</td>\n",
       "      <td>Segmento 1: Clientes mais valiosos</td>\n",
       "    </tr>\n",
       "    <tr>\n",
       "      <th>18287.0</th>\n",
       "      <td>43</td>\n",
       "      <td>70</td>\n",
       "      <td>1837.28</td>\n",
       "      <td>3</td>\n",
       "      <td>4</td>\n",
       "      <td>4</td>\n",
       "      <td>11</td>\n",
       "      <td>Segmento 2: Clientes potenciais</td>\n",
       "    </tr>\n",
       "  </tbody>\n",
       "</table>\n",
       "<p>4372 rows × 8 columns</p>\n",
       "</div>"
      ],
      "text/plain": [
       "            Recencia  Frequencia    Valor Recencia_Score Frequencia_Score  \\\n",
       "CustomerID                                                                  \n",
       "12346.0          326           2     0.00              1                1   \n",
       "12347.0            2         182  4310.00              5                5   \n",
       "12348.0           75          31  1797.24              2                3   \n",
       "12349.0           19          73  1757.55              4                4   \n",
       "12350.0          310          17   334.40              1                2   \n",
       "...              ...         ...      ...            ...              ...   \n",
       "18280.0          278          10   180.60              1                1   \n",
       "18281.0          181           7    80.82              1                1   \n",
       "18282.0            8          13   176.60              5                1   \n",
       "18283.0            4         756  2094.88              5                5   \n",
       "18287.0           43          70  1837.28              3                4   \n",
       "\n",
       "           Valor_Score  Total_Score                            Segmento  \n",
       "CustomerID                                                               \n",
       "12346.0              1            3       Segmento 4: Clientes inativos  \n",
       "12347.0              5           15  Segmento 1: Clientes mais valiosos  \n",
       "12348.0              4            9     Segmento 2: Clientes potenciais  \n",
       "12349.0              4           12     Segmento 2: Clientes potenciais  \n",
       "12350.0              2            5      Segmento 3: Clientes regulares  \n",
       "...                ...          ...                                 ...  \n",
       "18280.0              1            3       Segmento 4: Clientes inativos  \n",
       "18281.0              1            3       Segmento 4: Clientes inativos  \n",
       "18282.0              1            7      Segmento 3: Clientes regulares  \n",
       "18283.0              5           15  Segmento 1: Clientes mais valiosos  \n",
       "18287.0              4           11     Segmento 2: Clientes potenciais  \n",
       "\n",
       "[4372 rows x 8 columns]"
      ]
     },
     "execution_count": 74,
     "metadata": {},
     "output_type": "execute_result"
    }
   ],
   "source": [
    "import pandas as pd\n",
    "import numpy as np\n",
    "\n",
    "# Exemplo de DataFrame com dados de e-commerce (substitua pelo seu DataFrame real)\n",
    "# df = pd.read_csv('caminho/para/o/seu/arquivo.csv')\n",
    "\n",
    "# Tratamento dos dados (geralmente aqui você já faz a limpeza e formatação)\n",
    "df['InvoiceDate'] = pd.to_datetime(df['InvoiceDate'])\n",
    "df['TotalPrice'] = df['Quantity'] * df['UnitPrice']\n",
    "\n",
    "# Definindo a data de referência para calcular a Recência\n",
    "reference_date = df['InvoiceDate'].max() + pd.Timedelta(days=1)\n",
    "\n",
    "# Calculando RFM\n",
    "rfm = df.groupby('CustomerID').agg({\n",
    "    'InvoiceDate': lambda x: (reference_date - x.max()).days,  # Recência: dias desde a última compra\n",
    "    'InvoiceNo': 'count',  # Frequência: número de compras\n",
    "    'TotalPrice': 'sum'  # Valor Monetário: total gasto\n",
    "})\n",
    "\n",
    "rfm.rename(columns={'InvoiceDate': 'Recencia', 'InvoiceNo': 'Frequencia', 'TotalPrice': 'Valor'}, inplace=True)\n",
    "\n",
    "# Atribuindo Scores para Recência, Frequência e Valor Monetário com base em quantis (5 quantis)\n",
    "rfm['Recencia_Score'] = pd.qcut(rfm['Recencia'], 5, labels=[5, 4, 3, 2, 1])\n",
    "rfm['Frequencia_Score'] = pd.qcut(rfm['Frequencia'], 5, labels=[1, 2, 3, 4, 5], duplicates='drop')\n",
    "rfm['Valor_Score'] = pd.qcut(rfm['Valor'], 5, labels=[1, 2, 3, 4, 5], duplicates='drop')\n",
    "\n",
    "# Calculando o Score Total (Soma dos Scores de Recência, Frequência e Valor)\n",
    "rfm['Total_Score'] = rfm['Recencia_Score'].astype(int) + rfm['Frequencia_Score'].astype(int) + rfm['Valor_Score'].astype(int)\n",
    "\n",
    "# Segmentação com base no Total_Score\n",
    "def segmentacao(row):\n",
    "    if row['Total_Score'] >= 13:\n",
    "        return 'Segmento 1: Clientes mais valiosos'\n",
    "    elif row['Total_Score'] >= 9:\n",
    "        return 'Segmento 2: Clientes potenciais'\n",
    "    elif row['Total_Score'] >= 5:\n",
    "        return 'Segmento 3: Clientes regulares'\n",
    "    else:\n",
    "        return 'Segmento 4: Clientes inativos'\n",
    "\n",
    "rfm['Segmento'] = rfm.apply(segmentacao, axis=1)\n",
    "\n",
    "# Exibindo o resultado final\n",
    "rfm"
   ]
  },
  {
   "cell_type": "code",
   "execution_count": null,
   "id": "72ca01b9-5b2d-4c55-91f3-e828530ac21c",
   "metadata": {},
   "outputs": [],
   "source": []
  }
 ],
 "metadata": {
  "kernelspec": {
   "display_name": "Python 3 (ipykernel)",
   "language": "python",
   "name": "python3"
  },
  "language_info": {
   "codemirror_mode": {
    "name": "ipython",
    "version": 3
   },
   "file_extension": ".py",
   "mimetype": "text/x-python",
   "name": "python",
   "nbconvert_exporter": "python",
   "pygments_lexer": "ipython3",
   "version": "3.9.12"
  }
 },
 "nbformat": 4,
 "nbformat_minor": 5
}
