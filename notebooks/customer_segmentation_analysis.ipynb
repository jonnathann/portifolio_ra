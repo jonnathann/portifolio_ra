{
 "cells": [
  {
   "cell_type": "markdown",
   "id": "45ada5ae-2e07-48ee-a427-3c30124b8830",
   "metadata": {},
   "source": [
    "# 📊 Análise de Segmentação de Clientes\n",
    "\n",
    "## 🧩 Contexto dos Dados e Problema a Ser Resolvido\n",
    "\n",
    "Este estudo foi conduzido com dados de clientes de uma empresa, com o objetivo principal de identificar diferentes perfis de comportamento de compra. A partir dessa segmentação, busca-se personalizar campanhas de marketing de forma mais eficiente.\n",
    "\n",
    "Os dados utilizados contemplam três dimensões principais do comportamento do consumidor:\n",
    "\n",
    "- **Recência**: Quanto tempo se passou desde a última compra.\n",
    "- **Frequência**: Quantidade de vezes que o cliente realizou compras.\n",
    "- **Valor Monetário**: Total gasto pelo cliente em compras.\n",
    "\n",
    "### 🎯 Problema de Negócio\n",
    "\n",
    "**Como otimizar campanhas de marketing para melhorar a retenção de clientes, aumentar o engajamento e elevar o LTV (Lifetime Value)?**\n",
    "\n",
    "A resposta para essa pergunta passa pela segmentação inteligente da base de clientes, permitindo estratégias de marketing mais direcionadas, eficientes e com maior retorno sobre o investimento."
   ]
  },
  {
   "cell_type": "markdown",
   "id": "532a30f0-40ee-4e3b-8a83-793064a75cba",
   "metadata": {},
   "source": [
    "## 🛠️ Técnicas Utilizadas\n",
    "\n",
    "Neste projeto, utilizamos a **análise RFM** (*Recência, Frequência e Valor Monetário*) como técnica principal para segmentar os clientes com base em seu comportamento de compra.\n",
    "\n",
    "A metodologia RFM permite agrupar os clientes de acordo com:\n",
    "\n",
    "- **Recência**: Quanto tempo se passou desde a última compra.\n",
    "- **Frequência**: Quantidade total de compras realizadas.\n",
    "- **Valor Monetário**: Total gasto pelo cliente durante o período analisado.\n",
    "\n",
    "Essa abordagem fornece uma visão estratégica dos diferentes perfis de consumidores, permitindo a criação de **campanhas de marketing personalizadas** e mais eficazes para cada segmento."
   ]
  },
  {
   "cell_type": "markdown",
   "id": "39bd4dbe-372d-49b7-8bc4-3aa5f51b2bde",
   "metadata": {},
   "source": [
    "## Importando bibliotecas necessárias"
   ]
  },
  {
   "cell_type": "code",
   "execution_count": 2,
   "id": "eee64657-423a-468a-a9ea-9d6c101f0a4c",
   "metadata": {},
   "outputs": [],
   "source": [
    "import pandas as pd\n",
    "import numpy as np"
   ]
  },
  {
   "cell_type": "markdown",
   "id": "4cc86129-01b6-4922-8e79-d7964124865c",
   "metadata": {},
   "source": [
    "## Análise Exploratória (EDA)"
   ]
  },
  {
   "cell_type": "markdown",
   "id": "ed6cee41-f8d6-448a-b420-9b7d9fa3e6cc",
   "metadata": {},
   "source": [
    "### Visualização inicial dos dados"
   ]
  },
  {
   "cell_type": "code",
   "execution_count": 3,
   "id": "062d3015-8bd9-4886-a7d0-97c1b73bf93c",
   "metadata": {},
   "outputs": [],
   "source": [
    "url = \"https://archive.ics.uci.edu/ml/machine-learning-databases/00352/Online%20Retail.xlsx\"\n",
    "df = pd.read_excel(url)"
   ]
  },
  {
   "cell_type": "code",
   "execution_count": 5,
   "id": "117c2d02-ba7d-491a-ab07-98aee9a3c6bc",
   "metadata": {},
   "outputs": [
    {
     "data": {
      "text/html": [
       "<div>\n",
       "<style scoped>\n",
       "    .dataframe tbody tr th:only-of-type {\n",
       "        vertical-align: middle;\n",
       "    }\n",
       "\n",
       "    .dataframe tbody tr th {\n",
       "        vertical-align: top;\n",
       "    }\n",
       "\n",
       "    .dataframe thead th {\n",
       "        text-align: right;\n",
       "    }\n",
       "</style>\n",
       "<table border=\"1\" class=\"dataframe\">\n",
       "  <thead>\n",
       "    <tr style=\"text-align: right;\">\n",
       "      <th></th>\n",
       "      <th>InvoiceNo</th>\n",
       "      <th>StockCode</th>\n",
       "      <th>Description</th>\n",
       "      <th>Quantity</th>\n",
       "      <th>InvoiceDate</th>\n",
       "      <th>UnitPrice</th>\n",
       "      <th>CustomerID</th>\n",
       "      <th>Country</th>\n",
       "    </tr>\n",
       "  </thead>\n",
       "  <tbody>\n",
       "    <tr>\n",
       "      <th>0</th>\n",
       "      <td>536365</td>\n",
       "      <td>85123A</td>\n",
       "      <td>WHITE HANGING HEART T-LIGHT HOLDER</td>\n",
       "      <td>6</td>\n",
       "      <td>2010-12-01 08:26:00</td>\n",
       "      <td>2.55</td>\n",
       "      <td>17850.0</td>\n",
       "      <td>United Kingdom</td>\n",
       "    </tr>\n",
       "    <tr>\n",
       "      <th>1</th>\n",
       "      <td>536365</td>\n",
       "      <td>71053</td>\n",
       "      <td>WHITE METAL LANTERN</td>\n",
       "      <td>6</td>\n",
       "      <td>2010-12-01 08:26:00</td>\n",
       "      <td>3.39</td>\n",
       "      <td>17850.0</td>\n",
       "      <td>United Kingdom</td>\n",
       "    </tr>\n",
       "    <tr>\n",
       "      <th>2</th>\n",
       "      <td>536365</td>\n",
       "      <td>84406B</td>\n",
       "      <td>CREAM CUPID HEARTS COAT HANGER</td>\n",
       "      <td>8</td>\n",
       "      <td>2010-12-01 08:26:00</td>\n",
       "      <td>2.75</td>\n",
       "      <td>17850.0</td>\n",
       "      <td>United Kingdom</td>\n",
       "    </tr>\n",
       "    <tr>\n",
       "      <th>3</th>\n",
       "      <td>536365</td>\n",
       "      <td>84029G</td>\n",
       "      <td>KNITTED UNION FLAG HOT WATER BOTTLE</td>\n",
       "      <td>6</td>\n",
       "      <td>2010-12-01 08:26:00</td>\n",
       "      <td>3.39</td>\n",
       "      <td>17850.0</td>\n",
       "      <td>United Kingdom</td>\n",
       "    </tr>\n",
       "    <tr>\n",
       "      <th>4</th>\n",
       "      <td>536365</td>\n",
       "      <td>84029E</td>\n",
       "      <td>RED WOOLLY HOTTIE WHITE HEART.</td>\n",
       "      <td>6</td>\n",
       "      <td>2010-12-01 08:26:00</td>\n",
       "      <td>3.39</td>\n",
       "      <td>17850.0</td>\n",
       "      <td>United Kingdom</td>\n",
       "    </tr>\n",
       "  </tbody>\n",
       "</table>\n",
       "</div>"
      ],
      "text/plain": [
       "  InvoiceNo StockCode                          Description  Quantity  \\\n",
       "0    536365    85123A   WHITE HANGING HEART T-LIGHT HOLDER         6   \n",
       "1    536365     71053                  WHITE METAL LANTERN         6   \n",
       "2    536365    84406B       CREAM CUPID HEARTS COAT HANGER         8   \n",
       "3    536365    84029G  KNITTED UNION FLAG HOT WATER BOTTLE         6   \n",
       "4    536365    84029E       RED WOOLLY HOTTIE WHITE HEART.         6   \n",
       "\n",
       "          InvoiceDate  UnitPrice  CustomerID         Country  \n",
       "0 2010-12-01 08:26:00       2.55     17850.0  United Kingdom  \n",
       "1 2010-12-01 08:26:00       3.39     17850.0  United Kingdom  \n",
       "2 2010-12-01 08:26:00       2.75     17850.0  United Kingdom  \n",
       "3 2010-12-01 08:26:00       3.39     17850.0  United Kingdom  \n",
       "4 2010-12-01 08:26:00       3.39     17850.0  United Kingdom  "
      ]
     },
     "execution_count": 5,
     "metadata": {},
     "output_type": "execute_result"
    }
   ],
   "source": [
    "df.head()"
   ]
  },
  {
   "cell_type": "markdown",
   "id": "ebf06388-02cf-45ae-91fc-8880d6e18351",
   "metadata": {},
   "source": [
    "### Verificação dos atributos e tamanho do dataset"
   ]
  },
  {
   "cell_type": "code",
   "execution_count": 6,
   "id": "e1e53552-206b-48e5-8f30-0e5cb8dd8ef7",
   "metadata": {},
   "outputs": [
    {
     "data": {
      "text/plain": [
       "Index(['InvoiceNo', 'StockCode', 'Description', 'Quantity', 'InvoiceDate',\n",
       "       'UnitPrice', 'CustomerID', 'Country'],\n",
       "      dtype='object')"
      ]
     },
     "execution_count": 6,
     "metadata": {},
     "output_type": "execute_result"
    }
   ],
   "source": [
    "df.columns"
   ]
  },
  {
   "cell_type": "code",
   "execution_count": 7,
   "id": "97c7e534-7e85-4f21-b10c-51751db4f9ec",
   "metadata": {},
   "outputs": [
    {
     "data": {
      "text/plain": [
       "(541909, 8)"
      ]
     },
     "execution_count": 7,
     "metadata": {},
     "output_type": "execute_result"
    }
   ],
   "source": [
    "df.shape"
   ]
  },
  {
   "cell_type": "markdown",
   "id": "5afe36d3-f34e-4a44-ae22-606596469bef",
   "metadata": {},
   "source": [
    "### Tipos de dados e valores ausentes"
   ]
  },
  {
   "cell_type": "code",
   "execution_count": 8,
   "id": "083a539f-b486-4ff0-a260-b7090be85380",
   "metadata": {},
   "outputs": [
    {
     "name": "stdout",
     "output_type": "stream",
     "text": [
      "<class 'pandas.core.frame.DataFrame'>\n",
      "RangeIndex: 541909 entries, 0 to 541908\n",
      "Data columns (total 8 columns):\n",
      " #   Column       Non-Null Count   Dtype         \n",
      "---  ------       --------------   -----         \n",
      " 0   InvoiceNo    541909 non-null  object        \n",
      " 1   StockCode    541909 non-null  object        \n",
      " 2   Description  540455 non-null  object        \n",
      " 3   Quantity     541909 non-null  int64         \n",
      " 4   InvoiceDate  541909 non-null  datetime64[ns]\n",
      " 5   UnitPrice    541909 non-null  float64       \n",
      " 6   CustomerID   406829 non-null  float64       \n",
      " 7   Country      541909 non-null  object        \n",
      "dtypes: datetime64[ns](1), float64(2), int64(1), object(4)\n",
      "memory usage: 33.1+ MB\n"
     ]
    }
   ],
   "source": [
    "df.info()"
   ]
  },
  {
   "cell_type": "code",
   "execution_count": 10,
   "id": "f223663f-9743-4163-869c-6d10ca536f70",
   "metadata": {},
   "outputs": [
    {
     "data": {
      "text/plain": [
       "InvoiceNo           0\n",
       "StockCode           0\n",
       "Description      1454\n",
       "Quantity            0\n",
       "InvoiceDate         0\n",
       "UnitPrice           0\n",
       "CustomerID     135080\n",
       "Country             0\n",
       "dtype: int64"
      ]
     },
     "execution_count": 10,
     "metadata": {},
     "output_type": "execute_result"
    }
   ],
   "source": [
    "df.isnull().sum()"
   ]
  },
  {
   "cell_type": "markdown",
   "id": "13d22de1-33fe-4f4d-9c4c-eaa9856f3e78",
   "metadata": {},
   "source": [
    "## Pré-Processamento"
   ]
  },
  {
   "cell_type": "markdown",
   "id": "556cba81-2960-4020-946c-f7e51e955d46",
   "metadata": {},
   "source": [
    "### Tratamento de dados faltantes"
   ]
  },
  {
   "cell_type": "code",
   "execution_count": 11,
   "id": "979a8d11-1cc8-4c8d-a21e-94d5759006d7",
   "metadata": {},
   "outputs": [
    {
     "data": {
      "text/plain": [
       "InvoiceNo      0\n",
       "StockCode      0\n",
       "Description    0\n",
       "Quantity       0\n",
       "InvoiceDate    0\n",
       "UnitPrice      0\n",
       "CustomerID     0\n",
       "Country        0\n",
       "dtype: int64"
      ]
     },
     "execution_count": 11,
     "metadata": {},
     "output_type": "execute_result"
    }
   ],
   "source": [
    "df['Description'] = df['Description'].fillna('Sem descrição')\n",
    "df.dropna(subset=['CustomerID'], inplace=True)\n",
    "df.isnull().sum()"
   ]
  },
  {
   "cell_type": "markdown",
   "id": "d1eb0415-908a-43ee-ba57-658ba175bca8",
   "metadata": {},
   "source": [
    "### Conversão da coluna de datas e cálculo do TotalSpend"
   ]
  },
  {
   "cell_type": "code",
   "execution_count": 16,
   "id": "3a3ce3b6-4018-4cf2-afbd-ca654121ac8f",
   "metadata": {},
   "outputs": [
    {
     "data": {
      "text/html": [
       "<div>\n",
       "<style scoped>\n",
       "    .dataframe tbody tr th:only-of-type {\n",
       "        vertical-align: middle;\n",
       "    }\n",
       "\n",
       "    .dataframe tbody tr th {\n",
       "        vertical-align: top;\n",
       "    }\n",
       "\n",
       "    .dataframe thead th {\n",
       "        text-align: right;\n",
       "    }\n",
       "</style>\n",
       "<table border=\"1\" class=\"dataframe\">\n",
       "  <thead>\n",
       "    <tr style=\"text-align: right;\">\n",
       "      <th></th>\n",
       "      <th>InvoiceNo</th>\n",
       "      <th>StockCode</th>\n",
       "      <th>Description</th>\n",
       "      <th>Quantity</th>\n",
       "      <th>InvoiceDate</th>\n",
       "      <th>UnitPrice</th>\n",
       "      <th>CustomerID</th>\n",
       "      <th>Country</th>\n",
       "      <th>TotalSpend</th>\n",
       "    </tr>\n",
       "  </thead>\n",
       "  <tbody>\n",
       "    <tr>\n",
       "      <th>0</th>\n",
       "      <td>536365</td>\n",
       "      <td>85123A</td>\n",
       "      <td>WHITE HANGING HEART T-LIGHT HOLDER</td>\n",
       "      <td>6</td>\n",
       "      <td>2010-12-01 08:26:00</td>\n",
       "      <td>2.55</td>\n",
       "      <td>17850.0</td>\n",
       "      <td>United Kingdom</td>\n",
       "      <td>15.30</td>\n",
       "    </tr>\n",
       "    <tr>\n",
       "      <th>1</th>\n",
       "      <td>536365</td>\n",
       "      <td>71053</td>\n",
       "      <td>WHITE METAL LANTERN</td>\n",
       "      <td>6</td>\n",
       "      <td>2010-12-01 08:26:00</td>\n",
       "      <td>3.39</td>\n",
       "      <td>17850.0</td>\n",
       "      <td>United Kingdom</td>\n",
       "      <td>20.34</td>\n",
       "    </tr>\n",
       "    <tr>\n",
       "      <th>2</th>\n",
       "      <td>536365</td>\n",
       "      <td>84406B</td>\n",
       "      <td>CREAM CUPID HEARTS COAT HANGER</td>\n",
       "      <td>8</td>\n",
       "      <td>2010-12-01 08:26:00</td>\n",
       "      <td>2.75</td>\n",
       "      <td>17850.0</td>\n",
       "      <td>United Kingdom</td>\n",
       "      <td>22.00</td>\n",
       "    </tr>\n",
       "    <tr>\n",
       "      <th>3</th>\n",
       "      <td>536365</td>\n",
       "      <td>84029G</td>\n",
       "      <td>KNITTED UNION FLAG HOT WATER BOTTLE</td>\n",
       "      <td>6</td>\n",
       "      <td>2010-12-01 08:26:00</td>\n",
       "      <td>3.39</td>\n",
       "      <td>17850.0</td>\n",
       "      <td>United Kingdom</td>\n",
       "      <td>20.34</td>\n",
       "    </tr>\n",
       "    <tr>\n",
       "      <th>4</th>\n",
       "      <td>536365</td>\n",
       "      <td>84029E</td>\n",
       "      <td>RED WOOLLY HOTTIE WHITE HEART.</td>\n",
       "      <td>6</td>\n",
       "      <td>2010-12-01 08:26:00</td>\n",
       "      <td>3.39</td>\n",
       "      <td>17850.0</td>\n",
       "      <td>United Kingdom</td>\n",
       "      <td>20.34</td>\n",
       "    </tr>\n",
       "  </tbody>\n",
       "</table>\n",
       "</div>"
      ],
      "text/plain": [
       "  InvoiceNo StockCode                          Description  Quantity  \\\n",
       "0    536365    85123A   WHITE HANGING HEART T-LIGHT HOLDER         6   \n",
       "1    536365     71053                  WHITE METAL LANTERN         6   \n",
       "2    536365    84406B       CREAM CUPID HEARTS COAT HANGER         8   \n",
       "3    536365    84029G  KNITTED UNION FLAG HOT WATER BOTTLE         6   \n",
       "4    536365    84029E       RED WOOLLY HOTTIE WHITE HEART.         6   \n",
       "\n",
       "          InvoiceDate  UnitPrice  CustomerID         Country  TotalSpend  \n",
       "0 2010-12-01 08:26:00       2.55     17850.0  United Kingdom       15.30  \n",
       "1 2010-12-01 08:26:00       3.39     17850.0  United Kingdom       20.34  \n",
       "2 2010-12-01 08:26:00       2.75     17850.0  United Kingdom       22.00  \n",
       "3 2010-12-01 08:26:00       3.39     17850.0  United Kingdom       20.34  \n",
       "4 2010-12-01 08:26:00       3.39     17850.0  United Kingdom       20.34  "
      ]
     },
     "execution_count": 16,
     "metadata": {},
     "output_type": "execute_result"
    }
   ],
   "source": [
    "df['InvoiceDate'] = pd.to_datetime(df['InvoiceDate'])\n",
    "df['TotalSpend'] = df['Quantity'] * df['UnitPrice']\n",
    "df.head()"
   ]
  },
  {
   "cell_type": "markdown",
   "id": "9daae9b9-de77-410c-955c-4280ac311e3c",
   "metadata": {},
   "source": [
    "## Métricas RFM"
   ]
  },
  {
   "cell_type": "markdown",
   "id": "ed1a435d-f1e0-4f9f-b620-8b56291edb17",
   "metadata": {},
   "source": [
    "### Cálculo da Recência (R)"
   ]
  },
  {
   "cell_type": "code",
   "execution_count": 17,
   "id": "3deefe9b-ccef-4ca7-9b68-f730ad70161d",
   "metadata": {},
   "outputs": [
    {
     "data": {
      "text/html": [
       "<div>\n",
       "<style scoped>\n",
       "    .dataframe tbody tr th:only-of-type {\n",
       "        vertical-align: middle;\n",
       "    }\n",
       "\n",
       "    .dataframe tbody tr th {\n",
       "        vertical-align: top;\n",
       "    }\n",
       "\n",
       "    .dataframe thead th {\n",
       "        text-align: right;\n",
       "    }\n",
       "</style>\n",
       "<table border=\"1\" class=\"dataframe\">\n",
       "  <thead>\n",
       "    <tr style=\"text-align: right;\">\n",
       "      <th></th>\n",
       "      <th>Recency</th>\n",
       "    </tr>\n",
       "    <tr>\n",
       "      <th>CustomerID</th>\n",
       "      <th></th>\n",
       "    </tr>\n",
       "  </thead>\n",
       "  <tbody>\n",
       "    <tr>\n",
       "      <th>12346.0</th>\n",
       "      <td>325</td>\n",
       "    </tr>\n",
       "    <tr>\n",
       "      <th>12347.0</th>\n",
       "      <td>1</td>\n",
       "    </tr>\n",
       "    <tr>\n",
       "      <th>12348.0</th>\n",
       "      <td>74</td>\n",
       "    </tr>\n",
       "    <tr>\n",
       "      <th>12349.0</th>\n",
       "      <td>18</td>\n",
       "    </tr>\n",
       "    <tr>\n",
       "      <th>12350.0</th>\n",
       "      <td>309</td>\n",
       "    </tr>\n",
       "  </tbody>\n",
       "</table>\n",
       "</div>"
      ],
      "text/plain": [
       "            Recency\n",
       "CustomerID         \n",
       "12346.0         325\n",
       "12347.0           1\n",
       "12348.0          74\n",
       "12349.0          18\n",
       "12350.0         309"
      ]
     },
     "execution_count": 17,
     "metadata": {},
     "output_type": "execute_result"
    }
   ],
   "source": [
    "latest_date = df['InvoiceDate'].max()\n",
    "rfm = df.groupby('CustomerID').agg({\n",
    "    'InvoiceDate': lambda x: (latest_date - x.max()).days\n",
    "})\n",
    "rfm.rename(columns={'InvoiceDate': 'Recency'}, inplace=True)\n",
    "rfm.head()"
   ]
  },
  {
   "cell_type": "markdown",
   "id": "e75ae4d3-b1d2-4527-b4c0-a3b36d2586d3",
   "metadata": {},
   "source": [
    "### Cálculo da Frequência (F)"
   ]
  },
  {
   "cell_type": "code",
   "execution_count": 18,
   "id": "d482cda9-e8b0-41a7-a6b2-bbf98db6b47a",
   "metadata": {},
   "outputs": [
    {
     "data": {
      "text/html": [
       "<div>\n",
       "<style scoped>\n",
       "    .dataframe tbody tr th:only-of-type {\n",
       "        vertical-align: middle;\n",
       "    }\n",
       "\n",
       "    .dataframe tbody tr th {\n",
       "        vertical-align: top;\n",
       "    }\n",
       "\n",
       "    .dataframe thead th {\n",
       "        text-align: right;\n",
       "    }\n",
       "</style>\n",
       "<table border=\"1\" class=\"dataframe\">\n",
       "  <thead>\n",
       "    <tr style=\"text-align: right;\">\n",
       "      <th></th>\n",
       "      <th>Recency</th>\n",
       "      <th>Monetary</th>\n",
       "    </tr>\n",
       "    <tr>\n",
       "      <th>CustomerID</th>\n",
       "      <th></th>\n",
       "      <th></th>\n",
       "    </tr>\n",
       "  </thead>\n",
       "  <tbody>\n",
       "    <tr>\n",
       "      <th>12346.0</th>\n",
       "      <td>325</td>\n",
       "      <td>0.00</td>\n",
       "    </tr>\n",
       "    <tr>\n",
       "      <th>12347.0</th>\n",
       "      <td>1</td>\n",
       "      <td>4310.00</td>\n",
       "    </tr>\n",
       "    <tr>\n",
       "      <th>12348.0</th>\n",
       "      <td>74</td>\n",
       "      <td>1797.24</td>\n",
       "    </tr>\n",
       "    <tr>\n",
       "      <th>12349.0</th>\n",
       "      <td>18</td>\n",
       "      <td>1757.55</td>\n",
       "    </tr>\n",
       "    <tr>\n",
       "      <th>12350.0</th>\n",
       "      <td>309</td>\n",
       "      <td>334.40</td>\n",
       "    </tr>\n",
       "  </tbody>\n",
       "</table>\n",
       "</div>"
      ],
      "text/plain": [
       "            Recency  Monetary\n",
       "CustomerID                   \n",
       "12346.0         325      0.00\n",
       "12347.0           1   4310.00\n",
       "12348.0          74   1797.24\n",
       "12349.0          18   1757.55\n",
       "12350.0         309    334.40"
      ]
     },
     "execution_count": 18,
     "metadata": {},
     "output_type": "execute_result"
    }
   ],
   "source": [
    "rfm['Monetary'] = df.groupby('CustomerID')['TotalSpend'].sum()\n",
    "rfm.head()"
   ]
  },
  {
   "cell_type": "markdown",
   "id": "b62abace-07e9-4544-a2f2-5a3c730ce0e4",
   "metadata": {},
   "source": [
    "### Cálculo do Valor Monetário (M)"
   ]
  },
  {
   "cell_type": "code",
   "execution_count": 19,
   "id": "d905c740-be9d-4cd0-b2dd-17b0b302fdef",
   "metadata": {},
   "outputs": [
    {
     "data": {
      "text/html": [
       "<div>\n",
       "<style scoped>\n",
       "    .dataframe tbody tr th:only-of-type {\n",
       "        vertical-align: middle;\n",
       "    }\n",
       "\n",
       "    .dataframe tbody tr th {\n",
       "        vertical-align: top;\n",
       "    }\n",
       "\n",
       "    .dataframe thead th {\n",
       "        text-align: right;\n",
       "    }\n",
       "</style>\n",
       "<table border=\"1\" class=\"dataframe\">\n",
       "  <thead>\n",
       "    <tr style=\"text-align: right;\">\n",
       "      <th></th>\n",
       "      <th>Recency</th>\n",
       "      <th>Monetary</th>\n",
       "    </tr>\n",
       "    <tr>\n",
       "      <th>CustomerID</th>\n",
       "      <th></th>\n",
       "      <th></th>\n",
       "    </tr>\n",
       "  </thead>\n",
       "  <tbody>\n",
       "    <tr>\n",
       "      <th>12346.0</th>\n",
       "      <td>325</td>\n",
       "      <td>0.00</td>\n",
       "    </tr>\n",
       "    <tr>\n",
       "      <th>12347.0</th>\n",
       "      <td>1</td>\n",
       "      <td>4310.00</td>\n",
       "    </tr>\n",
       "    <tr>\n",
       "      <th>12348.0</th>\n",
       "      <td>74</td>\n",
       "      <td>1797.24</td>\n",
       "    </tr>\n",
       "    <tr>\n",
       "      <th>12349.0</th>\n",
       "      <td>18</td>\n",
       "      <td>1757.55</td>\n",
       "    </tr>\n",
       "    <tr>\n",
       "      <th>12350.0</th>\n",
       "      <td>309</td>\n",
       "      <td>334.40</td>\n",
       "    </tr>\n",
       "  </tbody>\n",
       "</table>\n",
       "</div>"
      ],
      "text/plain": [
       "            Recency  Monetary\n",
       "CustomerID                   \n",
       "12346.0         325      0.00\n",
       "12347.0           1   4310.00\n",
       "12348.0          74   1797.24\n",
       "12349.0          18   1757.55\n",
       "12350.0         309    334.40"
      ]
     },
     "execution_count": 19,
     "metadata": {},
     "output_type": "execute_result"
    }
   ],
   "source": [
    "rfm['Monetary'] = df.groupby('CustomerID')['TotalSpend'].sum()\n",
    "rfm.head()"
   ]
  },
  {
   "cell_type": "markdown",
   "id": "bee8378a-6051-41ac-a531-f0d0313893c1",
   "metadata": {},
   "source": [
    "## Cálculo Final e Modelagem RFM"
   ]
  },
  {
   "cell_type": "markdown",
   "id": "f736dae6-389f-40f7-8209-03748ceb6df3",
   "metadata": {},
   "source": [
    "### Cálculo completo do RFM com nova referência de data"
   ]
  },
  {
   "cell_type": "code",
   "execution_count": 20,
   "id": "9a7c3a47-ddee-42be-8a63-cdcdeac7494a",
   "metadata": {},
   "outputs": [
    {
     "data": {
      "text/html": [
       "<div>\n",
       "<style scoped>\n",
       "    .dataframe tbody tr th:only-of-type {\n",
       "        vertical-align: middle;\n",
       "    }\n",
       "\n",
       "    .dataframe tbody tr th {\n",
       "        vertical-align: top;\n",
       "    }\n",
       "\n",
       "    .dataframe thead th {\n",
       "        text-align: right;\n",
       "    }\n",
       "</style>\n",
       "<table border=\"1\" class=\"dataframe\">\n",
       "  <thead>\n",
       "    <tr style=\"text-align: right;\">\n",
       "      <th></th>\n",
       "      <th>Recencia</th>\n",
       "      <th>Frequencia</th>\n",
       "      <th>Valor</th>\n",
       "    </tr>\n",
       "    <tr>\n",
       "      <th>CustomerID</th>\n",
       "      <th></th>\n",
       "      <th></th>\n",
       "      <th></th>\n",
       "    </tr>\n",
       "  </thead>\n",
       "  <tbody>\n",
       "    <tr>\n",
       "      <th>12346.0</th>\n",
       "      <td>326</td>\n",
       "      <td>2</td>\n",
       "      <td>0.00</td>\n",
       "    </tr>\n",
       "    <tr>\n",
       "      <th>12347.0</th>\n",
       "      <td>2</td>\n",
       "      <td>182</td>\n",
       "      <td>4310.00</td>\n",
       "    </tr>\n",
       "    <tr>\n",
       "      <th>12348.0</th>\n",
       "      <td>75</td>\n",
       "      <td>31</td>\n",
       "      <td>1797.24</td>\n",
       "    </tr>\n",
       "    <tr>\n",
       "      <th>12349.0</th>\n",
       "      <td>19</td>\n",
       "      <td>73</td>\n",
       "      <td>1757.55</td>\n",
       "    </tr>\n",
       "    <tr>\n",
       "      <th>12350.0</th>\n",
       "      <td>310</td>\n",
       "      <td>17</td>\n",
       "      <td>334.40</td>\n",
       "    </tr>\n",
       "  </tbody>\n",
       "</table>\n",
       "</div>"
      ],
      "text/plain": [
       "            Recencia  Frequencia    Valor\n",
       "CustomerID                               \n",
       "12346.0          326           2     0.00\n",
       "12347.0            2         182  4310.00\n",
       "12348.0           75          31  1797.24\n",
       "12349.0           19          73  1757.55\n",
       "12350.0          310          17   334.40"
      ]
     },
     "execution_count": 20,
     "metadata": {},
     "output_type": "execute_result"
    }
   ],
   "source": [
    "df['TotalPrice'] = df['Quantity'] * df['UnitPrice']\n",
    "reference_date = df['InvoiceDate'].max() + pd.Timedelta(days=1)\n",
    "\n",
    "rfm = df.groupby('CustomerID').agg({\n",
    "    'InvoiceDate': lambda x: (reference_date - x.max()).days,\n",
    "    'InvoiceNo': 'count',\n",
    "    'TotalPrice': 'sum'\n",
    "})\n",
    "\n",
    "rfm.rename(columns={'InvoiceDate': 'Recencia', 'InvoiceNo': 'Frequencia', 'TotalPrice': 'Valor'}, inplace=True)\n",
    "rfm.head()"
   ]
  },
  {
   "cell_type": "markdown",
   "id": "36de1911-3f20-49dd-ad94-ec96178dbf4d",
   "metadata": {},
   "source": [
    "## Score e Segmentação"
   ]
  },
  {
   "cell_type": "markdown",
   "id": "ad2c2ae1-9820-40f3-b9aa-f78c78670f2a",
   "metadata": {},
   "source": [
    "### Atribuição de scores R, F e M"
   ]
  },
  {
   "cell_type": "code",
   "execution_count": 21,
   "id": "523ae9e7-c54b-43a1-b6b8-48e7f780c7ae",
   "metadata": {},
   "outputs": [
    {
     "data": {
      "text/html": [
       "<div>\n",
       "<style scoped>\n",
       "    .dataframe tbody tr th:only-of-type {\n",
       "        vertical-align: middle;\n",
       "    }\n",
       "\n",
       "    .dataframe tbody tr th {\n",
       "        vertical-align: top;\n",
       "    }\n",
       "\n",
       "    .dataframe thead th {\n",
       "        text-align: right;\n",
       "    }\n",
       "</style>\n",
       "<table border=\"1\" class=\"dataframe\">\n",
       "  <thead>\n",
       "    <tr style=\"text-align: right;\">\n",
       "      <th></th>\n",
       "      <th>Recencia</th>\n",
       "      <th>Frequencia</th>\n",
       "      <th>Valor</th>\n",
       "      <th>Recencia_Score</th>\n",
       "      <th>Frequencia_Score</th>\n",
       "      <th>Valor_Score</th>\n",
       "      <th>Total_Score</th>\n",
       "    </tr>\n",
       "    <tr>\n",
       "      <th>CustomerID</th>\n",
       "      <th></th>\n",
       "      <th></th>\n",
       "      <th></th>\n",
       "      <th></th>\n",
       "      <th></th>\n",
       "      <th></th>\n",
       "      <th></th>\n",
       "    </tr>\n",
       "  </thead>\n",
       "  <tbody>\n",
       "    <tr>\n",
       "      <th>12346.0</th>\n",
       "      <td>326</td>\n",
       "      <td>2</td>\n",
       "      <td>0.00</td>\n",
       "      <td>1</td>\n",
       "      <td>1</td>\n",
       "      <td>1</td>\n",
       "      <td>3</td>\n",
       "    </tr>\n",
       "    <tr>\n",
       "      <th>12347.0</th>\n",
       "      <td>2</td>\n",
       "      <td>182</td>\n",
       "      <td>4310.00</td>\n",
       "      <td>5</td>\n",
       "      <td>5</td>\n",
       "      <td>5</td>\n",
       "      <td>15</td>\n",
       "    </tr>\n",
       "    <tr>\n",
       "      <th>12348.0</th>\n",
       "      <td>75</td>\n",
       "      <td>31</td>\n",
       "      <td>1797.24</td>\n",
       "      <td>2</td>\n",
       "      <td>3</td>\n",
       "      <td>4</td>\n",
       "      <td>9</td>\n",
       "    </tr>\n",
       "    <tr>\n",
       "      <th>12349.0</th>\n",
       "      <td>19</td>\n",
       "      <td>73</td>\n",
       "      <td>1757.55</td>\n",
       "      <td>4</td>\n",
       "      <td>4</td>\n",
       "      <td>4</td>\n",
       "      <td>12</td>\n",
       "    </tr>\n",
       "    <tr>\n",
       "      <th>12350.0</th>\n",
       "      <td>310</td>\n",
       "      <td>17</td>\n",
       "      <td>334.40</td>\n",
       "      <td>1</td>\n",
       "      <td>2</td>\n",
       "      <td>2</td>\n",
       "      <td>5</td>\n",
       "    </tr>\n",
       "  </tbody>\n",
       "</table>\n",
       "</div>"
      ],
      "text/plain": [
       "            Recencia  Frequencia    Valor Recencia_Score Frequencia_Score  \\\n",
       "CustomerID                                                                  \n",
       "12346.0          326           2     0.00              1                1   \n",
       "12347.0            2         182  4310.00              5                5   \n",
       "12348.0           75          31  1797.24              2                3   \n",
       "12349.0           19          73  1757.55              4                4   \n",
       "12350.0          310          17   334.40              1                2   \n",
       "\n",
       "           Valor_Score  Total_Score  \n",
       "CustomerID                           \n",
       "12346.0              1            3  \n",
       "12347.0              5           15  \n",
       "12348.0              4            9  \n",
       "12349.0              4           12  \n",
       "12350.0              2            5  "
      ]
     },
     "execution_count": 21,
     "metadata": {},
     "output_type": "execute_result"
    }
   ],
   "source": [
    "rfm['Recencia_Score'] = pd.qcut(rfm['Recencia'], 5, labels=[5, 4, 3, 2, 1])\n",
    "rfm['Frequencia_Score'] = pd.qcut(rfm['Frequencia'], 5, labels=[1, 2, 3, 4, 5], duplicates='drop')\n",
    "rfm['Valor_Score'] = pd.qcut(rfm['Valor'], 5, labels=[1, 2, 3, 4, 5], duplicates='drop')\n",
    "\n",
    "rfm['Total_Score'] = rfm['Recencia_Score'].astype(int) + rfm['Frequencia_Score'].astype(int) + rfm['Valor_Score'].astype(int)\n",
    "rfm.head()"
   ]
  },
  {
   "cell_type": "markdown",
   "id": "e456b2a2-092f-4dd9-bd37-4aa3f28ac946",
   "metadata": {},
   "source": [
    "### Criação das categorias de segmentação"
   ]
  },
  {
   "cell_type": "code",
   "execution_count": 22,
   "id": "5c183a62-3366-42c3-9282-d721bd9bfd38",
   "metadata": {},
   "outputs": [
    {
     "data": {
      "text/html": [
       "<div>\n",
       "<style scoped>\n",
       "    .dataframe tbody tr th:only-of-type {\n",
       "        vertical-align: middle;\n",
       "    }\n",
       "\n",
       "    .dataframe tbody tr th {\n",
       "        vertical-align: top;\n",
       "    }\n",
       "\n",
       "    .dataframe thead th {\n",
       "        text-align: right;\n",
       "    }\n",
       "</style>\n",
       "<table border=\"1\" class=\"dataframe\">\n",
       "  <thead>\n",
       "    <tr style=\"text-align: right;\">\n",
       "      <th></th>\n",
       "      <th>Recencia</th>\n",
       "      <th>Frequencia</th>\n",
       "      <th>Valor</th>\n",
       "      <th>Recencia_Score</th>\n",
       "      <th>Frequencia_Score</th>\n",
       "      <th>Valor_Score</th>\n",
       "      <th>Total_Score</th>\n",
       "      <th>Segmento</th>\n",
       "    </tr>\n",
       "    <tr>\n",
       "      <th>CustomerID</th>\n",
       "      <th></th>\n",
       "      <th></th>\n",
       "      <th></th>\n",
       "      <th></th>\n",
       "      <th></th>\n",
       "      <th></th>\n",
       "      <th></th>\n",
       "      <th></th>\n",
       "    </tr>\n",
       "  </thead>\n",
       "  <tbody>\n",
       "    <tr>\n",
       "      <th>12346.0</th>\n",
       "      <td>326</td>\n",
       "      <td>2</td>\n",
       "      <td>0.00</td>\n",
       "      <td>1</td>\n",
       "      <td>1</td>\n",
       "      <td>1</td>\n",
       "      <td>3</td>\n",
       "      <td>Segmento 4: Clientes inativos</td>\n",
       "    </tr>\n",
       "    <tr>\n",
       "      <th>12347.0</th>\n",
       "      <td>2</td>\n",
       "      <td>182</td>\n",
       "      <td>4310.00</td>\n",
       "      <td>5</td>\n",
       "      <td>5</td>\n",
       "      <td>5</td>\n",
       "      <td>15</td>\n",
       "      <td>Segmento 1: Clientes mais valiosos</td>\n",
       "    </tr>\n",
       "    <tr>\n",
       "      <th>12348.0</th>\n",
       "      <td>75</td>\n",
       "      <td>31</td>\n",
       "      <td>1797.24</td>\n",
       "      <td>2</td>\n",
       "      <td>3</td>\n",
       "      <td>4</td>\n",
       "      <td>9</td>\n",
       "      <td>Segmento 2: Clientes potenciais</td>\n",
       "    </tr>\n",
       "    <tr>\n",
       "      <th>12349.0</th>\n",
       "      <td>19</td>\n",
       "      <td>73</td>\n",
       "      <td>1757.55</td>\n",
       "      <td>4</td>\n",
       "      <td>4</td>\n",
       "      <td>4</td>\n",
       "      <td>12</td>\n",
       "      <td>Segmento 2: Clientes potenciais</td>\n",
       "    </tr>\n",
       "    <tr>\n",
       "      <th>12350.0</th>\n",
       "      <td>310</td>\n",
       "      <td>17</td>\n",
       "      <td>334.40</td>\n",
       "      <td>1</td>\n",
       "      <td>2</td>\n",
       "      <td>2</td>\n",
       "      <td>5</td>\n",
       "      <td>Segmento 3: Clientes regulares</td>\n",
       "    </tr>\n",
       "  </tbody>\n",
       "</table>\n",
       "</div>"
      ],
      "text/plain": [
       "            Recencia  Frequencia    Valor Recencia_Score Frequencia_Score  \\\n",
       "CustomerID                                                                  \n",
       "12346.0          326           2     0.00              1                1   \n",
       "12347.0            2         182  4310.00              5                5   \n",
       "12348.0           75          31  1797.24              2                3   \n",
       "12349.0           19          73  1757.55              4                4   \n",
       "12350.0          310          17   334.40              1                2   \n",
       "\n",
       "           Valor_Score  Total_Score                            Segmento  \n",
       "CustomerID                                                               \n",
       "12346.0              1            3       Segmento 4: Clientes inativos  \n",
       "12347.0              5           15  Segmento 1: Clientes mais valiosos  \n",
       "12348.0              4            9     Segmento 2: Clientes potenciais  \n",
       "12349.0              4           12     Segmento 2: Clientes potenciais  \n",
       "12350.0              2            5      Segmento 3: Clientes regulares  "
      ]
     },
     "execution_count": 22,
     "metadata": {},
     "output_type": "execute_result"
    }
   ],
   "source": [
    "def segmentacao(row):\n",
    "    if row['Total_Score'] >= 13:\n",
    "        return 'Segmento 1: Clientes mais valiosos'\n",
    "    elif row['Total_Score'] >= 9:\n",
    "        return 'Segmento 2: Clientes potenciais'\n",
    "    elif row['Total_Score'] >= 5:\n",
    "        return 'Segmento 3: Clientes regulares'\n",
    "    else:\n",
    "        return 'Segmento 4: Clientes inativos'\n",
    "\n",
    "rfm['Segmento'] = rfm.apply(segmentacao, axis=1)\n",
    "rfm.head()"
   ]
  },
  {
   "cell_type": "markdown",
   "id": "0f55b9aa-c8a0-485f-99e7-e35feff5bd1a",
   "metadata": {},
   "source": [
    "### Salvando os Resultados"
   ]
  },
  {
   "cell_type": "code",
   "execution_count": 23,
   "id": "58f6d5b4-ba48-42b1-b06e-39b6ab6556b3",
   "metadata": {},
   "outputs": [],
   "source": [
    "rfm.to_csv('../data/processed/rfm_segmentation.csv')"
   ]
  },
  {
   "cell_type": "markdown",
   "id": "a70bbe6a-56b5-412d-8cc4-eeba86be387f",
   "metadata": {},
   "source": [
    "## Resultados"
   ]
  },
  {
   "cell_type": "markdown",
   "id": "433fbe63-1a87-4616-8a78-70054dce09c8",
   "metadata": {},
   "source": [
    "### 🎯 Estratégias de Marketing com base na Segmentação RFM\n",
    "\n",
    "Com base na tabela RFM (*Recência*, *Frequência* e *Valor Monetário*), é possível aplicar várias campanhas de marketing segmentadas para melhorar o engajamento dos clientes. Abaixo estão algumas sugestões de campanhas para cada segmento identificado:\n",
    "\n",
    "---\n",
    "\n",
    "#### 🥇 Segmento 1: Clientes mais valiosos\n",
    "**Campanhas:**\n",
    "- **Fidelidade:** Recompensas exclusivas para manter o engajamento.\n",
    "- **Ofertas personalizadas:** Descontos em produtos premium.\n",
    "- **Agradecimento:** Cartões de agradecimento ou bônus de compras.\n",
    "- **Acesso antecipado:** Acesso privilegiado a novos produtos ou promoções.\n",
    "\n",
    "---\n",
    "\n",
    "#### 🚀 Segmento 2: Clientes potenciais\n",
    "**Campanhas:**\n",
    "- **Reengajamento:** Cupons ou promoções para incentivar novas compras.\n",
    "- **Promoções de frequência:** Descontos progressivos para compras recorrentes.\n",
    "- **Novidades:** E-mails com lançamentos e novos produtos.\n",
    "- **Recomendação:** Benefícios para indicações de amigos.\n",
    "\n",
    "---\n",
    "\n",
    "#### 🔁 Segmento 3: Clientes regulares\n",
    "**Campanhas:**\n",
    "- **Incentivo a mais compras:** Promoções específicas para aumentar a frequência.\n",
    "- **Valor agregado:** Descontos para compras acima de um determinado valor.\n",
    "- **Cross-selling:** Ofertas de produtos complementares com base no histórico.\n",
    "\n",
    "---\n",
    "\n",
    "#### 💤 Segmento 4: Clientes inativos\n",
    "**Campanhas:**\n",
    "- **Reativação:** Descontos ou ofertas exclusivas para trazer o cliente de volta.\n",
    "- **Recuperação de carrinho:** Lembretes para finalizar compras abandonadas.\n",
    "- **Novos produtos:** E-mails com sugestões baseadas em compras anteriores.\n",
    "\n",
    "---\n",
    "\n",
    "#### 🧊 Segmento 5: Clientes de baixo valor\n",
    "**Campanhas:**\n",
    "- **Incentivo à primeira compra:** Descontos para aumentar o ticket médio.\n",
    "- **Despertar interesse:** Ofertas introdutórias ou bônus\n"
   ]
  },
  {
   "cell_type": "markdown",
   "id": "00f6394b-2c94-4a68-b4fe-c8f0ce289b86",
   "metadata": {},
   "source": [
    "### ✅ Conclusão\n",
    "\n",
    "A análise de segmentação de clientes por meio da metodologia RFM (Recência, Frequência e Valor Monetário) permitiu identificar padrões distintos de comportamento entre os clientes. A partir dessa segmentação, foi possível propor campanhas de marketing personalizadas, com o objetivo de aumentar o engajamento e a fidelização.\n",
    "\n",
    "As estratégias sugeridas abrangem desde programas de fidelidade e ofertas exclusivas para os clientes mais valiosos, até ações de reativação voltadas para aqueles que estão inativos. Essa abordagem segmentada permite otimizar os recursos de marketing, tornando as campanhas mais eficazes, relevantes e direcionadas às necessidades específicas de cada grupo de clientes.\n",
    "\n",
    "Com a aplicação prática dessas campanhas, espera-se não apenas um aumento nas vendas, mas também o fortalecimento do relacionamento com os clientes e a construção de uma base mais sólida e lucrativa ao longo do tempo.\n"
   ]
  }
 ],
 "metadata": {
  "kernelspec": {
   "display_name": "Python 3 (ipykernel)",
   "language": "python",
   "name": "python3"
  },
  "language_info": {
   "codemirror_mode": {
    "name": "ipython",
    "version": 3
   },
   "file_extension": ".py",
   "mimetype": "text/x-python",
   "name": "python",
   "nbconvert_exporter": "python",
   "pygments_lexer": "ipython3",
   "version": "3.9.12"
  }
 },
 "nbformat": 4,
 "nbformat_minor": 5
}
